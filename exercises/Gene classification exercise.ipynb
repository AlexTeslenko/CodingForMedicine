{
 "cells": [
  {
   "cell_type": "markdown",
   "id": "c82d7193",
   "metadata": {},
   "source": [
    "# Classifying breast cancer molecular subtype using gene expression data\n"
   ]
  },
  {
   "cell_type": "markdown",
   "id": "e2502982",
   "metadata": {},
   "source": [
    "**In this exercise, we will using gene expression of 173 mutation driver genes associated with breast cancer to predict its molecular subtype.**\n",
    "\n",
    "[more description of the exercises]\n",
    "\n",
    "In this exercise we'll [learn how to / use]:\n",
    "\n",
    "- lasso regression\n",
    "- random forest\n",
    "- xgboost\n",
    "\n",
    "[see examples in 'exercise' folder as template]"
   ]
  },
  {
   "cell_type": "markdown",
   "id": "a0e09066",
   "metadata": {},
   "source": [
    "## Part 1: Set up and exploratory data analysis"
   ]
  },
  {
   "cell_type": "code",
   "execution_count": 1,
   "id": "c97be59c",
   "metadata": {},
   "outputs": [
    {
     "data": {
      "text/html": [
       "<div>\n",
       "<style scoped>\n",
       "    .dataframe tbody tr th:only-of-type {\n",
       "        vertical-align: middle;\n",
       "    }\n",
       "\n",
       "    .dataframe tbody tr th {\n",
       "        vertical-align: top;\n",
       "    }\n",
       "\n",
       "    .dataframe thead th {\n",
       "        text-align: right;\n",
       "    }\n",
       "</style>\n",
       "<table border=\"1\" class=\"dataframe\">\n",
       "  <thead>\n",
       "    <tr style=\"text-align: right;\">\n",
       "      <th></th>\n",
       "      <th>Sample Identifier</th>\n",
       "      <th>ER Status</th>\n",
       "      <th>HER2 Status</th>\n",
       "      <th>PR Status</th>\n",
       "      <th>Pam50 + Claudin-low subtype</th>\n",
       "      <th>ACVRL1</th>\n",
       "      <th>AFF2</th>\n",
       "      <th>AGMO</th>\n",
       "      <th>AGTR2</th>\n",
       "      <th>AHNAK</th>\n",
       "      <th>...</th>\n",
       "      <th>THADA</th>\n",
       "      <th>THSD7A</th>\n",
       "      <th>TP53</th>\n",
       "      <th>TTYH1</th>\n",
       "      <th>UBR5</th>\n",
       "      <th>USH2A</th>\n",
       "      <th>USP28</th>\n",
       "      <th>USP9X</th>\n",
       "      <th>UTRN</th>\n",
       "      <th>ZFP36L1</th>\n",
       "    </tr>\n",
       "  </thead>\n",
       "  <tbody>\n",
       "    <tr>\n",
       "      <th>0</th>\n",
       "      <td>MB-0000</td>\n",
       "      <td>Positive</td>\n",
       "      <td>Negative</td>\n",
       "      <td>Negative</td>\n",
       "      <td>claudin-low</td>\n",
       "      <td>2.8018</td>\n",
       "      <td>0.9356</td>\n",
       "      <td>0.3067</td>\n",
       "      <td>-0.8504</td>\n",
       "      <td>1.8229</td>\n",
       "      <td>...</td>\n",
       "      <td>0.8474</td>\n",
       "      <td>4.0070</td>\n",
       "      <td>0.3481</td>\n",
       "      <td>2.0412</td>\n",
       "      <td>-1.5903</td>\n",
       "      <td>-1.0283</td>\n",
       "      <td>-0.0265</td>\n",
       "      <td>-0.0654</td>\n",
       "      <td>1.6603</td>\n",
       "      <td>0.3433</td>\n",
       "    </tr>\n",
       "    <tr>\n",
       "      <th>1</th>\n",
       "      <td>MB-0002</td>\n",
       "      <td>Positive</td>\n",
       "      <td>Negative</td>\n",
       "      <td>Positive</td>\n",
       "      <td>LumA</td>\n",
       "      <td>-1.8067</td>\n",
       "      <td>0.4817</td>\n",
       "      <td>-0.9456</td>\n",
       "      <td>-1.8446</td>\n",
       "      <td>1.6662</td>\n",
       "      <td>...</td>\n",
       "      <td>-0.5858</td>\n",
       "      <td>-0.6132</td>\n",
       "      <td>-0.0176</td>\n",
       "      <td>-0.7278</td>\n",
       "      <td>0.5215</td>\n",
       "      <td>-1.3180</td>\n",
       "      <td>0.1930</td>\n",
       "      <td>0.3214</td>\n",
       "      <td>0.1909</td>\n",
       "      <td>1.4831</td>\n",
       "    </tr>\n",
       "    <tr>\n",
       "      <th>2</th>\n",
       "      <td>MB-0005</td>\n",
       "      <td>Positive</td>\n",
       "      <td>Negative</td>\n",
       "      <td>Positive</td>\n",
       "      <td>LumB</td>\n",
       "      <td>-1.1869</td>\n",
       "      <td>0.0417</td>\n",
       "      <td>0.1168</td>\n",
       "      <td>0.9700</td>\n",
       "      <td>-0.0187</td>\n",
       "      <td>...</td>\n",
       "      <td>-1.4430</td>\n",
       "      <td>-1.3823</td>\n",
       "      <td>0.5126</td>\n",
       "      <td>-0.3872</td>\n",
       "      <td>0.5039</td>\n",
       "      <td>0.0779</td>\n",
       "      <td>2.3398</td>\n",
       "      <td>0.0411</td>\n",
       "      <td>-0.5709</td>\n",
       "      <td>2.7944</td>\n",
       "    </tr>\n",
       "    <tr>\n",
       "      <th>3</th>\n",
       "      <td>MB-0006</td>\n",
       "      <td>Positive</td>\n",
       "      <td>Negative</td>\n",
       "      <td>Positive</td>\n",
       "      <td>LumB</td>\n",
       "      <td>-1.7275</td>\n",
       "      <td>-0.2383</td>\n",
       "      <td>0.4058</td>\n",
       "      <td>1.4637</td>\n",
       "      <td>0.3075</td>\n",
       "      <td>...</td>\n",
       "      <td>-1.2363</td>\n",
       "      <td>0.2257</td>\n",
       "      <td>1.6748</td>\n",
       "      <td>-0.3071</td>\n",
       "      <td>1.6148</td>\n",
       "      <td>0.4038</td>\n",
       "      <td>1.5291</td>\n",
       "      <td>0.3613</td>\n",
       "      <td>-0.1076</td>\n",
       "      <td>2.0545</td>\n",
       "    </tr>\n",
       "    <tr>\n",
       "      <th>4</th>\n",
       "      <td>MB-0008</td>\n",
       "      <td>Positive</td>\n",
       "      <td>Negative</td>\n",
       "      <td>Positive</td>\n",
       "      <td>LumB</td>\n",
       "      <td>-0.8278</td>\n",
       "      <td>0.9725</td>\n",
       "      <td>0.9789</td>\n",
       "      <td>0.8657</td>\n",
       "      <td>-0.7646</td>\n",
       "      <td>...</td>\n",
       "      <td>-0.3349</td>\n",
       "      <td>-0.2765</td>\n",
       "      <td>0.3461</td>\n",
       "      <td>-0.1481</td>\n",
       "      <td>3.1054</td>\n",
       "      <td>-0.0013</td>\n",
       "      <td>-1.1404</td>\n",
       "      <td>0.6028</td>\n",
       "      <td>-0.7553</td>\n",
       "      <td>-0.0943</td>\n",
       "    </tr>\n",
       "    <tr>\n",
       "      <th>5</th>\n",
       "      <td>MB-0010</td>\n",
       "      <td>Positive</td>\n",
       "      <td>Negative</td>\n",
       "      <td>Positive</td>\n",
       "      <td>LumB</td>\n",
       "      <td>-0.2928</td>\n",
       "      <td>0.4498</td>\n",
       "      <td>-1.5594</td>\n",
       "      <td>-1.2046</td>\n",
       "      <td>0.3134</td>\n",
       "      <td>...</td>\n",
       "      <td>0.7349</td>\n",
       "      <td>-0.5363</td>\n",
       "      <td>-1.9502</td>\n",
       "      <td>-0.5007</td>\n",
       "      <td>0.3851</td>\n",
       "      <td>0.6921</td>\n",
       "      <td>-0.1630</td>\n",
       "      <td>-0.1507</td>\n",
       "      <td>0.0531</td>\n",
       "      <td>0.3152</td>\n",
       "    </tr>\n",
       "    <tr>\n",
       "      <th>6</th>\n",
       "      <td>MB-0014</td>\n",
       "      <td>Positive</td>\n",
       "      <td>Negative</td>\n",
       "      <td>Positive</td>\n",
       "      <td>LumB</td>\n",
       "      <td>-0.4881</td>\n",
       "      <td>0.8056</td>\n",
       "      <td>0.1276</td>\n",
       "      <td>0.3097</td>\n",
       "      <td>0.2816</td>\n",
       "      <td>...</td>\n",
       "      <td>-2.9184</td>\n",
       "      <td>0.4022</td>\n",
       "      <td>-0.5173</td>\n",
       "      <td>-0.3617</td>\n",
       "      <td>1.1951</td>\n",
       "      <td>0.3073</td>\n",
       "      <td>0.6322</td>\n",
       "      <td>-0.8498</td>\n",
       "      <td>-0.2708</td>\n",
       "      <td>2.0346</td>\n",
       "    </tr>\n",
       "    <tr>\n",
       "      <th>7</th>\n",
       "      <td>MB-0020</td>\n",
       "      <td>Negative</td>\n",
       "      <td>Negative</td>\n",
       "      <td>Negative</td>\n",
       "      <td>Normal</td>\n",
       "      <td>1.4061</td>\n",
       "      <td>0.7822</td>\n",
       "      <td>-0.0682</td>\n",
       "      <td>-0.2505</td>\n",
       "      <td>0.1113</td>\n",
       "      <td>...</td>\n",
       "      <td>-0.3789</td>\n",
       "      <td>1.0815</td>\n",
       "      <td>-0.4536</td>\n",
       "      <td>0.1065</td>\n",
       "      <td>-0.1990</td>\n",
       "      <td>-0.8381</td>\n",
       "      <td>-0.7641</td>\n",
       "      <td>0.2345</td>\n",
       "      <td>0.5474</td>\n",
       "      <td>0.2053</td>\n",
       "    </tr>\n",
       "    <tr>\n",
       "      <th>8</th>\n",
       "      <td>MB-0022</td>\n",
       "      <td>Positive</td>\n",
       "      <td>Negative</td>\n",
       "      <td>Negative</td>\n",
       "      <td>claudin-low</td>\n",
       "      <td>0.1605</td>\n",
       "      <td>0.3599</td>\n",
       "      <td>1.3598</td>\n",
       "      <td>0.8040</td>\n",
       "      <td>-0.4784</td>\n",
       "      <td>...</td>\n",
       "      <td>-1.9817</td>\n",
       "      <td>1.0986</td>\n",
       "      <td>-0.0853</td>\n",
       "      <td>-0.0966</td>\n",
       "      <td>2.4955</td>\n",
       "      <td>0.6978</td>\n",
       "      <td>0.9179</td>\n",
       "      <td>-0.8934</td>\n",
       "      <td>-1.1711</td>\n",
       "      <td>2.7166</td>\n",
       "    </tr>\n",
       "    <tr>\n",
       "      <th>9</th>\n",
       "      <td>MB-0028</td>\n",
       "      <td>Positive</td>\n",
       "      <td>Negative</td>\n",
       "      <td>Negative</td>\n",
       "      <td>LumB</td>\n",
       "      <td>-1.4534</td>\n",
       "      <td>1.5150</td>\n",
       "      <td>-0.4839</td>\n",
       "      <td>1.2135</td>\n",
       "      <td>-0.4467</td>\n",
       "      <td>...</td>\n",
       "      <td>-0.6995</td>\n",
       "      <td>0.7623</td>\n",
       "      <td>0.0521</td>\n",
       "      <td>-0.5370</td>\n",
       "      <td>2.8367</td>\n",
       "      <td>5.5288</td>\n",
       "      <td>0.1575</td>\n",
       "      <td>-0.8704</td>\n",
       "      <td>-1.3340</td>\n",
       "      <td>-0.8548</td>\n",
       "    </tr>\n",
       "  </tbody>\n",
       "</table>\n",
       "<p>10 rows × 178 columns</p>\n",
       "</div>"
      ],
      "text/plain": [
       "  Sample Identifier ER Status HER2 Status PR Status  \\\n",
       "0           MB-0000  Positive    Negative  Negative   \n",
       "1           MB-0002  Positive    Negative  Positive   \n",
       "2           MB-0005  Positive    Negative  Positive   \n",
       "3           MB-0006  Positive    Negative  Positive   \n",
       "4           MB-0008  Positive    Negative  Positive   \n",
       "5           MB-0010  Positive    Negative  Positive   \n",
       "6           MB-0014  Positive    Negative  Positive   \n",
       "7           MB-0020  Negative    Negative  Negative   \n",
       "8           MB-0022  Positive    Negative  Negative   \n",
       "9           MB-0028  Positive    Negative  Negative   \n",
       "\n",
       "  Pam50 + Claudin-low subtype  ACVRL1    AFF2    AGMO   AGTR2   AHNAK  ...  \\\n",
       "0                 claudin-low  2.8018  0.9356  0.3067 -0.8504  1.8229  ...   \n",
       "1                        LumA -1.8067  0.4817 -0.9456 -1.8446  1.6662  ...   \n",
       "2                        LumB -1.1869  0.0417  0.1168  0.9700 -0.0187  ...   \n",
       "3                        LumB -1.7275 -0.2383  0.4058  1.4637  0.3075  ...   \n",
       "4                        LumB -0.8278  0.9725  0.9789  0.8657 -0.7646  ...   \n",
       "5                        LumB -0.2928  0.4498 -1.5594 -1.2046  0.3134  ...   \n",
       "6                        LumB -0.4881  0.8056  0.1276  0.3097  0.2816  ...   \n",
       "7                      Normal  1.4061  0.7822 -0.0682 -0.2505  0.1113  ...   \n",
       "8                 claudin-low  0.1605  0.3599  1.3598  0.8040 -0.4784  ...   \n",
       "9                        LumB -1.4534  1.5150 -0.4839  1.2135 -0.4467  ...   \n",
       "\n",
       "    THADA  THSD7A    TP53   TTYH1    UBR5   USH2A   USP28   USP9X    UTRN  \\\n",
       "0  0.8474  4.0070  0.3481  2.0412 -1.5903 -1.0283 -0.0265 -0.0654  1.6603   \n",
       "1 -0.5858 -0.6132 -0.0176 -0.7278  0.5215 -1.3180  0.1930  0.3214  0.1909   \n",
       "2 -1.4430 -1.3823  0.5126 -0.3872  0.5039  0.0779  2.3398  0.0411 -0.5709   \n",
       "3 -1.2363  0.2257  1.6748 -0.3071  1.6148  0.4038  1.5291  0.3613 -0.1076   \n",
       "4 -0.3349 -0.2765  0.3461 -0.1481  3.1054 -0.0013 -1.1404  0.6028 -0.7553   \n",
       "5  0.7349 -0.5363 -1.9502 -0.5007  0.3851  0.6921 -0.1630 -0.1507  0.0531   \n",
       "6 -2.9184  0.4022 -0.5173 -0.3617  1.1951  0.3073  0.6322 -0.8498 -0.2708   \n",
       "7 -0.3789  1.0815 -0.4536  0.1065 -0.1990 -0.8381 -0.7641  0.2345  0.5474   \n",
       "8 -1.9817  1.0986 -0.0853 -0.0966  2.4955  0.6978  0.9179 -0.8934 -1.1711   \n",
       "9 -0.6995  0.7623  0.0521 -0.5370  2.8367  5.5288  0.1575 -0.8704 -1.3340   \n",
       "\n",
       "   ZFP36L1  \n",
       "0   0.3433  \n",
       "1   1.4831  \n",
       "2   2.7944  \n",
       "3   2.0545  \n",
       "4  -0.0943  \n",
       "5   0.3152  \n",
       "6   2.0346  \n",
       "7   0.2053  \n",
       "8   2.7166  \n",
       "9  -0.8548  \n",
       "\n",
       "[10 rows x 178 columns]"
      ]
     },
     "execution_count": 1,
     "metadata": {},
     "output_type": "execute_result"
    }
   ],
   "source": [
    "#Load the required libraries\n",
    "import numpy as np\n",
    "import matplotlib.pyplot as plt\n",
    "import pandas as pd\n",
    "import sklearn\n",
    "\n",
    "#Load the data and perform exploratory data analysis\n",
    "gene_exp = pd.read_csv(\"MTBC_Breast_Cancer.csv\",sep='\\t')\n",
    "\n",
    "gene_exp.head(10)"
   ]
  },
  {
   "cell_type": "code",
   "execution_count": 2,
   "id": "1f004abf",
   "metadata": {},
   "outputs": [
    {
     "data": {
      "text/html": [
       "<div>\n",
       "<style scoped>\n",
       "    .dataframe tbody tr th:only-of-type {\n",
       "        vertical-align: middle;\n",
       "    }\n",
       "\n",
       "    .dataframe tbody tr th {\n",
       "        vertical-align: top;\n",
       "    }\n",
       "\n",
       "    .dataframe thead th {\n",
       "        text-align: right;\n",
       "    }\n",
       "</style>\n",
       "<table border=\"1\" class=\"dataframe\">\n",
       "  <thead>\n",
       "    <tr style=\"text-align: right;\">\n",
       "      <th></th>\n",
       "      <th></th>\n",
       "      <th>Pam50 + Claudin-low subtype</th>\n",
       "      <th>Basal</th>\n",
       "      <th>Her2</th>\n",
       "      <th>LumA</th>\n",
       "      <th>LumB</th>\n",
       "      <th>NC</th>\n",
       "      <th>Normal</th>\n",
       "      <th>claudin-low</th>\n",
       "    </tr>\n",
       "    <tr>\n",
       "      <th>ER Status</th>\n",
       "      <th>HER2 Status</th>\n",
       "      <th>PR Status</th>\n",
       "      <th></th>\n",
       "      <th></th>\n",
       "      <th></th>\n",
       "      <th></th>\n",
       "      <th></th>\n",
       "      <th></th>\n",
       "      <th></th>\n",
       "    </tr>\n",
       "  </thead>\n",
       "  <tbody>\n",
       "    <tr>\n",
       "      <th rowspan=\"4\" valign=\"top\">Negative</th>\n",
       "      <th rowspan=\"2\" valign=\"top\">Negative</th>\n",
       "      <th>Negative</th>\n",
       "      <td>157</td>\n",
       "      <td>30</td>\n",
       "      <td>3</td>\n",
       "      <td>0</td>\n",
       "      <td>0</td>\n",
       "      <td>11</td>\n",
       "      <td>119</td>\n",
       "    </tr>\n",
       "    <tr>\n",
       "      <th>Positive</th>\n",
       "      <td>3</td>\n",
       "      <td>2</td>\n",
       "      <td>0</td>\n",
       "      <td>0</td>\n",
       "      <td>0</td>\n",
       "      <td>4</td>\n",
       "      <td>6</td>\n",
       "    </tr>\n",
       "    <tr>\n",
       "      <th rowspan=\"2\" valign=\"top\">Positive</th>\n",
       "      <th>Negative</th>\n",
       "      <td>18</td>\n",
       "      <td>94</td>\n",
       "      <td>1</td>\n",
       "      <td>0</td>\n",
       "      <td>0</td>\n",
       "      <td>8</td>\n",
       "      <td>13</td>\n",
       "    </tr>\n",
       "    <tr>\n",
       "      <th>Positive</th>\n",
       "      <td>2</td>\n",
       "      <td>3</td>\n",
       "      <td>0</td>\n",
       "      <td>0</td>\n",
       "      <td>0</td>\n",
       "      <td>0</td>\n",
       "      <td>0</td>\n",
       "    </tr>\n",
       "    <tr>\n",
       "      <th rowspan=\"4\" valign=\"top\">Positive</th>\n",
       "      <th rowspan=\"2\" valign=\"top\">Negative</th>\n",
       "      <th>Negative</th>\n",
       "      <td>14</td>\n",
       "      <td>34</td>\n",
       "      <td>146</td>\n",
       "      <td>150</td>\n",
       "      <td>2</td>\n",
       "      <td>35</td>\n",
       "      <td>44</td>\n",
       "    </tr>\n",
       "    <tr>\n",
       "      <th>Positive</th>\n",
       "      <td>13</td>\n",
       "      <td>30</td>\n",
       "      <td>530</td>\n",
       "      <td>280</td>\n",
       "      <td>4</td>\n",
       "      <td>84</td>\n",
       "      <td>32</td>\n",
       "    </tr>\n",
       "    <tr>\n",
       "      <th rowspan=\"2\" valign=\"top\">Positive</th>\n",
       "      <th>Negative</th>\n",
       "      <td>2</td>\n",
       "      <td>16</td>\n",
       "      <td>11</td>\n",
       "      <td>26</td>\n",
       "      <td>0</td>\n",
       "      <td>4</td>\n",
       "      <td>2</td>\n",
       "    </tr>\n",
       "    <tr>\n",
       "      <th>Positive</th>\n",
       "      <td>0</td>\n",
       "      <td>15</td>\n",
       "      <td>9</td>\n",
       "      <td>19</td>\n",
       "      <td>0</td>\n",
       "      <td>2</td>\n",
       "      <td>2</td>\n",
       "    </tr>\n",
       "  </tbody>\n",
       "</table>\n",
       "</div>"
      ],
      "text/plain": [
       "Pam50 + Claudin-low subtype      Basal  Her2  LumA  LumB  NC  Normal  \\\n",
       "ER Status HER2 Status PR Status                                        \n",
       "Negative  Negative    Negative     157    30     3     0   0      11   \n",
       "                      Positive       3     2     0     0   0       4   \n",
       "          Positive    Negative      18    94     1     0   0       8   \n",
       "                      Positive       2     3     0     0   0       0   \n",
       "Positive  Negative    Negative      14    34   146   150   2      35   \n",
       "                      Positive      13    30   530   280   4      84   \n",
       "          Positive    Negative       2    16    11    26   0       4   \n",
       "                      Positive       0    15     9    19   0       2   \n",
       "\n",
       "Pam50 + Claudin-low subtype      claudin-low  \n",
       "ER Status HER2 Status PR Status               \n",
       "Negative  Negative    Negative           119  \n",
       "                      Positive             6  \n",
       "          Positive    Negative            13  \n",
       "                      Positive             0  \n",
       "Positive  Negative    Negative            44  \n",
       "                      Positive            32  \n",
       "          Positive    Negative             2  \n",
       "                      Positive             2  "
      ]
     },
     "execution_count": 2,
     "metadata": {},
     "output_type": "execute_result"
    }
   ],
   "source": [
    "pd.pivot_table(gene_exp, values=\"Sample Identifier\", index=[\"ER Status\", \"HER2 Status\", \"PR Status\"], \n",
    "               columns=[\"Pam50 + Claudin-low subtype\"], aggfunc='count', fill_value=0)"
   ]
  },
  {
   "cell_type": "code",
   "execution_count": 3,
   "id": "f303c1eb",
   "metadata": {},
   "outputs": [
    {
     "data": {
      "text/plain": [
       "False"
      ]
     },
     "execution_count": 3,
     "metadata": {},
     "output_type": "execute_result"
    }
   ],
   "source": [
    "#Check for any missing values \n",
    "gene_exp.isna().any().any()"
   ]
  },
  {
   "cell_type": "code",
   "execution_count": 4,
   "id": "0ffb5ace",
   "metadata": {},
   "outputs": [],
   "source": [
    "#Plots\n",
    "#gene_data = gene_exp.drop(columns = [\"ER Status\", \"HER2 Status\", \"PR Status\",\"Pam50 + Claudin-low subtype\"])\n",
    "\n",
    "#gene_data = gene_data.T\n"
   ]
  },
  {
   "cell_type": "code",
   "execution_count": 5,
   "id": "7e0c1435",
   "metadata": {},
   "outputs": [
    {
     "data": {
      "text/plain": [
       "<AxesSubplot:title={'center':'Types of Breast Cancer'}, ylabel='Pam50 + Claudin-low subtype'>"
      ]
     },
     "execution_count": 5,
     "metadata": {},
     "output_type": "execute_result"
    },
    {
     "data": {
      "image/png": "[encoded data removed]",
      "text/plain": [
       "<Figure size 640x480 with 1 Axes>"
      ]
     },
     "metadata": {},
     "output_type": "display_data"
    }
   ],
   "source": [
    "#Pie chart of cancer subtype cases\n",
    "y_count = gene_exp.groupby([\"Pam50 + Claudin-low subtype\"])[\"Pam50 + Claudin-low subtype\"].count()\n",
    "y_count.plot(kind='pie', y=\"Pam50 + Claudin-low subtype\", autopct='%1.0f%%', title='Types of Breast Cancer')"
   ]
  },
  {
   "cell_type": "code",
   "execution_count": 6,
   "id": "df16b71e",
   "metadata": {},
   "outputs": [],
   "source": [
    "#Correlation between different genes "
   ]
  },
  {
   "cell_type": "markdown",
   "id": "59f930e3",
   "metadata": {},
   "source": [
    "## Part 2: Lasso regression"
   ]
  },
  {
   "cell_type": "markdown",
   "id": "23557bd6",
   "metadata": {},
   "source": [
    "**Step 1. Prepare the data into x (predictors) and y (outcome) and training/test using 70/30 split**"
   ]
  },
  {
   "cell_type": "code",
   "execution_count": 7,
   "id": "f54c9d23",
   "metadata": {},
   "outputs": [
    {
     "data": {
      "text/plain": [
       "['claudinlow', 'LumA', 'LumB', 'Normal', 'Her2', 'Basal', 'NC']\n",
       "Categories (7, object): ['Basal', 'Her2', 'LumA', 'LumB', 'NC', 'Normal', 'claudinlow']"
      ]
     },
     "execution_count": 7,
     "metadata": {},
     "output_type": "execute_result"
    }
   ],
   "source": [
    "#Split the data into y and x variables (outcome and predictors)\n",
    "\n",
    "#Rename the y variable column\n",
    "gene_exp.rename(columns = {'Pam50 + Claudin-low subtype':'Cancer_Subtype'}, inplace=True)\n",
    "\n",
    "#Converting the cancer subtype variable to categorical\n",
    "gene_exp['Cancer_Subtype'] = gene_exp['Cancer_Subtype'].astype('category')\n",
    "\n",
    "#Replace the claudin-low subtype to compatible formatting\n",
    "gene_exp['Cancer_Subtype'] = gene_exp['Cancer_Subtype'].cat.rename_categories({'claudin-low':'claudinlow'})\n",
    "\n",
    "gene_exp['Cancer_Subtype'].unique()"
   ]
  },
  {
   "cell_type": "code",
   "execution_count": 8,
   "id": "6bbdd87e",
   "metadata": {},
   "outputs": [
    {
     "data": {
      "text/html": [
       "<div>\n",
       "<style scoped>\n",
       "    .dataframe tbody tr th:only-of-type {\n",
       "        vertical-align: middle;\n",
       "    }\n",
       "\n",
       "    .dataframe tbody tr th {\n",
       "        vertical-align: top;\n",
       "    }\n",
       "\n",
       "    .dataframe thead th {\n",
       "        text-align: right;\n",
       "    }\n",
       "</style>\n",
       "<table border=\"1\" class=\"dataframe\">\n",
       "  <thead>\n",
       "    <tr style=\"text-align: right;\">\n",
       "      <th></th>\n",
       "      <th>Basal</th>\n",
       "      <th>Her2</th>\n",
       "      <th>LumA</th>\n",
       "      <th>LumB</th>\n",
       "      <th>NC</th>\n",
       "      <th>Normal</th>\n",
       "      <th>claudinlow</th>\n",
       "    </tr>\n",
       "  </thead>\n",
       "  <tbody>\n",
       "    <tr>\n",
       "      <th>0</th>\n",
       "      <td>0</td>\n",
       "      <td>0</td>\n",
       "      <td>0</td>\n",
       "      <td>0</td>\n",
       "      <td>0</td>\n",
       "      <td>0</td>\n",
       "      <td>1</td>\n",
       "    </tr>\n",
       "    <tr>\n",
       "      <th>1</th>\n",
       "      <td>0</td>\n",
       "      <td>0</td>\n",
       "      <td>1</td>\n",
       "      <td>0</td>\n",
       "      <td>0</td>\n",
       "      <td>0</td>\n",
       "      <td>0</td>\n",
       "    </tr>\n",
       "    <tr>\n",
       "      <th>2</th>\n",
       "      <td>0</td>\n",
       "      <td>0</td>\n",
       "      <td>0</td>\n",
       "      <td>1</td>\n",
       "      <td>0</td>\n",
       "      <td>0</td>\n",
       "      <td>0</td>\n",
       "    </tr>\n",
       "    <tr>\n",
       "      <th>3</th>\n",
       "      <td>0</td>\n",
       "      <td>0</td>\n",
       "      <td>0</td>\n",
       "      <td>1</td>\n",
       "      <td>0</td>\n",
       "      <td>0</td>\n",
       "      <td>0</td>\n",
       "    </tr>\n",
       "    <tr>\n",
       "      <th>4</th>\n",
       "      <td>0</td>\n",
       "      <td>0</td>\n",
       "      <td>0</td>\n",
       "      <td>1</td>\n",
       "      <td>0</td>\n",
       "      <td>0</td>\n",
       "      <td>0</td>\n",
       "    </tr>\n",
       "  </tbody>\n",
       "</table>\n",
       "</div>"
      ],
      "text/plain": [
       "   Basal  Her2  LumA  LumB  NC  Normal  claudinlow\n",
       "0      0     0     0     0   0       0           1\n",
       "1      0     0     1     0   0       0           0\n",
       "2      0     0     0     1   0       0           0\n",
       "3      0     0     0     1   0       0           0\n",
       "4      0     0     0     1   0       0           0"
      ]
     },
     "execution_count": 8,
     "metadata": {},
     "output_type": "execute_result"
    }
   ],
   "source": [
    "#Create a variable containing outcome only\n",
    "y=gene_exp['Cancer_Subtype']\n",
    "\n",
    "#Create dummy variables for y as it contains multiple categories (this is easier for the algorithm to handle)\n",
    "y = pd.get_dummies(y)\n",
    "y.head()"
   ]
  },
  {
   "cell_type": "code",
   "execution_count": 9,
   "id": "5e3b0fb8",
   "metadata": {},
   "outputs": [
    {
     "data": {
      "text/html": [
       "<div>\n",
       "<style scoped>\n",
       "    .dataframe tbody tr th:only-of-type {\n",
       "        vertical-align: middle;\n",
       "    }\n",
       "\n",
       "    .dataframe tbody tr th {\n",
       "        vertical-align: top;\n",
       "    }\n",
       "\n",
       "    .dataframe thead th {\n",
       "        text-align: right;\n",
       "    }\n",
       "</style>\n",
       "<table border=\"1\" class=\"dataframe\">\n",
       "  <thead>\n",
       "    <tr style=\"text-align: right;\">\n",
       "      <th></th>\n",
       "      <th>ER Status_Negative</th>\n",
       "      <th>ER Status_Positive</th>\n",
       "      <th>HER2 Status_Negative</th>\n",
       "      <th>HER2 Status_Positive</th>\n",
       "      <th>PR Status_Negative</th>\n",
       "      <th>PR Status_Positive</th>\n",
       "    </tr>\n",
       "  </thead>\n",
       "  <tbody>\n",
       "    <tr>\n",
       "      <th>0</th>\n",
       "      <td>0</td>\n",
       "      <td>1</td>\n",
       "      <td>1</td>\n",
       "      <td>0</td>\n",
       "      <td>1</td>\n",
       "      <td>0</td>\n",
       "    </tr>\n",
       "    <tr>\n",
       "      <th>1</th>\n",
       "      <td>0</td>\n",
       "      <td>1</td>\n",
       "      <td>1</td>\n",
       "      <td>0</td>\n",
       "      <td>0</td>\n",
       "      <td>1</td>\n",
       "    </tr>\n",
       "    <tr>\n",
       "      <th>2</th>\n",
       "      <td>0</td>\n",
       "      <td>1</td>\n",
       "      <td>1</td>\n",
       "      <td>0</td>\n",
       "      <td>0</td>\n",
       "      <td>1</td>\n",
       "    </tr>\n",
       "    <tr>\n",
       "      <th>3</th>\n",
       "      <td>0</td>\n",
       "      <td>1</td>\n",
       "      <td>1</td>\n",
       "      <td>0</td>\n",
       "      <td>0</td>\n",
       "      <td>1</td>\n",
       "    </tr>\n",
       "    <tr>\n",
       "      <th>4</th>\n",
       "      <td>0</td>\n",
       "      <td>1</td>\n",
       "      <td>1</td>\n",
       "      <td>0</td>\n",
       "      <td>0</td>\n",
       "      <td>1</td>\n",
       "    </tr>\n",
       "  </tbody>\n",
       "</table>\n",
       "</div>"
      ],
      "text/plain": [
       "   ER Status_Negative  ER Status_Positive  HER2 Status_Negative  \\\n",
       "0                   0                   1                     1   \n",
       "1                   0                   1                     1   \n",
       "2                   0                   1                     1   \n",
       "3                   0                   1                     1   \n",
       "4                   0                   1                     1   \n",
       "\n",
       "   HER2 Status_Positive  PR Status_Negative  PR Status_Positive  \n",
       "0                     0                   1                   0  \n",
       "1                     0                   0                   1  \n",
       "2                     0                   0                   1  \n",
       "3                     0                   0                   1  \n",
       "4                     0                   0                   1  "
      ]
     },
     "execution_count": 9,
     "metadata": {},
     "output_type": "execute_result"
    }
   ],
   "source": [
    "#Create dummy variables for categorical predictors\n",
    "X_dummies = pd.get_dummies(gene_exp[['ER Status','HER2 Status','PR Status']])\n",
    "X_dummies.head()"
   ]
  },
  {
   "cell_type": "code",
   "execution_count": 10,
   "id": "54b5da82",
   "metadata": {},
   "outputs": [],
   "source": [
    "#Drop the outcome, categorical predictors and sample identifier from the data\n",
    "X_num = gene_exp.drop(['Cancer_Subtype','ER Status','HER2 Status','PR Status','Sample Identifier'], \n",
    "                      axis=1).astype('float64')"
   ]
  },
  {
   "cell_type": "code",
   "execution_count": 11,
   "id": "3926c7c2",
   "metadata": {},
   "outputs": [
    {
     "data": {
      "text/plain": [
       "Index(['ACVRL1', 'AFF2', 'AGMO', 'AGTR2', 'AHNAK', 'AHNAK2', 'AKAP9', 'AKT1',\n",
       "       'AKT2', 'ALK',\n",
       "       ...\n",
       "       'THADA', 'THSD7A', 'TP53', 'TTYH1', 'UBR5', 'USH2A', 'USP28', 'USP9X',\n",
       "       'UTRN', 'ZFP36L1'],\n",
       "      dtype='object', length=173)"
      ]
     },
     "execution_count": 11,
     "metadata": {},
     "output_type": "execute_result"
    }
   ],
   "source": [
    "#Create a list of numerical features\n",
    "list_num = X_num.columns\n",
    "list_num   #We can see there are 173 genes in the predictors list"
   ]
  },
  {
   "cell_type": "code",
   "execution_count": 12,
   "id": "4ed1d7d7",
   "metadata": {},
   "outputs": [
    {
     "name": "stdout",
     "output_type": "stream",
     "text": [
      "<class 'pandas.core.frame.DataFrame'>\n",
      "RangeIndex: 1980 entries, 0 to 1979\n",
      "Columns: 176 entries, ACVRL1 to PR Status_Positive\n",
      "dtypes: float64(173), uint8(3)\n",
      "memory usage: 2.6 MB\n"
     ]
    }
   ],
   "source": [
    "#Bring all the predictors together, note only one dummy variable column for each predictor is included\n",
    "X = pd.concat([X_num, X_dummies[['ER Status_Positive','HER2 Status_Positive','PR Status_Positive']]], axis=1)\n",
    "X.info()"
   ]
  },
  {
   "cell_type": "code",
   "execution_count": 13,
   "id": "f24641eb",
   "metadata": {},
   "outputs": [
    {
     "data": {
      "text/html": [
       "<div>\n",
       "<style scoped>\n",
       "    .dataframe tbody tr th:only-of-type {\n",
       "        vertical-align: middle;\n",
       "    }\n",
       "\n",
       "    .dataframe tbody tr th {\n",
       "        vertical-align: top;\n",
       "    }\n",
       "\n",
       "    .dataframe thead th {\n",
       "        text-align: right;\n",
       "    }\n",
       "</style>\n",
       "<table border=\"1\" class=\"dataframe\">\n",
       "  <thead>\n",
       "    <tr style=\"text-align: right;\">\n",
       "      <th></th>\n",
       "      <th>ACVRL1</th>\n",
       "      <th>AFF2</th>\n",
       "      <th>AGMO</th>\n",
       "      <th>AGTR2</th>\n",
       "      <th>AHNAK</th>\n",
       "      <th>AHNAK2</th>\n",
       "      <th>AKAP9</th>\n",
       "      <th>AKT1</th>\n",
       "      <th>AKT2</th>\n",
       "      <th>ALK</th>\n",
       "      <th>...</th>\n",
       "      <th>TTYH1</th>\n",
       "      <th>UBR5</th>\n",
       "      <th>USH2A</th>\n",
       "      <th>USP28</th>\n",
       "      <th>USP9X</th>\n",
       "      <th>UTRN</th>\n",
       "      <th>ZFP36L1</th>\n",
       "      <th>ER Status_Positive</th>\n",
       "      <th>HER2 Status_Positive</th>\n",
       "      <th>PR Status_Positive</th>\n",
       "    </tr>\n",
       "  </thead>\n",
       "  <tbody>\n",
       "    <tr>\n",
       "      <th>39</th>\n",
       "      <td>1.1034</td>\n",
       "      <td>0.1656</td>\n",
       "      <td>1.4628</td>\n",
       "      <td>0.0661</td>\n",
       "      <td>-1.9062</td>\n",
       "      <td>-1.8053</td>\n",
       "      <td>0.7638</td>\n",
       "      <td>-1.9655</td>\n",
       "      <td>-1.2880</td>\n",
       "      <td>0.0201</td>\n",
       "      <td>...</td>\n",
       "      <td>-0.2860</td>\n",
       "      <td>0.3071</td>\n",
       "      <td>1.0995</td>\n",
       "      <td>1.3747</td>\n",
       "      <td>-0.8521</td>\n",
       "      <td>-0.9502</td>\n",
       "      <td>1.3671</td>\n",
       "      <td>1</td>\n",
       "      <td>0</td>\n",
       "      <td>0</td>\n",
       "    </tr>\n",
       "    <tr>\n",
       "      <th>1243</th>\n",
       "      <td>1.2069</td>\n",
       "      <td>-0.0494</td>\n",
       "      <td>0.5609</td>\n",
       "      <td>-0.6411</td>\n",
       "      <td>0.9271</td>\n",
       "      <td>0.8690</td>\n",
       "      <td>-0.2180</td>\n",
       "      <td>-0.4995</td>\n",
       "      <td>-0.4383</td>\n",
       "      <td>-0.3103</td>\n",
       "      <td>...</td>\n",
       "      <td>0.9661</td>\n",
       "      <td>-1.2599</td>\n",
       "      <td>-0.2068</td>\n",
       "      <td>-0.1707</td>\n",
       "      <td>0.0030</td>\n",
       "      <td>-0.1395</td>\n",
       "      <td>-1.4589</td>\n",
       "      <td>1</td>\n",
       "      <td>0</td>\n",
       "      <td>1</td>\n",
       "    </tr>\n",
       "    <tr>\n",
       "      <th>1649</th>\n",
       "      <td>-0.6813</td>\n",
       "      <td>-0.8010</td>\n",
       "      <td>1.5956</td>\n",
       "      <td>0.9321</td>\n",
       "      <td>1.3232</td>\n",
       "      <td>-0.0967</td>\n",
       "      <td>-1.5754</td>\n",
       "      <td>0.1109</td>\n",
       "      <td>-0.4659</td>\n",
       "      <td>0.0067</td>\n",
       "      <td>...</td>\n",
       "      <td>-0.5985</td>\n",
       "      <td>0.3358</td>\n",
       "      <td>-0.4211</td>\n",
       "      <td>-1.5854</td>\n",
       "      <td>-0.8578</td>\n",
       "      <td>-0.6875</td>\n",
       "      <td>0.2591</td>\n",
       "      <td>1</td>\n",
       "      <td>0</td>\n",
       "      <td>1</td>\n",
       "    </tr>\n",
       "    <tr>\n",
       "      <th>1894</th>\n",
       "      <td>1.2270</td>\n",
       "      <td>-0.4161</td>\n",
       "      <td>-0.2972</td>\n",
       "      <td>1.3631</td>\n",
       "      <td>-0.6971</td>\n",
       "      <td>-0.9343</td>\n",
       "      <td>1.5675</td>\n",
       "      <td>-2.1038</td>\n",
       "      <td>0.6482</td>\n",
       "      <td>-0.0971</td>\n",
       "      <td>...</td>\n",
       "      <td>-0.6015</td>\n",
       "      <td>-0.5705</td>\n",
       "      <td>0.1310</td>\n",
       "      <td>-1.4310</td>\n",
       "      <td>0.4742</td>\n",
       "      <td>0.4088</td>\n",
       "      <td>-2.4925</td>\n",
       "      <td>1</td>\n",
       "      <td>0</td>\n",
       "      <td>0</td>\n",
       "    </tr>\n",
       "    <tr>\n",
       "      <th>1540</th>\n",
       "      <td>-1.5055</td>\n",
       "      <td>0.2014</td>\n",
       "      <td>0.3537</td>\n",
       "      <td>0.1039</td>\n",
       "      <td>-0.5490</td>\n",
       "      <td>-0.3912</td>\n",
       "      <td>0.4890</td>\n",
       "      <td>1.3945</td>\n",
       "      <td>-0.4268</td>\n",
       "      <td>0.1248</td>\n",
       "      <td>...</td>\n",
       "      <td>-0.6453</td>\n",
       "      <td>-0.1281</td>\n",
       "      <td>-0.6180</td>\n",
       "      <td>-0.6081</td>\n",
       "      <td>-0.8487</td>\n",
       "      <td>-1.3041</td>\n",
       "      <td>1.6771</td>\n",
       "      <td>1</td>\n",
       "      <td>0</td>\n",
       "      <td>1</td>\n",
       "    </tr>\n",
       "  </tbody>\n",
       "</table>\n",
       "<p>5 rows × 176 columns</p>\n",
       "</div>"
      ],
      "text/plain": [
       "      ACVRL1    AFF2    AGMO   AGTR2   AHNAK  AHNAK2   AKAP9    AKT1    AKT2  \\\n",
       "39    1.1034  0.1656  1.4628  0.0661 -1.9062 -1.8053  0.7638 -1.9655 -1.2880   \n",
       "1243  1.2069 -0.0494  0.5609 -0.6411  0.9271  0.8690 -0.2180 -0.4995 -0.4383   \n",
       "1649 -0.6813 -0.8010  1.5956  0.9321  1.3232 -0.0967 -1.5754  0.1109 -0.4659   \n",
       "1894  1.2270 -0.4161 -0.2972  1.3631 -0.6971 -0.9343  1.5675 -2.1038  0.6482   \n",
       "1540 -1.5055  0.2014  0.3537  0.1039 -0.5490 -0.3912  0.4890  1.3945 -0.4268   \n",
       "\n",
       "         ALK  ...   TTYH1    UBR5   USH2A   USP28   USP9X    UTRN  ZFP36L1  \\\n",
       "39    0.0201  ... -0.2860  0.3071  1.0995  1.3747 -0.8521 -0.9502   1.3671   \n",
       "1243 -0.3103  ...  0.9661 -1.2599 -0.2068 -0.1707  0.0030 -0.1395  -1.4589   \n",
       "1649  0.0067  ... -0.5985  0.3358 -0.4211 -1.5854 -0.8578 -0.6875   0.2591   \n",
       "1894 -0.0971  ... -0.6015 -0.5705  0.1310 -1.4310  0.4742  0.4088  -2.4925   \n",
       "1540  0.1248  ... -0.6453 -0.1281 -0.6180 -0.6081 -0.8487 -1.3041   1.6771   \n",
       "\n",
       "      ER Status_Positive  HER2 Status_Positive  PR Status_Positive  \n",
       "39                     1                     0                   0  \n",
       "1243                   1                     0                   1  \n",
       "1649                   1                     0                   1  \n",
       "1894                   1                     0                   0  \n",
       "1540                   1                     0                   1  \n",
       "\n",
       "[5 rows x 176 columns]"
      ]
     },
     "execution_count": 13,
     "metadata": {},
     "output_type": "execute_result"
    }
   ],
   "source": [
    "#Split data into train and test using a 70:30 split\n",
    "from sklearn.model_selection import train_test_split\n",
    "\n",
    "X_train, X_test, y_train, y_test = train_test_split(X, y, test_size=0.3, random_state=10)\n",
    "\n",
    "X_train.head() #The gene expression data has already been stardadised so this step will not be repeated here"
   ]
  },
  {
   "cell_type": "code",
   "execution_count": 14,
   "id": "31a6d09c",
   "metadata": {},
   "outputs": [
    {
     "data": {
      "text/html": [
       "<div>\n",
       "<style scoped>\n",
       "    .dataframe tbody tr th:only-of-type {\n",
       "        vertical-align: middle;\n",
       "    }\n",
       "\n",
       "    .dataframe tbody tr th {\n",
       "        vertical-align: top;\n",
       "    }\n",
       "\n",
       "    .dataframe thead th {\n",
       "        text-align: right;\n",
       "    }\n",
       "</style>\n",
       "<table border=\"1\" class=\"dataframe\">\n",
       "  <thead>\n",
       "    <tr style=\"text-align: right;\">\n",
       "      <th></th>\n",
       "      <th>Basal</th>\n",
       "      <th>Her2</th>\n",
       "      <th>LumA</th>\n",
       "      <th>LumB</th>\n",
       "      <th>NC</th>\n",
       "      <th>Normal</th>\n",
       "      <th>claudinlow</th>\n",
       "    </tr>\n",
       "  </thead>\n",
       "  <tbody>\n",
       "    <tr>\n",
       "      <th>39</th>\n",
       "      <td>0</td>\n",
       "      <td>0</td>\n",
       "      <td>0</td>\n",
       "      <td>0</td>\n",
       "      <td>0</td>\n",
       "      <td>0</td>\n",
       "      <td>1</td>\n",
       "    </tr>\n",
       "    <tr>\n",
       "      <th>1243</th>\n",
       "      <td>0</td>\n",
       "      <td>0</td>\n",
       "      <td>0</td>\n",
       "      <td>0</td>\n",
       "      <td>0</td>\n",
       "      <td>1</td>\n",
       "      <td>0</td>\n",
       "    </tr>\n",
       "    <tr>\n",
       "      <th>1649</th>\n",
       "      <td>0</td>\n",
       "      <td>0</td>\n",
       "      <td>0</td>\n",
       "      <td>1</td>\n",
       "      <td>0</td>\n",
       "      <td>0</td>\n",
       "      <td>0</td>\n",
       "    </tr>\n",
       "    <tr>\n",
       "      <th>1894</th>\n",
       "      <td>0</td>\n",
       "      <td>0</td>\n",
       "      <td>0</td>\n",
       "      <td>1</td>\n",
       "      <td>0</td>\n",
       "      <td>0</td>\n",
       "      <td>0</td>\n",
       "    </tr>\n",
       "    <tr>\n",
       "      <th>1540</th>\n",
       "      <td>0</td>\n",
       "      <td>0</td>\n",
       "      <td>0</td>\n",
       "      <td>1</td>\n",
       "      <td>0</td>\n",
       "      <td>0</td>\n",
       "      <td>0</td>\n",
       "    </tr>\n",
       "  </tbody>\n",
       "</table>\n",
       "</div>"
      ],
      "text/plain": [
       "      Basal  Her2  LumA  LumB  NC  Normal  claudinlow\n",
       "39        0     0     0     0   0       0           1\n",
       "1243      0     0     0     0   0       1           0\n",
       "1649      0     0     0     1   0       0           0\n",
       "1894      0     0     0     1   0       0           0\n",
       "1540      0     0     0     1   0       0           0"
      ]
     },
     "execution_count": 14,
     "metadata": {},
     "output_type": "execute_result"
    }
   ],
   "source": [
    "y_train.head()"
   ]
  },
  {
   "cell_type": "markdown",
   "id": "75cddc50",
   "metadata": {},
   "source": [
    "<br />\n",
    "  \n",
    "**Step 2. Using cross validation to find the best alpha (the penalty term in Lasso regression)**\n",
    "\n",
    "<br />"
   ]
  },
  {
   "cell_type": "code",
   "execution_count": 15,
   "id": "f3346417",
   "metadata": {},
   "outputs": [
    {
     "data": {
      "text/plain": [
       "0.010749186140051133"
      ]
     },
     "execution_count": 15,
     "metadata": {},
     "output_type": "execute_result"
    }
   ],
   "source": [
    "#Building the lasso model with cross validation to find optimal alpha\n",
    "from sklearn.linear_model import MultiTaskLassoCV \n",
    "\n",
    "#Fitting Lasso with 10 fold cross validation using the best alpha\n",
    "cv_lasso = MultiTaskLassoCV(cv=10, random_state=10, max_iter=10000).fit(X_train, y_train)\n",
    "\n",
    "cv_lasso.alpha_  #This is the best alpha to use "
   ]
  },
  {
   "cell_type": "code",
   "execution_count": 16,
   "id": "14e4db39",
   "metadata": {},
   "outputs": [
    {
     "data": {
      "text/plain": [
       "MultiTaskLasso(alpha=0.010749186140051133)"
      ]
     },
     "execution_count": 16,
     "metadata": {},
     "output_type": "execute_result"
    }
   ],
   "source": [
    "#Creating the final lasso model incorporating best alpha from cv\n",
    "from sklearn.linear_model import MultiTaskLasso\n",
    "\n",
    "lasso_a = MultiTaskLasso(alpha = cv_lasso.alpha_)\n",
    "lasso_a.fit(X_train, y_train)"
   ]
  },
  {
   "cell_type": "code",
   "execution_count": 17,
   "id": "d42e990e",
   "metadata": {},
   "outputs": [
    {
     "name": "stderr",
     "output_type": "stream",
     "text": [
      "/Users/emilyjin/opt/anaconda3/lib/python3.9/site-packages/sklearn/base.py:443: UserWarning: X has feature names, but SelectFromModel was fitted without feature names\n",
      "  warnings.warn(\n"
     ]
    }
   ],
   "source": [
    "#Identify the most important features used in the lasso model\n",
    "from sklearn.feature_selection import SelectFromModel\n",
    "\n",
    "model = SelectFromModel(lasso_a, prefit=True)\n",
    "X_new = model.transform(X_train)"
   ]
  },
  {
   "cell_type": "code",
   "execution_count": 18,
   "id": "7ad08ecc",
   "metadata": {},
   "outputs": [
    {
     "name": "stdout",
     "output_type": "stream",
     "text": [
      "Index(['ACVRL1', 'AFF2', 'AGMO', 'AGTR2', 'AHNAK', 'AHNAK2', 'AKAP9', 'AKT1',\n",
      "       'AKT2', 'ALK',\n",
      "       ...\n",
      "       'THADA', 'TP53', 'TTYH1', 'UBR5', 'USH2A', 'USP28', 'USP9X', 'ZFP36L1',\n",
      "       'ER Status_Positive', 'PR Status_Positive'],\n",
      "      dtype='object', length=145)\n"
     ]
    }
   ],
   "source": [
    "#Outputting the most important features with nonzero coefficients\n",
    "feature_idx = model.get_support()\n",
    "selected_features = X_train.columns[feature_idx]\n",
    "print(selected_features)\n",
    "\n",
    "#145 variables were used in the final model"
   ]
  },
  {
   "cell_type": "markdown",
   "id": "ee335dad",
   "metadata": {},
   "source": [
    "<br />\n",
    "\n",
    "**Step 3. Evaluating model performance**\n",
    "\n",
    "<br />"
   ]
  },
  {
   "cell_type": "code",
   "execution_count": 19,
   "id": "57006937",
   "metadata": {},
   "outputs": [
    {
     "name": "stdout",
     "output_type": "stream",
     "text": [
      "R squared training data: 40.79\n",
      "R squared test data: 35.04\n"
     ]
    }
   ],
   "source": [
    "#Model evaluation \n",
    "from sklearn.metrics import r2_score\n",
    "\n",
    "r2_train = r2_score(y_train, lasso_a.predict(X_train))\n",
    "print(\"R squared training data:\", round(r2_train*100, 2))\n",
    "\n",
    "r2_test = r2_score(y_test, lasso_a.predict(X_test))\n",
    "print(\"R squared test data:\", round(r2_test*100, 2))"
   ]
  },
  {
   "cell_type": "code",
   "execution_count": 20,
   "id": "20e7a161",
   "metadata": {},
   "outputs": [
    {
     "name": "stdout",
     "output_type": "stream",
     "text": [
      "Mean Squared Error of the training data: 0.06\n",
      "Mean Squared Error of the test data: 0.06\n"
     ]
    }
   ],
   "source": [
    "#Mean squared error\n",
    "from sklearn.metrics import mean_squared_error\n",
    "\n",
    "mse_train = mean_squared_error(y_train, lasso_a.predict(X_train))\n",
    "mse_test = mean_squared_error(y_test, lasso_a.predict(X_test))\n",
    "\n",
    "print('Mean Squared Error of the training data:', round(mse_train, 2))\n",
    "print('Mean Squared Error of the test data:', round(mse_test, 2))"
   ]
  },
  {
   "cell_type": "markdown",
   "id": "2d45e216",
   "metadata": {},
   "source": [
    "<br />\n",
    "\n",
    "**Visualising cross validation of alpha**\n",
    "\n",
    "<br />"
   ]
  },
  {
   "cell_type": "code",
   "execution_count": 21,
   "id": "f982c7ec",
   "metadata": {},
   "outputs": [
    {
     "data": {
      "image/png": "[encoded data removed]",
      "text/plain": [
       "<Figure size 640x480 with 1 Axes>"
      ]
     },
     "metadata": {},
     "output_type": "display_data"
    }
   ],
   "source": [
    "#Plotting the results of cross-validation with mean squared error\n",
    "\n",
    "plt.semilogx(cv_lasso.alphas_, cv_lasso.mse_path_, \":\")\n",
    "plt.plot(\n",
    "    cv_lasso.alphas_ ,\n",
    "    cv_lasso.mse_path_.mean(axis=-1),\n",
    "    \"k\",\n",
    "    label=\"Average across the folds\",\n",
    "    linewidth=2,\n",
    ")\n",
    "plt.axvline(\n",
    "    cv_lasso.alpha_, linestyle=\"--\", color=\"k\", label=\"alpha: CV estimate\"\n",
    ")\n",
    "\n",
    "plt.legend()\n",
    "plt.xlabel(\"alphas\")\n",
    "plt.ylabel(\"Mean square error\")\n",
    "plt.title(\"Mean square error on each fold\")\n",
    "plt.axis(\"tight\")\n",
    "\n",
    "ymin, ymax = 0.04, 0.12\n",
    "plt.ylim(ymin, ymax);"
   ]
  },
  {
   "cell_type": "markdown",
   "id": "5dc57ea1",
   "metadata": {},
   "source": [
    "## Part 3: Random Forest"
   ]
  },
  {
   "cell_type": "code",
   "execution_count": 22,
   "id": "5b1ac7a7",
   "metadata": {},
   "outputs": [],
   "source": [
    "#Build the model using previously split data and import functions\n",
    "from sklearn.ensemble import RandomForestClassifier\n",
    "from sklearn.model_selection import GridSearchCV, RepeatedStratifiedKFold\n",
    "from sklearn.metrics import classification_report\n",
    "\n",
    "#Define the random forest model\n",
    "rf = RandomForestClassifier(random_state=10)"
   ]
  },
  {
   "cell_type": "code",
   "execution_count": 23,
   "id": "0be6ce0a",
   "metadata": {},
   "outputs": [],
   "source": [
    "#Define the hyperparameters to be used in the grid search\n",
    "param_grid = {\n",
    "    'n_estimators': [25, 50, 100],  #no. of trees to build\n",
    "    'max_features': ['sqrt', 'log2'], #no. of features randomly selected at each split\n",
    "    'min_samples_leaf': [4, 10, 25], #minimum no. of samples at terminal nodes (leaf) - allows asymmetric splits whilst balancing overfitting\n",
    "}\n",
    "\n",
    "#general rule for no. features at each split for RF is that \n",
    "#for classification: sqrt(total no. features)\n",
    "#for regression: total no. features / 3 "
   ]
  },
  {
   "cell_type": "code",
   "execution_count": 24,
   "id": "0fe8a550",
   "metadata": {},
   "outputs": [],
   "source": [
    "#Define the cross-validation approach: repeated stratified k fold \n",
    "#stratified represents the class imbalance of the data in the k splits \n",
    "#repeats cv several times and averages result - better performance measure\n",
    "\n",
    "cv = RepeatedStratifiedKFold(n_splits=10, n_repeats=3, random_state=10)"
   ]
  },
  {
   "cell_type": "code",
   "execution_count": 25,
   "id": "e07ebba8",
   "metadata": {},
   "outputs": [],
   "source": [
    "#Bring together the model and cv method into the GridSearchCV object\n",
    "grid_search = GridSearchCV(estimator=rf, param_grid=param_grid, n_jobs=-1, cv=cv, scoring='accuracy')\n",
    "\n",
    "#n_jobs = -1 allows all cores to be used during model building"
   ]
  },
  {
   "cell_type": "code",
   "execution_count": 26,
   "id": "62c83341",
   "metadata": {},
   "outputs": [
    {
     "data": {
      "text/html": [
       "<div>\n",
       "<style scoped>\n",
       "    .dataframe tbody tr th:only-of-type {\n",
       "        vertical-align: middle;\n",
       "    }\n",
       "\n",
       "    .dataframe tbody tr th {\n",
       "        vertical-align: top;\n",
       "    }\n",
       "\n",
       "    .dataframe thead th {\n",
       "        text-align: right;\n",
       "    }\n",
       "</style>\n",
       "<table border=\"1\" class=\"dataframe\">\n",
       "  <thead>\n",
       "    <tr style=\"text-align: right;\">\n",
       "      <th></th>\n",
       "      <th></th>\n",
       "    </tr>\n",
       "  </thead>\n",
       "  <tbody>\n",
       "    <tr>\n",
       "      <th>0</th>\n",
       "      <td>claudinlow</td>\n",
       "    </tr>\n",
       "    <tr>\n",
       "      <th>1</th>\n",
       "      <td>Normal</td>\n",
       "    </tr>\n",
       "    <tr>\n",
       "      <th>2</th>\n",
       "      <td>LumB</td>\n",
       "    </tr>\n",
       "    <tr>\n",
       "      <th>3</th>\n",
       "      <td>LumB</td>\n",
       "    </tr>\n",
       "    <tr>\n",
       "      <th>4</th>\n",
       "      <td>LumB</td>\n",
       "    </tr>\n",
       "  </tbody>\n",
       "</table>\n",
       "</div>"
      ],
      "text/plain": [
       "             \n",
       "0  claudinlow\n",
       "1      Normal\n",
       "2        LumB\n",
       "3        LumB\n",
       "4        LumB"
      ]
     },
     "execution_count": 26,
     "metadata": {},
     "output_type": "execute_result"
    }
   ],
   "source": [
    "#Convert multilabel y variable back to 1d array due to package requirement\n",
    "y_train_rf = pd.from_dummies(y_train)\n",
    "\n",
    "y_train_rf.head()"
   ]
  },
  {
   "cell_type": "code",
   "execution_count": 27,
   "id": "dc55dbc7",
   "metadata": {},
   "outputs": [
    {
     "name": "stderr",
     "output_type": "stream",
     "text": [
      "/Users/emilyjin/opt/anaconda3/lib/python3.9/site-packages/sklearn/model_selection/_split.py:676: UserWarning: The least populated class in y has only 4 members, which is less than n_splits=10.\n",
      "  warnings.warn(\n",
      "/Users/emilyjin/opt/anaconda3/lib/python3.9/site-packages/sklearn/model_selection/_split.py:676: UserWarning: The least populated class in y has only 4 members, which is less than n_splits=10.\n",
      "  warnings.warn(\n",
      "/Users/emilyjin/opt/anaconda3/lib/python3.9/site-packages/sklearn/model_selection/_split.py:676: UserWarning: The least populated class in y has only 4 members, which is less than n_splits=10.\n",
      "  warnings.warn(\n"
     ]
    },
    {
     "data": {
      "text/plain": [
       "GridSearchCV(cv=RepeatedStratifiedKFold(n_repeats=3, n_splits=10, random_state=10),\n",
       "             estimator=RandomForestClassifier(random_state=10), n_jobs=-1,\n",
       "             param_grid={'max_features': ['sqrt', 'log2'],\n",
       "                         'min_samples_leaf': [4, 10, 25],\n",
       "                         'n_estimators': [25, 50, 100]},\n",
       "             scoring='accuracy')"
      ]
     },
     "execution_count": 27,
     "metadata": {},
     "output_type": "execute_result"
    }
   ],
   "source": [
    "#Fit the grid search hyperparameter model to our data - using ravel.() to flattened the y variable \n",
    "grid_search.fit(X_train, y_train_rf.values.ravel())"
   ]
  },
  {
   "cell_type": "code",
   "execution_count": 28,
   "id": "ef90e99f",
   "metadata": {},
   "outputs": [
    {
     "name": "stdout",
     "output_type": "stream",
     "text": [
      "Best parameters:  {'max_features': 'sqrt', 'min_samples_leaf': 4, 'n_estimators': 100}\n",
      "Best score:  0.7236436937406595\n"
     ]
    }
   ],
   "source": [
    "#Output the best hyperparameters and the mean cross-validation score\n",
    "print(\"Best parameters: \", grid_search.best_params_)\n",
    "print(\"Best score: \", grid_search.best_score_)"
   ]
  },
  {
   "cell_type": "code",
   "execution_count": 29,
   "id": "7a7dd35f",
   "metadata": {},
   "outputs": [
    {
     "name": "stdout",
     "output_type": "stream",
     "text": [
      "              precision    recall  f1-score   support\n",
      "\n",
      "       Basal       0.87      0.76      0.81        63\n",
      "        Her2       0.57      0.77      0.66        56\n",
      "        LumA       0.88      0.71      0.79       275\n",
      "        LumB       0.72      0.69      0.70       136\n",
      "          NC       0.00      0.00      0.00         0\n",
      "      Normal       0.19      0.73      0.30        11\n",
      "  claudinlow       0.67      0.85      0.75        53\n",
      "\n",
      "    accuracy                           0.73       594\n",
      "   macro avg       0.56      0.64      0.57       594\n",
      "weighted avg       0.78      0.73      0.75       594\n",
      "\n"
     ]
    },
    {
     "name": "stderr",
     "output_type": "stream",
     "text": [
      "/Users/emilyjin/opt/anaconda3/lib/python3.9/site-packages/sklearn/metrics/_classification.py:1318: UndefinedMetricWarning: Recall and F-score are ill-defined and being set to 0.0 in labels with no true samples. Use `zero_division` parameter to control this behavior.\n",
      "  _warn_prf(average, modifier, msg_start, len(result))\n",
      "/Users/emilyjin/opt/anaconda3/lib/python3.9/site-packages/sklearn/metrics/_classification.py:1318: UndefinedMetricWarning: Recall and F-score are ill-defined and being set to 0.0 in labels with no true samples. Use `zero_division` parameter to control this behavior.\n",
      "  _warn_prf(average, modifier, msg_start, len(result))\n",
      "/Users/emilyjin/opt/anaconda3/lib/python3.9/site-packages/sklearn/metrics/_classification.py:1318: UndefinedMetricWarning: Recall and F-score are ill-defined and being set to 0.0 in labels with no true samples. Use `zero_division` parameter to control this behavior.\n",
      "  _warn_prf(average, modifier, msg_start, len(result))\n"
     ]
    }
   ],
   "source": [
    "#Update the model with the best parameters found and use it to predict on the test data \n",
    "rf = RandomForestClassifier(max_features= 'sqrt', min_samples_leaf= 4, n_estimators = 100)\n",
    "rf.fit(X_train, y_train_rf.values.ravel())\n",
    "\n",
    "y_pred_rf = rf.predict(X_test)\n",
    "y_test_rf = pd.from_dummies(y_test)\n",
    "print(classification_report(y_pred_rf, y_test_rf))"
   ]
  },
  {
   "cell_type": "code",
   "execution_count": 30,
   "id": "b02c3f72",
   "metadata": {},
   "outputs": [
    {
     "name": "stdout",
     "output_type": "stream",
     "text": [
      "[[ 48   4   1   0   0   0   2]\n",
      " [  2  43  11  19   0   0   0]\n",
      " [  0   2 195  21   0   2   1]\n",
      " [  0   1  34  94   0   0   2]\n",
      " [  0   0   2   0   0   0   0]\n",
      " [  0   5  27   0   0   8   3]\n",
      " [ 13   1   5   2   0   1  45]]\n"
     ]
    }
   ],
   "source": [
    "#Confusion matrix of the predictions and observed data\n",
    "from sklearn.metrics import confusion_matrix\n",
    "\n",
    "conf_mat = confusion_matrix(y_test_rf, y_pred_rf)\n",
    "print(conf_mat)"
   ]
  },
  {
   "cell_type": "code",
   "execution_count": 31,
   "id": "57dbe631",
   "metadata": {},
   "outputs": [],
   "source": [
    "#Evaluate model performance - ROC curve\n"
   ]
  },
  {
   "cell_type": "code",
   "execution_count": 32,
   "id": "fb7b8e4a",
   "metadata": {},
   "outputs": [],
   "source": [
    "#Define colour gradient functions\n",
    "def hex_to_RGB(hex_str):\n",
    "    \"\"\" #FFFFFF -> [255,255,255]\"\"\"\n",
    "    #Pass 16 to the integer function for change of base\n",
    "    return [int(hex_str[i:i+2], 16) for i in range(1,6,2)]\n",
    "\n",
    "def get_color_gradient(c1, c2, n):\n",
    "    \"\"\"\n",
    "    Given two hex colors, returns a color gradient\n",
    "    with n colors.\n",
    "    \"\"\"\n",
    "    assert n > 1\n",
    "    c1_rgb = np.array(hex_to_RGB(c1))/255\n",
    "    c2_rgb = np.array(hex_to_RGB(c2))/255\n",
    "    mix_pcts = [x/(n-1) for x in range(n)]\n",
    "    rgb_colors = [((1-mix)*c1_rgb + (mix*c2_rgb)) for mix in mix_pcts]\n",
    "    return [\"#\" + \"\".join([format(int(round(val*255)), \"02x\") for val in item]) for item in rgb_colors]\n"
   ]
  },
  {
   "cell_type": "code",
   "execution_count": 33,
   "id": "95eb9272",
   "metadata": {},
   "outputs": [
    {
     "data": {
      "image/png": "[encoded data removed]",
      "text/plain": [
       "<Figure size 640x480 with 1 Axes>"
      ]
     },
     "metadata": {},
     "output_type": "display_data"
    }
   ],
   "source": [
    "#Determine feature importance using mean decrease in gini impurity and plot the top 50 features\n",
    "feature_names = X.columns.values.tolist()\n",
    "rf_features = pd.Series(rf.feature_importances_, index=feature_names)\n",
    "rf_features.sort_values(ascending = False , inplace = True)\n",
    "\n",
    "color1 = \"#8A5AC2\"\n",
    "color2 = \"#3575D5\"\n",
    "\n",
    "fig, ax = plt.subplots()\n",
    "rf_features[0:50].plot.bar(ax=ax, color= get_color_gradient(color1, color2, 50))\n",
    "ax.set_title(\"Feature importances using MDI\")\n",
    "ax.set_ylabel(\"Mean decrease in impurity\")\n",
    "fig.tight_layout()"
   ]
  },
  {
   "cell_type": "markdown",
   "id": "18478a21",
   "metadata": {},
   "source": [
    "## Part 4: XGBoost"
   ]
  },
  {
   "cell_type": "code",
   "execution_count": 34,
   "id": "66194aff",
   "metadata": {},
   "outputs": [
    {
     "data": {
      "text/plain": [
       "array([0.57194245, 0.59927798, 0.55234657, 0.58844765, 0.6101083 ])"
      ]
     },
     "execution_count": 34,
     "metadata": {},
     "output_type": "execute_result"
    }
   ],
   "source": [
    "from xgboost import XGBClassifier\n",
    "from sklearn.metrics import accuracy_score"
   ]
  },
  {
   "cell_type": "code",
   "execution_count": 39,
   "id": "201df6ef",
   "metadata": {},
   "outputs": [
    {
     "data": {
      "text/plain": [
       "0.6060606060606061"
      ]
     },
     "execution_count": 39,
     "metadata": {},
     "output_type": "execute_result"
    }
   ],
   "source": [
    "#Fit the xgboost model without tuning hyperparameters \n",
    "xgb = XGBClassifier(subsample=1,\n",
    "colsample_bytree=1,\n",
    "min_child_weight=1,\n",
    "max_depth=6,\n",
    "learning_rate=0.3,\n",
    "n_estimators=100)\n",
    "\n",
    "xgb.fit(X_train, y_train)\n",
    "\n",
    "xgb_pred = xgb.predict(X_test)\n",
    "\n",
    "accuracy_score(y_test, xgb_pred) #this is the base predictive performance"
   ]
  },
  {
   "cell_type": "code",
   "execution_count": null,
   "id": "afd11762",
   "metadata": {},
   "outputs": [],
   "source": [
    "#Hyperparameters tuned here\n",
    "\n",
    "#subsample \n",
    "#colsample_bytree\n",
    "#max_depth\n",
    "#min_child_weight\n",
    "#Learning_rate\n",
    "#N_estimators"
   ]
  },
  {
   "cell_type": "code",
   "execution_count": 48,
   "id": "7a258d7f",
   "metadata": {},
   "outputs": [],
   "source": [
    "#Tune hyperparameters using gridsearchcv\n",
    "\n",
    "#Set the parameters to be tuned\n",
    "xgb_params = {\"colsample_bytree\":[0.5, 0.75, 1],\n",
    "\"max_depth\":[2, 6, 12],\n",
    "\"learning_rate\":[0.3, 0.1, 0.03],\n",
    "\"n_estimators\":[100]}"
   ]
  },
  {
   "cell_type": "code",
   "execution_count": null,
   "id": "5f835dcd",
   "metadata": {},
   "outputs": [],
   "source": [
    "#Fit a new model with parameters\n",
    "#Define the model and use all cores, setting early stop params\n",
    "xgb_tuned = XGBClassifier(n_estimators=100, n_jobs=-1,random_state=10)\n",
    "\n",
    "#Initialise the gridsearch function\n",
    "xgb_gs = GridSearchCV(xgb_tuned, param_grid = xgb_params, cv=5, \n",
    "                     scoring = \"accuracy\")\n",
    "\n",
    "#Fit the gridsearch model to training data\n",
    "xgb_gs.fit(X_train,y_train, verbose=0)\n",
    "print(xgb_gs.best_params_)"
   ]
  },
  {
   "cell_type": "code",
   "execution_count": null,
   "id": "bbeddc10",
   "metadata": {},
   "outputs": [],
   "source": [
    "#Use the grid search model to predict on test data and output accuracy\n",
    "xgb_gs_pred = xgb_gs.predict(X_test)\n",
    "print('Accuracy:',accuracy_score(y_test, xgb_gs_pred))"
   ]
  },
  {
   "cell_type": "markdown",
   "id": "955772df",
   "metadata": {},
   "source": [
    "## Part 5: Comparing different models"
   ]
  },
  {
   "cell_type": "code",
   "execution_count": null,
   "id": "2a638e4c",
   "metadata": {},
   "outputs": [],
   "source": [
    "#Using ROC curves to evaluate predictive performance of different models"
   ]
  },
  {
   "cell_type": "code",
   "execution_count": null,
   "id": "49ebe2da",
   "metadata": {},
   "outputs": [],
   "source": []
  },
  {
   "cell_type": "code",
   "execution_count": null,
   "id": "48bed725",
   "metadata": {},
   "outputs": [],
   "source": []
  },
  {
   "cell_type": "markdown",
   "id": "128e4e1e",
   "metadata": {},
   "source": [
    "## Next steps"
   ]
  },
  {
   "cell_type": "markdown",
   "id": "4802d298",
   "metadata": {},
   "source": [
    "[provide suggested next steps for people who've completed the exercise]"
   ]
  },
  {
   "cell_type": "markdown",
   "id": "ce1e133e",
   "metadata": {},
   "source": [
    "Fill out the form below and we'll provide feedback on your code.\n",
    "\n",
    "**Any feedback on the exercise? Any questions? Want feedback on your code? Please fill out the form [here](https://docs.google.com/forms/d/e/1FAIpQLSdoOjVom8YKf11LxJ_bWN40afFMsWcoJ-xOrKhMbfBzgxTS9A/viewform).**"
   ]
  },
  {
   "cell_type": "code",
   "execution_count": null,
   "id": "71cdd4ad",
   "metadata": {},
   "outputs": [],
   "source": []
  },
  {
   "cell_type": "code",
   "execution_count": null,
   "id": "71e7c4f6",
   "metadata": {},
   "outputs": [],
   "source": []
  }
 ],
 "metadata": {
  "kernelspec": {
   "display_name": "Python 3 (ipykernel)",
   "language": "python",
   "name": "python3"
  },
  "language_info": {
   "codemirror_mode": {
    "name": "ipython",
    "version": 3
   },
   "file_extension": ".py",
   "mimetype": "text/x-python",
   "name": "python",
   "nbconvert_exporter": "python",
   "pygments_lexer": "ipython3",
   "version": "3.9.13"
  }
 },
 "nbformat": 4,
 "nbformat_minor": 5
}
