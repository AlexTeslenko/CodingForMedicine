{
 "cells": [
  {
   "cell_type": "markdown",
   "id": "c82d7193",
   "metadata": {},
   "source": [
    "# Classifying breast cancer molecular subtype using gene expression data\n"
   ]
  },
  {
   "cell_type": "markdown",
   "id": "e2502982",
   "metadata": {},
   "source": [
    "**In this exercise, we will using gene expression of 173 mutation driver genes associated with breast cancer to predict it's molecular subtype.**\n",
    "\n",
    "[more description of the exercises]\n",
    "\n",
    "In this exercise we'll [learn how to / use]:\n",
    "\n",
    "- lasso regression\n",
    "- random forest\n",
    "- xgboost\n",
    "\n",
    "[see examples in 'exercise' folder as template]"
   ]
  },
  {
   "cell_type": "markdown",
   "id": "a0e09066",
   "metadata": {},
   "source": [
    "## Part 1: Set up and exploratory data analysis"
   ]
  },
  {
   "cell_type": "code",
   "execution_count": null,
   "id": "c97be59c",
   "metadata": {},
   "outputs": [],
   "source": [
    "#Load the required libraries\n",
    "import numpy as np\n",
    "import matplotlib.pyplot as plt\n",
    "import pandas as pd\n",
    "import sklearn\n",
    "\n",
    "#Load the data and perform exploratory data analysis\n",
    "gene_exp = pd.read_csv(\"MTBC_Breast_Cancer.csv\",sep='\\t')\n",
    "\n",
    "gene_exp.head(10)"
   ]
  },
  {
   "cell_type": "code",
   "execution_count": null,
   "id": "1f004abf",
   "metadata": {},
   "outputs": [],
   "source": [
    "pd.pivot_table(gene_exp, values=\"Sample Identifier\", index=[\"ER Status\", \"HER2 Status\", \"PR Status\"], \n",
    "               columns=[\"Pam50 + Claudin-low subtype\"], aggfunc='count', fill_value=0)"
   ]
  },
  {
   "cell_type": "code",
   "execution_count": null,
   "id": "f303c1eb",
   "metadata": {},
   "outputs": [],
   "source": [
    "#Check for any missing values \n",
    "gene_exp.isna().any().any()"
   ]
  },
  {
   "cell_type": "code",
   "execution_count": null,
   "id": "0ffb5ace",
   "metadata": {},
   "outputs": [],
   "source": [
    "#Plots\n",
    "#gene_data = gene_exp.drop(columns = [\"ER Status\", \"HER2 Status\", \"PR Status\",\"Pam50 + Claudin-low subtype\"])\n",
    "\n",
    "#gene_data = gene_data.T\n"
   ]
  },
  {
   "cell_type": "code",
   "execution_count": null,
   "id": "7e0c1435",
   "metadata": {},
   "outputs": [],
   "source": []
  },
  {
   "cell_type": "code",
   "execution_count": null,
   "id": "df16b71e",
   "metadata": {},
   "outputs": [],
   "source": []
  },
  {
   "cell_type": "markdown",
   "id": "59f930e3",
   "metadata": {},
   "source": [
    "## Part 2: Lasso regression"
   ]
  },
  {
   "cell_type": "markdown",
   "id": "23557bd6",
   "metadata": {},
   "source": [
    "**Step 1. Prepare the data into x (predictors) and y (outcome) and training/test using 70/30 split**"
   ]
  },
  {
   "cell_type": "code",
   "execution_count": null,
   "id": "f54c9d23",
   "metadata": {},
   "outputs": [],
   "source": [
    "#Split the data into y and x variables (outcome and predictors)\n",
    "\n",
    "#Rename the y variable column\n",
    "gene_exp.rename(columns = {'Pam50 + Claudin-low subtype':'Cancer_Subtype'}, inplace=True)\n",
    "\n",
    "#Converting the cancer subtype variable to categorical\n",
    "gene_exp['Cancer_Subtype'] = gene_exp['Cancer_Subtype'].astype('category')\n",
    "\n",
    "#Replace the claudin-low subtype to compatible formatting\n",
    "gene_exp['Cancer_Subtype'] = gene_exp['Cancer_Subtype'].cat.rename_categories({'claudin-low':'claudinlow'})\n",
    "\n",
    "gene_exp['Cancer_Subtype'].unique()"
   ]
  },
  {
   "cell_type": "code",
   "execution_count": null,
   "id": "6bbdd87e",
   "metadata": {},
   "outputs": [],
   "source": [
    "#Create a variable containing outcome only\n",
    "y=gene_exp['Cancer_Subtype']\n",
    "\n",
    "#Create dummy variables for y as it contains multiple categories (this is easier for the algorithm to handle)\n",
    "y = pd.get_dummies(y)\n",
    "y.head()"
   ]
  },
  {
   "cell_type": "code",
   "execution_count": null,
   "id": "5e3b0fb8",
   "metadata": {},
   "outputs": [],
   "source": [
    "#Create dummy variables for categorical predictors\n",
    "X_dummies = pd.get_dummies(gene_exp[['ER Status','HER2 Status','PR Status']])\n",
    "X_dummies.head()"
   ]
  },
  {
   "cell_type": "code",
   "execution_count": null,
   "id": "54b5da82",
   "metadata": {},
   "outputs": [],
   "source": [
    "#Drop the outcome, categorical predictors and sample identifier from the data\n",
    "X_num = gene_exp.drop(['Cancer_Subtype','ER Status','HER2 Status','PR Status','Sample Identifier'], \n",
    "                      axis=1).astype('float64')"
   ]
  },
  {
   "cell_type": "code",
   "execution_count": null,
   "id": "3926c7c2",
   "metadata": {},
   "outputs": [],
   "source": [
    "#Create a list of numerical features\n",
    "list_num = X_num.columns\n",
    "list_num   #We can see there are 173 genes in the predictors list"
   ]
  },
  {
   "cell_type": "code",
   "execution_count": null,
   "id": "4ed1d7d7",
   "metadata": {},
   "outputs": [],
   "source": [
    "#Bring all the predictors together, note only one dummy variable column for each predictor is included\n",
    "X = pd.concat([X_num, X_dummies[['ER Status_Positive','HER2 Status_Positive','PR Status_Positive']]], axis=1)\n",
    "X.info()"
   ]
  },
  {
   "cell_type": "code",
   "execution_count": null,
   "id": "f24641eb",
   "metadata": {},
   "outputs": [],
   "source": [
    "#Split data into train and test using a 70:30 split\n",
    "from sklearn.model_selection import train_test_split\n",
    "\n",
    "X_train, X_test, y_train, y_test = train_test_split(X, y, test_size=0.3, random_state=10)\n",
    "\n",
    "X_train.head() #The gene expression data has already been stardadised so this step will not be repeated here"
   ]
  },
  {
   "cell_type": "code",
   "execution_count": null,
   "id": "31a6d09c",
   "metadata": {},
   "outputs": [],
   "source": [
    "y_train.head()"
   ]
  },
  {
   "cell_type": "markdown",
   "id": "75cddc50",
   "metadata": {},
   "source": [
    "<br />\n",
    "  \n",
    "**Step 2. Using cross validation to find the best alpha (the penalty term in Lasso regression)**\n",
    "\n",
    "<br />"
   ]
  },
  {
   "cell_type": "code",
   "execution_count": null,
   "id": "f3346417",
   "metadata": {},
   "outputs": [],
   "source": [
    "#Building the lasso model with cross validation to find optimal alpha\n",
    "from sklearn.linear_model import MultiTaskLassoCV \n",
    "\n",
    "#Fitting Lasso with 10 fold cross validation using the best alpha\n",
    "cv_lasso = MultiTaskLassoCV(cv=10, random_state=10, max_iter=10000).fit(X_train, y_train)\n",
    "\n",
    "cv_lasso.alpha_  #This is the best alpha to use "
   ]
  },
  {
   "cell_type": "code",
   "execution_count": null,
   "id": "14e4db39",
   "metadata": {},
   "outputs": [],
   "source": [
    "#Creating the final lasso model incorporating best alpha from cv\n",
    "from sklearn.linear_model import MultiTaskLasso\n",
    "\n",
    "lasso_a = MultiTaskLasso(alpha = cv_lasso.alpha_)\n",
    "lasso_a.fit(X_train, y_train)"
   ]
  },
  {
   "cell_type": "code",
   "execution_count": null,
   "id": "d42e990e",
   "metadata": {},
   "outputs": [],
   "source": [
    "#Identify the most important features used in the lasso model\n",
    "from sklearn.feature_selection import SelectFromModel\n",
    "\n",
    "model = SelectFromModel(lasso_a, prefit=True)\n",
    "X_new = model.transform(X_train)"
   ]
  },
  {
   "cell_type": "code",
   "execution_count": null,
   "id": "7ad08ecc",
   "metadata": {},
   "outputs": [],
   "source": [
    "#Outputting the most important features with nonzero coefficients\n",
    "feature_idx = model.get_support()\n",
    "selected_features = X_train.columns[feature_idx]\n",
    "print(selected_features)\n",
    "\n",
    "#145 variables were used in the final model"
   ]
  },
  {
   "cell_type": "markdown",
   "id": "ee335dad",
   "metadata": {},
   "source": [
    "<br />\n",
    "\n",
    "**Step 3. Evaluating model performance**\n",
    "\n",
    "<br />"
   ]
  },
  {
   "cell_type": "code",
   "execution_count": null,
   "id": "57006937",
   "metadata": {},
   "outputs": [],
   "source": [
    "#Model evaluation \n",
    "from sklearn.metrics import r2_score\n",
    "\n",
    "r2_train = r2_score(y_train, lasso_a.predict(X_train))\n",
    "print(\"R squared training data:\", round(r2_train*100, 2))\n",
    "\n",
    "r2_test = r2_score(y_test, lasso_a.predict(X_test))\n",
    "print(\"R squared test data:\", round(r2_test*100, 2))"
   ]
  },
  {
   "cell_type": "code",
   "execution_count": null,
   "id": "20e7a161",
   "metadata": {},
   "outputs": [],
   "source": [
    "#Mean squared error\n",
    "from sklearn.metrics import mean_squared_error\n",
    "\n",
    "mse_train = mean_squared_error(y_train, lasso_a.predict(X_train))\n",
    "mse_test = mean_squared_error(y_test, lasso_a.predict(X_test))\n",
    "\n",
    "print('Mean Squared Error of the training data:', round(mse_train, 2))\n",
    "print('Mean Squared Error of the test data:', round(mse_test, 2))"
   ]
  },
  {
   "cell_type": "markdown",
   "id": "2d45e216",
   "metadata": {},
   "source": [
    "<br />\n",
    "\n",
    "**Visualising cross validation of alpha**\n",
    "\n",
    "<br />"
   ]
  },
  {
   "cell_type": "code",
   "execution_count": null,
   "id": "f982c7ec",
   "metadata": {},
   "outputs": [],
   "source": [
    "#Plotting the results of cross-validation with mean squared error\n",
    "\n",
    "plt.semilogx(cv_lasso.alphas_, cv_lasso.mse_path_, \":\")\n",
    "plt.plot(\n",
    "    cv_lasso.alphas_ ,\n",
    "    cv_lasso.mse_path_.mean(axis=-1),\n",
    "    \"k\",\n",
    "    label=\"Average across the folds\",\n",
    "    linewidth=2,\n",
    ")\n",
    "plt.axvline(\n",
    "    cv_lasso.alpha_, linestyle=\"--\", color=\"k\", label=\"alpha: CV estimate\"\n",
    ")\n",
    "\n",
    "plt.legend()\n",
    "plt.xlabel(\"alphas\")\n",
    "plt.ylabel(\"Mean square error\")\n",
    "plt.title(\"Mean square error on each fold\")\n",
    "plt.axis(\"tight\")\n",
    "\n",
    "ymin, ymax = 0.04, 0.12\n",
    "plt.ylim(ymin, ymax);"
   ]
  },
  {
   "cell_type": "code",
   "execution_count": null,
   "id": "1d9e0f99",
   "metadata": {},
   "outputs": [],
   "source": []
  },
  {
   "cell_type": "code",
   "execution_count": null,
   "id": "b23c2eb6",
   "metadata": {},
   "outputs": [],
   "source": []
  },
  {
   "cell_type": "code",
   "execution_count": null,
   "id": "bceec2b8",
   "metadata": {},
   "outputs": [],
   "source": []
  },
  {
   "cell_type": "markdown",
   "id": "5dc57ea1",
   "metadata": {},
   "source": [
    "## Part 3:"
   ]
  },
  {
   "cell_type": "code",
   "execution_count": null,
   "id": "5b1ac7a7",
   "metadata": {},
   "outputs": [],
   "source": []
  },
  {
   "cell_type": "code",
   "execution_count": null,
   "id": "0be6ce0a",
   "metadata": {},
   "outputs": [],
   "source": []
  },
  {
   "cell_type": "code",
   "execution_count": null,
   "id": "0fe8a550",
   "metadata": {},
   "outputs": [],
   "source": []
  },
  {
   "cell_type": "markdown",
   "id": "18478a21",
   "metadata": {},
   "source": [
    "## Part 4:"
   ]
  },
  {
   "cell_type": "code",
   "execution_count": null,
   "id": "8c7423a8",
   "metadata": {},
   "outputs": [],
   "source": []
  },
  {
   "cell_type": "code",
   "execution_count": null,
   "id": "201df6ef",
   "metadata": {},
   "outputs": [],
   "source": []
  },
  {
   "cell_type": "markdown",
   "id": "955772df",
   "metadata": {},
   "source": [
    "## Part x:"
   ]
  },
  {
   "cell_type": "code",
   "execution_count": null,
   "id": "2a638e4c",
   "metadata": {},
   "outputs": [],
   "source": []
  },
  {
   "cell_type": "code",
   "execution_count": null,
   "id": "49ebe2da",
   "metadata": {},
   "outputs": [],
   "source": []
  },
  {
   "cell_type": "code",
   "execution_count": null,
   "id": "48bed725",
   "metadata": {},
   "outputs": [],
   "source": []
  },
  {
   "cell_type": "markdown",
   "id": "128e4e1e",
   "metadata": {},
   "source": [
    "## Next steps"
   ]
  },
  {
   "cell_type": "markdown",
   "id": "4802d298",
   "metadata": {},
   "source": [
    "[provide suggested next steps for people who've completed the exercise]"
   ]
  },
  {
   "cell_type": "markdown",
   "id": "ce1e133e",
   "metadata": {},
   "source": [
    "Fill out the form below and we'll provide feedback on your code.\n",
    "\n",
    "**Any feedback on the exercise? Any questions? Want feedback on your code? Please fill out the form [here](https://docs.google.com/forms/d/e/1FAIpQLSdoOjVom8YKf11LxJ_bWN40afFMsWcoJ-xOrKhMbfBzgxTS9A/viewform).**"
   ]
  },
  {
   "cell_type": "code",
   "execution_count": null,
   "id": "71cdd4ad",
   "metadata": {},
   "outputs": [],
   "source": []
  }
 ],
 "metadata": {
  "kernelspec": {
   "display_name": "Python 3 (ipykernel)",
   "language": "python",
   "name": "python3"
  },
  "language_info": {
   "codemirror_mode": {
    "name": "ipython",
    "version": 3
   },
   "file_extension": ".py",
   "mimetype": "text/x-python",
   "name": "python",
   "nbconvert_exporter": "python",
   "pygments_lexer": "ipython3",
   "version": "3.9.13"
  }
 },
 "nbformat": 4,
 "nbformat_minor": 5
}
