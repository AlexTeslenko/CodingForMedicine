{
 "cells": [
  {
   "cell_type": "markdown",
   "metadata": {},
   "source": [
    "# Diagnosing Pneumonia on Chest X-Rays"
   ]
  },
  {
   "cell_type": "markdown",
   "metadata": {},
   "source": [
    "**In this exercise, we will build and train an chest X-ray image classification model (convolutional neural network - CNN) to predict whether an X-ray scan shows presence of pneumonia.**\n",
    "\n",
    "In order to train model we will use this publicly-available dataset [Chest X-Ray Images (Pneumonia)](https://www.kaggle.com/datasets/paultimothymooney/chest-xray-pneumonia?datasetId=17810).\n",
    "\n",
    "This is a *classification* problem, because we're asking the algorithm to classify images into one of two classes: **normal or pneumonia**. We'll first train a convolutional neural network from scratch for this task, and then we will try transfer learning technique to improve the accuracy. You're then invited to try out the technique of 'transfer learning' on different architectures of convolutional neural networks, such as:\n",
    "\n",
    "- VGG\n",
    "- ResNet\n",
    "- DensNet\n",
    "\n",
    "In this exercise we'll learn how to:\n",
    "\n",
    "- **Download data** and **load it into our Jupyter Notebook**\n",
    "- **Import various libraries** like tensorflow and scikit-learn\n",
    "- **Preprocess images properly for the train, validation and test sets**\n",
    "- **Train a CNN from scratch**\n",
    "- **Train a CNN using transfer learning**\n",
    "- **Quantify the performance** of our model"
   ]
  },
  {
   "cell_type": "markdown",
   "metadata": {},
   "source": [
    "## Part 1: Downloading and importing our data"
   ]
  },
  {
   "cell_type": "markdown",
   "metadata": {},
   "source": [
    "### Option 1: Download directly from Kaggle\n",
    "To train a machine learning model, the first thing we need is data.\n",
    "For this exercise, we're using a dataset available on Kaggle. \n",
    "\n",
    "- You can view information about the dataset and download it [here](https://www.kaggle.com/datasets/paultimothymooney/chest-xray-pneumonia?datasetId=17810). (You may need to create a Kaggle account.) *Note: we want version 2 of the dataset.*\n",
    "- Create a directory with the name *input* in this Notebook's directory.\n",
    "- Move the downloaded zip archive to the *input* directory.\n",
    "- Unzip downloaded zip archive.\n",
    "\n",
    "### Option 2: Download to Google Drive and connect with Google Colab\n",
    "- Upload zip archive to your Google drive\n",
    "- Connect your Google drive to Colab environment: \n"
   ]
  },
  {
   "cell_type": "markdown",
   "metadata": {},
   "source": [
    "If you're doing option 2, you can run the following code:"
   ]
  },
  {
   "cell_type": "code",
   "execution_count": 2,
   "metadata": {},
   "outputs": [],
   "source": [
    "from google.colab import drive\n",
    "drive.mount('/content/drive')"
   ]
  },
  {
   "cell_type": "markdown",
   "metadata": {},
   "source": [
    "- Unzip the archive"
   ]
  },
  {
   "cell_type": "code",
   "execution_count": null,
   "metadata": {},
   "outputs": [],
   "source": [
    "!unzip /content/drive/MyDrive/archive.zip"
   ]
  },
  {
   "cell_type": "markdown",
   "metadata": {},
   "source": [
    "- Create folder **input** and move unzipped folder there"
   ]
  },
  {
   "cell_type": "code",
   "execution_count": null,
   "metadata": {},
   "outputs": [],
   "source": [
    "!mkdir input\n",
    "!mv chest_xray/ input/chest_xray"
   ]
  },
  {
   "cell_type": "markdown",
   "metadata": {
    "papermill": {
     "duration": 0.049434,
     "end_time": "2021-10-01T08:07:53.031095",
     "exception": false,
     "start_time": "2021-10-01T08:07:52.981661",
     "status": "completed"
    },
    "tags": []
   },
   "source": [
    "## Part 2: Install and import Packages and Functions\n",
    "We'll make use of the following packages:\n",
    "\n",
    "* numpy and pandas is what we'll use to manipulate our data\n",
    "* matplotlib.pyplot and seaborn will be used to produce plots for visualization\n",
    "* tensorflow and keras are used to build and train CNN\n",
    "* scikit-learn is used to calculate metrics\n",
    "\n",
    "Run the next cell to import all the necessary packages.\n",
    "\n"
   ]
  },
  {
   "cell_type": "code",
   "execution_count": null,
   "metadata": {},
   "outputs": [],
   "source": [
    "%pip install pandas numpy matplotlib seaborn scikit-learn tensorflow"
   ]
  },
  {
   "cell_type": "code",
   "execution_count": 3,
   "metadata": {
    "_cell_guid": "79c7e3d0-c299-4dcb-8224-4455121ee9b0",
    "_uuid": "d629ff2d2480ee46fbb7e2d37f6b5fab8052498a",
    "execution": {
     "iopub.execute_input": "2021-10-01T08:07:53.132941Z",
     "iopub.status.busy": "2021-10-01T08:07:53.131873Z",
     "iopub.status.idle": "2021-10-01T08:07:59.089645Z",
     "shell.execute_reply": "2021-10-01T08:07:59.088991Z"
    },
    "papermill": {
     "duration": 6.012153,
     "end_time": "2021-10-01T08:07:59.089769",
     "exception": false,
     "start_time": "2021-10-01T08:07:53.077616",
     "status": "completed"
    },
    "tags": []
   },
   "outputs": [
    {
     "data": {
      "text/plain": [
       "['test', 'chest_xray', '__MACOSX', 'train', 'val']"
      ]
     },
     "execution_count": 3,
     "metadata": {},
     "output_type": "execute_result"
    }
   ],
   "source": [
    "import os\n",
    "import shutil\n",
    "import glob\n",
    "import random\n",
    "import numpy as np\n",
    "import pandas as pd \n",
    "import matplotlib.pyplot as plt\n",
    "import seaborn as sns\n",
    "import tensorflow as tf\n",
    "from tensorflow import keras\n",
    "\n",
    "os.listdir(\"input/chest_xray\")"
   ]
  },
  {
   "cell_type": "code",
   "execution_count": 4,
   "metadata": {
    "execution": {
     "iopub.execute_input": "2021-10-01T08:07:59.192843Z",
     "iopub.status.busy": "2021-10-01T08:07:59.191956Z",
     "iopub.status.idle": "2021-10-01T08:07:59.295230Z",
     "shell.execute_reply": "2021-10-01T08:07:59.295829Z"
    },
    "papermill": {
     "duration": 0.156041,
     "end_time": "2021-10-01T08:07:59.295952",
     "exception": false,
     "start_time": "2021-10-01T08:07:59.139911",
     "status": "completed"
    },
    "tags": []
   },
   "outputs": [
    {
     "data": {
      "text/plain": [
       "3294"
      ]
     },
     "execution_count": 4,
     "metadata": {},
     "output_type": "execute_result"
    }
   ],
   "source": [
    "len(os.listdir(\"input/chest_xray/train/PNEUMONIA\"))"
   ]
  },
  {
   "cell_type": "markdown",
   "metadata": {
    "papermill": {
     "duration": 0.05011,
     "end_time": "2021-10-01T08:07:59.490264",
     "exception": false,
     "start_time": "2021-10-01T08:07:59.440154",
     "status": "completed"
    },
    "tags": []
   },
   "source": [
    "## Part 3:  Data Analysis and Visualization\n"
   ]
  },
  {
   "cell_type": "markdown",
   "metadata": {},
   "source": [
    "The dataset is divided into three sets: 1) Train set 2) Validation set and 3) Test set.\n",
    "\n",
    "Let's check how many images we have in every set"
   ]
  },
  {
   "cell_type": "code",
   "execution_count": null,
   "metadata": {
    "execution": {
     "iopub.execute_input": "2021-10-01T08:07:59.598970Z",
     "iopub.status.busy": "2021-10-01T08:07:59.597755Z",
     "iopub.status.idle": "2021-10-01T08:08:01.308509Z",
     "shell.execute_reply": "2021-10-01T08:08:01.309002Z"
    },
    "papermill": {
     "duration": 1.770419,
     "end_time": "2021-10-01T08:08:01.309255",
     "exception": false,
     "start_time": "2021-10-01T08:07:59.538836",
     "status": "completed"
    },
    "tags": []
   },
   "outputs": [],
   "source": [
    "train_dir = \"input/chest_xray/train\"\n",
    "test_dir = \"input/chest_xray/test\"\n",
    "val_dir = \"input/chest_xray/val\"\n",
    "\n",
    "train_imgs_pneumonia = os.listdir(os.path.join(train_dir, 'PNEUMONIA'))\n",
    "train_imgs_normal = os.listdir(os.path.join(train_dir, 'NORMAL'))\n",
    "num_train_pneumonia = len(train_imgs_pneumonia)\n",
    "num_train_normal = len(train_imgs_normal)\n",
    "print(\"Train set:\")\n",
    "print(f\"PNEUMONIA={num_train_pneumonia}\")\n",
    "print(f\"NORMAL={num_train_normal}\")\n",
    "print(\"========================================\")\n",
    "\n",
    "test_imgs_pneumonia = os.listdir(os.path.join(test_dir, 'PNEUMONIA'))\n",
    "test_imgs_normal = os.listdir(os.path.join(test_dir, 'NORMAL'))\n",
    "num_test_pneumonia = len(test_imgs_pneumonia)\n",
    "num_test_normal = len(test_imgs_normal)\n",
    "print(\"Test set:\")\n",
    "print(f\"PNEUMONIA={num_test_pneumonia}\")\n",
    "print(f\"NORMAL={num_test_normal}\")\n",
    "print(\"========================================\")\n",
    "\n",
    "val_imgs_pneumonia = os.listdir(os.path.join(val_dir, 'PNEUMONIA'))\n",
    "val_imgs_normal = os.listdir(os.path.join(val_dir, 'NORMAL'))\n",
    "num_val_pneumonia = len(val_imgs_pneumonia)\n",
    "num_val_normal = len(val_imgs_normal)\n",
    "print(\"Validation set:\")\n",
    "print(f\"PNEUMONIA={num_val_pneumonia}\")\n",
    "print(f\"NORMAL={num_val_normal}\")\n",
    "print(\"========================================\")\n"
   ]
  },
  {
   "cell_type": "markdown",
   "metadata": {},
   "source": [
    "### Split on train/val dataset\n",
    "The validation set in the original dataset consists of only 16 images. Let's enlarge it by moving some of the images from training dataset.\n",
    "\n",
    "A general rule is to spilt dataset on train, validation and test sets in proportion: 70-80%:10-20%:5-10%"
   ]
  },
  {
   "cell_type": "markdown",
   "metadata": {},
   "source": [
    "Run the next two cells only once, if you haven't already enlarged the validation dataset."
   ]
  },
  {
   "cell_type": "code",
   "execution_count": null,
   "metadata": {},
   "outputs": [],
   "source": [
    "val_proportion = 0.15\n",
    "random_nums_pneumonia = random.sample(range(num_train_pneumonia), int(num_train_pneumonia * val_proportion))\n",
    "random_nums_normal= random.sample(range(num_train_normal), int(num_train_normal * val_proportion))"
   ]
  },
  {
   "cell_type": "code",
   "execution_count": null,
   "metadata": {},
   "outputs": [],
   "source": [
    "for num in random_nums_pneumonia:\n",
    "    shutil.move(os.path.join(train_dir, 'PNEUMONIA', train_imgs_pneumonia[num]), os.path.join(val_dir, 'PNEUMONIA'))\n",
    "\n",
    "for num in random_nums_normal:\n",
    "    shutil.move(os.path.join(train_dir, 'NORMAL', train_imgs_normal[num]), os.path.join(val_dir, 'NORMAL'))"
   ]
  },
  {
   "cell_type": "code",
   "execution_count": null,
   "metadata": {},
   "outputs": [],
   "source": [
    "train_imgs_pneumonia = os.listdir(os.path.join(train_dir, 'PNEUMONIA'))\n",
    "train_imgs_normal = os.listdir(os.path.join(train_dir, 'NORMAL'))\n",
    "num_train_pneumonia = len(train_imgs_pneumonia)\n",
    "num_train_normal = len(train_imgs_normal)\n",
    "print(\"Train set:\")\n",
    "print(f\"PNEUMONIA={num_train_pneumonia}\")\n",
    "print(f\"NORMAL={num_train_normal}\")\n",
    "print(\"========================================\")\n",
    "\n",
    "test_imgs_pneumonia = os.listdir(os.path.join(test_dir, 'PNEUMONIA'))\n",
    "test_imgs_normal = os.listdir(os.path.join(test_dir, 'NORMAL'))\n",
    "num_test_pneumonia = len(test_imgs_pneumonia)\n",
    "num_test_normal = len(test_imgs_normal)\n",
    "print(\"Test set:\")\n",
    "print(f\"PNEUMONIA={num_test_pneumonia}\")\n",
    "print(f\"NORMAL={num_test_normal}\")\n",
    "print(\"========================================\")\n",
    "\n",
    "val_imgs_pneumonia = os.listdir(os.path.join(val_dir, 'PNEUMONIA'))\n",
    "val_imgs_normal = os.listdir(os.path.join(val_dir, 'NORMAL'))\n",
    "num_val_pneumonia = len(val_imgs_pneumonia)\n",
    "num_val_normal = len(val_imgs_normal)\n",
    "print(\"Validation set:\")\n",
    "print(f\"PNEUMONIA={num_val_pneumonia}\")\n",
    "print(f\"NORMAL={num_val_normal}\")\n",
    "print(\"========================================\")"
   ]
  },
  {
   "cell_type": "markdown",
   "metadata": {},
   "source": [
    "### Visualise images"
   ]
  },
  {
   "cell_type": "code",
   "execution_count": null,
   "metadata": {},
   "outputs": [],
   "source": [
    "pneumonia = os.listdir(\"input/chest_xray/train/PNEUMONIA\")\n",
    "pneumonia_dir = \"input/chest_xray/train/PNEUMONIA\"\n",
    "\n",
    "plt.figure(figsize=(20, 10))\n",
    "\n",
    "for i in range(9):\n",
    "    plt.subplot(3, 3, i + 1)\n",
    "    img = plt.imread(os.path.join(pneumonia_dir, pneumonia[i]))\n",
    "    plt.imshow(img, cmap='gray')\n",
    "    plt.axis('off')\n",
    "    \n",
    "plt.tight_layout()"
   ]
  },
  {
   "cell_type": "code",
   "execution_count": null,
   "metadata": {
    "execution": {
     "iopub.execute_input": "2021-10-01T08:08:01.428941Z",
     "iopub.status.busy": "2021-10-01T08:08:01.427878Z",
     "iopub.status.idle": "2021-10-01T08:08:03.576799Z",
     "shell.execute_reply": "2021-10-01T08:08:03.577367Z"
    },
    "papermill": {
     "duration": 2.212675,
     "end_time": "2021-10-01T08:08:03.577505",
     "exception": false,
     "start_time": "2021-10-01T08:08:01.364830",
     "status": "completed"
    },
    "tags": []
   },
   "outputs": [],
   "source": [
    "normal = os.listdir(\"input/chest_xray/train/NORMAL\")\n",
    "normal_dir = \"input/chest_xray/train/NORMAL\"\n",
    "\n",
    "plt.figure(figsize=(20, 10))\n",
    "\n",
    "for i in range(9):\n",
    "    plt.subplot(3, 3, i + 1)\n",
    "    img = plt.imread(os.path.join(normal_dir, normal[i]))\n",
    "    plt.imshow(img, cmap='gray')\n",
    "    plt.axis('off')\n",
    "    \n",
    "plt.tight_layout()"
   ]
  },
  {
   "cell_type": "markdown",
   "metadata": {},
   "source": [
    "### Image analysis"
   ]
  },
  {
   "cell_type": "markdown",
   "metadata": {},
   "source": [
    "Let's check some statisctics of the images in the dataset"
   ]
  },
  {
   "cell_type": "code",
   "execution_count": null,
   "metadata": {
    "execution": {
     "iopub.execute_input": "2021-10-01T08:08:03.718979Z",
     "iopub.status.busy": "2021-10-01T08:08:03.718001Z",
     "iopub.status.idle": "2021-10-01T08:08:04.095663Z",
     "shell.execute_reply": "2021-10-01T08:08:04.095118Z"
    },
    "papermill": {
     "duration": 0.451077,
     "end_time": "2021-10-01T08:08:04.095827",
     "exception": false,
     "start_time": "2021-10-01T08:08:03.644750",
     "status": "completed"
    },
    "tags": []
   },
   "outputs": [],
   "source": [
    "normal_img = os.listdir(\"input/chest_xray/train/NORMAL\")[0]\n",
    "normal_dir = \"input/chest_xray/train/NORMAL\"\n",
    "sample_img = plt.imread(os.path.join(normal_dir, normal_img))\n",
    "plt.imshow(sample_img, cmap='gray')\n",
    "plt.colorbar()\n",
    "plt.title('Raw Chest X Ray Image')\n",
    "\n",
    "print(f\"The dimensions of the image are {sample_img.shape[0]} pixels width and {sample_img.shape[1]} pixels height, one single color channel.\")\n",
    "print(f\"The maximum pixel value is {sample_img.max():.4f} and the minimum is {sample_img.min():.4f}\")\n",
    "print(f\"The mean value of the pixels is {sample_img.mean():.4f} and the standard deviation is {sample_img.std():.4f}\")"
   ]
  },
  {
   "cell_type": "markdown",
   "metadata": {
    "papermill": {
     "duration": 0.078844,
     "end_time": "2021-10-01T08:08:04.245381",
     "exception": false,
     "start_time": "2021-10-01T08:08:04.166537",
     "status": "completed"
    },
    "tags": []
   },
   "source": [
    "### Ivestigate pixel value distribution"
   ]
  },
  {
   "cell_type": "code",
   "execution_count": null,
   "metadata": {
    "execution": {
     "iopub.execute_input": "2021-10-01T08:08:04.392925Z",
     "iopub.status.busy": "2021-10-01T08:08:04.391743Z",
     "iopub.status.idle": "2021-10-01T08:08:04.776656Z",
     "shell.execute_reply": "2021-10-01T08:08:04.777140Z"
    },
    "papermill": {
     "duration": 0.462122,
     "end_time": "2021-10-01T08:08:04.777294",
     "exception": false,
     "start_time": "2021-10-01T08:08:04.315172",
     "status": "completed"
    },
    "tags": []
   },
   "outputs": [],
   "source": [
    "sns.distplot(sample_img.ravel(),\n",
    "            label=f\"Pixel Mean {np.mean(sample_img):.4f} & Standard Deviation {np.std(sample_img):.4f}\", kde=False)\n",
    "plt.legend(loc='upper center')\n",
    "plt.title('Distribution of Pixel Intensities in the Image')\n",
    "plt.xlabel('Pixel Intensity')\n",
    "plt.ylabel('# Pixels in Image')"
   ]
  },
  {
   "cell_type": "markdown",
   "metadata": {
    "papermill": {
     "duration": 0.070126,
     "end_time": "2021-10-01T08:08:04.915912",
     "exception": false,
     "start_time": "2021-10-01T08:08:04.845786",
     "status": "completed"
    },
    "tags": []
   },
   "source": [
    "## Part 4:  Data Preprocessing\n",
    "Before training, we'll modify images to be better suited for training a convolutional neural network. For this task we'll use the Keras ImageDataGenerator function to perform data preprocessing and data augmentation.\n",
    "\n",
    "This class also provides support for basic data augmentation such as random horizontal flipping of images.\n",
    "We also use the generator to transform the values in each batch so that their mean is 0 and their standard deviation is 1 (this will faciliate model training by standardizing the input distribution).\n",
    "The generator also converts our single channel X-ray images (gray-scale) to a three-channel format by repeating the values in the image across all channels (we will want this because the pre-trained model that we'll use requires three-channel inputs)."
   ]
  },
  {
   "cell_type": "code",
   "execution_count": null,
   "metadata": {
    "execution": {
     "iopub.execute_input": "2021-10-01T08:08:05.065359Z",
     "iopub.status.busy": "2021-10-01T08:08:05.064335Z",
     "iopub.status.idle": "2021-10-01T08:08:05.120102Z",
     "shell.execute_reply": "2021-10-01T08:08:05.119498Z"
    },
    "papermill": {
     "duration": 0.131697,
     "end_time": "2021-10-01T08:08:05.120234",
     "exception": false,
     "start_time": "2021-10-01T08:08:04.988537",
     "status": "completed"
    },
    "tags": []
   },
   "outputs": [],
   "source": [
    "from keras.preprocessing.image import ImageDataGenerator\n",
    "\n",
    "image_generator = ImageDataGenerator(\n",
    "    rotation_range=20,\n",
    "    width_shift_range=0.1,\n",
    "    shear_range=0.1,\n",
    "    zoom_range=0.1,\n",
    "    samplewise_center=True,\n",
    "    samplewise_std_normalization=True\n",
    ")"
   ]
  },
  {
   "cell_type": "markdown",
   "metadata": {
    "papermill": {
     "duration": 0.067628,
     "end_time": "2021-10-01T08:08:05.255678",
     "exception": false,
     "start_time": "2021-10-01T08:08:05.188050",
     "status": "completed"
    },
    "tags": []
   },
   "source": [
    "### Build a separate generator for valid and test sets\n",
    "\n",
    "Now we need to build a new generator for validation and testing data.\n",
    "\n",
    "Why can't use the same generator as for the training data?\n",
    "\n",
    "Look back at the generator we wrote for the training data.\n",
    "\n",
    "It normalizes each image per batch, meaning that it uses batch statistics.\n",
    "We should not do this with the test and validation data, since in a real life scenario we don't process incoming images a batch at a time (we process one image at a time).\n",
    "Knowing the average per batch of test data would effectively give our model an advantage (The model should not have any information about the test data).\n",
    "What we need to do is to normalize incomming test data using the statistics computed from the training set."
   ]
  },
  {
   "cell_type": "code",
   "execution_count": null,
   "metadata": {
    "execution": {
     "iopub.execute_input": "2021-10-01T08:08:05.405563Z",
     "iopub.status.busy": "2021-10-01T08:08:05.404933Z",
     "iopub.status.idle": "2021-10-01T08:08:07.985754Z",
     "shell.execute_reply": "2021-10-01T08:08:07.984914Z"
    },
    "papermill": {
     "duration": 2.65696,
     "end_time": "2021-10-01T08:08:07.985903",
     "exception": false,
     "start_time": "2021-10-01T08:08:05.328943",
     "status": "completed"
    },
    "tags": []
   },
   "outputs": [],
   "source": [
    "train = image_generator.flow_from_directory(train_dir, \n",
    "                                            batch_size=8, \n",
    "                                            shuffle=True, \n",
    "                                            class_mode='binary',\n",
    "                                            target_size=(180, 180))\n",
    "\n",
    "validation = image_generator.flow_from_directory(val_dir, \n",
    "                                                batch_size=1, \n",
    "                                                shuffle=False, \n",
    "                                                class_mode='binary',\n",
    "                                                target_size=(180, 180))\n",
    "\n",
    "test = image_generator.flow_from_directory(test_dir, \n",
    "                                            batch_size=1, \n",
    "                                            shuffle=False, \n",
    "                                            class_mode='binary',\n",
    "                                            target_size=(180, 180))"
   ]
  },
  {
   "cell_type": "code",
   "execution_count": null,
   "metadata": {
    "execution": {
     "iopub.execute_input": "2021-10-01T08:08:08.142094Z",
     "iopub.status.busy": "2021-10-01T08:08:08.141365Z",
     "iopub.status.idle": "2021-10-01T08:08:08.717066Z",
     "shell.execute_reply": "2021-10-01T08:08:08.716334Z"
    },
    "papermill": {
     "duration": 0.656938,
     "end_time": "2021-10-01T08:08:08.717182",
     "exception": false,
     "start_time": "2021-10-01T08:08:08.060244",
     "status": "completed"
    },
    "tags": []
   },
   "outputs": [],
   "source": [
    "sns.set_style('white')\n",
    "generated_image, label = train.__getitem__(0)\n",
    "plt.imshow(generated_image[0], cmap='gray')\n",
    "plt.colorbar()\n",
    "plt.title('Raw Chest X Ray Image')\n",
    "\n",
    "print(f\"The dimensions of the image are {generated_image.shape[1]} pixels width and {generated_image.shape[2]} pixels height, one single color channel.\")\n",
    "print(f\"The maximum pixel value is {generated_image.max():.4f} and the minimum is {generated_image.min():.4f}\")\n",
    "print(f\"The mean value of the pixels is {generated_image.mean():.4f} and the standard deviation is {generated_image.std():.4f}\")"
   ]
  },
  {
   "cell_type": "code",
   "execution_count": null,
   "metadata": {
    "execution": {
     "iopub.execute_input": "2021-10-01T08:08:08.874266Z",
     "iopub.status.busy": "2021-10-01T08:08:08.873043Z",
     "iopub.status.idle": "2021-10-01T08:08:09.503486Z",
     "shell.execute_reply": "2021-10-01T08:08:09.505031Z"
    },
    "papermill": {
     "duration": 0.713587,
     "end_time": "2021-10-01T08:08:09.505594",
     "exception": false,
     "start_time": "2021-10-01T08:08:08.792007",
     "status": "completed"
    },
    "tags": []
   },
   "outputs": [],
   "source": [
    "sns.distplot(generated_image.ravel(),\n",
    "            label=f\"Pixel Mean {np.mean(generated_image):.4f} & Standard Deviation {np.std(generated_image):.4f}\", kde=False)\n",
    "plt.legend(loc='upper center')\n",
    "plt.title('Distribution of Pixel Intensities in the Image')\n",
    "plt.xlabel('Pixel Intensity')\n",
    "plt.ylabel('# Pixels in Image')"
   ]
  },
  {
   "cell_type": "markdown",
   "metadata": {
    "papermill": {
     "duration": 0.161338,
     "end_time": "2021-10-01T08:08:09.811009",
     "exception": false,
     "start_time": "2021-10-01T08:08:09.649671",
     "status": "completed"
    },
    "tags": []
   },
   "source": [
    "## Part 5:  Building a CNN model\n",
    "\n",
    "### Pneumonia Detection with Convolutional Neural Networks\n",
    "Computer Vision can be performed using Convolutional neural networks (CNN). They are neural networks which perform features extraction over an image before classifying it. The feature extraction performed consists of three basic operations:\n",
    "\n",
    "* Filter an image for a particular feature (convolution)\n",
    "* Detect that feature within the filtered image (using the ReLU activation)\n",
    "* Condense the image to enhance the features (maximum pooling)\n",
    "\n",
    "### The convolution process is illustrated below\n",
    "\n",
    "![download.png](media/convolution.png)\n",
    "\n",
    "Using convolution filters with different dimensions or values results in differents features extracted\n",
    "\n",
    "Features are then detected using the reLu activation on each destination pixel.\n",
    "\n",
    "![download1.png](media/relu.png)\n",
    "\n",
    "Features are the enhanced with MaxPool layers\n",
    "![download2.png](media/maxpool.png)\n",
    "\n",
    "The outputs are then concatened in Dense layers\n",
    "\n",
    "![download4.png](media/dense.png)\n",
    "\n",
    "By using a sigmoid activation, the neural network determines which class the image belongs to\n",
    "![download5.png](media/sigmoid.png)\n"
   ]
  },
  {
   "cell_type": "code",
   "execution_count": null,
   "metadata": {},
   "outputs": [],
   "source": [
    "from keras.models import Sequential\n",
    "from keras.layers import Dense, Conv2D, MaxPool2D, Dropout, Flatten, BatchNormalization\n",
    "\n",
    "model = Sequential()\n",
    "\n",
    "model.add(Conv2D(filters=32, kernel_size=(3, 3), input_shape=(180, 180, 3), activation='relu'))\n",
    "model.add(MaxPool2D(pool_size=(2, 2)))\n",
    "\n",
    "model.add(Conv2D(filters=64, kernel_size=(3, 3), activation='relu'))\n",
    "model.add(MaxPool2D(pool_size=(2, 2)))\n",
    "\n",
    "model.add(Flatten())\n",
    "model.add(Dense(128, activation='relu'))\n",
    "\n",
    "model.add(Dense(1, activation='sigmoid'))\n"
   ]
  },
  {
   "cell_type": "markdown",
   "metadata": {},
   "source": [
    "The model is compiled using the following code:"
   ]
  },
  {
   "cell_type": "code",
   "execution_count": null,
   "metadata": {},
   "outputs": [],
   "source": [
    "model.compile(loss='binary_crossentropy', \n",
    "              optimizer='adam', \n",
    "              metrics=['accuracy'])"
   ]
  },
  {
   "cell_type": "markdown",
   "metadata": {},
   "source": [
    "This tells the model how to learn. We're using “binary_crossentropy” as the loss to minimise as the output is binary (pneumonia or nomal, 1 or 0)."
   ]
  },
  {
   "cell_type": "code",
   "execution_count": null,
   "metadata": {
    "execution": {
     "iopub.execute_input": "2021-10-01T08:08:13.532157Z",
     "iopub.status.busy": "2021-10-01T08:08:13.527198Z",
     "iopub.status.idle": "2021-10-01T08:08:13.542475Z",
     "shell.execute_reply": "2021-10-01T08:08:13.543778Z"
    },
    "papermill": {
     "duration": 0.100459,
     "end_time": "2021-10-01T08:08:13.544008",
     "exception": false,
     "start_time": "2021-10-01T08:08:13.443549",
     "status": "completed"
    },
    "tags": []
   },
   "outputs": [],
   "source": [
    "model.summary()"
   ]
  },
  {
   "cell_type": "markdown",
   "metadata": {},
   "source": [
    "### Impact of imbalance data on loss function\n",
    "\n",
    "Loss Function:\n",
    "$$\\mathcal{L}_{cross-entropy}(x_i) = -(y_i \\log(f(x_i)) + (1-y_i) \\log(1-f(x_i))),$$\n",
    "\n",
    "We can rewrite the the overall average cross-entropy loss over the entire training set `D` of size `N` as follows:\n",
    "$$\\mathcal{L}_{cross-entropy}(\\mathcal{D}) = - \\frac{1}{N}\\big( \\sum_{\\text{positive examples}} \\log (f(x_i)) + \\sum_{\\text{negative examples}} \\log(1-f(x_i)) \\big).$$\n",
    "\n",
    "\n",
    "\n",
    "When we have an imbalance data, using a normal loss function will result a model that bias toward the dominating class. One solution is to use a weighted loss function. Using a weighted loss function will balance the contribution in the loss function.\n",
    "\n",
    "$$\\mathcal{L}_{cross-entropy}^{w}(x) = - (w_{p} y \\log(f(x)) + w_{n}(1-y) \\log( 1 - f(x) ) ).$$"
   ]
  },
  {
   "cell_type": "code",
   "execution_count": null,
   "metadata": {},
   "outputs": [],
   "source": [
    "# Class weights\n",
    "\n",
    "weight_for_0 = num_train_pneumonia / (num_train_normal + num_train_pneumonia)\n",
    "weight_for_1 = num_train_normal / (num_train_normal + num_train_pneumonia)\n",
    "\n",
    "class_weight = {0: weight_for_0, 1: weight_for_1}\n",
    "\n",
    "print(f\"Weight for class 0: {weight_for_0:.2f}\")\n",
    "print(f\"Weight for class 1: {weight_for_1:.2f}\")"
   ]
  },
  {
   "cell_type": "markdown",
   "metadata": {},
   "source": [
    "The model is then run with the **model.fit** method:"
   ]
  },
  {
   "cell_type": "code",
   "execution_count": null,
   "metadata": {
    "execution": {
     "iopub.execute_input": "2021-10-01T08:08:13.704447Z",
     "iopub.status.busy": "2021-10-01T08:08:13.703802Z",
     "iopub.status.idle": "2021-10-01T08:11:28.296171Z",
     "shell.execute_reply": "2021-10-01T08:11:28.295523Z"
    },
    "papermill": {
     "duration": 194.675798,
     "end_time": "2021-10-01T08:11:28.296286",
     "exception": false,
     "start_time": "2021-10-01T08:08:13.620488",
     "status": "completed"
    },
    "tags": []
   },
   "outputs": [],
   "source": [
    "r = model.fit(\n",
    "    train, \n",
    "    epochs=10,\n",
    "    validation_data=validation, \n",
    "    class_weight=class_weight,\n",
    "    steps_per_epoch=100,\n",
    "    validation_steps=25,\n",
    ")"
   ]
  },
  {
   "cell_type": "code",
   "execution_count": null,
   "metadata": {
    "execution": {
     "iopub.execute_input": "2021-10-01T08:11:29.124714Z",
     "iopub.status.busy": "2021-10-01T08:11:29.118098Z",
     "iopub.status.idle": "2021-10-01T08:11:29.689814Z",
     "shell.execute_reply": "2021-10-01T08:11:29.690399Z"
    },
    "papermill": {
     "duration": 0.986044,
     "end_time": "2021-10-01T08:11:29.690533",
     "exception": false,
     "start_time": "2021-10-01T08:11:28.704489",
     "status": "completed"
    },
    "tags": []
   },
   "outputs": [],
   "source": [
    "plt.figure(figsize=(12, 8))\n",
    "\n",
    "plt.subplot(2, 2, 1)\n",
    "plt.plot(r.history['loss'], label='Loss')\n",
    "plt.plot(r.history['val_loss'], label='Val_Loss')\n",
    "plt.legend()\n",
    "plt.title('Loss Evolution')\n",
    "\n",
    "plt.subplot(2, 2, 2)\n",
    "plt.plot(r.history['accuracy'], label='Accuracy')\n",
    "plt.plot(r.history['val_accuracy'], label='Val_Accuracy')\n",
    "plt.legend()\n",
    "plt.title('Accuracy Evolution')"
   ]
  },
  {
   "cell_type": "code",
   "execution_count": null,
   "metadata": {
    "execution": {
     "iopub.execute_input": "2021-10-01T08:11:30.551586Z",
     "iopub.status.busy": "2021-10-01T08:11:30.550988Z",
     "iopub.status.idle": "2021-10-01T08:13:29.208962Z",
     "shell.execute_reply": "2021-10-01T08:13:29.209751Z"
    },
    "papermill": {
     "duration": 119.078889,
     "end_time": "2021-10-01T08:13:29.209972",
     "exception": false,
     "start_time": "2021-10-01T08:11:30.131083",
     "status": "completed"
    },
    "tags": []
   },
   "outputs": [],
   "source": [
    "evaluation = model.evaluate(test)\n",
    "print(f\"Test Accuracy: {evaluation[1] * 100:.2f}%\")\n",
    "\n",
    "evaluation = model.evaluate(train)\n",
    "print(f\"Train Accuracy: {evaluation[1] * 100:.2f}%\")"
   ]
  },
  {
   "cell_type": "code",
   "execution_count": null,
   "metadata": {
    "execution": {
     "iopub.execute_input": "2021-10-01T08:13:30.640512Z",
     "iopub.status.busy": "2021-10-01T08:13:30.639211Z",
     "iopub.status.idle": "2021-10-01T08:13:41.187085Z",
     "shell.execute_reply": "2021-10-01T08:13:41.187595Z"
    },
    "papermill": {
     "duration": 11.264431,
     "end_time": "2021-10-01T08:13:41.187746",
     "exception": false,
     "start_time": "2021-10-01T08:13:29.923315",
     "status": "completed"
    },
    "tags": []
   },
   "outputs": [],
   "source": [
    "from sklearn.metrics import confusion_matrix, classification_report\n",
    "\n",
    "pred = model.predict(test)\n",
    "\n",
    "print(confusion_matrix(test.classes, pred > 0.5))\n",
    "pd.DataFrame(classification_report(test.classes, pred > 0.5, output_dict=True))"
   ]
  },
  {
   "cell_type": "code",
   "execution_count": null,
   "metadata": {
    "execution": {
     "iopub.execute_input": "2021-10-01T08:13:42.654390Z",
     "iopub.status.busy": "2021-10-01T08:13:42.653752Z",
     "iopub.status.idle": "2021-10-01T08:13:42.678686Z",
     "shell.execute_reply": "2021-10-01T08:13:42.678137Z"
    },
    "papermill": {
     "duration": 0.751475,
     "end_time": "2021-10-01T08:13:42.678844",
     "exception": false,
     "start_time": "2021-10-01T08:13:41.927369",
     "status": "completed"
    },
    "tags": []
   },
   "outputs": [],
   "source": [
    "print(confusion_matrix(test.classes, pred > 0.7))\n",
    "pd.DataFrame(classification_report(test.classes, pred > 0.7, output_dict=True))"
   ]
  },
  {
   "cell_type": "markdown",
   "metadata": {
    "papermill": {
     "duration": 0.710028,
     "end_time": "2021-10-01T08:13:44.130217",
     "exception": false,
     "start_time": "2021-10-01T08:13:43.420189",
     "status": "completed"
    },
    "tags": []
   },
   "source": [
    "## Part 6:  Transfer Learning\n"
   ]
  },
  {
   "cell_type": "markdown",
   "metadata": {},
   "source": [
    "Transfer learning is a machine learning technique where a model trained on one task is re-purposed on a second related task.\n",
    "\n",
    "### The tranfer learning process is illustrated below\n",
    "\n",
    "![download.png](media/transfer_learning.png)"
   ]
  },
  {
   "attachments": {
    "download7.png": {
     "image/png": "[encoded data removed]"
    }
   },
   "cell_type": "markdown",
   "metadata": {
    "papermill": {
     "duration": 1.743608,
     "end_time": "2021-10-01T08:19:54.249938",
     "exception": false,
     "start_time": "2021-10-01T08:19:52.506330",
     "status": "completed"
    },
    "tags": []
   },
   "source": [
    "### VGG16\n",
    "Presented in 2014, VGG16 has a very simple and classical architecture, with blocks of 2 or 3 convolutional layers followed by a pooling layer, plus a final dense network composed of 2 hidden layers (of 4096 nodes each) and one output layer (of 1000 nodes). Only 3x3 filters are used.\n",
    "\n",
    "![download7.png](attachment:download7.png)"
   ]
  },
  {
   "cell_type": "markdown",
   "metadata": {},
   "source": [
    "First we load already pre-trained VGG16 on the ImageNet dataset.\n",
    "\n",
    "You can read more about the ImageNet dataset here: https://paperswithcode.com/dataset/imagenet\n",
    "\n",
    "Also we make the weights inside this CNN non-trainable, so during training they will not be updated. This will allow as to train model much faster"
   ]
  },
  {
   "cell_type": "code",
   "execution_count": null,
   "metadata": {
    "execution": {
     "iopub.execute_input": "2021-10-01T08:19:57.181629Z",
     "iopub.status.busy": "2021-10-01T08:19:57.180304Z",
     "iopub.status.idle": "2021-10-01T08:19:58.195347Z",
     "shell.execute_reply": "2021-10-01T08:19:58.194664Z"
    },
    "papermill": {
     "duration": 2.501431,
     "end_time": "2021-10-01T08:19:58.195475",
     "exception": false,
     "start_time": "2021-10-01T08:19:55.694044",
     "status": "completed"
    },
    "tags": []
   },
   "outputs": [],
   "source": [
    "from keras.models import Sequential\n",
    "from keras.layers import GlobalAveragePooling2D\n",
    "from keras.layers import Dense\n",
    "from keras.models import Model\n",
    "from keras import backend as K\n",
    "from keras.applications import VGG16\n",
    "\n",
    "\n",
    "vgg16_base_model = VGG16(input_shape=(180,180,3),include_top=False,weights='imagenet')\n",
    "vgg16_base_model.trainable = False\n",
    "    \n"
   ]
  },
  {
   "cell_type": "code",
   "execution_count": null,
   "metadata": {
    "execution": {
     "iopub.execute_input": "2021-10-01T08:20:01.716309Z",
     "iopub.status.busy": "2021-10-01T08:20:01.714370Z",
     "iopub.status.idle": "2021-10-01T08:20:01.721071Z",
     "shell.execute_reply": "2021-10-01T08:20:01.717384Z"
    },
    "papermill": {
     "duration": 2.012852,
     "end_time": "2021-10-01T08:20:01.721276",
     "exception": false,
     "start_time": "2021-10-01T08:19:59.708424",
     "status": "completed"
    },
    "tags": []
   },
   "outputs": [],
   "source": [
    "vgg16_base_model.summary()"
   ]
  },
  {
   "cell_type": "code",
   "execution_count": null,
   "metadata": {},
   "outputs": [],
   "source": [
    "layers = vgg16_base_model.layers\n",
    "print(f\"The model has {len(layers)} layers\")"
   ]
  },
  {
   "cell_type": "code",
   "execution_count": null,
   "metadata": {},
   "outputs": [],
   "source": [
    "print(f\"The input shape {vgg16_base_model.input}\")\n",
    "print(f\"The output shape {vgg16_base_model.output}\")"
   ]
  },
  {
   "cell_type": "markdown",
   "metadata": {},
   "source": [
    "On top of base VGG16 model with non-trainable weights we add more layers which will be trainable."
   ]
  },
  {
   "cell_type": "code",
   "execution_count": null,
   "metadata": {
    "execution": {
     "iopub.execute_input": "2021-10-01T08:20:04.797232Z",
     "iopub.status.busy": "2021-10-01T08:20:04.796040Z",
     "iopub.status.idle": "2021-10-01T08:20:05.130972Z",
     "shell.execute_reply": "2021-10-01T08:20:05.130371Z"
    },
    "papermill": {
     "duration": 2.033116,
     "end_time": "2021-10-01T08:20:05.131135",
     "exception": false,
     "start_time": "2021-10-01T08:20:03.098019",
     "status": "completed"
    },
    "tags": []
   },
   "outputs": [],
   "source": [
    "\n",
    "vgg16_model = tf.keras.Sequential([\n",
    "        vgg16_base_model,\n",
    "        GlobalAveragePooling2D(),\n",
    "        Dense(512, activation=\"relu\"),\n",
    "        Dense(128, activation=\"relu\"),\n",
    "        Dense(64, activation=\"relu\"),\n",
    "        Dense(1,activation=\"sigmoid\")\n",
    "    ])"
   ]
  },
  {
   "cell_type": "code",
   "execution_count": null,
   "metadata": {
    "execution": {
     "iopub.execute_input": "2021-10-01T08:20:07.939729Z",
     "iopub.status.busy": "2021-10-01T08:20:07.938714Z",
     "iopub.status.idle": "2021-10-01T08:20:07.959886Z",
     "shell.execute_reply": "2021-10-01T08:20:07.958879Z"
    },
    "papermill": {
     "duration": 1.418387,
     "end_time": "2021-10-01T08:20:07.960021",
     "exception": false,
     "start_time": "2021-10-01T08:20:06.541634",
     "status": "completed"
    },
    "tags": []
   },
   "outputs": [],
   "source": [
    "opt = tf.keras.optimizers.Adam(learning_rate=0.001)\n",
    "METRICS = [\n",
    "        'accuracy',\n",
    "        tf.keras.metrics.Precision(name='precision'),\n",
    "        tf.keras.metrics.Recall(name='recall')\n",
    "    ]\n",
    "vgg16_model.compile(optimizer=opt,loss='binary_crossentropy',metrics=METRICS)"
   ]
  },
  {
   "cell_type": "code",
   "execution_count": null,
   "metadata": {
    "execution": {
     "iopub.execute_input": "2021-10-01T08:20:10.749302Z",
     "iopub.status.busy": "2021-10-01T08:20:10.748584Z",
     "iopub.status.idle": "2021-10-01T08:23:05.402906Z",
     "shell.execute_reply": "2021-10-01T08:23:05.401740Z"
    },
    "papermill": {
     "duration": 176.051017,
     "end_time": "2021-10-01T08:23:05.403027",
     "exception": false,
     "start_time": "2021-10-01T08:20:09.352010",
     "status": "completed"
    },
    "tags": []
   },
   "outputs": [],
   "source": [
    "r = vgg16_model.fit(train,\n",
    "          epochs=10,\n",
    "          validation_data=validation,\n",
    "          class_weight=class_weight,\n",
    "          steps_per_epoch=100,\n",
    "          validation_steps=25)\n",
    "\n"
   ]
  },
  {
   "cell_type": "code",
   "execution_count": null,
   "metadata": {
    "execution": {
     "iopub.execute_input": "2021-10-01T08:23:08.939246Z",
     "iopub.status.busy": "2021-10-01T08:23:08.935371Z",
     "iopub.status.idle": "2021-10-01T08:23:09.512611Z",
     "shell.execute_reply": "2021-10-01T08:23:09.513167Z"
    },
    "papermill": {
     "duration": 2.316887,
     "end_time": "2021-10-01T08:23:09.513323",
     "exception": false,
     "start_time": "2021-10-01T08:23:07.196436",
     "status": "completed"
    },
    "tags": []
   },
   "outputs": [],
   "source": [
    "plt.figure(figsize=(12, 8))\n",
    "\n",
    "plt.subplot(2, 2, 1)\n",
    "plt.plot(r.history['loss'], label='Loss')\n",
    "plt.plot(r.history['val_loss'], label='Val_Loss')\n",
    "plt.legend()\n",
    "plt.title('Loss Evolution')\n",
    "\n",
    "plt.subplot(2, 2, 2)\n",
    "plt.plot(r.history['accuracy'], label='Accuracy')\n",
    "plt.plot(r.history['val_accuracy'], label='Val_Accuracy')\n",
    "plt.legend()\n",
    "plt.title('Accuracy Evolution')"
   ]
  },
  {
   "cell_type": "code",
   "execution_count": null,
   "metadata": {
    "execution": {
     "iopub.execute_input": "2021-10-01T08:23:13.217550Z",
     "iopub.status.busy": "2021-10-01T08:23:13.216899Z",
     "iopub.status.idle": "2021-10-01T08:25:06.091977Z",
     "shell.execute_reply": "2021-10-01T08:25:06.092578Z"
    },
    "papermill": {
     "duration": 114.86146,
     "end_time": "2021-10-01T08:25:06.092740",
     "exception": false,
     "start_time": "2021-10-01T08:23:11.231280",
     "status": "completed"
    },
    "tags": []
   },
   "outputs": [],
   "source": [
    "evaluation =vgg16_model.evaluate(test)\n",
    "print(f\"Test Accuracy: {evaluation[1] * 100:.2f}%\")\n",
    "\n",
    "evaluation = vgg16_model.evaluate(train)\n",
    "print(f\"Train Accuracy: {evaluation[1] * 100:.2f}%\")"
   ]
  },
  {
   "cell_type": "markdown",
   "metadata": {},
   "source": [
    "### Evaluation"
   ]
  },
  {
   "cell_type": "code",
   "execution_count": null,
   "metadata": {},
   "outputs": [],
   "source": [
    "predicted_vals = model.predict(test, steps=len(test))"
   ]
  },
  {
   "cell_type": "code",
   "execution_count": null,
   "metadata": {},
   "outputs": [],
   "source": [
    "print(confusion_matrix(test.classes, predicted_vals > 0.5))\n",
    "pd.DataFrame(classification_report(test.classes, predicted_vals > 0.5, output_dict=True))"
   ]
  },
  {
   "cell_type": "markdown",
   "metadata": {},
   "source": [
    "### DenseNet\n",
    "Densenet is a convolutional network where each layer is connected to all other layers that are deeper in the network:\n",
    "\n",
    "* The first layer is connected to the 2nd, 3rd, 4th etc.\n",
    "* The second layer is conected to the 3rd, 4th, 5th etc.\n",
    "\n",
    "For more information about the DenseNet Architecture visit this website : https://keras.io/api/applications/densenet/"
   ]
  },
  {
   "cell_type": "code",
   "execution_count": null,
   "metadata": {},
   "outputs": [],
   "source": [
    "from keras.applications.densenet import DenseNet121\n",
    "base_model = DenseNet121(input_shape=(180, 180, 3), include_top=False, weights='imagenet', pooling='avg')\n",
    "\n",
    "base_model.summary()"
   ]
  },
  {
   "cell_type": "markdown",
   "metadata": {
    "papermill": {
     "duration": 2.009,
     "end_time": "2021-10-01T08:25:10.125005",
     "exception": false,
     "start_time": "2021-10-01T08:25:08.116005",
     "status": "completed"
    },
    "tags": []
   },
   "source": [
    "### ResNet\n",
    "\n",
    "See the full explanation and schemes in the Research Paper on Deep Residual Learning (https://arxiv.org/pdf/1512.03385.pdf)"
   ]
  },
  {
   "cell_type": "code",
   "execution_count": null,
   "metadata": {
    "execution": {
     "iopub.execute_input": "2021-10-01T08:25:14.616678Z",
     "iopub.status.busy": "2021-10-01T08:25:14.615545Z",
     "iopub.status.idle": "2021-10-01T08:25:19.143057Z",
     "shell.execute_reply": "2021-10-01T08:25:19.141695Z"
    },
    "papermill": {
     "duration": 6.978364,
     "end_time": "2021-10-01T08:25:19.143215",
     "exception": false,
     "start_time": "2021-10-01T08:25:12.164851",
     "status": "completed"
    },
    "tags": []
   },
   "outputs": [],
   "source": [
    "from keras.applications import ResNet50"
   ]
  },
  {
   "cell_type": "markdown",
   "metadata": {
    "papermill": {
     "duration": 2.682087,
     "end_time": "2021-10-01T08:30:53.036043",
     "exception": false,
     "start_time": "2021-10-01T08:30:50.353956",
     "status": "completed"
    },
    "tags": []
   },
   "source": [
    "### InceptionNet\n",
    "Also known as GoogleNet, this architecture presents sub-networks called inception modules, which allows fast training computing, complex patterns detection, and optimal use of parameters\n",
    "\n",
    "for more information visit https://static.googleusercontent.com/media/research.google.com/en//pubs/archive/43022.pdf\n",
    "\n"
   ]
  },
  {
   "cell_type": "code",
   "execution_count": null,
   "metadata": {
    "execution": {
     "iopub.execute_input": "2021-10-01T08:30:58.765938Z",
     "iopub.status.busy": "2021-10-01T08:30:58.764849Z",
     "iopub.status.idle": "2021-10-01T08:31:06.330018Z",
     "shell.execute_reply": "2021-10-01T08:31:06.329353Z"
    },
    "papermill": {
     "duration": 10.320152,
     "end_time": "2021-10-01T08:31:06.330135",
     "exception": false,
     "start_time": "2021-10-01T08:30:56.009983",
     "status": "completed"
    },
    "tags": []
   },
   "outputs": [],
   "source": [
    "from keras.applications import InceptionV3\n"
   ]
  },
  {
   "cell_type": "markdown",
   "metadata": {},
   "source": [
    "## Next Steps"
   ]
  },
  {
   "cell_type": "markdown",
   "metadata": {},
   "source": [
    "Have a go at modifying our first model, including:\n",
    "\n",
    "- Different layers (BatchNormalisation, Dropout). More info about available layers: https://www.tensorflow.org/api_docs/python/tf/keras/layers\n",
    "- Different hyperparameters (such as different learning rates and number of layers, etc.)\n",
    "- Diffrent augmentations\n",
    "- Different loss functions\n",
    "\n",
    "Also try to run transfer learning with other base models such as:\n",
    "- DenseNet\n",
    "- ResNet\n",
    "- InceptionNet"
   ]
  },
  {
   "cell_type": "markdown",
   "metadata": {},
   "source": [
    "Fill out the form below and we'll provide feedback on your code.\n",
    "\n",
    "**Any feedback on the exercise? Any questions? Want feedback on your code? Please fill out the form [here](https://docs.google.com/forms/d/e/1FAIpQLSdoOjVom8YKf11LxJ_bWN40afFMsWcoJ-xOrKhMbfBzgxTS9A/viewform).**"
   ]
  }
 ],
 "metadata": {
  "kernelspec": {
   "display_name": "data_science",
   "language": "python",
   "name": "data_science"
  },
  "language_info": {
   "codemirror_mode": {
    "name": "ipython",
    "version": 3
   },
   "file_extension": ".py",
   "mimetype": "text/x-python",
   "name": "python",
   "nbconvert_exporter": "python",
   "pygments_lexer": "ipython3",
   "version": "3.10.10"
  },
  "papermill": {
   "duration": 1750.89661,
   "end_time": "2021-10-01T08:36:59.301509",
   "environment_variables": {},
   "exception": null,
   "input_path": "__notebook__.ipynb",
   "output_path": "__notebook__.ipynb",
   "parameters": {},
   "start_time": "2021-10-01T08:07:48.404899",
   "version": "2.1.0"
  },
  "vscode": {
   "interpreter": {
    "hash": "904d4773530d91043a075207daf963b9534e32657296fd62ca55db6fa31f341b"
   }
  }
 },
 "nbformat": 4,
 "nbformat_minor": 4
}
