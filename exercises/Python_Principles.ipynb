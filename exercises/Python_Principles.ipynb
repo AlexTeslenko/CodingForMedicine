{
 "cells": [
  {
   "attachments": {},
   "cell_type": "markdown",
   "id": "c82d7193",
   "metadata": {},
   "source": [
    "# Python Principles\n"
   ]
  },
  {
   "attachments": {},
   "cell_type": "markdown",
   "id": "e2502982",
   "metadata": {},
   "source": [
    "**In this exercise, we will focus on the core python principles for you to do data science.**\n",
    "\n",
    "We will learn the words of Python called 'syntax', what data we can use and how to store it. Furthermore, we will learn how to manipulate and control that data. Lastly, we will help you structure your code to write a working python program. \n",
    "\n",
    "In this exercise, we will apply this knowledge through short and more challenging problems.\n",
    "\n",
    "In this exercise, we'll learn how to:\n",
    "\n",
    "- How to write python statements (Syntax)\n",
    "\n",
    "- How to store and manipulate data in Python\n",
    "\n",
    "- How to control where data flows through a program in Python\n",
    "\n",
    "- Be able to structure the code in Python\n",
    "\n",
    "- Be able to create a working program in Python\n",
    "\n",
    "By the end of this exercise, you will be confident in writing Python code and can approach any problem you encounter with a structure."
   ]
  },
  {
   "attachments": {},
   "cell_type": "markdown",
   "id": "a0e09066",
   "metadata": {},
   "source": [
    "## Part 1 Vocabulary and Syntax: \n",
    "\n",
    "This section will give you the vocabulary to describe code precisely as well as introducing you to way to write Python called Syntax. Some topics may require knowledge of things we haven't covered yet. Don't let this throw you. Below is the essential information you need for now and these topics will be discussed in a later section.\n",
    "\n"
   ]
  },
  {
   "attachments": {},
   "cell_type": "markdown",
   "id": "95450115",
   "metadata": {},
   "source": [
    "### Data Types \n",
    "\n",
    "The essence of most languages is to deal with data. The specific data we can use in Python are called **data types**. The type part of the phrase means that Python has rules on what can and can't be done with a piece of data. \n",
    "\n",
    "For example, to add integers (whole numbers) is specific to an integer data type but wouldn't make sense for other data types. Python does not allow you to do this and this constraint is implicitly a part of the data types we can use.\n",
    "\n",
    "A data type can be either primitive or non-primitive. Primitive data types are the simplest way to represent data in Python. \n",
    "\n",
    "Primitive data types\n",
    "1. Integer\n",
    "2. Float\n",
    "3. String \n",
    "4. Boolean \n",
    "5. None Type\n"
   ]
  },
  {
   "cell_type": "code",
   "execution_count": 6,
   "id": "c97be59c",
   "metadata": {},
   "outputs": [],
   "source": [
    "3 # Integer\n",
    "4.0 # Float\n",
    "\"Hello World\" # String\n",
    "True # boolean\n",
    "None # None Type"
   ]
  },
  {
   "attachments": {},
   "cell_type": "markdown",
   "id": "7c02b8d1",
   "metadata": {},
   "source": [
    "Run the cell below to discover some data and what its type is. Don't worry about what the code means for now. "
   ]
  },
  {
   "cell_type": "code",
   "execution_count": 8,
   "id": "2d83555a",
   "metadata": {},
   "outputs": [
    {
     "data": {
      "text/plain": [
       "float"
      ]
     },
     "execution_count": 8,
     "metadata": {},
     "output_type": "execute_result"
    }
   ],
   "source": [
    "type(3)"
   ]
  },
  {
   "cell_type": "code",
   "execution_count": 9,
   "id": "09f4ce8f",
   "metadata": {},
   "outputs": [
    {
     "data": {
      "text/plain": [
       "bool"
      ]
     },
     "execution_count": 9,
     "metadata": {},
     "output_type": "execute_result"
    }
   ],
   "source": [
    "type(True)"
   ]
  },
  {
   "attachments": {},
   "cell_type": "markdown",
   "id": "ef3477ca",
   "metadata": {},
   "source": [
    "Try in the cell below to find out the type \"Hello World\" is"
   ]
  },
  {
   "cell_type": "code",
   "execution_count": null,
   "id": "1de3ebdd",
   "metadata": {},
   "outputs": [],
   "source": []
  },
  {
   "attachments": {},
   "cell_type": "markdown",
   "id": "4d424a5e",
   "metadata": {},
   "source": [
    "\n",
    "Python also gives us non-primitive data types sometimes called collections. Non-primitive data types allow you to collect and modify data you may want later.\n",
    "\n",
    "Non-primitive data types\n",
    "1. Lists \n",
    "2. Dictionaries\n",
    "3. Sets\n",
    "4. Tuples"
   ]
  },
  {
   "cell_type": "code",
   "execution_count": null,
   "id": "35fce001",
   "metadata": {},
   "outputs": [],
   "source": [
    "[1,2,3,4,5] # List\n",
    "{ 'England': 'London', 'Scotland': 'Edinburgh', 'France': 'Paris'} # Dictionary\n",
    "{'England', 'Scotland','France'}\n",
    "(1,2,3,4,5) # Tuple "
   ]
  },
  {
   "cell_type": "code",
   "execution_count": 11,
   "id": "5c23acca",
   "metadata": {},
   "outputs": [
    {
     "data": {
      "text/plain": [
       "dict"
      ]
     },
     "execution_count": 11,
     "metadata": {},
     "output_type": "execute_result"
    }
   ],
   "source": [
    "type({ 'England': 'London', 'Scotland': 'Edinburgh', 'France': 'Paris'})"
   ]
  },
  {
   "cell_type": "code",
   "execution_count": 10,
   "id": "d30bf01b",
   "metadata": {},
   "outputs": [
    {
     "data": {
      "text/plain": [
       "list"
      ]
     },
     "execution_count": 10,
     "metadata": {},
     "output_type": "execute_result"
    }
   ],
   "source": [
    "type([1,2,3,4,5])"
   ]
  },
  {
   "attachments": {},
   "cell_type": "markdown",
   "id": "d3952bb1",
   "metadata": {},
   "source": [
    "Try for yourself in the cell below to find out what type the value (1,2,3,4,5) is"
   ]
  },
  {
   "cell_type": "code",
   "execution_count": null,
   "id": "904e034b",
   "metadata": {},
   "outputs": [],
   "source": []
  },
  {
   "attachments": {},
   "cell_type": "markdown",
   "id": "e376dd71",
   "metadata": {},
   "source": [
    "Don't worry about knowing what these all mean we will cover them in more detail later."
   ]
  },
  {
   "attachments": {},
   "cell_type": "markdown",
   "id": "930414f9",
   "metadata": {},
   "source": [
    "### Literals\n",
    "\n",
    "A term that comes up with data types is the term 'literal'. A literal is any notation that represents a fixed value in the code. When we talk about data types, a literal describes a value of that data type. \n",
    "\n",
    "To demonstrate this, an integer literal is an integer value that is explicit in your code. "
   ]
  },
  {
   "cell_type": "code",
   "execution_count": null,
   "id": "8c19ca85",
   "metadata": {},
   "outputs": [],
   "source": [
    "x = 5  # 5 is the integer literal"
   ]
  },
  {
   "attachments": {},
   "cell_type": "markdown",
   "id": "b2ac427c",
   "metadata": {},
   "source": [
    "### Data Structures\n",
    "\n",
    "Additionally, when talking about specific data types, you will come across the concept of a data structure. **A data structure**  is a way to organise data to allow for tasks to be performed most efficiently\n",
    "\n",
    "This is slightly different to a data type, in that a data type has a range of values that share all the same properties and focuses on representation of data. Some data structures can have a very specific way to handle data that isn't related to the data type.\n",
    "\n",
    "A list is an organised collection of data of possibly many different types in an ordered sequence. "
   ]
  },
  {
   "cell_type": "code",
   "execution_count": null,
   "id": "e5d546d9",
   "metadata": {},
   "outputs": [],
   "source": [
    "['one', 'two', 3, 4, 5]"
   ]
  },
  {
   "attachments": {},
   "cell_type": "markdown",
   "id": "fe2a6018",
   "metadata": {},
   "source": [
    "The list above is a data type, but also as can be thought of as a data structure, when we want to store data in a specific way like a set of items in a certain order, we can perform operations on this and think about the performance of those operations. Don't worry too much about the semantic differences between data types and data structures too much at this stage, but its useful to have an awareness of the term."
   ]
  },
  {
   "attachments": {},
   "cell_type": "markdown",
   "id": "e7a2805a",
   "metadata": {},
   "source": [
    "### Operations\n",
    "\n",
    "In any programming language, there are data types and also ways to manipulate that data. We call these **operations** that we do something to data. To do an operation **operators** which tell Python to perform a specific task on data. \n",
    "\n",
    "A simple example of this would be adding two numbers together. Python has an addition operator `+` which tells Python we want to form an addition operation. The code snippet illustrates this."
   ]
  },
  {
   "cell_type": "code",
   "execution_count": null,
   "id": "853dc1ef",
   "metadata": {},
   "outputs": [],
   "source": [
    "3 + 5 # The + is the addition operator that tells python to add two numbers together"
   ]
  },
  {
   "attachments": {},
   "cell_type": "markdown",
   "id": "2934cfba",
   "metadata": {},
   "source": [
    "In the cell below try add together the numbers 21 and 51 and run the code to see the result."
   ]
  },
  {
   "cell_type": "code",
   "execution_count": null,
   "id": "34d6079d",
   "metadata": {},
   "outputs": [],
   "source": []
  },
  {
   "attachments": {},
   "cell_type": "markdown",
   "id": "4b5af124",
   "metadata": {},
   "source": [
    "There are many different types of operators which we will cover in a later section."
   ]
  },
  {
   "attachments": {},
   "cell_type": "markdown",
   "id": "3fa80483",
   "metadata": {},
   "source": [
    "### Expressions and return values\n",
    "\n",
    "An **expression** is a combination of values and operators that Python evaluates.\n",
    "\n",
    "When we type out an expression in Python, it also displays the result of that expression without you specifically telling it to. We call this the **return value**. \n",
    "\n",
    "Run the code snippet below to show what happens. "
   ]
  },
  {
   "cell_type": "code",
   "execution_count": 1,
   "id": "90d094b8",
   "metadata": {},
   "outputs": [
    {
     "data": {
      "text/plain": [
       "9"
      ]
     },
     "execution_count": 1,
     "metadata": {},
     "output_type": "execute_result"
    }
   ],
   "source": [
    "4 + 5 # expression\n"
   ]
  },
  {
   "attachments": {},
   "cell_type": "markdown",
   "id": "36175e1c",
   "metadata": {},
   "source": [
    "Expressions don't have to involve operators, any value is an expression that evalutes to itself."
   ]
  },
  {
   "cell_type": "code",
   "execution_count": 2,
   "id": "b3ce6f5c",
   "metadata": {},
   "outputs": [
    {
     "data": {
      "text/plain": [
       "4"
      ]
     },
     "execution_count": 2,
     "metadata": {},
     "output_type": "execute_result"
    }
   ],
   "source": [
    "4"
   ]
  },
  {
   "attachments": {},
   "cell_type": "markdown",
   "id": "529c8169",
   "metadata": {},
   "source": [
    "### Statements\n",
    "\n",
    "A **statement** is a line of code or multiple lines of code that expresses an action for the computer to perform. Every program consists of a sequence of statements. \n",
    "\n",
    "The code snippet below, prints out the integer 5, run the cell to see this. Don't worry about knowing what it does yet, we will cover this later."
   ]
  },
  {
   "cell_type": "code",
   "execution_count": 4,
   "id": "bced70e5",
   "metadata": {},
   "outputs": [],
   "source": [
    "print(5)"
   ]
  },
  {
   "attachments": {},
   "cell_type": "markdown",
   "id": "6214af4f",
   "metadata": {},
   "source": [
    "### Displaying values  \n",
    "\n",
    "We have seen above that Python automatically returns values when you type out an expression. We can also explicitly print what the result of the expression using a function called `print()`. \n",
    "\n",
    "Don't worry about the specifics, an expression inside the parentheses will be evaluated, with the output displayed. \n",
    "\n",
    "Below is a code snippet to illustrate this."
   ]
  },
  {
   "cell_type": "code",
   "execution_count": null,
   "id": "14a38688",
   "metadata": {},
   "outputs": [],
   "source": [
    "print(3 + 4)"
   ]
  },
  {
   "attachments": {},
   "cell_type": "markdown",
   "id": "c51c476a",
   "metadata": {},
   "source": [
    "\n",
    "In the cell below, try and print the value of 5 + 10 "
   ]
  },
  {
   "cell_type": "code",
   "execution_count": null,
   "id": "c04b92f8",
   "metadata": {},
   "outputs": [],
   "source": []
  },
  {
   "attachments": {},
   "cell_type": "markdown",
   "id": "473a45c0",
   "metadata": {},
   "source": [
    "\n",
    "### Variables\n",
    "\n",
    "Python like all programming languages has data types, but we need to be able to store this data for later use. Python allows you to do this by creating variables. A **variable** is a container that associated a name with a specified value. A variable is created when we give it a name and give it a value. "
   ]
  },
  {
   "cell_type": "code",
   "execution_count": null,
   "id": "b9e17d34",
   "metadata": {},
   "outputs": [],
   "source": [
    "x = 5 "
   ]
  },
  {
   "attachments": {},
   "cell_type": "markdown",
   "id": "20db693f",
   "metadata": {},
   "source": [
    "In this code snippet, we create the variable `x`, the `=` is called an assignment operator this allows us to associate a relationship between a variable name and a value. We **assign** the integer 5 to the variable `x`.\n",
    "\n",
    "When we create a variable, we call this a **declaration** or declaring a variable.\n",
    "\n",
    "In the cell below, define a variable named `y` and give it a value of 11 "
   ]
  },
  {
   "cell_type": "code",
   "execution_count": null,
   "id": "62d0ae0c",
   "metadata": {},
   "outputs": [],
   "source": [
    "x = 5"
   ]
  },
  {
   "attachments": {},
   "cell_type": "markdown",
   "id": "5fbbac28",
   "metadata": {},
   "source": [
    "We will be talking about variables in a later section."
   ]
  },
  {
   "attachments": {},
   "cell_type": "markdown",
   "id": "794e6528",
   "metadata": {},
   "source": [
    "### Syntax\n",
    "\n",
    "The syntax of Python is a set of rules that define how Python should be written and interpreted when we run a program. Below we will discuss some of the important aspects of the syntax of Python."
   ]
  },
  {
   "attachments": {},
   "cell_type": "markdown",
   "id": "d461e891",
   "metadata": {},
   "source": [
    "### Keywords\n",
    "\n",
    "In Python, there are words that are reserved that is to say we can't use them as names in our code. We call these **keywords**, they look like normal words but have special meanings. \n",
    "\n",
    "In the code snippet below, there are two keywords `if` and `else` that you will be able to see, don't worry about the entire meaning of the code yet. You will learn about these later on, but to illustrate that you can not call a variable name `if` or `else` in python, otherwise, an error will occur."
   ]
  },
  {
   "cell_type": "code",
   "execution_count": null,
   "id": "19483da4",
   "metadata": {},
   "outputs": [],
   "source": [
    "x = 5\n",
    "if (x < 4):\n",
    "    print(x)\n",
    "else: \n",
    "    print(x + 1)"
   ]
  },
  {
   "attachments": {},
   "cell_type": "markdown",
   "id": "aa033e35",
   "metadata": {},
   "source": [
    "Try run the cell below and see what the output is."
   ]
  },
  {
   "cell_type": "code",
   "execution_count": 12,
   "id": "33cc6f0a",
   "metadata": {},
   "outputs": [
    {
     "ename": "SyntaxError",
     "evalue": "invalid syntax (2630263448.py, line 1)",
     "output_type": "error",
     "traceback": [
      "\u001b[1;36m  Cell \u001b[1;32mIn[12], line 1\u001b[1;36m\u001b[0m\n\u001b[1;33m    if = 5\u001b[0m\n\u001b[1;37m       ^\u001b[0m\n\u001b[1;31mSyntaxError\u001b[0m\u001b[1;31m:\u001b[0m invalid syntax\n"
     ]
    }
   ],
   "source": [
    "if = 5"
   ]
  },
  {
   "attachments": {},
   "cell_type": "markdown",
   "id": "eb6842ec",
   "metadata": {},
   "source": [
    "#### Indentation\n",
    "\n",
    "**Indentation** is the space at the beginning of a line of code. In some languages, indentation is for readability only however, in Python, it also defines a block of code that does something (**better phrasing needed**).\n",
    "\n",
    "In the code snippet below, we can see there's an indentation to delineate that the if code block is separate from other lines of code."
   ]
  },
  {
   "cell_type": "code",
   "execution_count": null,
   "id": "68ce20a7",
   "metadata": {},
   "outputs": [],
   "source": [
    "if (x < 4): \n",
    "\ty = x + 2\n",
    "\tprint(x)"
   ]
  },
  {
   "attachments": {},
   "cell_type": "markdown",
   "id": "0fcfa638",
   "metadata": {},
   "source": [
    "In the first, if block, the print function is called in the indented block, and will only be executed if x is less than four. Consider the difference in the code snippet below."
   ]
  },
  {
   "cell_type": "code",
   "execution_count": null,
   "id": "c30867aa",
   "metadata": {},
   "outputs": [],
   "source": [
    "if (x < 4):\n",
    "\ty = x + 2\n",
    "print(x)"
   ]
  },
  {
   "attachments": {},
   "cell_type": "markdown",
   "id": "848c0a78",
   "metadata": {},
   "source": [
    "In this code snippet, the print function is called regardless of the value of x.\n",
    "\n",
    "The indentation has meaning in Python and often leads to more readable code. It is up to you how much space you use, just be consistent. Conventionally code blocks like the above should be indented by four spaces."
   ]
  },
  {
   "attachments": {},
   "cell_type": "markdown",
   "id": "126a1992",
   "metadata": {},
   "source": [
    "#### End of Line terminates a statement\n",
    "\n",
    "In some programming languages, you need to add characters to tell the interpreter you have finished a statement. Python implicitly uses the end of a line to terminate a statement."
   ]
  },
  {
   "cell_type": "code",
   "execution_count": null,
   "id": "9ada81b8",
   "metadata": {},
   "outputs": [],
   "source": [
    "4 + 5 # End of this line means python will compute this line of code"
   ]
  },
  {
   "attachments": {},
   "cell_type": "markdown",
   "id": "7ff03bb7",
   "metadata": {},
   "source": [
    "#### Parentheses\n",
    "\n",
    "In Python you can use round braces or **parentheses** to group data and expressions to make it clear how you want Python to intepret the expression written. "
   ]
  },
  {
   "cell_type": "code",
   "execution_count": 5,
   "id": "d589c39a",
   "metadata": {},
   "outputs": [
    {
     "data": {
      "text/plain": [
       "10"
      ]
     },
     "execution_count": 5,
     "metadata": {},
     "output_type": "execute_result"
    }
   ],
   "source": [
    "2 * (3 + 4)"
   ]
  },
  {
   "attachments": {},
   "cell_type": "markdown",
   "id": "efe34127",
   "metadata": {},
   "source": [
    "Run the cell below to see how the above line of code is different to the one below."
   ]
  },
  {
   "cell_type": "code",
   "execution_count": null,
   "id": "44d06bd6",
   "metadata": {},
   "outputs": [],
   "source": [
    "2 * 3 + 4 # This is different to the above"
   ]
  },
  {
   "attachments": {},
   "cell_type": "markdown",
   "id": "a0f8864f",
   "metadata": {},
   "source": [
    "In the code snippet above, on the first line, the integers 3 and 4 are added together and then multiplied by 2. On the second line Python multiplies 2 and 3 together and then add 4. The placing of the parentheses matters."
   ]
  },
  {
   "attachments": {},
   "cell_type": "markdown",
   "id": "de2e5fa0",
   "metadata": {},
   "source": [
    "### Comments \n",
    "\n",
    "Python allows you to add comments in the code that serve as documentation to make things clearer to understand. A single-line comment starts with a # and Python will then intepret the rest of the line of code as a comment. "
   ]
  },
  {
   "cell_type": "code",
   "execution_count": null,
   "id": "d7dff1bd",
   "metadata": {},
   "outputs": [],
   "source": [
    "# This is a comment"
   ]
  },
  {
   "attachments": {},
   "cell_type": "markdown",
   "id": "2d5b4b04",
   "metadata": {},
   "source": [
    "Use the cell below to create a comment with the text \"I am learning python\""
   ]
  },
  {
   "cell_type": "code",
   "execution_count": null,
   "id": "6fc7a754",
   "metadata": {},
   "outputs": [],
   "source": []
  },
  {
   "attachments": {},
   "cell_type": "markdown",
   "id": "d82ecd21",
   "metadata": {},
   "source": [
    "Sometimes you want to be able to write comments in more than one line. To do this you can use tripe quotes \"\"\" \"\"\". Anything in between those quotes will be interpreted as a comment. "
   ]
  },
  {
   "cell_type": "code",
   "execution_count": null,
   "id": "d83f3890",
   "metadata": {},
   "outputs": [],
   "source": [
    "\"\"\"\n",
    "This is also a comment. \n",
    "\n",
    "A multi-line comment where you can type anything you like.\n",
    "\n",
    "\"\"\""
   ]
  },
  {
   "attachments": {},
   "cell_type": "markdown",
   "id": "c0d96e1a",
   "metadata": {},
   "source": [
    "When problem-solving you may want to write down your thoughts near your code, this is where a multi-line comment would be appropriate. "
   ]
  },
  {
   "attachments": {},
   "cell_type": "markdown",
   "id": "d33fe270",
   "metadata": {},
   "source": [
    "### Summary\n",
    "\n",
    "Understanding the vocabulary and how to write code is the first step to getting started in Python. Primitive data types are the simplest data we can deal with in Python, non-primitive data types allow us to store those primitive data types easily in specific ways.\n",
    "\n",
    "Being able to do operations on these data types using operators is what gives Python its ability to take data and transform it into something useful. We will cover more on operators in a later section.\n",
    "\n",
    "We covered some basic syntax like comments, indentation and parentheses, which defines the way to write code so that Python can intepret our code correctly. For more style information, the most widely used style guide for writing python is [PEP008](https://www.python.org/dev/peps/pep-0008/). As you write more python you will find it more useful to read.\n",
    "\n",
    "Understanding these concepts will make sure that you are writing Python in a readable way.\n",
    "\n",
    "### Check your understanding\n",
    "\n",
    "1. What is a data type? \n",
    "2. What is a literal?\n",
    "3. What is an operation?\n",
    "4. What is an expression? \n",
    "5. What is a statement? \n",
    "6. What is the difference between an expression and a statement?\n",
    "7. Give an example of a comment in Python \n",
    "8. Why is indentation important in Python?\n",
    "9. What is a keyword? \n",
    "10. What is a data structure? \n",
    "11. How does a data structure differ from a data type?\n",
    "12. What are the two different data types Python has?\n",
    "13. Can you name the different data types in Python ?\n",
    "14. Can you give an example of declaring a variable ?\n",
    "\n",
    "Now that we've run through some basic building blocks, this will help lay the foundations for the following sections. \n"
   ]
  },
  {
   "attachments": {},
   "cell_type": "markdown",
   "id": "5dc57ea1",
   "metadata": {},
   "source": [
    "## Part 2 Using and Storing Data:"
   ]
  },
  {
   "attachments": {},
   "cell_type": "markdown",
   "id": "00f71790",
   "metadata": {},
   "source": [
    "In this section, we will discuss the concept of a variable and data types. These two concepts form the basic concepts of programming. Variables give us the ability to store information in memory to be able to use and manipulate it. \n",
    "\n",
    "We will also cover data types in much greater detail so you feel comfortable with the common data types you will encounter in using Python for data science. \n"
   ]
  },
  {
   "attachments": {},
   "cell_type": "markdown",
   "id": "84a7b475",
   "metadata": {},
   "source": [
    "### Variables"
   ]
  },
  {
   "attachments": {},
   "cell_type": "markdown",
   "id": "a718f060",
   "metadata": {},
   "source": [
    "Think of variables as containers to hold information. Their purpose is to label and store data in memory so the program can use it. Labelling data allows the code to have meaning and the ability to understand the program clearly.\n",
    "\n",
    "A variable is a named area of a program's memory space where data can be stored. The data we store in a variable can change. \n",
    "\n",
    "Consider the following code snippet before running the cell. What do you think the output will be?"
   ]
  },
  {
   "cell_type": "code",
   "execution_count": null,
   "id": "b1bbdf7c",
   "metadata": {},
   "outputs": [],
   "source": [
    "answer = 41\n",
    "answer = 42\n",
    "print(answer)"
   ]
  },
  {
   "attachments": {},
   "cell_type": "markdown",
   "id": "10cba365",
   "metadata": {},
   "source": [
    "The output is 42. On line one, we declare a variable `answer` and assign it the value of `41`. We set aside a bit of memory to store the value `41` in that area. It also creates a variable named `answer` so that we can access that data.\n",
    "\n",
    "On line two, we **reassign** the value `42` to the variable named `answer`. Python makes `answer` refer to the new value. We are not changing the value of 41, we're assigning a new value to the answer variable.\n",
    "\n",
    "Finally, on line three, we are outputting the value. To determine the value that gets outputted, Python retrieves the value stored in the location used by the variable.\n"
   ]
  },
  {
   "attachments": {},
   "cell_type": "markdown",
   "id": "cfbc15bb",
   "metadata": {},
   "source": [
    "#### Naming Variables"
   ]
  },
  {
   "attachments": {},
   "cell_type": "markdown",
   "id": "79ac6ed6",
   "metadata": {},
   "source": [
    "Naming variables can become very difficult in large programs, which may sound odd at first glance. A variable name should be exact and concisely describe the data it contains. Using variables like `x` has no meaning when you need to look back at the code because it's easy to forget the meaning behind the variable.\n",
    "\n",
    "Python does have some restrictions on how we name variables. \n",
    "\n",
    "1. A variable must start with a letter or underscore character\n",
    "2. A variable can't start with a number\n",
    "3. A variable name can only contain the following characters A-Z,a-z,0-9 and _\n",
    "4. Variable names are case sensitive\n",
    "5. Variable can not be keywords\n",
    "\n",
    "Here are some examples of valid variable names\n"
   ]
  },
  {
   "attachments": {},
   "cell_type": "markdown",
   "id": "cfc1f56b",
   "metadata": {},
   "source": [
    "When creating a variable, always ask, is it descriptive? Is it accurate? Is it understandable?"
   ]
  },
  {
   "attachments": {},
   "cell_type": "markdown",
   "id": "128d71fa",
   "metadata": {},
   "source": [
    "#### Declaring and Assigning Variabes"
   ]
  },
  {
   "attachments": {},
   "cell_type": "markdown",
   "id": "8ddc5794",
   "metadata": {},
   "source": [
    "A variable declaration is a statement that asks Python to reserve space in memory for that variable with a name. We have seen an example of a variable declaration above.\n",
    "\n",
    "\n",
    "\n",
    "\n"
   ]
  },
  {
   "cell_type": "code",
   "execution_count": null,
   "id": "49690cb9",
   "metadata": {},
   "outputs": [],
   "source": [
    "firstName = 'Chris'"
   ]
  },
  {
   "attachments": {},
   "cell_type": "markdown",
   "id": "6a7d699a",
   "metadata": {},
   "source": [
    "The `=` is an **assignment operator** which tells Python to give a variable name a value.\n",
    "\n",
    "Consider the following snippet. What is the output? Try to answer before running the cell."
   ]
  },
  {
   "cell_type": "code",
   "execution_count": 1,
   "id": "511cb1e4",
   "metadata": {},
   "outputs": [
    {
     "name": "stdout",
     "output_type": "stream",
     "text": [
      "4\n"
     ]
    }
   ],
   "source": [
    "a = 4\n",
    "b = a \n",
    "print(b)\n",
    "a = 7"
   ]
  },
  {
   "attachments": {},
   "cell_type": "markdown",
   "id": "7e447025",
   "metadata": {},
   "source": [
    "You see that b retains the value `4` even though `a` is now 7. The link between `a` and `b` is not that strong. If you change a variable's value, it does not change the value of another with the same value.\n",
    "\n",
    "It is also possible to assign multiple values to multiple variables at once. Look at the code snippet below. What do you think the values of `x`,`y`, and `z` are? Try to answer before running the snippet."
   ]
  },
  {
   "cell_type": "code",
   "execution_count": 2,
   "id": "edd53cc4",
   "metadata": {},
   "outputs": [
    {
     "name": "stdout",
     "output_type": "stream",
     "text": [
      "3 4 5\n"
     ]
    }
   ],
   "source": [
    "x,y,z = 3,4,5\n",
    "print(x,y,z)"
   ]
  },
  {
   "attachments": {},
   "cell_type": "markdown",
   "id": "b5712e99",
   "metadata": {},
   "source": [
    "Here we are concisely assigning the values 3 to `x`, `4` to `y` and 5 to `z"
   ]
  },
  {
   "attachments": {},
   "cell_type": "markdown",
   "id": "df7413dc",
   "metadata": {},
   "source": [
    "#### Variable Scope"
   ]
  },
  {
   "attachments": {},
   "cell_type": "markdown",
   "id": "34d510b8",
   "metadata": {},
   "source": [
    "In programming, scope refers to the access of a variable name. Some variables are available everywhere in the code, whereas writing code in an if statement or inside a function may mean that a variable created is only accessible inside that code block.\n",
    "\n",
    "We call a variable available everywhere in the code as having **global scope**. Variables that are only available in certain blocks have **local scope**. If a variable is **in scope** we can access the variable everywhere. If you can't access the variable, it means the variable is **out of scope**\n",
    "\n",
    "Scope is an important concept because variables that have global scope can be modified anywhere in the code. Global scope makes it difficult in a large script to maintain the code if you make changes and to catch errors (called debugging). We have to keep all the code in mind when every variable is in the global scope. \n",
    "\n",
    "You can avoid this type of problem by having the ability to restrict the scope. Scope is defined where you have declared the variable.\n",
    "\n",
    "When Python looks at your code as a whole, it applies a set of rules to your variables to determine whether the variable has a global or local scope. We won't go into the exact details of this procedure here, Python does this in the background."
   ]
  },
  {
   "attachments": {},
   "cell_type": "markdown",
   "id": "20a0936f",
   "metadata": {},
   "source": [
    "### Data Types"
   ]
  },
  {
   "attachments": {},
   "cell_type": "markdown",
   "id": "a235fc17",
   "metadata": {},
   "source": [
    "### Determing the type of data"
   ]
  },
  {
   "attachments": {},
   "cell_type": "markdown",
   "id": "ceed5f42",
   "metadata": {},
   "source": [
    "### Mutability"
   ]
  },
  {
   "attachments": {},
   "cell_type": "markdown",
   "id": "22b2f388",
   "metadata": {},
   "source": [
    "#### Strings"
   ]
  },
  {
   "attachments": {},
   "cell_type": "markdown",
   "id": "9962239c",
   "metadata": {},
   "source": [
    "#### Determine the length "
   ]
  },
  {
   "attachments": {},
   "cell_type": "markdown",
   "id": "e57bdae3",
   "metadata": {},
   "source": [
    "#### Concatenation"
   ]
  },
  {
   "attachments": {},
   "cell_type": "markdown",
   "id": "6b06d983",
   "metadata": {},
   "source": [
    "#### Indexing"
   ]
  },
  {
   "attachments": {},
   "cell_type": "markdown",
   "id": "76cccc9d",
   "metadata": {},
   "source": [
    "#### Slicing"
   ]
  },
  {
   "attachments": {},
   "cell_type": "markdown",
   "id": "b6a4d661",
   "metadata": {},
   "source": [
    "### Integers and floating points"
   ]
  },
  {
   "attachments": {},
   "cell_type": "markdown",
   "id": "c4dc34a7",
   "metadata": {},
   "source": [
    "### Booleans"
   ]
  },
  {
   "attachments": {},
   "cell_type": "markdown",
   "id": "f70b5822",
   "metadata": {},
   "source": [
    "### Lists"
   ]
  },
  {
   "attachments": {},
   "cell_type": "markdown",
   "id": "4caf2f85",
   "metadata": {},
   "source": [
    "### Dictionaries"
   ]
  },
  {
   "attachments": {},
   "cell_type": "markdown",
   "id": "98b663a3",
   "metadata": {},
   "source": [
    "### Tuples"
   ]
  },
  {
   "attachments": {},
   "cell_type": "markdown",
   "id": "e75f54c2",
   "metadata": {},
   "source": [
    "### Sets"
   ]
  },
  {
   "attachments": {},
   "cell_type": "markdown",
   "id": "ac447883",
   "metadata": {},
   "source": [
    "### Nested data types"
   ]
  },
  {
   "attachments": {},
   "cell_type": "markdown",
   "id": "2e048091",
   "metadata": {},
   "source": [
    "### Part 3a: Introduction to Problem Solving"
   ]
  },
  {
   "attachments": {},
   "cell_type": "markdown",
   "id": "c2c81806",
   "metadata": {},
   "source": [
    "Coding is a tool to go from idea to execution at its basic level. This requires you solve problems using a few building blocks you will learn in this exercise. In order to solve problems its useful to have a structured approach. \n",
    "\n",
    "The structure we will be using is called PEDAC. Which stands from Problem, Example Data Structures, Algorithms and Coding. Don't worry about the terms just yet. \n",
    "\n",
    "It might be hard to believe but coding is a by-product of understanding a problem, chunking it down and having a clear approach. You should use plain english to describe what you want to do before you start coding. Writing out those thoughts clarifies your problem and how you're going to write your code. The code comes from having an approach.\n",
    "\n",
    "Problem\n",
    "\n",
    "  - Inputs: What inputs do we have ?\n",
    "\n",
    "  - Outputs: What should the output be ?\n",
    "\n",
    "  - Rules: What are the rules of the problem ?\n",
    "\n",
    "  - Constraints/Assumptions: Are there any constraints or assumptions to be made about the problem ?\n",
    "\n",
    "Example (Sometimes problems are given examples)\n",
    "\n",
    "- Do you understand the example\n",
    "\n",
    "- Is there anything to be gleamed about the rules of the problem from the examples\n",
    "\n",
    "Data Structures\n",
    "\n",
    "- Are there any structures in the code that will be useful to store data ?\n",
    "\n",
    "Algorithm\n",
    "\n",
    "- The plain english steps to getting from inputs to output\n",
    "\n",
    "Code\n",
    "\n",
    "We will be providing you with some small problems where you want necessarily need to have a systematic approach but its useful to think in this way. For more difficult problems where the solution isn't obvious having a structure will be invaluable.\n",
    "\n",
    "I urge you to not press forward with solving coding problems before thinking and writing down your thoughts. Its a hard habit to instill but that will pay off in the long run.\n"
   ]
  },
  {
   "attachments": {},
   "cell_type": "markdown",
   "id": "18478a21",
   "metadata": {},
   "source": [
    "## Part 3 Manipulating Data:"
   ]
  },
  {
   "attachments": {},
   "cell_type": "markdown",
   "id": "598cc02b",
   "metadata": {},
   "source": [
    "### Operators"
   ]
  },
  {
   "attachments": {},
   "cell_type": "markdown",
   "id": "eaac9a1e",
   "metadata": {},
   "source": [
    "#### Arithmetic"
   ]
  },
  {
   "attachments": {},
   "cell_type": "markdown",
   "id": "2f7a7c59",
   "metadata": {},
   "source": [
    "#### Comparison"
   ]
  },
  {
   "attachments": {},
   "cell_type": "markdown",
   "id": "0901fe22",
   "metadata": {},
   "source": [
    "#### Logical Operators"
   ]
  },
  {
   "attachments": {},
   "cell_type": "markdown",
   "id": "b8241881",
   "metadata": {},
   "source": [
    "#### Membership and Identity"
   ]
  },
  {
   "attachments": {},
   "cell_type": "markdown",
   "id": "8b5dac42",
   "metadata": {},
   "source": [
    "#### Operator Precendance"
   ]
  },
  {
   "attachments": {},
   "cell_type": "markdown",
   "id": "8c6cf5d7",
   "metadata": {},
   "source": [
    "### List Methods"
   ]
  },
  {
   "attachments": {},
   "cell_type": "markdown",
   "id": "48d72df3",
   "metadata": {},
   "source": [
    "### String Methods"
   ]
  },
  {
   "attachments": {},
   "cell_type": "markdown",
   "id": "d1cfb7a8",
   "metadata": {},
   "source": [
    "### Dictionary Methods"
   ]
  },
  {
   "attachments": {},
   "cell_type": "markdown",
   "id": "73bab470",
   "metadata": {},
   "source": [
    "### Tuple Methods"
   ]
  },
  {
   "attachments": {},
   "cell_type": "markdown",
   "id": "8434ed0d",
   "metadata": {},
   "source": [
    "### Common built-in functions"
   ]
  },
  {
   "attachments": {},
   "cell_type": "markdown",
   "id": "955772df",
   "metadata": {},
   "source": [
    "# Part 4: Controlling Data"
   ]
  },
  {
   "attachments": {},
   "cell_type": "markdown",
   "id": "2b47f49f",
   "metadata": {},
   "source": [
    "### Conditional Statements"
   ]
  },
  {
   "attachments": {},
   "cell_type": "markdown",
   "id": "39939d98",
   "metadata": {},
   "source": [
    "### Truthiness"
   ]
  },
  {
   "attachments": {},
   "cell_type": "markdown",
   "id": "c45ebeb4",
   "metadata": {},
   "source": [
    "### For loops"
   ]
  },
  {
   "attachments": {},
   "cell_type": "markdown",
   "id": "3641a892",
   "metadata": {},
   "source": [
    "### While Loops"
   ]
  },
  {
   "attachments": {},
   "cell_type": "markdown",
   "id": "4f0de2f3",
   "metadata": {},
   "source": [
    "### List Comprehensions"
   ]
  },
  {
   "attachments": {},
   "cell_type": "markdown",
   "id": "d142d15f",
   "metadata": {},
   "source": [
    "## Part 5: Structuring Code"
   ]
  },
  {
   "attachments": {},
   "cell_type": "markdown",
   "id": "87a261a5",
   "metadata": {},
   "source": [
    "### Functions"
   ]
  },
  {
   "attachments": {},
   "cell_type": "markdown",
   "id": "c2f9b17a",
   "metadata": {},
   "source": [
    "### Modules"
   ]
  },
  {
   "attachments": {},
   "cell_type": "markdown",
   "id": "dae225fa",
   "metadata": {},
   "source": [
    "### Namespace and Scope"
   ]
  },
  {
   "attachments": {},
   "cell_type": "markdown",
   "metadata": {},
   "source": [
    "### Variable Shadowing"
   ]
  },
  {
   "attachments": {},
   "cell_type": "markdown",
   "id": "9d60545f",
   "metadata": {},
   "source": [
    "## Part 7: Application"
   ]
  },
  {
   "cell_type": "markdown",
   "id": "128e4e1e",
   "metadata": {},
   "source": [
    "## Next steps"
   ]
  },
  {
   "attachments": {},
   "cell_type": "markdown",
   "id": "4802d298",
   "metadata": {},
   "source": []
  },
  {
   "cell_type": "markdown",
   "id": "ce1e133e",
   "metadata": {},
   "source": [
    "Fill out the form below and we'll provide feedback on your code.\n",
    "\n",
    "**Any feedback on the exercise? Any questions? Want feedback on your code? Please fill out the form [here](https://docs.google.com/forms/d/e/1FAIpQLSdoOjVom8YKf11LxJ_bWN40afFMsWcoJ-xOrKhMbfBzgxTS9A/viewform).**"
   ]
  },
  {
   "cell_type": "code",
   "execution_count": null,
   "id": "71cdd4ad",
   "metadata": {},
   "outputs": [],
   "source": []
  }
 ],
 "metadata": {
  "kernelspec": {
   "display_name": "Python 3",
   "language": "python",
   "name": "python3"
  },
  "language_info": {
   "codemirror_mode": {
    "name": "ipython",
    "version": 3
   },
   "file_extension": ".py",
   "mimetype": "text/x-python",
   "name": "python",
   "nbconvert_exporter": "python",
   "pygments_lexer": "ipython3",
   "version": "3.10.10"
  }
 },
 "nbformat": 4,
 "nbformat_minor": 5
}
