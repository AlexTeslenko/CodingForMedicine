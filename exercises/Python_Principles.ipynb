{
 "cells": [
  {
   "attachments": {},
   "cell_type": "markdown",
   "id": "c82d7193",
   "metadata": {},
   "source": [
    "# Python Principles\n"
   ]
  },
  {
   "attachments": {},
   "cell_type": "markdown",
   "id": "e2502982",
   "metadata": {},
   "source": [
    "**In this exercise, we will focus on the core python principles for you to do data science.**\n",
    "\n",
    "We will learn the words of Python called 'syntax', what data we can use and how to store it. Furthermore, we will learn how to manipulate and control that data. Lastly, we will help you structure your code to write a working python program. \n",
    "\n",
    "In this exercise, we will apply this knowledge through short and more challenging problems.\n",
    "\n",
    "In this exercise, we'll learn how to:\n",
    "\n",
    "- How to write python statements (Syntax)\n",
    "\n",
    "- How to store and manipulate data in Python\n",
    "\n",
    "- How to control where data flows through a program in Python\n",
    "\n",
    "- Be able to structure the code in Python\n",
    "\n",
    "- Be able to create a working program in Python\n",
    "\n",
    "By the end of this exercise, you will be confident in writing Python code and can approach any problem you encounter with a structure."
   ]
  },
  {
   "attachments": {},
   "cell_type": "markdown",
   "id": "a0e09066",
   "metadata": {},
   "source": [
    "## Part 1 Vocabulary and Syntax: \n",
    "\n",
    "This section will give you the vocabulary to describe code precisely as well as introducing you to way to write Python called Syntax. Some topics may require knowledge of things we haven't covered yet. Don't let this throw you. Below is the essential information you need for now and these topics will be discussed in a later section.\n",
    "\n"
   ]
  },
  {
   "attachments": {},
   "cell_type": "markdown",
   "id": "95450115",
   "metadata": {},
   "source": [
    "### Data Types \n",
    "\n",
    "The essence of most languages is to deal with data. The specific data we can use in Python are called **data types**. The type part of the phrase means that Python has rules on what can and can't be done with a piece of data. \n",
    "\n",
    "For example, to add integers (whole numbers) is specific to an integer data type but wouldn't make sense for other data types. Python does not allow you to do this and this constraint is implicitly a part of the data types we can use.\n",
    "\n",
    "A data type can be either primitive or non-primitive. Primitive data types are the simplest way to represent data in Python. \n",
    "\n",
    "Primitive data types\n",
    "1. Integer\n",
    "2. Float\n",
    "3. String \n",
    "4. Boolean \n",
    "5. None Type\n"
   ]
  },
  {
   "cell_type": "code",
   "execution_count": 6,
   "id": "c97be59c",
   "metadata": {},
   "outputs": [],
   "source": [
    "3 # Integer\n",
    "4.0 # Float\n",
    "\"Hello World\" # String\n",
    "True # boolean\n",
    "None # None Type"
   ]
  },
  {
   "attachments": {},
   "cell_type": "markdown",
   "id": "7c02b8d1",
   "metadata": {},
   "source": [
    "Run the cell below to discover some data and what its type is. Don't worry about what the code means for now. "
   ]
  },
  {
   "cell_type": "code",
   "execution_count": 8,
   "id": "2d83555a",
   "metadata": {},
   "outputs": [
    {
     "data": {
      "text/plain": [
       "float"
      ]
     },
     "execution_count": 8,
     "metadata": {},
     "output_type": "execute_result"
    }
   ],
   "source": [
    "type(3)"
   ]
  },
  {
   "cell_type": "code",
   "execution_count": 9,
   "id": "09f4ce8f",
   "metadata": {},
   "outputs": [
    {
     "data": {
      "text/plain": [
       "bool"
      ]
     },
     "execution_count": 9,
     "metadata": {},
     "output_type": "execute_result"
    }
   ],
   "source": [
    "type(True)"
   ]
  },
  {
   "attachments": {},
   "cell_type": "markdown",
   "id": "ef3477ca",
   "metadata": {},
   "source": [
    "Try in the cell below to find out the type \"Hello World\" is"
   ]
  },
  {
   "cell_type": "code",
   "execution_count": null,
   "id": "1de3ebdd",
   "metadata": {},
   "outputs": [],
   "source": []
  },
  {
   "attachments": {},
   "cell_type": "markdown",
   "id": "4d424a5e",
   "metadata": {},
   "source": [
    "\n",
    "Python also gives us non-primitive data types sometimes called collections. Non-primitive data types allow you to collect and modify data you may want later.\n",
    "\n",
    "Non-primitive data types\n",
    "1. Lists \n",
    "2. Dictionaries\n",
    "3. Sets\n",
    "4. Tuples"
   ]
  },
  {
   "cell_type": "code",
   "execution_count": null,
   "id": "35fce001",
   "metadata": {},
   "outputs": [],
   "source": [
    "[1,2,3,4,5] # List\n",
    "{ 'England': 'London', 'Scotland': 'Edinburgh', 'France': 'Paris'} # Dictionary\n",
    "{'England', 'Scotland','France'}\n",
    "(1,2,3,4,5) # Tuple "
   ]
  },
  {
   "cell_type": "code",
   "execution_count": 11,
   "id": "5c23acca",
   "metadata": {},
   "outputs": [
    {
     "data": {
      "text/plain": [
       "dict"
      ]
     },
     "execution_count": 11,
     "metadata": {},
     "output_type": "execute_result"
    }
   ],
   "source": [
    "type({ 'England': 'London', 'Scotland': 'Edinburgh', 'France': 'Paris'})"
   ]
  },
  {
   "cell_type": "code",
   "execution_count": 10,
   "id": "d30bf01b",
   "metadata": {},
   "outputs": [
    {
     "data": {
      "text/plain": [
       "list"
      ]
     },
     "execution_count": 10,
     "metadata": {},
     "output_type": "execute_result"
    }
   ],
   "source": [
    "type([1,2,3,4,5])"
   ]
  },
  {
   "attachments": {},
   "cell_type": "markdown",
   "id": "d3952bb1",
   "metadata": {},
   "source": [
    "Try for yourself in the cell below to find out what type the value (1,2,3,4,5) is"
   ]
  },
  {
   "cell_type": "code",
   "execution_count": null,
   "id": "904e034b",
   "metadata": {},
   "outputs": [],
   "source": []
  },
  {
   "attachments": {},
   "cell_type": "markdown",
   "id": "e376dd71",
   "metadata": {},
   "source": [
    "Don't worry about knowing what these all mean we will cover them in more detail later."
   ]
  },
  {
   "attachments": {},
   "cell_type": "markdown",
   "id": "930414f9",
   "metadata": {},
   "source": [
    "### Literals\n",
    "\n",
    "A term that comes up with data types is the term 'literal'. A literal is any notation that represents a fixed value in the code. When we talk about data types, a literal describes a value of that data type. \n",
    "\n",
    "To demonstrate this, an integer literal is an integer value that is explicit in your code. "
   ]
  },
  {
   "cell_type": "code",
   "execution_count": null,
   "id": "8c19ca85",
   "metadata": {},
   "outputs": [],
   "source": [
    "x = 5  # 5 is the integer literal"
   ]
  },
  {
   "attachments": {},
   "cell_type": "markdown",
   "id": "b2ac427c",
   "metadata": {},
   "source": [
    "### Data Structures\n",
    "\n",
    "Additionally, when talking about specific data types, you will come across the concept of a data structure. **A data structure**  is a way to organise data to allow for tasks to be performed most efficiently\n",
    "\n",
    "This is slightly different to a data type, in that a data type has a range of values that share all the same properties and focuses on representation of data. Some data structures can have a very specific way to handle data that isn't related to the data type.\n",
    "\n",
    "A list is an organised collection of data of possibly many different types in an ordered sequence. "
   ]
  },
  {
   "cell_type": "code",
   "execution_count": null,
   "id": "e5d546d9",
   "metadata": {},
   "outputs": [],
   "source": [
    "['one', 'two', 3, 4, 5]"
   ]
  },
  {
   "attachments": {},
   "cell_type": "markdown",
   "id": "fe2a6018",
   "metadata": {},
   "source": [
    "The list above is a data type, but also as can be thought of as a data structure, when we want to store data in a specific way like a set of items in a certain order, we can perform operations on this and think about the performance of those operations. Don't worry too much about the semantic differences between data types and data structures too much at this stage, but its useful to have an awareness of the term."
   ]
  },
  {
   "attachments": {},
   "cell_type": "markdown",
   "id": "e7a2805a",
   "metadata": {},
   "source": [
    "### Operations\n",
    "\n",
    "In any programming language, there are data types and also ways to manipulate that data. We call these **operations** that we do something to data. To do an operation **operators** which tell Python to perform a specific task on data. \n",
    "\n",
    "A simple example of this would be adding two numbers together. Python has an addition operator `+` which tells Python we want to form an addition operation. The code snippet illustrates this."
   ]
  },
  {
   "cell_type": "code",
   "execution_count": null,
   "id": "853dc1ef",
   "metadata": {},
   "outputs": [],
   "source": [
    "3 + 5 # The + is the addition operator that tells python to add two numbers together"
   ]
  },
  {
   "attachments": {},
   "cell_type": "markdown",
   "id": "2934cfba",
   "metadata": {},
   "source": [
    "In the cell below try add together the numbers 21 and 51 and run the code to see the result."
   ]
  },
  {
   "cell_type": "code",
   "execution_count": null,
   "id": "34d6079d",
   "metadata": {},
   "outputs": [],
   "source": []
  },
  {
   "attachments": {},
   "cell_type": "markdown",
   "id": "4b5af124",
   "metadata": {},
   "source": [
    "There are many different types of operators which we will cover in a later section."
   ]
  },
  {
   "attachments": {},
   "cell_type": "markdown",
   "id": "3fa80483",
   "metadata": {},
   "source": [
    "### Expressions and return values\n",
    "\n",
    "An **expression** is a combination of values and operators that Python evaluates.\n",
    "\n",
    "When we type out an expression in Python, it also displays the result of that expression without you specifically telling it to. We call this the **return value**. \n",
    "\n",
    "Run the code snippet below to show what happens. "
   ]
  },
  {
   "cell_type": "code",
   "execution_count": 1,
   "id": "90d094b8",
   "metadata": {},
   "outputs": [
    {
     "data": {
      "text/plain": [
       "9"
      ]
     },
     "execution_count": 1,
     "metadata": {},
     "output_type": "execute_result"
    }
   ],
   "source": [
    "4 + 5 # expression\n"
   ]
  },
  {
   "attachments": {},
   "cell_type": "markdown",
   "id": "36175e1c",
   "metadata": {},
   "source": [
    "Expressions don't have to involve operators, any value is an expression that evalutes to itself."
   ]
  },
  {
   "cell_type": "code",
   "execution_count": 2,
   "id": "b3ce6f5c",
   "metadata": {},
   "outputs": [
    {
     "data": {
      "text/plain": [
       "4"
      ]
     },
     "execution_count": 2,
     "metadata": {},
     "output_type": "execute_result"
    }
   ],
   "source": [
    "4"
   ]
  },
  {
   "attachments": {},
   "cell_type": "markdown",
   "id": "529c8169",
   "metadata": {},
   "source": [
    "### Statements\n",
    "\n",
    "A **statement** is a line of code or multiple lines of code that expresses an action for the computer to perform. Every program consists of a sequence of statements. \n",
    "\n",
    "The code snippet below, prints out the integer 5, run the cell to see this. Don't worry about knowing what it does yet, we will cover this later."
   ]
  },
  {
   "cell_type": "code",
   "execution_count": 4,
   "id": "bced70e5",
   "metadata": {},
   "outputs": [],
   "source": [
    "print(5)"
   ]
  },
  {
   "attachments": {},
   "cell_type": "markdown",
   "id": "6214af4f",
   "metadata": {},
   "source": [
    "### Displaying values  \n",
    "\n",
    "We have seen above that Python automatically returns values when you type out an expression. We can also explicitly print what the result of the expression using a function called `print()`. \n",
    "\n",
    "Don't worry about the specifics, an expression inside the parentheses will be evaluated, with the output displayed. \n",
    "\n",
    "Below is a code snippet to illustrate this."
   ]
  },
  {
   "cell_type": "code",
   "execution_count": null,
   "id": "14a38688",
   "metadata": {},
   "outputs": [],
   "source": [
    "print(3 + 4)"
   ]
  },
  {
   "attachments": {},
   "cell_type": "markdown",
   "id": "c51c476a",
   "metadata": {},
   "source": [
    "\n",
    "In the cell below, try and print the value of 5 + 10 "
   ]
  },
  {
   "cell_type": "code",
   "execution_count": null,
   "id": "c04b92f8",
   "metadata": {},
   "outputs": [],
   "source": []
  },
  {
   "attachments": {},
   "cell_type": "markdown",
   "id": "473a45c0",
   "metadata": {},
   "source": [
    "\n",
    "### Variables\n",
    "\n",
    "Python like all programming languages has data types, but we need to be able to store this data for later use. Python allows you to do this by creating variables. A **variable** is a container that associated a name with a specified value. A variable is created when we give it a name and give it a value. "
   ]
  },
  {
   "cell_type": "code",
   "execution_count": null,
   "id": "b9e17d34",
   "metadata": {},
   "outputs": [],
   "source": [
    "x = 5 "
   ]
  },
  {
   "attachments": {},
   "cell_type": "markdown",
   "id": "20db693f",
   "metadata": {},
   "source": [
    "In this code snippet, we create the variable `x`, the `=` is called an assignment operator this allows us to associate a relationship between a variable name and a value. We **assign** the integer 5 to the variable `x`.\n",
    "\n",
    "When we create a variable, we call this a **declaration** or declaring a variable.\n",
    "\n",
    "In the cell below, define a variable named `y` and give it a value of 11 "
   ]
  },
  {
   "cell_type": "code",
   "execution_count": null,
   "id": "62d0ae0c",
   "metadata": {},
   "outputs": [],
   "source": [
    "x = 5"
   ]
  },
  {
   "attachments": {},
   "cell_type": "markdown",
   "id": "5fbbac28",
   "metadata": {},
   "source": [
    "We will be talking about variables in a later section."
   ]
  },
  {
   "attachments": {},
   "cell_type": "markdown",
   "id": "794e6528",
   "metadata": {},
   "source": [
    "### Syntax\n",
    "\n",
    "The syntax of Python is a set of rules that define how Python should be written and interpreted when we run a program. Below we will discuss some of the important aspects of the syntax of Python."
   ]
  },
  {
   "attachments": {},
   "cell_type": "markdown",
   "id": "d461e891",
   "metadata": {},
   "source": [
    "### Keywords\n",
    "\n",
    "In Python, there are words that are reserved that is to say we can't use them as names in our code. We call these **keywords**, they look like normal words but have special meanings. \n",
    "\n",
    "In the code snippet below, there are two keywords `if` and `else` that you will be able to see, don't worry about the entire meaning of the code yet. You will learn about these later on, but to illustrate that you can not call a variable name `if` or `else` in python, otherwise, an error will occur."
   ]
  },
  {
   "cell_type": "code",
   "execution_count": null,
   "id": "19483da4",
   "metadata": {},
   "outputs": [],
   "source": [
    "x = 5\n",
    "if (x < 4):\n",
    "    print(x)\n",
    "else: \n",
    "    print(x + 1)"
   ]
  },
  {
   "attachments": {},
   "cell_type": "markdown",
   "id": "aa033e35",
   "metadata": {},
   "source": [
    "Try run the cell below and see what the output is."
   ]
  },
  {
   "cell_type": "code",
   "execution_count": 12,
   "id": "33cc6f0a",
   "metadata": {},
   "outputs": [
    {
     "ename": "SyntaxError",
     "evalue": "invalid syntax (2630263448.py, line 1)",
     "output_type": "error",
     "traceback": [
      "\u001b[1;36m  Cell \u001b[1;32mIn[12], line 1\u001b[1;36m\u001b[0m\n\u001b[1;33m    if = 5\u001b[0m\n\u001b[1;37m       ^\u001b[0m\n\u001b[1;31mSyntaxError\u001b[0m\u001b[1;31m:\u001b[0m invalid syntax\n"
     ]
    }
   ],
   "source": [
    "if = 5"
   ]
  },
  {
   "attachments": {},
   "cell_type": "markdown",
   "id": "eb6842ec",
   "metadata": {},
   "source": [
    "#### Indentation\n",
    "\n",
    "**Indentation** is the space at the beginning of a line of code. In some languages, indentation is for readability only however, in Python, it also defines a block of code that does something (**better phrasing needed**).\n",
    "\n",
    "In the code snippet below, we can see there's an indentation to delineate that the if code block is separate from other lines of code."
   ]
  },
  {
   "cell_type": "code",
   "execution_count": null,
   "id": "68ce20a7",
   "metadata": {},
   "outputs": [],
   "source": [
    "if (x < 4): \n",
    "\ty = x + 2\n",
    "\tprint(x)"
   ]
  },
  {
   "attachments": {},
   "cell_type": "markdown",
   "id": "0fcfa638",
   "metadata": {},
   "source": [
    "In the first, if block, the print function is called in the indented block, and will only be executed if x is less than four. Consider the difference in the code snippet below."
   ]
  },
  {
   "cell_type": "code",
   "execution_count": null,
   "id": "c30867aa",
   "metadata": {},
   "outputs": [],
   "source": [
    "if (x < 4):\n",
    "\ty = x + 2\n",
    "print(x)"
   ]
  },
  {
   "attachments": {},
   "cell_type": "markdown",
   "id": "848c0a78",
   "metadata": {},
   "source": [
    "In this code snippet, the print function is called regardless of the value of x.\n",
    "\n",
    "The indentation has meaning in Python and often leads to more readable code. It is up to you how much space you use, just be consistent. Conventionally code blocks like the above should be indented by four spaces."
   ]
  },
  {
   "attachments": {},
   "cell_type": "markdown",
   "id": "126a1992",
   "metadata": {},
   "source": [
    "#### End of Line terminates a statement\n",
    "\n",
    "In some programming languages, you need to add characters to tell the interpreter you have finished a statement. Python implicitly uses the end of a line to terminate a statement."
   ]
  },
  {
   "cell_type": "code",
   "execution_count": null,
   "id": "9ada81b8",
   "metadata": {},
   "outputs": [],
   "source": [
    "4 + 5 # End of this line means python will compute this line of code"
   ]
  },
  {
   "attachments": {},
   "cell_type": "markdown",
   "id": "7ff03bb7",
   "metadata": {},
   "source": [
    "#### Parentheses\n",
    "\n",
    "In Python you can use round braces or **parentheses** to group data and expressions to make it clear how you want Python to intepret the expression written. "
   ]
  },
  {
   "cell_type": "code",
   "execution_count": 5,
   "id": "d589c39a",
   "metadata": {},
   "outputs": [
    {
     "data": {
      "text/plain": [
       "10"
      ]
     },
     "execution_count": 5,
     "metadata": {},
     "output_type": "execute_result"
    }
   ],
   "source": [
    "2 * (3 + 4)"
   ]
  },
  {
   "attachments": {},
   "cell_type": "markdown",
   "id": "efe34127",
   "metadata": {},
   "source": [
    "Run the cell below to see how the above line of code is different to the one below."
   ]
  },
  {
   "cell_type": "code",
   "execution_count": null,
   "id": "44d06bd6",
   "metadata": {},
   "outputs": [],
   "source": [
    "2 * 3 + 4 # This is different to the above"
   ]
  },
  {
   "attachments": {},
   "cell_type": "markdown",
   "id": "a0f8864f",
   "metadata": {},
   "source": [
    "In the code snippet above, on the first line, the integers 3 and 4 are added together and then multiplied by 2. On the second line Python multiplies 2 and 3 together and then add 4. The placing of the parentheses matters."
   ]
  },
  {
   "attachments": {},
   "cell_type": "markdown",
   "id": "de2e5fa0",
   "metadata": {},
   "source": [
    "### Comments \n",
    "\n",
    "Python allows you to add comments in the code that serve as documentation to make things clearer to understand. A single-line comment starts with a # and Python will then intepret the rest of the line of code as a comment. "
   ]
  },
  {
   "cell_type": "code",
   "execution_count": null,
   "id": "d7dff1bd",
   "metadata": {},
   "outputs": [],
   "source": [
    "# This is a comment"
   ]
  },
  {
   "attachments": {},
   "cell_type": "markdown",
   "id": "2d5b4b04",
   "metadata": {},
   "source": [
    "Use the cell below to create a comment with the text \"I am learning python\""
   ]
  },
  {
   "cell_type": "code",
   "execution_count": null,
   "id": "6fc7a754",
   "metadata": {},
   "outputs": [],
   "source": []
  },
  {
   "attachments": {},
   "cell_type": "markdown",
   "id": "d82ecd21",
   "metadata": {},
   "source": [
    "Sometimes you want to be able to write comments in more than one line. To do this you can use tripe quotes \"\"\" \"\"\". Anything in between those quotes will be interpreted as a comment. "
   ]
  },
  {
   "cell_type": "code",
   "execution_count": null,
   "id": "d83f3890",
   "metadata": {},
   "outputs": [],
   "source": [
    "\"\"\"\n",
    "This is also a comment. \n",
    "\n",
    "A multi-line comment where you can type anything you like.\n",
    "\n",
    "\"\"\""
   ]
  },
  {
   "attachments": {},
   "cell_type": "markdown",
   "id": "c0d96e1a",
   "metadata": {},
   "source": [
    "When problem-solving you may want to write down your thoughts near your code, this is where a multi-line comment would be appropriate. "
   ]
  },
  {
   "attachments": {},
   "cell_type": "markdown",
   "id": "d33fe270",
   "metadata": {},
   "source": [
    "### Summary\n",
    "\n",
    "Understanding the vocabulary and how to write code is the first step to getting started in Python. Primitive data types are the simplest data we can deal with in Python, non-primitive data types allow us to store those primitive data types easily in specific ways.\n",
    "\n",
    "Being able to do operations on these data types using operators is what gives Python its ability to take data and transform it into something useful. We will cover more on operators in a later section.\n",
    "\n",
    "We covered some basic syntax like comments, indentation and parentheses, which defines the way to write code so that Python can intepret our code correctly. For more style information, the most widely used style guide for writing python is [PEP008](https://www.python.org/dev/peps/pep-0008/). As you write more python you will find it more useful to read.\n",
    "\n",
    "Understanding these concepts will make sure that you are writing Python in a readable way.\n",
    "\n",
    "### Check your understanding\n",
    "\n",
    "1. What is a data type? \n",
    "2. What is a literal?\n",
    "3. What is an operation?\n",
    "4. What is an expression? \n",
    "5. What is a statement? \n",
    "6. What is the difference between an expression and a statement?\n",
    "7. Give an example of a comment in Python \n",
    "8. Why is indentation important in Python?\n",
    "9. What is a keyword? \n",
    "10. What is a data structure? \n",
    "11. How does a data structure differ from a data type?\n",
    "12. What are the two different data types Python has?\n",
    "13. Can you name the different data types in Python ?\n",
    "14. Can you give an example of declaring a variable ?\n",
    "\n",
    "Now that we've run through some basic building blocks, this will help lay the foundations for the following sections. \n"
   ]
  },
  {
   "attachments": {},
   "cell_type": "markdown",
   "id": "5dc57ea1",
   "metadata": {},
   "source": [
    "## Part 2 Using and Storing Data:"
   ]
  },
  {
   "attachments": {},
   "cell_type": "markdown",
   "id": "00f71790",
   "metadata": {},
   "source": [
    "In this section, we will discuss the concept of a variable and data types. These two concepts form the basic concepts of programming. Variables give us the ability to store information in memory to be able to use and manipulate it. \n",
    "\n",
    "We will also cover data types in much greater detail so you feel comfortable with the common data types you will encounter in using Python for data science. \n"
   ]
  },
  {
   "attachments": {},
   "cell_type": "markdown",
   "id": "84a7b475",
   "metadata": {},
   "source": [
    "### Variables"
   ]
  },
  {
   "attachments": {},
   "cell_type": "markdown",
   "id": "a718f060",
   "metadata": {},
   "source": [
    "Think of variables as containers to hold information. Their purpose is to label and store data in memory so the program can use it. Labelling data allows the code to have meaning and the ability to understand the program clearly.\n",
    "\n",
    "A variable is a named area of a program's memory space where data can be stored. The data we store in a variable can change. \n",
    "\n",
    "Consider the following code snippet before running the cell. What do you think the output will be?"
   ]
  },
  {
   "cell_type": "code",
   "execution_count": null,
   "id": "b1bbdf7c",
   "metadata": {},
   "outputs": [],
   "source": [
    "answer = 41\n",
    "answer = 42\n",
    "print(answer)"
   ]
  },
  {
   "attachments": {},
   "cell_type": "markdown",
   "id": "10cba365",
   "metadata": {},
   "source": [
    "The output is 42. On line one, we declare a variable `answer` and assign it the value of `41`. We set aside a bit of memory to store the value `41` in that area. It also creates a variable named `answer` so that we can access that data.\n",
    "\n",
    "On line two, we **reassign** the value `42` to the variable named `answer`. Python makes `answer` refer to the new value. We are not changing the value of 41, we're assigning a new value to the answer variable.\n",
    "\n",
    "Finally, on line three, we are outputting the value. To determine the value that gets outputted, Python retrieves the value stored in the location used by the variable.\n"
   ]
  },
  {
   "attachments": {},
   "cell_type": "markdown",
   "id": "cfbc15bb",
   "metadata": {},
   "source": [
    "#### Naming Variables"
   ]
  },
  {
   "attachments": {},
   "cell_type": "markdown",
   "id": "79ac6ed6",
   "metadata": {},
   "source": [
    "Naming variables can become very difficult in large programs, which may sound odd at first glance. A variable name should be exact and concisely describe the data it contains. Using variables like `x` has no meaning when you need to look back at the code because it's easy to forget the meaning behind the variable.\n",
    "\n",
    "Python does have some restrictions on how we name variables. \n",
    "\n",
    "1. A variable must start with a letter or underscore character\n",
    "2. A variable can't start with a number\n",
    "3. A variable name can only contain the following characters A-Z,a-z,0-9 and _\n",
    "4. Variable names are case sensitive\n",
    "5. Variable can not be keywords\n",
    "\n",
    "Here are some examples of valid variable names\n"
   ]
  },
  {
   "attachments": {},
   "cell_type": "markdown",
   "id": "cfc1f56b",
   "metadata": {},
   "source": [
    "When creating a variable, always ask, is it descriptive? Is it accurate? Is it understandable?"
   ]
  },
  {
   "attachments": {},
   "cell_type": "markdown",
   "id": "128d71fa",
   "metadata": {},
   "source": [
    "#### Declaring and Assigning Variabes"
   ]
  },
  {
   "attachments": {},
   "cell_type": "markdown",
   "id": "8ddc5794",
   "metadata": {},
   "source": [
    "A variable declaration is a statement that asks Python to reserve space in memory for that variable with a name. We have seen an example of a variable declaration above.\n",
    "\n",
    "\n",
    "\n",
    "\n"
   ]
  },
  {
   "cell_type": "code",
   "execution_count": null,
   "id": "49690cb9",
   "metadata": {},
   "outputs": [],
   "source": [
    "firstName = 'Chris'"
   ]
  },
  {
   "attachments": {},
   "cell_type": "markdown",
   "id": "6a7d699a",
   "metadata": {},
   "source": [
    "The `=` is an **assignment operator** which tells Python to give a variable name a value.\n",
    "\n",
    "Consider the following snippet. What is the output? Try to answer before running the cell."
   ]
  },
  {
   "cell_type": "code",
   "execution_count": 1,
   "id": "511cb1e4",
   "metadata": {},
   "outputs": [
    {
     "name": "stdout",
     "output_type": "stream",
     "text": [
      "4\n"
     ]
    }
   ],
   "source": [
    "a = 4\n",
    "b = a \n",
    "print(b)\n",
    "a = 7"
   ]
  },
  {
   "attachments": {},
   "cell_type": "markdown",
   "id": "7e447025",
   "metadata": {},
   "source": [
    "You see that b retains the value `4` even though `a` is now 7. The link between `a` and `b` is not that strong. If you change a variable's value, it does not change the value of another with the same value.\n",
    "\n",
    "It is also possible to assign multiple values to multiple variables at once. Look at the code snippet below. What do you think the values of `x`,`y`, and `z` are? Try to answer before running the snippet."
   ]
  },
  {
   "cell_type": "code",
   "execution_count": 2,
   "id": "edd53cc4",
   "metadata": {},
   "outputs": [
    {
     "name": "stdout",
     "output_type": "stream",
     "text": [
      "3 4 5\n"
     ]
    }
   ],
   "source": [
    "x,y,z = 3,4,5\n",
    "print(x,y,z)"
   ]
  },
  {
   "attachments": {},
   "cell_type": "markdown",
   "id": "b5712e99",
   "metadata": {},
   "source": [
    "Here we are concisely assigning the values 3 to `x`, `4` to `y` and 5 to `z"
   ]
  },
  {
   "attachments": {},
   "cell_type": "markdown",
   "id": "df7413dc",
   "metadata": {},
   "source": [
    "#### Variable Scope"
   ]
  },
  {
   "attachments": {},
   "cell_type": "markdown",
   "id": "34d510b8",
   "metadata": {},
   "source": [
    "In programming, scope refers to the access of a variable name. Some variables are available everywhere in the code, whereas writing code in an if statement or inside a function may mean that a variable created is only accessible inside that code block.\n",
    "\n",
    "We call a variable available everywhere in the code as having **global scope**. Variables that are only available in certain blocks have **local scope**. If a variable is **in scope** we can access the variable everywhere. If you can't access the variable, it means the variable is **out of scope**\n",
    "\n",
    "Scope is an important concept because variables that have global scope can be modified anywhere in the code. Global scope makes it difficult in a large script to maintain the code if you make changes and to catch errors (called debugging). We have to keep all the code in mind when every variable is in the global scope. \n",
    "\n",
    "You can avoid this type of problem by having the ability to restrict the scope. Scope is defined where you have declared the variable.\n",
    "\n",
    "When Python looks at your code as a whole, it applies a set of rules to your variables to determine whether the variable has a global or local scope. We won't go into the exact details of this procedure here, Python does this in the background."
   ]
  },
  {
   "attachments": {},
   "cell_type": "markdown",
   "id": "20a0936f",
   "metadata": {},
   "source": [
    "### Data Types"
   ]
  },
  {
   "attachments": {},
   "cell_type": "markdown",
   "id": "087418fa",
   "metadata": {},
   "source": [
    "We covered a brief introduction to the concept of a data type above. Data types have type information attached, that is they have rules in which ways they can be manipulated which we will be exploring in this section together. \n",
    "\n",
    "In this section we will cover some additional concepts relating to data types as well as a deep dive into the data types most used in Python. "
   ]
  },
  {
   "attachments": {},
   "cell_type": "markdown",
   "id": "a235fc17",
   "metadata": {},
   "source": [
    "### Determining the type of data"
   ]
  },
  {
   "attachments": {},
   "cell_type": "markdown",
   "id": "41dcfc7c",
   "metadata": {},
   "source": [
    "To understand the different types in Python built-in method called `type()` method. Putting a value inside the parentheses will tell Python to evaluate and return type information on that value."
   ]
  },
  {
   "cell_type": "code",
   "execution_count": null,
   "id": "0f4d882c",
   "metadata": {},
   "outputs": [],
   "source": [
    "type(\"Hello World\")"
   ]
  },
  {
   "attachments": {},
   "cell_type": "markdown",
   "id": "2929c6ed",
   "metadata": {},
   "source": [
    "The output returns `<class 'str'>`. Think of the word class as a synonym for \"data type\" for now. A class refers to something more specific for later."
   ]
  },
  {
   "attachments": {},
   "cell_type": "markdown",
   "id": "8cbb1b66",
   "metadata": {},
   "source": [
    "#### Type Casting \n",
    "\n",
    "Python allows you to convert data from one to another, we call this **Type Casting**. You may have data that you need to be able to convert from one data type to another within your code. Python provides some built-in functions to do this, the common ones are `int()`, `str()` and `float()`. We will explore these in detail in some sections below."
   ]
  },
  {
   "attachments": {},
   "cell_type": "markdown",
   "id": "1589857d",
   "metadata": {},
   "source": [
    "#### Type Coercion \n",
    "\n",
    "Consider the following example, what will happen when you run the cell?"
   ]
  },
  {
   "cell_type": "code",
   "execution_count": null,
   "id": "0f5cfcfa",
   "metadata": {},
   "outputs": [],
   "source": [
    "name = 'Aaron'\n",
    "name + 2"
   ]
  },
  {
   "attachments": {},
   "cell_type": "markdown",
   "id": "66f4dbcb",
   "metadata": {},
   "source": [
    "Python raises an error because the string name doesn't know how to add to a number.\n",
    "\n",
    "Consider the following example of adding an integer to a float point number."
   ]
  },
  {
   "cell_type": "code",
   "execution_count": 3,
   "id": "c0f31850",
   "metadata": {},
   "outputs": [
    {
     "data": {
      "text/plain": [
       "7.5"
      ]
     },
     "execution_count": 3,
     "metadata": {},
     "output_type": "execute_result"
    }
   ],
   "source": [
    "x = 2\n",
    "y = 5.5\n",
    "x + y"
   ]
  },
  {
   "attachments": {},
   "cell_type": "markdown",
   "id": "b5ceef1d",
   "metadata": {},
   "source": [
    "Python was able to add these two numbers together. It would be fair to assume that Python automatically converts one into the other. However, Python asks the integer and float point to add themselves with built-in methods. To explain this another way, some data types in Python know how to operate with other data types when using specific operators like the addition operator `+`. \n",
    "\n",
    "The concept of automatically converting one type into another is named **type coercion** and is not supported by Python. However, you may come across this concept in other languages like JavaScript."
   ]
  },
  {
   "attachments": {},
   "cell_type": "markdown",
   "id": "ceed5f42",
   "metadata": {},
   "source": [
    "### Mutability"
   ]
  },
  {
   "attachments": {},
   "cell_type": "markdown",
   "id": "4f6bd16c",
   "metadata": {},
   "source": [
    "Before discussing data types in detail, it's important to understand which data types can change and which can't. When you use a data type, will Python be able to modify the data after creation? This is what mutability means.\n",
    "\n",
    "All data types we are about to discuss are objects. Think of an object as a container that holds information about its type, value and identity. \n",
    "\n",
    "We've covered the idea of a value and type elsewhere. Every object's value lives in a specific part of the computer's memory. We call the memory address (think of street address) its identity, which is unique to the object you create.\n",
    "\n",
    "We can use the built-in id() function to obtain an object identity. \n",
    "\n",
    "Lets consider the number `42`"
   ]
  },
  {
   "cell_type": "code",
   "execution_count": 4,
   "id": "e9e4721c",
   "metadata": {},
   "outputs": [
    {
     "data": {
      "text/plain": [
       "1328258483728"
      ]
     },
     "execution_count": 4,
     "metadata": {},
     "output_type": "execute_result"
    }
   ],
   "source": [
    "id(42)"
   ]
  },
  {
   "cell_type": "code",
   "execution_count": 5,
   "id": "e00eb458",
   "metadata": {},
   "outputs": [
    {
     "data": {
      "text/plain": [
       "1328258483152"
      ]
     },
     "execution_count": 5,
     "metadata": {},
     "output_type": "execute_result"
    }
   ],
   "source": [
    "id(24)"
   ]
  },
  {
   "attachments": {},
   "cell_type": "markdown",
   "id": "3d9a9130",
   "metadata": {},
   "source": [
    "You can see there's a unique identity for the number `42` and `24`\n",
    "\n",
    "An immutable object is an object that doesn't allow a change in its value. A mutable object can change its value without changing its identity.\n",
    "\n",
    "For example, an integer, no matter what you do in Python you can't change the number. It's possible to use operators and methods to return something new, but it's not possible to change the number itself this is stored in a piece of memory.\n",
    "\n",
    "We will see data types that can and can't be modified once created. When deciding on data types, this fact is crucial to know.\n"
   ]
  },
  {
   "attachments": {},
   "cell_type": "markdown",
   "id": "b6a4d661",
   "metadata": {},
   "source": [
    "### Integers and floating points"
   ]
  },
  {
   "attachments": {},
   "cell_type": "markdown",
   "id": "9db18572",
   "metadata": {},
   "source": [
    "One of the most basic data type in data science are numbers. Python has three number-related data types, called integers, floating-point numbers and complex numbers. We will discuss integers and floating points only in this section.\n",
    "\n",
    "An **integer** is a number with no decimal places. For example, 9 is an integer, but 9.0 is not. \n",
    "\n",
    "Run the cell below to see the output."
   ]
  },
  {
   "cell_type": "code",
   "execution_count": null,
   "id": "111ad639",
   "metadata": {},
   "outputs": [],
   "source": [
    "type(9)"
   ]
  },
  {
   "attachments": {},
   "cell_type": "markdown",
   "id": "375969df",
   "metadata": {},
   "source": [
    "A **floating-point number** is a number with a decimal place. `9.0` is a floating point number. \n",
    "\n",
    "Run the cell below to see the output.\n"
   ]
  },
  {
   "cell_type": "code",
   "execution_count": null,
   "id": "d5e10af3",
   "metadata": {},
   "outputs": [],
   "source": [
    "type(9.0)"
   ]
  },
  {
   "attachments": {},
   "cell_type": "markdown",
   "id": "b1a80c20",
   "metadata": {},
   "source": [
    "Sometimes the numbers we deal with are very large. You can use **E-notation** to express very large numbers more clearly.\n",
    "\n",
    "To write in e-notation, type a number followed by the letter e, then another number. \n",
    "\n",
    "We multiply the number on the left by 10 raised to the power of the number after the e. So 1e4 is the same as writing 1 x 10^4\n",
    "\n",
    "You can also use e notation directly in Python.\n",
    "\n",
    "Run the following cell below."
   ]
  },
  {
   "cell_type": "code",
   "execution_count": 1,
   "id": "1deb7f5d",
   "metadata": {},
   "outputs": [
    {
     "data": {
      "text/plain": [
       "10000.0"
      ]
     },
     "execution_count": 1,
     "metadata": {},
     "output_type": "execute_result"
    }
   ],
   "source": [
    "1e4"
   ]
  },
  {
   "attachments": {},
   "cell_type": "markdown",
   "id": "3edfc45d",
   "metadata": {},
   "source": [
    "The other difference between integers and floating points is that floating points have a maximum size. It depends on your system, however, `2e400` is well beyond most machines' capabilities.\n",
    "\n",
    "In the cell below, enter `2e400` and see what output you get."
   ]
  },
  {
   "cell_type": "code",
   "execution_count": 7,
   "id": "30ecc170",
   "metadata": {},
   "outputs": [
    {
     "data": {
      "text/plain": [
       "inf"
      ]
     },
     "execution_count": 7,
     "metadata": {},
     "output_type": "execute_result"
    }
   ],
   "source": [
    "2e400"
   ]
  },
  {
   "attachments": {},
   "cell_type": "markdown",
   "id": "6e95fbd3",
   "metadata": {},
   "source": [
    "What gets returned is a value `inf`, which stands for infinity. This means you've created a number beyond the maximum float point value. It's unlikely you'll come across this much but useful to know there is a limit."
   ]
  },
  {
   "attachments": {},
   "cell_type": "markdown",
   "id": "dc5a2580",
   "metadata": {},
   "source": [
    "### Converting between integers and floats"
   ]
  },
  {
   "attachments": {},
   "cell_type": "markdown",
   "id": "93746401",
   "metadata": {},
   "source": [
    "Python has a set of built-in functions that make it easy to convert from one data type to another. We will talk about `int()` and `float()` here\n",
    "\n",
    "We can pass a value between the parentheses and Python will convert it from integer to float and vice versa.\n",
    "\n",
    "Let's see an example."
   ]
  },
  {
   "cell_type": "code",
   "execution_count": 8,
   "id": "1f547b9e",
   "metadata": {},
   "outputs": [
    {
     "data": {
      "text/plain": [
       "15.0"
      ]
     },
     "execution_count": 8,
     "metadata": {},
     "output_type": "execute_result"
    }
   ],
   "source": [
    "number_of_students = 15\n",
    "float(number_of_students)"
   ]
  },
  {
   "attachments": {},
   "cell_type": "markdown",
   "id": "f66a4923",
   "metadata": {},
   "source": [
    "In the code snippet above, we've declared a variable `number_of_students` and assigned the integer `15` to that variable. In line two we have passed the variable as an argument into the float method. The output is `15.0`\n",
    "\n",
    "Lets see an example of converting from float to int.\n"
   ]
  },
  {
   "cell_type": "code",
   "execution_count": 9,
   "id": "46c43916",
   "metadata": {},
   "outputs": [
    {
     "data": {
      "text/plain": [
       "8"
      ]
     },
     "execution_count": 9,
     "metadata": {},
     "output_type": "execute_result"
    }
   ],
   "source": [
    "number_of_sessions = 8.5\n",
    "int(number_of_sessions)"
   ]
  },
  {
   "attachments": {},
   "cell_type": "markdown",
   "id": "626881b4",
   "metadata": {},
   "source": [
    "Here we pass a value `8.5` into the `int` method. The return value is `8`. Note that Python has rounded down to 8 and not up to 9 here.\n",
    "\n",
    "There are different operations you can modify numbers in Python, we will cover this in detail later, but for now, it's enough to be aware of the different number-related data types.\n",
    "\n",
    "In the next section, we'll be covering strings."
   ]
  },
  {
   "attachments": {},
   "cell_type": "markdown",
   "id": "22b2f388",
   "metadata": {},
   "source": [
    "#### Strings"
   ]
  },
  {
   "attachments": {},
   "cell_type": "markdown",
   "id": "f668c540",
   "metadata": {},
   "source": [
    "A string is a list of characters in a specific sequence. In programming, we need to work with text data like names, messages, or descriptions. Python uses strings to represent such data. \n",
    "\n",
    "To create a string, use either single or double quotes on either side of the text, Python does not distinguish."
   ]
  },
  {
   "cell_type": "code",
   "execution_count": null,
   "id": "e32d1877",
   "metadata": {},
   "outputs": [],
   "source": [
    "\"Hello World\""
   ]
  },
  {
   "attachments": {},
   "cell_type": "markdown",
   "id": "18eaa72f",
   "metadata": {},
   "source": [
    "The quotes around a string are called **delimiters**, they tell Python when a string begins and ends.\n",
    "\n",
    "Run the cell below."
   ]
  },
  {
   "cell_type": "code",
   "execution_count": 12,
   "id": "8202bd50",
   "metadata": {},
   "outputs": [
    {
     "data": {
      "text/plain": [
       "\"I said 'Python is cool'\""
      ]
     },
     "execution_count": 12,
     "metadata": {},
     "output_type": "execute_result"
    }
   ],
   "source": [
    "\"I said 'Python is cool'\" "
   ]
  },
  {
   "attachments": {},
   "cell_type": "markdown",
   "id": "01601780",
   "metadata": {},
   "source": [
    "Notice how you can still use single quotes inside a string. When Python sees a delimiter it interprets the characters after as a string\n",
    "\n",
    "Run the below cell."
   ]
  },
  {
   "cell_type": "code",
   "execution_count": 11,
   "id": "beb4884a",
   "metadata": {},
   "outputs": [
    {
     "ename": "SyntaxError",
     "evalue": "invalid syntax (3628337946.py, line 1)",
     "output_type": "error",
     "traceback": [
      "\u001b[1;36m  Cell \u001b[1;32mIn[11], line 1\u001b[1;36m\u001b[0m\n\u001b[1;33m    \"I said \"Python is not cool\"\"\u001b[0m\n\u001b[1;37m             ^\u001b[0m\n\u001b[1;31mSyntaxError\u001b[0m\u001b[1;31m:\u001b[0m invalid syntax\n"
     ]
    }
   ],
   "source": [
    "\"I said \"Python is not cool\"\""
   ]
  },
  {
   "attachments": {},
   "cell_type": "markdown",
   "id": "de0de786",
   "metadata": {},
   "source": [
    "Python throws an error called a `SyntaxError` because it thinks the string ends at the second \" and doesn't know what to do with the rest.\n",
    "\n",
    "It's a good idea to be consistent whether you use single or double quotes to create strings."
   ]
  },
  {
   "attachments": {},
   "cell_type": "markdown",
   "id": "9962239c",
   "metadata": {},
   "source": [
    "#### Determine the length of a string"
   ]
  },
  {
   "attachments": {},
   "cell_type": "markdown",
   "id": "66e61751",
   "metadata": {},
   "source": [
    "The number of characters of a string with spaces included is called the **length** of a string. \n",
    "\n",
    "For example, the string `\"Python\"` has a length of 6. \n",
    "\n",
    "To determine the length of a string we use a built-in function `len()` \n",
    "\n",
    "Run the cell below."
   ]
  },
  {
   "cell_type": "code",
   "execution_count": null,
   "id": "60e95602",
   "metadata": {},
   "outputs": [],
   "source": [
    "len(\"Python\")"
   ]
  },
  {
   "attachments": {},
   "cell_type": "markdown",
   "id": "6ae14bb6",
   "metadata": {},
   "source": [
    "Now try to find the length of the string \"Data Science\" in the cell be"
   ]
  },
  {
   "cell_type": "code",
   "execution_count": null,
   "id": "7fb78f88",
   "metadata": {},
   "outputs": [],
   "source": []
  },
  {
   "attachments": {},
   "cell_type": "markdown",
   "id": "32918480",
   "metadata": {},
   "source": [
    "Its possible to also determine the length of a string that has been assigned to a variable name "
   ]
  },
  {
   "cell_type": "code",
   "execution_count": 13,
   "id": "38698491",
   "metadata": {},
   "outputs": [
    {
     "data": {
      "text/plain": [
       "12"
      ]
     },
     "execution_count": 13,
     "metadata": {},
     "output_type": "execute_result"
    }
   ],
   "source": [
    "course = \"Data Science\"\n",
    "len(course)"
   ]
  },
  {
   "attachments": {},
   "cell_type": "markdown",
   "id": "05d14e42",
   "metadata": {},
   "source": [
    "First, we assign the variable `courses` to the string `Data Science` and pass that string as an argument to the len function. What will be returned?\n",
    "\n",
    "Now create a variable `new_course` and give it the value \"Machine learning\" and determine the length of that string."
   ]
  },
  {
   "cell_type": "code",
   "execution_count": null,
   "id": "7d3ca69b",
   "metadata": {},
   "outputs": [],
   "source": []
  },
  {
   "attachments": {},
   "cell_type": "markdown",
   "id": "701064c7",
   "metadata": {},
   "source": [
    "### Converting between strings and numbers"
   ]
  },
  {
   "attachments": {},
   "cell_type": "markdown",
   "id": "33c53498",
   "metadata": {},
   "source": [
    "We explored in the last section methods to convert integers to floats and vice versa. Python also has a built-in method called `str()` that converts many data types to a string."
   ]
  },
  {
   "cell_type": "code",
   "execution_count": 15,
   "id": "83f05479",
   "metadata": {},
   "outputs": [
    {
     "data": {
      "text/plain": [
       "'3.0'"
      ]
     },
     "execution_count": 15,
     "metadata": {},
     "output_type": "execute_result"
    }
   ],
   "source": [
    "str(3.0)"
   ]
  },
  {
   "cell_type": "code",
   "execution_count": 16,
   "id": "34f4dca2",
   "metadata": {},
   "outputs": [
    {
     "data": {
      "text/plain": [
       "'2'"
      ]
     },
     "execution_count": 16,
     "metadata": {},
     "output_type": "execute_result"
    }
   ],
   "source": [
    "str(2)"
   ]
  },
  {
   "attachments": {},
   "cell_type": "markdown",
   "id": "d5cbfb4d",
   "metadata": {},
   "source": [
    "Now convert the number 1000 into a string"
   ]
  },
  {
   "cell_type": "code",
   "execution_count": null,
   "id": "5b8f4e38",
   "metadata": {},
   "outputs": [],
   "source": []
  },
  {
   "attachments": {},
   "cell_type": "markdown",
   "id": "e57bdae3",
   "metadata": {},
   "source": [
    "#### Concatenation"
   ]
  },
  {
   "attachments": {},
   "cell_type": "markdown",
   "id": "d1631e0c",
   "metadata": {},
   "source": [
    "**Concatenation** is a term used describe joining two strings together using the `+` operator\n",
    "\n",
    "What is the output before running the code? \n",
    "\n",
    "Now run the code snippet below to see the output. "
   ]
  },
  {
   "cell_type": "code",
   "execution_count": 17,
   "id": "6b9a7c7d",
   "metadata": {},
   "outputs": [
    {
     "data": {
      "text/plain": [
       "'DataScience'"
      ]
     },
     "execution_count": 17,
     "metadata": {},
     "output_type": "execute_result"
    }
   ],
   "source": [
    "string1 = \"Data\"\n",
    "string2 = \"Science\"\n",
    "course = string1 + string2\n",
    "course"
   ]
  },
  {
   "attachments": {},
   "cell_type": "markdown",
   "id": "8e9ec5c5",
   "metadata": {},
   "source": [
    "You might have seen no space between the two words in the return value. Spaces are also characters in Python.\n",
    "\n",
    "Run the cell below to see the output."
   ]
  },
  {
   "cell_type": "code",
   "execution_count": 18,
   "id": "6cfb00ed",
   "metadata": {},
   "outputs": [
    {
     "data": {
      "text/plain": [
       "'Joe Bloggs'"
      ]
     },
     "execution_count": 18,
     "metadata": {},
     "output_type": "execute_result"
    }
   ],
   "source": [
    "first_name = \"Joe\"\n",
    "last_name = \"Bloggs\"\n",
    "full_name = first_name + \" \" + last_name\n",
    "full_name"
   ]
  },
  {
   "attachments": {},
   "cell_type": "markdown",
   "id": "bd5c8d0d",
   "metadata": {},
   "source": [
    "In this example, we are concatenating three strings together. \n",
    "\n",
    "In the cell below, create a variable that is a string of your name, but also gives you the ability to change the first name and last name easily."
   ]
  },
  {
   "cell_type": "code",
   "execution_count": null,
   "id": "88d44daf",
   "metadata": {},
   "outputs": [],
   "source": []
  },
  {
   "attachments": {},
   "cell_type": "markdown",
   "id": "6b06d983",
   "metadata": {},
   "source": [
    "#### Indexing"
   ]
  },
  {
   "attachments": {},
   "cell_type": "markdown",
   "id": "09ed9626",
   "metadata": {},
   "source": [
    "In a string literal, each character has a numbered position we call an **index**. We can access the position of a string by putting a number between two square brackets immediately after the string\n",
    "\n",
    "Look at the code snippet below. Can you guess what the output will be?"
   ]
  },
  {
   "cell_type": "code",
   "execution_count": 19,
   "id": "33af21c8",
   "metadata": {},
   "outputs": [
    {
     "data": {
      "text/plain": [
       "'a'"
      ]
     },
     "execution_count": 19,
     "metadata": {},
     "output_type": "execute_result"
    }
   ],
   "source": [
    "course = \"Data Science\"\n",
    "course[1]"
   ]
  },
  {
   "attachments": {},
   "cell_type": "markdown",
   "id": "f0c4110f",
   "metadata": {},
   "source": [
    "It might make sense for the index `1` to be the first letter in the string, but counting always starts from zero in Python."
   ]
  },
  {
   "attachments": {},
   "cell_type": "markdown",
   "id": "dc93e6f2",
   "metadata": {},
   "source": [
    "In the next cell, try to access the first letter of the string \"Data Science\""
   ]
  },
  {
   "cell_type": "code",
   "execution_count": null,
   "id": "1046df82",
   "metadata": {},
   "outputs": [],
   "source": []
  },
  {
   "attachments": {},
   "cell_type": "markdown",
   "id": "d3abbd48",
   "metadata": {},
   "source": [
    "What happens if we try to access an index beyond the end of a string? "
   ]
  },
  {
   "cell_type": "code",
   "execution_count": 20,
   "id": "65f6de07",
   "metadata": {},
   "outputs": [
    {
     "ename": "IndexError",
     "evalue": "string index out of range",
     "output_type": "error",
     "traceback": [
      "\u001b[1;31m---------------------------------------------------------------------------\u001b[0m",
      "\u001b[1;31mIndexError\u001b[0m                                Traceback (most recent call last)",
      "Cell \u001b[1;32mIn[20], line 2\u001b[0m\n\u001b[0;32m      1\u001b[0m courses \u001b[39m=\u001b[39m \u001b[39m\"\u001b[39m\u001b[39mData Science\u001b[39m\u001b[39m\"\u001b[39m\n\u001b[1;32m----> 2\u001b[0m courses[\u001b[39m14\u001b[39;49m]\n",
      "\u001b[1;31mIndexError\u001b[0m: string index out of range"
     ]
    }
   ],
   "source": [
    "courses = \"Data Science\"\n",
    "courses[14]"
   ]
  },
  {
   "attachments": {},
   "cell_type": "markdown",
   "id": "7c6cab70",
   "metadata": {},
   "source": [
    "Python will through an error called `IndexError`. The largest index a string can have is one less than the length of the string. So if the string is \"Data\" the last index will be 3.\n",
    "\n",
    "Strings also can have negative indexes\n",
    "\n",
    "Try to run the cell below and guess what the output will be."
   ]
  },
  {
   "cell_type": "code",
   "execution_count": 21,
   "id": "0942333d",
   "metadata": {},
   "outputs": [
    {
     "data": {
      "text/plain": [
       "'e'"
      ]
     },
     "execution_count": 21,
     "metadata": {},
     "output_type": "execute_result"
    }
   ],
   "source": [
    "courses = \"Data Science\"\n",
    "courses[-1]\n"
   ]
  },
  {
   "attachments": {},
   "cell_type": "markdown",
   "id": "c0f4c128",
   "metadata": {},
   "source": [
    "In programming, sometimes you want to access the last character of a string, it's quicker to use -1 instead of having to think about how many characters the word has.\n",
    "\n",
    "Can you figure out another way to find the final index number of a string?"
   ]
  },
  {
   "cell_type": "code",
   "execution_count": null,
   "id": "9ba0179a",
   "metadata": {},
   "outputs": [],
   "source": []
  },
  {
   "attachments": {},
   "cell_type": "markdown",
   "id": "76cccc9d",
   "metadata": {},
   "source": [
    "#### Slicing"
   ]
  },
  {
   "attachments": {},
   "cell_type": "markdown",
   "id": "f658daed",
   "metadata": {},
   "source": [
    "Sometimes when dealing with strings, you want to be able to capture only a few characters. We could use indexes for each character to do this, but Python provides another way called slicing with much less typing. \n",
    "\n",
    "A portion of a string is called a **substring**. To obtain a substring, we insert a colon between two index numbers inside the square bracket.\n",
    "\n",
    "Before running the cell below, try to use your knowledge to figure out what it might output."
   ]
  },
  {
   "cell_type": "code",
   "execution_count": null,
   "id": "b04d5a9c",
   "metadata": {},
   "outputs": [],
   "source": [
    "courses = \"Data Science\"\n",
    "courses[0:4]"
   ]
  },
  {
   "attachments": {},
   "cell_type": "markdown",
   "id": "a417bb19",
   "metadata": {},
   "source": [
    "In the code snippet above, we want to access the characters from index 0 up to but not including index 4. In this case, it returns the substring `Data`\n",
    "\n",
    "Another way to slice from the beginning of a string is to omit the first index."
   ]
  },
  {
   "cell_type": "code",
   "execution_count": 23,
   "id": "362ac539",
   "metadata": {},
   "outputs": [
    {
     "data": {
      "text/plain": [
       "'Data'"
      ]
     },
     "execution_count": 23,
     "metadata": {},
     "output_type": "execute_result"
    }
   ],
   "source": [
    "courses = \"Data Science\"\n",
    "courses[:4]"
   ]
  },
  {
   "attachments": {},
   "cell_type": "markdown",
   "id": "0504baa5",
   "metadata": {},
   "source": [
    "It's also possible to omit the second index in the slice too."
   ]
  },
  {
   "cell_type": "code",
   "execution_count": 22,
   "id": "30a8e848",
   "metadata": {},
   "outputs": [
    {
     "data": {
      "text/plain": [
       "'Science'"
      ]
     },
     "execution_count": 22,
     "metadata": {},
     "output_type": "execute_result"
    }
   ],
   "source": [
    "courses = \"Data Science\"\n",
    "courses[5:]"
   ]
  },
  {
   "attachments": {},
   "cell_type": "markdown",
   "id": "fec47127",
   "metadata": {},
   "source": [
    "What would happen if you omit both indexes in the slice? Run the code snippet below."
   ]
  },
  {
   "cell_type": "code",
   "execution_count": 2,
   "id": "fa9f5d13",
   "metadata": {},
   "outputs": [
    {
     "data": {
      "text/plain": [
       "'Data Science'"
      ]
     },
     "execution_count": 2,
     "metadata": {},
     "output_type": "execute_result"
    }
   ],
   "source": [
    "courses = \"Data Science\"\n",
    "courses[:]"
   ]
  },
  {
   "attachments": {},
   "cell_type": "markdown",
   "id": "0fe93d97",
   "metadata": {},
   "source": [
    "You can see here the whole string was returned. \n",
    "\n",
    "If you try to access an index beyond the string length in a slice Python will not raise an `IndexError` but instead return an empty string."
   ]
  },
  {
   "cell_type": "code",
   "execution_count": 24,
   "id": "a2751f68",
   "metadata": {},
   "outputs": [
    {
     "data": {
      "text/plain": [
       "''"
      ]
     },
     "execution_count": 24,
     "metadata": {},
     "output_type": "execute_result"
    }
   ],
   "source": [
    "courses = \"Data Science\"\n",
    "courses[13:15]"
   ]
  },
  {
   "attachments": {},
   "cell_type": "markdown",
   "id": "c60a9581",
   "metadata": {},
   "source": [
    "\n",
    "Similarly if you go beyond the string length in a slice it will return up to the number of characters in a string."
   ]
  },
  {
   "cell_type": "code",
   "execution_count": 25,
   "id": "9f7a7945",
   "metadata": {},
   "outputs": [
    {
     "data": {
      "text/plain": [
       "' Science'"
      ]
     },
     "execution_count": 25,
     "metadata": {},
     "output_type": "execute_result"
    }
   ],
   "source": [
    "courses = \"Data Science\"\n",
    "courses[4:15]"
   ]
  },
  {
   "attachments": {},
   "cell_type": "markdown",
   "id": "3f254aac",
   "metadata": {},
   "source": [
    "It's also possible to use negative indexes when it comes to string slices they work the same way as positive ones."
   ]
  },
  {
   "attachments": {},
   "cell_type": "markdown",
   "id": "76185ec1",
   "metadata": {},
   "source": [
    "#### Strings are immutable"
   ]
  },
  {
   "attachments": {},
   "cell_type": "markdown",
   "id": "5b8831d4",
   "metadata": {},
   "source": [
    "We discussed the concept of mutability in a previous section but we should explicitly point out that strings are immutable. Once you create a string you can't change it. \n",
    "\n",
    "Try creating a string and assigning it to a variable. Then try to change a letter in a string in the cell below."
   ]
  },
  {
   "cell_type": "code",
   "execution_count": null,
   "id": "63cf017d",
   "metadata": {},
   "outputs": [],
   "source": []
  },
  {
   "attachments": {},
   "cell_type": "markdown",
   "id": "82d552d8",
   "metadata": {},
   "source": [
    "Notice how it throws an error called a `TypeError` which means that strings do not support modification.\n",
    "\n",
    "To change a string you must create a new one. For example say we want to change the string `Science` to `Data Sciences`  we can use slicing and concatenation to do that."
   ]
  },
  {
   "cell_type": "code",
   "execution_count": 27,
   "id": "c8de4c65",
   "metadata": {},
   "outputs": [
    {
     "data": {
      "text/plain": [
       "'Sciences'"
      ]
     },
     "execution_count": 27,
     "metadata": {},
     "output_type": "execute_result"
    }
   ],
   "source": [
    "word = 'Science'\n",
    "word = word[:] + 's'\n",
    "word"
   ]
  },
  {
   "attachments": {},
   "cell_type": "markdown",
   "id": "d6342746",
   "metadata": {},
   "source": [
    "Another way we can manipulate strings is by using string methods that Python has built-in into the language. A method is a special function that we can use on data types. Don't worry about the term function or method, we'll cover this in detail later."
   ]
  },
  {
   "attachments": {},
   "cell_type": "markdown",
   "id": "6dcdfcd1",
   "metadata": {},
   "source": [
    "### String interpolation"
   ]
  },
  {
   "attachments": {},
   "cell_type": "markdown",
   "id": "fbb3b7cb",
   "metadata": {},
   "source": [
    "Sometimes you have some placeholder text in your string that you want be able to change the string depending on other data. We can insert variables into a specific location in a string so we can vary what the eventual string looks like. This is called **string interpolation**. \n",
    "\n",
    "There are a few ways you could do this.\n",
    "\n",
    "1.  Use a print function with variables and strings\n",
    "2.  Use string concatenation and the print function\n",
    "3.  Use f-strings (stands for formatted string)\n"
   ]
  },
  {
   "attachments": {},
   "cell_type": "markdown",
   "id": "bf9056e1",
   "metadata": {},
   "source": [
    "We will discuss using f-strings as its a much clearer way to provide this dynamic way of creating strings.\n",
    "\n",
    "Run the cell below to see the output."
   ]
  },
  {
   "cell_type": "code",
   "execution_count": 3,
   "id": "d828dc20",
   "metadata": {},
   "outputs": [
    {
     "data": {
      "text/plain": [
       "'Joe Bloggs has been learning Data Science for 1 weeks'"
      ]
     },
     "execution_count": 3,
     "metadata": {},
     "output_type": "execute_result"
    }
   ],
   "source": [
    "name = \"Joe Bloggs\"\n",
    "course = \"Data Science\"\n",
    "time = 1\n",
    "f\"{name} has been learning {course} for {time} weeks\""
   ]
  },
  {
   "attachments": {},
   "cell_type": "markdown",
   "id": "2c373f6f",
   "metadata": {},
   "source": [
    "\n",
    "Notice how we start the string with an f and the variable we want to embed starts with curly braces. The variable `time` is assigned the number 1. We did not have to convert the number to a string.\n",
    "\n",
    "It's also possible to provide expressions in between the curly braces. Run the cell below to see what the output would be."
   ]
  },
  {
   "cell_type": "code",
   "execution_count": 30,
   "id": "8ae4b7f3",
   "metadata": {},
   "outputs": [
    {
     "data": {
      "text/plain": [
       "'Joe Bloggs is learning Data Science for 3 weeks'"
      ]
     },
     "execution_count": 30,
     "metadata": {},
     "output_type": "execute_result"
    }
   ],
   "source": [
    "name = \"Joe Bloggs\"\n",
    "course = \"Data Science\"\n",
    "time = 1\n",
    "f\"{name} is learning {course} for {time + 2} weeks\""
   ]
  },
  {
   "attachments": {},
   "cell_type": "markdown",
   "id": "97c3d873",
   "metadata": {},
   "source": [
    "You can see the expression `time + 2` is automatically evaluated."
   ]
  },
  {
   "attachments": {},
   "cell_type": "markdown",
   "id": "c4dc34a7",
   "metadata": {},
   "source": [
    "### Booleans"
   ]
  },
  {
   "attachments": {},
   "cell_type": "markdown",
   "id": "c27e26cf",
   "metadata": {},
   "source": [
    "Booleans are a way to represent `True` and `False` values. In programming, you often need to know if something is true or false. True and false values provide logic that allows different code to be run (we call this conditional logic). "
   ]
  },
  {
   "cell_type": "code",
   "execution_count": null,
   "id": "23a4c442",
   "metadata": {},
   "outputs": [],
   "source": [
    "True\n"
   ]
  },
  {
   "cell_type": "code",
   "execution_count": null,
   "id": "edc1368f",
   "metadata": {},
   "outputs": [],
   "source": [
    "False"
   ]
  },
  {
   "attachments": {},
   "cell_type": "markdown",
   "id": "e14f9d88",
   "metadata": {},
   "source": [
    "Below, create a variable and assign the value True to it."
   ]
  },
  {
   "cell_type": "code",
   "execution_count": null,
   "id": "7e5fce0b",
   "metadata": {},
   "outputs": [],
   "source": []
  },
  {
   "attachments": {},
   "cell_type": "markdown",
   "id": "994c3f1f",
   "metadata": {},
   "source": [
    "We will cover much more about booleans when we cover operators. For now knowing there are values True and False in Python is enough."
   ]
  },
  {
   "attachments": {},
   "cell_type": "markdown",
   "id": "f70b5822",
   "metadata": {},
   "source": [
    "### Lists"
   ]
  },
  {
   "attachments": {},
   "cell_type": "markdown",
   "id": "bf23496d",
   "metadata": {},
   "source": [
    "A list is a collection of zero or more values that have a specific order. A list is defined by having values between square brackets `[]`. Each value inside a list is called a **list item** or **list element**\n",
    "\n",
    "Lists allow any data types to be stored. If you need a specific order to access data a list is also the right choice.\n",
    "\n",
    "Example \n",
    "\n",
    "Let's create a list"
   ]
  },
  {
   "cell_type": "code",
   "execution_count": 31,
   "id": "ff0ffca3",
   "metadata": {},
   "outputs": [
    {
     "data": {
      "text/plain": [
       "list"
      ]
     },
     "execution_count": 31,
     "metadata": {},
     "output_type": "execute_result"
    }
   ],
   "source": [
    "colors = ['red','yellow','green','blue']\n",
    "type(colors)"
   ]
  },
  {
   "attachments": {},
   "cell_type": "markdown",
   "id": "66862f90",
   "metadata": {},
   "source": [
    "List items can be of any data type in Python and like strings, indexing and slicing work with lists the same way."
   ]
  },
  {
   "cell_type": "code",
   "execution_count": 4,
   "id": "568a621f",
   "metadata": {},
   "outputs": [
    {
     "data": {
      "text/plain": [
       "2"
      ]
     },
     "execution_count": 4,
     "metadata": {},
     "output_type": "execute_result"
    }
   ],
   "source": [
    "numbers = [1,2,3,4]\n",
    "numbers[1]"
   ]
  },
  {
   "attachments": {},
   "cell_type": "markdown",
   "id": "3c558f26",
   "metadata": {},
   "source": [
    "We can access any list item using index notation.\n",
    "\n",
    "In the cell below try to access the last element in the list."
   ]
  },
  {
   "cell_type": "code",
   "execution_count": null,
   "id": "9d75fcda",
   "metadata": {},
   "outputs": [],
   "source": [
    "numbers = [1,2,3,4,5,6,7,8]"
   ]
  },
  {
   "attachments": {},
   "cell_type": "markdown",
   "id": "d228ed8f",
   "metadata": {},
   "source": [
    "Slicing also works the same as for strings. \n",
    "\n",
    "In the cell below, create a list of the first 3 list elements of `numbers`"
   ]
  },
  {
   "cell_type": "code",
   "execution_count": null,
   "id": "074376d1",
   "metadata": {},
   "outputs": [],
   "source": [
    "numbers = [1,2,3,4,5,6,7,8]"
   ]
  },
  {
   "attachments": {},
   "cell_type": "markdown",
   "id": "7ed82e5f",
   "metadata": {},
   "source": [
    "A list is a mutable data type, you can change the list items by assigning new values using index notation."
   ]
  },
  {
   "cell_type": "code",
   "execution_count": 33,
   "id": "241c2310",
   "metadata": {},
   "outputs": [
    {
     "data": {
      "text/plain": [
       "['brown', 'yellow', 'green', 'blue']"
      ]
     },
     "execution_count": 33,
     "metadata": {},
     "output_type": "execute_result"
    }
   ],
   "source": [
    "colors = ['red','yellow','green','blue']\n",
    "colors[0] = 'brown'\n",
    "colors"
   ]
  },
  {
   "attachments": {},
   "cell_type": "markdown",
   "id": "951816bf",
   "metadata": {},
   "source": [
    "In the cell below, change the list element `green` to `purple`."
   ]
  },
  {
   "cell_type": "code",
   "execution_count": null,
   "id": "53399d15",
   "metadata": {},
   "outputs": [],
   "source": [
    "colors = ['red','yellow','green','blue']"
   ]
  },
  {
   "attachments": {},
   "cell_type": "markdown",
   "id": "b829e317",
   "metadata": {},
   "source": [
    "You can also assign several values with a **slice assignment**."
   ]
  },
  {
   "cell_type": "code",
   "execution_count": 34,
   "id": "61b1030f",
   "metadata": {},
   "outputs": [
    {
     "data": {
      "text/plain": [
       "['red', 'orange', 'magenta', 'blue']"
      ]
     },
     "execution_count": 34,
     "metadata": {},
     "output_type": "execute_result"
    }
   ],
   "source": [
    "colors = ['red','yellow','green','blue']\n",
    "colors[1:3] = ['orange','magenta']\n",
    "colors"
   ]
  },
  {
   "attachments": {},
   "cell_type": "markdown",
   "id": "ad39a561",
   "metadata": {},
   "source": [
    "In the cell below, change the last two list elements to `black` and `white`"
   ]
  },
  {
   "cell_type": "code",
   "execution_count": null,
   "id": "6bb8ddd9",
   "metadata": {},
   "outputs": [],
   "source": []
  },
  {
   "attachments": {},
   "cell_type": "markdown",
   "id": "226c1ec1",
   "metadata": {},
   "source": [
    "Now we've covered the basics of lists we will explore the dictionaries data type."
   ]
  },
  {
   "attachments": {},
   "cell_type": "markdown",
   "id": "4caf2f85",
   "metadata": {},
   "source": [
    "### Dictionaries"
   ]
  },
  {
   "attachments": {},
   "cell_type": "markdown",
   "id": "623a279e",
   "metadata": {},
   "source": [
    "Dictionaries store a collection of relationships between names and values. Unlike lists, these do not have order. They hold information in pairs of data called **key** and **values**. \n",
    "\n",
    "A **key** is a unique name that identifies the value part of the pair. Compare this to a dictionary, the key is the word you look up and the value is the definition of a word.\n",
    "\n",
    "Each key in this section has been a string, but in Python, there is no rule that says you can't have multiple data types as keys. \n",
    "\n",
    "The only restriction to the data type of a key is that it has to be immutable. Consider if the key was mutable what would be the impact? If we could change the keys the relationship between the key and value pair would be lost within the code.   Whereas a dictionary value can be any valid Python data type.\n"
   ]
  },
  {
   "cell_type": "code",
   "execution_count": 35,
   "id": "980cf660",
   "metadata": {},
   "outputs": [
    {
     "data": {
      "text/plain": [
       "{'Scotland': 'Edinburgh', 'England': 'London', 'France': 'Paris'}"
      ]
     },
     "execution_count": 35,
     "metadata": {},
     "output_type": "execute_result"
    }
   ],
   "source": [
    "\n",
    "capitals = {\n",
    "\t\"Scotland\": \"Edinburgh\",\n",
    "\t\"England\": \"London\",\n",
    "\t\"France\": \"Paris\"\n",
    "}\n",
    "capitals"
   ]
  },
  {
   "attachments": {},
   "cell_type": "markdown",
   "id": "0ec8745d",
   "metadata": {},
   "source": [
    "In the cell below, create an dictionary of 3 systems of the body with a value of a disease in that system. For example a key value pair could be `\"cardiac\": \"Myocardial Infarction\"` Assign the dictionary to the name `diseases`. Display the contents of the variable."
   ]
  },
  {
   "cell_type": "code",
   "execution_count": null,
   "id": "d0a190bf",
   "metadata": {},
   "outputs": [],
   "source": []
  },
  {
   "attachments": {},
   "cell_type": "markdown",
   "id": "7c1909c1",
   "metadata": {},
   "source": [
    "### Accessing a dictionary value"
   ]
  },
  {
   "attachments": {},
   "cell_type": "markdown",
   "id": "7fa71398",
   "metadata": {},
   "source": [
    "To access a dictionary value, we enclose the key inside square brackets at the end of the variable name."
   ]
  },
  {
   "cell_type": "code",
   "execution_count": 36,
   "id": "7170c741",
   "metadata": {},
   "outputs": [
    {
     "data": {
      "text/plain": [
       "'Edinburgh'"
      ]
     },
     "execution_count": 36,
     "metadata": {},
     "output_type": "execute_result"
    }
   ],
   "source": [
    "capitals = {\n",
    "\t\"Scotland\": \"Edinburgh\",\n",
    "\t\"England\": \"London\",\n",
    "\t\"France\": \"Paris\"\n",
    "}\n",
    "\n",
    "capitals['Scotland']"
   ]
  },
  {
   "attachments": {},
   "cell_type": "markdown",
   "id": "d2a3e246",
   "metadata": {},
   "source": [
    "Accessing items in a list are by indexes, an integer that expresses the order of the items. Dictionary items are accessed by a key which has no defined order and is a label that references the value."
   ]
  },
  {
   "attachments": {},
   "cell_type": "markdown",
   "id": "66e0db20",
   "metadata": {},
   "source": [
    "In the code snippet below, access the capital of france."
   ]
  },
  {
   "cell_type": "code",
   "execution_count": null,
   "id": "1ce1e45b",
   "metadata": {},
   "outputs": [],
   "source": [
    "capitals = {\n",
    "\t\"Scotland\": \"Edinburgh\",\n",
    "\t\"England\": \"London\",\n",
    "\t\"France\": \"Paris\"\n",
    "}"
   ]
  },
  {
   "attachments": {},
   "cell_type": "markdown",
   "id": "64e29185",
   "metadata": {},
   "source": [
    "### Adding and removing values"
   ]
  },
  {
   "attachments": {},
   "cell_type": "markdown",
   "id": "2758d6e5",
   "metadata": {},
   "source": [
    "Dictionaries like lists are mutable data types, you can add and remove from a dictionary easily.\n",
    "\n",
    "Use the square bracket notation to add the key and use the assignment operator to assign the value you wish for that key to have."
   ]
  },
  {
   "cell_type": "code",
   "execution_count": 38,
   "id": "b21cb21b",
   "metadata": {},
   "outputs": [
    {
     "data": {
      "text/plain": [
       "{'Scotland': 'Edinburgh',\n",
       " 'England': 'London',\n",
       " 'France': 'Paris',\n",
       " 'Spain': 'Madrid'}"
      ]
     },
     "execution_count": 38,
     "metadata": {},
     "output_type": "execute_result"
    }
   ],
   "source": [
    "capitals = {\n",
    "\t\"Scotland\": \"Edinburgh\",\n",
    "\t\"England\": \"London\",\n",
    "\t\"France\": \"Paris\"\n",
    "}\n",
    "\n",
    "capitals['Spain'] = \"Madrid\"\n",
    "capitals\n"
   ]
  },
  {
   "attachments": {},
   "cell_type": "markdown",
   "id": "d2754f54",
   "metadata": {},
   "source": [
    "Each key can only be assigned one value, if the key has a new value, it will overwrite the old one.\n",
    "\n",
    "In the code snippet below, add the capital italy to the dictionary and display the result."
   ]
  },
  {
   "cell_type": "code",
   "execution_count": null,
   "id": "d3f62a01",
   "metadata": {},
   "outputs": [],
   "source": [
    "capitals = {\n",
    "\t\"Scotland\": \"Edinburgh\",\n",
    "\t\"England\": \"London\",\n",
    "\t\"France\": \"Paris\"\n",
    "}"
   ]
  },
  {
   "attachments": {},
   "cell_type": "markdown",
   "id": "78a4fa32",
   "metadata": {},
   "source": [
    "To remove an item, we use the `del` keyword with the key. "
   ]
  },
  {
   "cell_type": "code",
   "execution_count": 39,
   "id": "c7ad01a0",
   "metadata": {},
   "outputs": [
    {
     "data": {
      "text/plain": [
       "{'England': 'London', 'France': 'Paris'}"
      ]
     },
     "execution_count": 39,
     "metadata": {},
     "output_type": "execute_result"
    }
   ],
   "source": [
    "capitals = {\n",
    "\t\"Scotland\": \"Edinburgh\",\n",
    "\t\"England\": \"London\",\n",
    "\t\"France\": \"Paris\"\n",
    "}\n",
    "del capitals['Scotland']\n",
    "capitals"
   ]
  },
  {
   "attachments": {},
   "cell_type": "markdown",
   "id": "d3fadd32",
   "metadata": {},
   "source": [
    "In the code snippet below, delete the key-value pair `\"Scotland\":\"Edinburgh\"`"
   ]
  },
  {
   "cell_type": "code",
   "execution_count": null,
   "id": "065523b6",
   "metadata": {},
   "outputs": [],
   "source": [
    "capitals = {\n",
    "\t\"Scotland\": \"Edinburgh\",\n",
    "\t\"England\": \"London\",\n",
    "\t\"France\": \"Paris\"\n",
    "}"
   ]
  },
  {
   "attachments": {},
   "cell_type": "markdown",
   "id": "98b663a3",
   "metadata": {},
   "source": [
    "### Tuples"
   ]
  },
  {
   "attachments": {},
   "cell_type": "markdown",
   "id": "a52eda87",
   "metadata": {},
   "source": [
    "A tuple is a fixed-ordered size sequence of values. To create a tuple, we use parentheses to start and end the tuple with numbers separated by a comma. For example, `(1,2,3)` is a tuple containing integers.\n",
    "\n",
    "Tuples are immutable data types, once a tuple is created you can't modify them."
   ]
  },
  {
   "attachments": {},
   "cell_type": "markdown",
   "id": "f933b3ca",
   "metadata": {},
   "source": [
    "### Creating a tuple"
   ]
  },
  {
   "cell_type": "code",
   "execution_count": null,
   "id": "c9ec911d",
   "metadata": {},
   "outputs": [],
   "source": [
    "number_tuple = (1,2,3)\n",
    "type(number_tuple)"
   ]
  },
  {
   "attachments": {},
   "cell_type": "markdown",
   "id": "148eec54",
   "metadata": {},
   "source": [
    "Tuples unlike strings can contain any type of value, `(1,2.0, 'three')` is valid syntax."
   ]
  },
  {
   "attachments": {},
   "cell_type": "markdown",
   "id": "529a10f6",
   "metadata": {},
   "source": [
    "In the cell below, create a tuple of even numbers and assign it a variable name. Display the output."
   ]
  },
  {
   "cell_type": "code",
   "execution_count": null,
   "id": "06acdc05",
   "metadata": {},
   "outputs": [],
   "source": []
  },
  {
   "attachments": {},
   "cell_type": "markdown",
   "id": "78b1e4a8",
   "metadata": {},
   "source": [
    "\n",
    "A tuple that doesn't contain values is called an **empty tuple**"
   ]
  },
  {
   "cell_type": "code",
   "execution_count": null,
   "id": "2fd955d2",
   "metadata": {},
   "outputs": [],
   "source": [
    "empty_tuple = ()"
   ]
  },
  {
   "attachments": {},
   "cell_type": "markdown",
   "id": "644c4dec",
   "metadata": {},
   "source": [
    "### Indexing and Slicing"
   ]
  },
  {
   "attachments": {},
   "cell_type": "markdown",
   "id": "1001bb7b",
   "metadata": {},
   "source": [
    "Tuples can be indexed and sliced like strings and lists.\n",
    "\n",
    "In the cell below, access the 2nd to last element of the tuple."
   ]
  },
  {
   "cell_type": "code",
   "execution_count": null,
   "id": "1e963f21",
   "metadata": {},
   "outputs": [],
   "source": [
    "number_tuple = (1,2,3,4,5,6)\n"
   ]
  },
  {
   "attachments": {},
   "cell_type": "markdown",
   "id": "7f873651",
   "metadata": {},
   "source": [
    "In the cell below, slice the tuple of the 2nd to 5th items in the tuple."
   ]
  },
  {
   "cell_type": "code",
   "execution_count": null,
   "id": "fd144850",
   "metadata": {},
   "outputs": [],
   "source": []
  },
  {
   "attachments": {},
   "cell_type": "markdown",
   "id": "e75f54c2",
   "metadata": {},
   "source": [
    "### Sets"
   ]
  },
  {
   "attachments": {},
   "cell_type": "markdown",
   "id": "ac447883",
   "metadata": {},
   "source": [
    "A set is an unordered mutable collection of unique values. By unique we mean that there are no duplicate elements within a set. It is highly optimised for checking whether a specific element is in a set. \n",
    "\n",
    "Sets can be created similarly to lists however, instead of square brackets we use curly brackets. For example, `{1,2,3}`. Any duplicate elements will be removed when creating a set in this way.\n",
    "\n",
    "Another way we can create a set is by using the `set()` built-in method. Using a set method, any data type that Python can loop over (we call this iterable) we can pass into this method. For this course, lists, tuples and strings are "
   ]
  },
  {
   "attachments": {},
   "cell_type": "markdown",
   "id": "32156c8f",
   "metadata": {},
   "source": [
    "#### Creating a Set"
   ]
  },
  {
   "attachments": {},
   "cell_type": "markdown",
   "id": "d5c91300",
   "metadata": {},
   "source": [
    "Run the code snippet below. "
   ]
  },
  {
   "cell_type": "code",
   "execution_count": 5,
   "id": "945b0868",
   "metadata": {},
   "outputs": [
    {
     "data": {
      "text/plain": [
       "{'Course', 'Data', 'Science'}"
      ]
     },
     "execution_count": 5,
     "metadata": {},
     "output_type": "execute_result"
    }
   ],
   "source": [
    "courseSet = { 'Data','Science','Course' }\n",
    "courseSet"
   ]
  },
  {
   "cell_type": "code",
   "execution_count": 6,
   "id": "7a9841ef",
   "metadata": {},
   "outputs": [
    {
     "data": {
      "text/plain": [
       "set"
      ]
     },
     "execution_count": 6,
     "metadata": {},
     "output_type": "execute_result"
    }
   ],
   "source": [
    "courseSet = { 'Data','Science','Course' }\n",
    "courseSet\n",
    "type(courseSet)\n"
   ]
  },
  {
   "attachments": {},
   "cell_type": "markdown",
   "id": "1e503435",
   "metadata": {},
   "source": [
    "Notice how the order of the elements are not the same as the ones that were typed out.\n",
    "\n",
    "In the cell below, create a set of odd numbers."
   ]
  },
  {
   "cell_type": "code",
   "execution_count": null,
   "id": "8820d95a",
   "metadata": {},
   "outputs": [],
   "source": []
  },
  {
   "attachments": {},
   "cell_type": "markdown",
   "id": "d9147792",
   "metadata": {},
   "source": [
    "We can also create a set using the `set()` function."
   ]
  },
  {
   "cell_type": "code",
   "execution_count": 8,
   "id": "b9849713",
   "metadata": {},
   "outputs": [
    {
     "data": {
      "text/plain": [
       "{'Course', 'Data', 'Science'}"
      ]
     },
     "execution_count": 8,
     "metadata": {},
     "output_type": "execute_result"
    }
   ],
   "source": [
    "courseSet = set(['Data','Science','Course'])\n",
    "courseSet"
   ]
  },
  {
   "attachments": {},
   "cell_type": "markdown",
   "id": "c7c9642f",
   "metadata": {},
   "source": [
    "Run the code snippet below, what is different about the output ?"
   ]
  },
  {
   "cell_type": "code",
   "execution_count": 9,
   "id": "44d4e8ec",
   "metadata": {},
   "outputs": [
    {
     "data": {
      "text/plain": [
       "{'f', 'o'}"
      ]
     },
     "execution_count": 9,
     "metadata": {},
     "output_type": "execute_result"
    }
   ],
   "source": [
    "set('foo')"
   ]
  },
  {
   "attachments": {},
   "cell_type": "markdown",
   "id": "bdabed05",
   "metadata": {},
   "source": [
    "Notice how string characters have become elements. This is because the characters of a string can be looped over in Python (we will come to this a bit later). However, the 'o' is a duplicated element. \n",
    "\n",
    "Sets can contain only immutable data types in Python."
   ]
  },
  {
   "cell_type": "code",
   "execution_count": null,
   "id": "0abee29e",
   "metadata": {},
   "outputs": [],
   "source": [
    "s1 = {42, 'foo',3.14159, True}"
   ]
  },
  {
   "attachments": {},
   "cell_type": "markdown",
   "id": "fcd9bc39",
   "metadata": {},
   "source": [
    "Run the cell below to see the difference between the code snippet above."
   ]
  },
  {
   "cell_type": "code",
   "execution_count": 10,
   "id": "a5655820",
   "metadata": {},
   "outputs": [
    {
     "ename": "TypeError",
     "evalue": "unhashable type: 'list'",
     "output_type": "error",
     "traceback": [
      "\u001b[1;31m---------------------------------------------------------------------------\u001b[0m",
      "\u001b[1;31mTypeError\u001b[0m                                 Traceback (most recent call last)",
      "Cell \u001b[1;32mIn[10], line 2\u001b[0m\n\u001b[0;32m      1\u001b[0m a \u001b[39m=\u001b[39m [\u001b[39m1\u001b[39m,\u001b[39m2\u001b[39m,\u001b[39m3\u001b[39m]\n\u001b[1;32m----> 2\u001b[0m {a}\n",
      "\u001b[1;31mTypeError\u001b[0m: unhashable type: 'list'"
     ]
    }
   ],
   "source": [
    "a = [1,2,3]\n",
    "{a}"
   ]
  },
  {
   "attachments": {},
   "cell_type": "markdown",
   "id": "fbc6ec1d",
   "metadata": {},
   "source": [
    "Python will throw an error as a list is a mutable data type."
   ]
  },
  {
   "attachments": {},
   "cell_type": "markdown",
   "id": "e48d7970",
   "metadata": {},
   "source": [
    "#### Length of a set"
   ]
  },
  {
   "attachments": {},
   "cell_type": "markdown",
   "id": "de11eee5",
   "metadata": {},
   "source": [
    "The built-in `len()` function returns the number of elements in a set. "
   ]
  },
  {
   "cell_type": "code",
   "execution_count": 11,
   "id": "0b19b132",
   "metadata": {},
   "outputs": [
    {
     "data": {
      "text/plain": [
       "2"
      ]
     },
     "execution_count": 11,
     "metadata": {},
     "output_type": "execute_result"
    }
   ],
   "source": [
    "coursesSet = {'Data Science','Machine Learning'}\n",
    "len(coursesSet)\n"
   ]
  },
  {
   "attachments": {},
   "cell_type": "markdown",
   "id": "2aa20e7e",
   "metadata": {},
   "source": [
    "In the code snippet below, find out the length of the set"
   ]
  },
  {
   "cell_type": "code",
   "execution_count": 12,
   "id": "5ba92a0b",
   "metadata": {},
   "outputs": [],
   "source": [
    "coursesSet = {'Data Science','Machine Learning', 'Neural Networks','Deep Learning'}"
   ]
  },
  {
   "attachments": {},
   "cell_type": "markdown",
   "id": "432189cb",
   "metadata": {},
   "source": [
    "There are a lot of different ways to manipulate or operate on a set, using operators and methods. We will cover these in a later section. For now it's enough to be aware of what a set is and how to create one."
   ]
  },
  {
   "attachments": {},
   "cell_type": "markdown",
   "id": "2e048091",
   "metadata": {},
   "source": [
    "### Part 3a: Introduction to Problem Solving"
   ]
  },
  {
   "attachments": {},
   "cell_type": "markdown",
   "id": "c2c81806",
   "metadata": {},
   "source": [
    "Coding is a tool to go from idea to execution at its basic level. This requires you solve problems using a few building blocks you will learn in this exercise. In order to solve problems its useful to have a structured approach. \n",
    "\n",
    "The structure we will be using is called PEDAC. Which stands from Problem, Example Data Structures, Algorithms and Coding. Don't worry about the terms just yet. \n",
    "\n",
    "It might be hard to believe but coding is a by-product of understanding a problem, chunking it down and having a clear approach. You should use plain english to describe what you want to do before you start coding. Writing out those thoughts clarifies your problem and how you're going to write your code. The code comes from having an approach.\n",
    "\n",
    "Problem\n",
    "\n",
    "  - Inputs: What inputs do we have ?\n",
    "\n",
    "  - Outputs: What should the output be ?\n",
    "\n",
    "  - Rules: What are the rules of the problem ?\n",
    "\n",
    "  - Constraints/Assumptions: Are there any constraints or assumptions to be made about the problem ?\n",
    "\n",
    "Example (Sometimes problems are given examples)\n",
    "\n",
    "- Do you understand the example\n",
    "\n",
    "- Is there anything to be gleamed about the rules of the problem from the examples\n",
    "\n",
    "Data Structures\n",
    "\n",
    "- Are there any structures in the code that will be useful to store data ?\n",
    "\n",
    "Algorithm\n",
    "\n",
    "- The plain english steps to getting from inputs to output\n",
    "\n",
    "Code\n",
    "\n",
    "We will be providing you with some small problems where you want necessarily need to have a systematic approach but its useful to think in this way. For more difficult problems where the solution isn't obvious having a structure will be invaluable.\n",
    "\n",
    "I urge you to not press forward with solving coding problems before thinking and writing down your thoughts. Its a hard habit to instill but that will pay off in the long run.\n"
   ]
  },
  {
   "attachments": {},
   "cell_type": "markdown",
   "id": "18478a21",
   "metadata": {},
   "source": [
    "## Part 3 Manipulating Data:"
   ]
  },
  {
   "attachments": {},
   "cell_type": "markdown",
   "id": "0d2c538a",
   "metadata": {},
   "source": [
    "Up until now, we've covered data types and variables in Python. These are crucial concepts to build off of. In the sections below, we will go through operators and methods. We will learn how to use them to modify the data types you have seen above.\n",
    "\n",
    "With this knowledge, we will have the flexibility to do much more with Python, things not possible until now."
   ]
  },
  {
   "attachments": {},
   "cell_type": "markdown",
   "id": "598cc02b",
   "metadata": {},
   "source": [
    "### Operators\n",
    "\n",
    "We discussed operators briefly in a previous section. They are special symbols in Python that execute a computation. They need values to work on, and we call those values **operands**. Below we'll cover each different type of operator in Python."
   ]
  },
  {
   "attachments": {},
   "cell_type": "markdown",
   "id": "eaac9a1e",
   "metadata": {},
   "source": [
    "#### Arithmetic Operators\n",
    "\n",
    "\n",
    "Arithmetic operators will execute mathematical tasks, like addition, subtraction, multiplication etc... You can use these in Python like a calculator.\n",
    "\n",
    "Run the snippet below."
   ]
  },
  {
   "cell_type": "code",
   "execution_count": 1,
   "id": "60b9b8db",
   "metadata": {},
   "outputs": [
    {
     "data": {
      "text/plain": [
       "6"
      ]
     },
     "execution_count": 1,
     "metadata": {},
     "output_type": "execute_result"
    }
   ],
   "source": [
    "3 + 3"
   ]
  },
  {
   "attachments": {},
   "cell_type": "markdown",
   "id": "c3426834",
   "metadata": {},
   "source": [
    "The addition operator `+` adds the two operands on either side together. In this case, the value is `6`.\n",
    "\n",
    "In the code snippet below, add the values 120 to 150. What is the output?"
   ]
  },
  {
   "cell_type": "code",
   "execution_count": null,
   "id": "5c04e413",
   "metadata": {},
   "outputs": [],
   "source": []
  },
  {
   "attachments": {},
   "cell_type": "markdown",
   "id": "5d928730",
   "metadata": {},
   "source": [
    "The subtraction operator `-` takes one value away from another."
   ]
  },
  {
   "cell_type": "code",
   "execution_count": null,
   "id": "06abe2a1",
   "metadata": {},
   "outputs": [],
   "source": [
    "120 - 70"
   ]
  },
  {
   "attachments": {},
   "cell_type": "markdown",
   "id": "21e13925",
   "metadata": {},
   "source": [
    "In the code snippet below, take 50 away from 120. What is the output?"
   ]
  },
  {
   "cell_type": "code",
   "execution_count": null,
   "id": "cbda981d",
   "metadata": {},
   "outputs": [],
   "source": []
  },
  {
   "attachments": {},
   "cell_type": "markdown",
   "id": "38522427",
   "metadata": {},
   "source": [
    "The multiplication operator `*` multiplies two operands together."
   ]
  },
  {
   "cell_type": "code",
   "execution_count": 2,
   "id": "d18d27e5",
   "metadata": {},
   "outputs": [
    {
     "data": {
      "text/plain": [
       "2500"
      ]
     },
     "execution_count": 2,
     "metadata": {},
     "output_type": "execute_result"
    }
   ],
   "source": [
    "50 * 50"
   ]
  },
  {
   "attachments": {},
   "cell_type": "markdown",
   "id": "92bd1b11",
   "metadata": {},
   "source": [
    "In the code snippet below, multiply the numbers 30 and 20."
   ]
  },
  {
   "cell_type": "code",
   "execution_count": null,
   "id": "3e9bbc36",
   "metadata": {},
   "outputs": [],
   "source": []
  },
  {
   "attachments": {},
   "cell_type": "markdown",
   "id": "aa7b5c6f",
   "metadata": {},
   "source": [
    "The division operator `/` divides the left-hand operand from the right-hand one. "
   ]
  },
  {
   "cell_type": "code",
   "execution_count": 3,
   "id": "ba4fdeb3",
   "metadata": {},
   "outputs": [
    {
     "data": {
      "text/plain": [
       "10.0"
      ]
     },
     "execution_count": 3,
     "metadata": {},
     "output_type": "execute_result"
    }
   ],
   "source": [
    "50 / 5"
   ]
  },
  {
   "attachments": {},
   "cell_type": "markdown",
   "id": "4ad11043",
   "metadata": {},
   "source": [
    "In the code snippet below, can you divide 100 by 3"
   ]
  },
  {
   "cell_type": "code",
   "execution_count": null,
   "id": "45264b99",
   "metadata": {},
   "outputs": [],
   "source": []
  },
  {
   "attachments": {},
   "cell_type": "markdown",
   "id": "f47dc8e0",
   "metadata": {},
   "source": [
    "The percent operator divides the left-hand operand by the right-hand one but also returns the remainder."
   ]
  },
  {
   "cell_type": "code",
   "execution_count": null,
   "id": "45b96674",
   "metadata": {},
   "outputs": [],
   "source": [
    "5 % 2"
   ]
  },
  {
   "attachments": {},
   "cell_type": "markdown",
   "id": "7556c87b",
   "metadata": {},
   "source": [
    "The floor division operator divides the left hand operand by the right hand one but rounds down to the nearest whole number."
   ]
  },
  {
   "cell_type": "code",
   "execution_count": null,
   "id": "e3d310a8",
   "metadata": {},
   "outputs": [],
   "source": [
    "5 // 2"
   ]
  },
  {
   "attachments": {},
   "cell_type": "markdown",
   "id": "e6b34280",
   "metadata": {},
   "source": [
    "The exponential  `**` operator performs power calculations."
   ]
  },
  {
   "cell_type": "code",
   "execution_count": null,
   "id": "146a86b8",
   "metadata": {},
   "outputs": [],
   "source": [
    "10**2"
   ]
  },
  {
   "attachments": {},
   "cell_type": "markdown",
   "id": "440f5bf1",
   "metadata": {},
   "source": [
    "Calculate the 25 squared in the code snippet below."
   ]
  },
  {
   "attachments": {},
   "cell_type": "markdown",
   "id": "4fac124a",
   "metadata": {},
   "source": [
    "Now we've covered the operators, we can start to use these with variables. We can store useful numbers and reuse them to do different calculations.\n",
    "\n",
    "In the code snippet below, using variables calculate the addition of those two integer values."
   ]
  },
  {
   "cell_type": "code",
   "execution_count": null,
   "id": "9b1d82ee",
   "metadata": {},
   "outputs": [],
   "source": []
  },
  {
   "attachments": {},
   "cell_type": "markdown",
   "id": "2f7a7c59",
   "metadata": {},
   "source": [
    "#### Assignment Operators"
   ]
  },
  {
   "attachments": {},
   "cell_type": "markdown",
   "id": "97bd845d",
   "metadata": {},
   "source": [
    "We briefly covered the assignment operator when assigning a value to a variable. There are **augmented assignment** operators that use both assignment and arithmetic operators that are worth learning too.\n",
    "\n",
    "The augmented assignment operator`+=` describes an operation where a variable is a left-hand operand and a value is a right-hand operand. For example, `x += 3` is equivalent to saying `x = x + 3` in Python.\n",
    "\n",
    "The operator allows you to add a number to an assigned value. "
   ]
  },
  {
   "cell_type": "code",
   "execution_count": 5,
   "id": "911f08bd",
   "metadata": {},
   "outputs": [
    {
     "data": {
      "text/plain": [
       "8"
      ]
     },
     "execution_count": 5,
     "metadata": {},
     "output_type": "execute_result"
    }
   ],
   "source": [
    "x = 5 \n",
    "x += 3\n",
    "x"
   ]
  },
  {
   "attachments": {},
   "cell_type": "markdown",
   "id": "fc32b7ea",
   "metadata": {},
   "source": [
    "The value of `x` is 8, the augmented assignment operator has added 3 to the value assigned to the variable `x`."
   ]
  },
  {
   "attachments": {},
   "cell_type": "markdown",
   "id": "907301b3",
   "metadata": {},
   "source": [
    "Similarly, `-=` is an operator where the variable is a left-hand operand and a value as a right-hand operand. This subtracts a number from a an assigned value."
   ]
  },
  {
   "cell_type": "code",
   "execution_count": 6,
   "id": "f837072c",
   "metadata": {},
   "outputs": [
    {
     "data": {
      "text/plain": [
       "7"
      ]
     },
     "execution_count": 6,
     "metadata": {},
     "output_type": "execute_result"
    }
   ],
   "source": [
    "x = 10 \n",
    "x -= 3\n",
    "x"
   ]
  },
  {
   "attachments": {},
   "cell_type": "markdown",
   "id": "33762ac6",
   "metadata": {},
   "source": [
    "The value of x is `7` in this case we have subtracted 3 from the value assigned to the variable `x`."
   ]
  },
  {
   "attachments": {},
   "cell_type": "markdown",
   "id": "d8cf9083",
   "metadata": {},
   "source": [
    "There are similar operators for the different arithmetic operators. We won't go into too much detail as the above two are the most commonly used. We will see these operators when we talk about looping."
   ]
  },
  {
   "attachments": {},
   "cell_type": "markdown",
   "id": "aa24bd07",
   "metadata": {},
   "source": [
    "#### Comparison Operators"
   ]
  },
  {
   "attachments": {},
   "cell_type": "markdown",
   "id": "e356f837",
   "metadata": {},
   "source": [
    "Often we need to know whether two values are equal or not, or if values are greater than or less than another. These groups of operators can compare one value to another.\n",
    "\n",
    "The logic in comparing values is sometimes called **boolean logic** and an expression that evaluates to either true or false is called a boolean or **conditional expression**. \n",
    "\n",
    "The types of comparison we make are inequalities and equality. All of these are conditional expressions we use that will resolve to return either a `True` or `False`. \n",
    "\n",
    "Some of these comparators should be familiar to you from mathematics."
   ]
  },
  {
   "attachments": {},
   "cell_type": "markdown",
   "id": "c7b278b2",
   "metadata": {},
   "source": [
    "##### Inequalities\n",
    "\n",
    "In mathematics, we can express when a value is great or less than another, let's review these. When we use these inequalities, Python will return a `True` or `False` value"
   ]
  },
  {
   "attachments": {},
   "cell_type": "markdown",
   "id": "537367b3",
   "metadata": {},
   "source": [
    "```\n",
    "a > b # Greater than\n",
    "a < b # Less than\n",
    "a >= b # Greater than or equal to\n",
    "a <= b # Less than or equal to\n",
    "```"
   ]
  },
  {
   "attachments": {},
   "cell_type": "markdown",
   "id": "3be98ec5",
   "metadata": {},
   "source": [
    "In the cell below, use the above operators to determine which expressions are true or false."
   ]
  },
  {
   "cell_type": "code",
   "execution_count": null,
   "id": "762e8cd0",
   "metadata": {},
   "outputs": [],
   "source": [
    "a = 10 \n",
    "b = 5"
   ]
  },
  {
   "attachments": {},
   "cell_type": "markdown",
   "id": "f2727cdf",
   "metadata": {},
   "source": [
    "##### Equality"
   ]
  },
  {
   "attachments": {},
   "cell_type": "markdown",
   "id": "c940d54c",
   "metadata": {},
   "source": [
    "To compare values, we use the equality operator `==` in Python. \n",
    "\n",
    "Run the snippet below to see this."
   ]
  },
  {
   "cell_type": "code",
   "execution_count": 8,
   "id": "c5c5f1ad",
   "metadata": {},
   "outputs": [
    {
     "data": {
      "text/plain": [
       "True"
      ]
     },
     "execution_count": 8,
     "metadata": {},
     "output_type": "execute_result"
    }
   ],
   "source": [
    "a = 5\n",
    "b = 5\n",
    "\n",
    "a == b"
   ]
  },
  {
   "attachments": {},
   "cell_type": "markdown",
   "id": "3ee2d467",
   "metadata": {},
   "source": [
    "The expression above returns `True` as the values assigned to `a` and `b` are the same. This shows that conditional expressions will evaluate to a `True` or `False` value.\n",
    "\n",
    "To express whether something is not equal to another we use the inequality operator `!=`.\n",
    "\n",
    "Run the snippet below to see this."
   ]
  },
  {
   "cell_type": "code",
   "execution_count": 9,
   "id": "ef5d5f5c",
   "metadata": {},
   "outputs": [
    {
     "data": {
      "text/plain": [
       "True"
      ]
     },
     "execution_count": 9,
     "metadata": {},
     "output_type": "execute_result"
    }
   ],
   "source": [
    "a = 5 \n",
    "b = 7\n",
    "\n",
    "a != b"
   ]
  },
  {
   "attachments": {},
   "cell_type": "markdown",
   "id": "cd63074d",
   "metadata": {},
   "source": [
    "\n",
    "The expression above returns `True` as `a` and `b` are not equal."
   ]
  },
  {
   "attachments": {},
   "cell_type": "markdown",
   "id": "0901fe22",
   "metadata": {},
   "source": [
    "#### Logical Operators"
   ]
  },
  {
   "attachments": {},
   "cell_type": "markdown",
   "id": "f8cbbe3c",
   "metadata": {},
   "source": [
    "In addition to the above comparator operators, Python has some keywords `and`,` or` and `not` to combine conditional expressions to form more complicated logic. Below we will cover these ones by one."
   ]
  },
  {
   "attachments": {},
   "cell_type": "markdown",
   "id": "b102e166",
   "metadata": {},
   "source": [
    "##### And keyword\n",
    "\n",
    "The `and` keyword combines two conditional expressions together. Python will then evaluate this expression and return `True` only when both conditional expressions are true. If one of the conditional expressions is false, the combined expression will be `False`.\n",
    "\n",
    "Run the code cell below to explore this."
   ]
  },
  {
   "cell_type": "code",
   "execution_count": 10,
   "id": "05511e71",
   "metadata": {},
   "outputs": [
    {
     "data": {
      "text/plain": [
       "True"
      ]
     },
     "execution_count": 10,
     "metadata": {},
     "output_type": "execute_result"
    }
   ],
   "source": [
    "a = 5\n",
    "b = 10 \n",
    "a == 5 and a != b"
   ]
  },
  {
   "attachments": {},
   "cell_type": "markdown",
   "id": "95e5b012",
   "metadata": {},
   "source": [
    "This conditional expression returns `True`, both a is equal to 5 and a does not equal b at the same time."
   ]
  },
  {
   "cell_type": "code",
   "execution_count": 11,
   "id": "bd7bc2f9",
   "metadata": {},
   "outputs": [
    {
     "data": {
      "text/plain": [
       "False"
      ]
     },
     "execution_count": 11,
     "metadata": {},
     "output_type": "execute_result"
    }
   ],
   "source": [
    "a = 5\n",
    "b = 10 \n",
    "a == 6 and a != b"
   ]
  },
  {
   "attachments": {},
   "cell_type": "markdown",
   "id": "12381992",
   "metadata": {},
   "source": [
    "Yet this code snippet returns `False`. a does not equal 6, but a does not equal b. That is to say, one part of the conditional expression is false and the other is true, hence the whole expression returns `false.`\n",
    "\n",
    "To sum up, the `and` keyword used with statements is only `True` when both are true and `False` if one or the other statements is `False`. When both statements are `False` the expression will also be `False`.\n",
    "\n",
    "To summarise this another way, run the below snippets."
   ]
  },
  {
   "attachments": {},
   "cell_type": "markdown",
   "id": "f50affec",
   "metadata": {},
   "source": [
    "```\n",
    "True and True # True\n",
    "True and False # False\n",
    "False and True # False\n",
    "False and False # False\n",
    "```"
   ]
  },
  {
   "attachments": {},
   "cell_type": "markdown",
   "id": "61ed46be",
   "metadata": {},
   "source": [
    "#### or keyword\n",
    "\n",
    "The `or` keyword in Python says that if one or the other expressions are true then the whole expression is `True`. Otherwise, the combined expression is `False`.\n",
    "\n",
    "Run the code snippet below to get an understanding of the or keyword."
   ]
  },
  {
   "cell_type": "code",
   "execution_count": 12,
   "id": "e4fc718a",
   "metadata": {},
   "outputs": [
    {
     "data": {
      "text/plain": [
       "True"
      ]
     },
     "execution_count": 12,
     "metadata": {},
     "output_type": "execute_result"
    }
   ],
   "source": [
    "1 < 2 or 3 < 4 # Both are True\n"
   ]
  },
  {
   "cell_type": "code",
   "execution_count": 13,
   "id": "82010c17",
   "metadata": {},
   "outputs": [
    {
     "data": {
      "text/plain": [
       "False"
      ]
     },
     "execution_count": 13,
     "metadata": {},
     "output_type": "execute_result"
    }
   ],
   "source": [
    "2 < 1 or 4 < 3 # Both are False\n"
   ]
  },
  {
   "cell_type": "code",
   "execution_count": 14,
   "id": "d95e63e7",
   "metadata": {},
   "outputs": [
    {
     "data": {
      "text/plain": [
       "True"
      ]
     },
     "execution_count": 14,
     "metadata": {},
     "output_type": "execute_result"
    }
   ],
   "source": [
    "1 < 2 or 4 < 3 # Second statement False\n"
   ]
  },
  {
   "cell_type": "code",
   "execution_count": 15,
   "id": "559d55e3",
   "metadata": {},
   "outputs": [
    {
     "data": {
      "text/plain": [
       "True"
      ]
     },
     "execution_count": 15,
     "metadata": {},
     "output_type": "execute_result"
    }
   ],
   "source": [
    "2 < 1 or 3 < 4 # First statement is False"
   ]
  },
  {
   "attachments": {},
   "cell_type": "markdown",
   "id": "74ceb59b",
   "metadata": {},
   "source": [
    "If any part of the compound statement is `True` then the whole expression is false. Any part that is `False` then the whole expression is `False`.\n",
    "\n"
   ]
  },
  {
   "attachments": {},
   "cell_type": "markdown",
   "id": "51038fd8",
   "metadata": {},
   "source": [
    "```\n",
    "True or True # True\n",
    "True or False # True\n",
    "False or True # True\n",
    "False or False # True\n",
    "```"
   ]
  },
  {
   "attachments": {},
   "cell_type": "markdown",
   "id": "8b8f5ae8",
   "metadata": {},
   "source": [
    "##### Not keyword\n",
    "\n",
    "The not keyword reverses a truth value of a single expression. Sometimes we want to check if a value is not something in Python.\n",
    "\n",
    "Run the code snippets below."
   ]
  },
  {
   "cell_type": "code",
   "execution_count": 16,
   "id": "477c768c",
   "metadata": {},
   "outputs": [
    {
     "data": {
      "text/plain": [
       "False"
      ]
     },
     "execution_count": 16,
     "metadata": {},
     "output_type": "execute_result"
    }
   ],
   "source": [
    "not True"
   ]
  },
  {
   "attachments": {},
   "cell_type": "markdown",
   "id": "e5fd5a5c",
   "metadata": {},
   "source": [
    "This expression returns `False` as we negate the `True` value. This also works for any value in Python that is truthy (more on this later)."
   ]
  },
  {
   "cell_type": "code",
   "execution_count": 17,
   "id": "03c7972e",
   "metadata": {},
   "outputs": [
    {
     "data": {
      "text/plain": [
       "True"
      ]
     },
     "execution_count": 17,
     "metadata": {},
     "output_type": "execute_result"
    }
   ],
   "source": [
    "not False"
   ]
  },
  {
   "attachments": {},
   "cell_type": "markdown",
   "id": "b8241881",
   "metadata": {},
   "source": [
    "#### Membership and Identity"
   ]
  },
  {
   "attachments": {},
   "cell_type": "markdown",
   "id": "524634cc",
   "metadata": {},
   "source": [
    "##### Membership\n",
    "\n",
    "Membership operators are used to test if a specific item is within a data type. For example, whether a list item is within a list. The operator `in` and the combination `not in` determine this. Lists, tuples and strings support membership operators.\n",
    "\n",
    "Run this code snippet to see the use of the `in` operator. "
   ]
  },
  {
   "cell_type": "code",
   "execution_count": 18,
   "id": "de112bea",
   "metadata": {},
   "outputs": [
    {
     "data": {
      "text/plain": [
       "True"
      ]
     },
     "execution_count": 18,
     "metadata": {},
     "output_type": "execute_result"
    }
   ],
   "source": [
    "courses = ['Python','Data Science']\n",
    "'Python' in courses"
   ]
  },
  {
   "attachments": {},
   "cell_type": "markdown",
   "id": "13887f57",
   "metadata": {},
   "source": [
    "This expression return `True` as `Python` is within the `courses` list.\n",
    "\n",
    "Run the code snippet below."
   ]
  },
  {
   "cell_type": "code",
   "execution_count": 19,
   "id": "b085f5e8",
   "metadata": {},
   "outputs": [
    {
     "data": {
      "text/plain": [
       "True"
      ]
     },
     "execution_count": 19,
     "metadata": {},
     "output_type": "execute_result"
    }
   ],
   "source": [
    "courses = ['Python','Data Science']\n",
    "'Anatomy' not in courses"
   ]
  },
  {
   "attachments": {},
   "cell_type": "markdown",
   "id": "3c024af7",
   "metadata": {},
   "source": [
    "This expression returns `True` as `Anatomy` is not in the `courses` list."
   ]
  },
  {
   "attachments": {},
   "cell_type": "markdown",
   "id": "07c7abc8",
   "metadata": {},
   "source": [
    "Using the in operator check if `Anatomy` is in the list below "
   ]
  },
  {
   "cell_type": "code",
   "execution_count": null,
   "id": "bb9ec21b",
   "metadata": {},
   "outputs": [],
   "source": [
    "courses = ['Biochemistry','Physiology',]\n"
   ]
  },
  {
   "attachments": {},
   "cell_type": "markdown",
   "id": "72d882dc",
   "metadata": {},
   "source": [
    "##### Identity\n",
    "\n",
    "In Python, when we create a data type object it gets stored in a part of the computer memory called a memory address. We can compare the values of an object using the equality operator. However, equality is not the same as the identity of an object. To test if an object is the same created object not just the value we can use the `is` and `is not` operators.\n",
    "\n",
    "Run the snippet below to explore this."
   ]
  },
  {
   "cell_type": "code",
   "execution_count": 29,
   "id": "ebd4ac4f",
   "metadata": {},
   "outputs": [
    {
     "data": {
      "text/plain": [
       "False"
      ]
     },
     "execution_count": 29,
     "metadata": {},
     "output_type": "execute_result"
    }
   ],
   "source": [
    "x = [\"Python\", \"Anatomy\"]\n",
    "y = [\"JavaScript\", \"Machine Learning\"]\n",
    "z = x\n",
    "\n",
    "x is y\n"
   ]
  },
  {
   "attachments": {},
   "cell_type": "markdown",
   "id": "c94552b2",
   "metadata": {},
   "source": [
    "The expression returns `False`. We create variables `x` and `y`. Each variable is stored in a different part of memory, so the expression returns `False`. \n",
    "\n",
    "Run the snippet below."
   ]
  },
  {
   "cell_type": "code",
   "execution_count": 30,
   "id": "1d68f620",
   "metadata": {},
   "outputs": [
    {
     "data": {
      "text/plain": [
       "True"
      ]
     },
     "execution_count": 30,
     "metadata": {},
     "output_type": "execute_result"
    }
   ],
   "source": [
    "x = [\"Python\", \"Anatomy\"]\n",
    "y = [\"JavaScript\", \"Machine Learning\"]\n",
    "z = x\n",
    "\n",
    "x is z"
   ]
  },
  {
   "attachments": {},
   "cell_type": "markdown",
   "id": "2cd90e42",
   "metadata": {},
   "source": [
    "This expression returns `True` as `z` and `x` are the same object."
   ]
  },
  {
   "attachments": {},
   "cell_type": "markdown",
   "id": "8b5dac42",
   "metadata": {},
   "source": [
    "#### Operator Precendance"
   ]
  },
  {
   "attachments": {},
   "cell_type": "markdown",
   "id": "54996f76",
   "metadata": {},
   "source": [
    "\n",
    "Consider the example below. Before running the cell, what will Python output? Run the cell to find out."
   ]
  },
  {
   "cell_type": "code",
   "execution_count": 31,
   "id": "8e864a34",
   "metadata": {},
   "outputs": [
    {
     "data": {
      "text/plain": [
       "60"
      ]
     },
     "execution_count": 31,
     "metadata": {},
     "output_type": "execute_result"
    }
   ],
   "source": [
    "20 + 4*10"
   ]
  },
  {
   "attachments": {},
   "cell_type": "markdown",
   "id": "2a957ca0",
   "metadata": {},
   "source": [
    "There's some ambiguity here if we think about it. Is it `20 + 4` then multiply by 10 or 4 multiplied by ten and adding twenty? The return value is 60, so the latter is true. \n",
    "\n",
    "But when we use operators in Python, they are assigned a precedence. Where the highest is performed first and then those results are obtained. The operators that are next in precedence are then performed. Any operator that is equal in precedence is performed in left-to-right order."
   ]
  },
  {
   "attachments": {},
   "cell_type": "markdown",
   "id": "ed6855aa",
   "metadata": {},
   "source": [
    "Here is a list from highested to lowest.\n",
    "\n",
    "1. `**`\n",
    "2. `*`,`/`\n",
    "3. `+`,`-`\n",
    "4. `== `,`!=`, `>`,`<`,`>=`,`<=`, `is` and `is not`\n",
    "5. `not`\n",
    "6. `and`\n",
    "7. `or`\n",
    "\n",
    "The key takeaway is that equality and inequality come before the logical operators and mathematical operations come before equality.\n",
    "\n",
    "Breaking down the example above, \n",
    "\n",
    "4 * 10 takes precedence so gets evaluated to `40` and then we add 20 to 40 to get 60.\n",
    "\n",
    "We can override operator precedence using parentheses. Expressions in parentheses are always performed first.\n",
    "\n",
    "Run the snippet of code below."
   ]
  },
  {
   "cell_type": "code",
   "execution_count": null,
   "id": "8b4852f0",
   "metadata": {},
   "outputs": [],
   "source": [
    "(20 + 4) * 10"
   ]
  },
  {
   "attachments": {},
   "cell_type": "markdown",
   "id": "3b693e63",
   "metadata": {},
   "source": [
    "The return value is 240, as `20 + 4` is evaluted first.\n"
   ]
  },
  {
   "attachments": {},
   "cell_type": "markdown",
   "id": "1d10e006",
   "metadata": {},
   "source": [
    "#### Data Type Methods \n",
    "\n",
    "Operators are one way to modify data, but Python also provides some functionality specific to each data type, we call these methods. **Methods** are functions that are contained within an object. This is not essential knowledge but perhaps worth saying something about.  It is in the combination of operators and methods we can control what data becomes.\n",
    "\n",
    "We mentioned before that all data types in Python are objects, think of the methods as being part of those objects.\n",
    "\n",
    "We haven't covered functions in detail yet, but with built-in methods, some of them require passing some data to the method in order to get the intended outcome.\n",
    "\n",
    "In order to understand methods we should define some terms. To pass this information to a method, we assign values to a **parameter** of the method. The assigned values are called **arguments**. The act of using a method on a data type is called a **method invocation** or calling a method.\n",
    "\n",
    "For example, if you want to insert a list item into a list. We need to specify what the list item is and where in the list to put it. \n",
    "\n",
    "The list `insert()` method has two required parameters `pos` and `element`. The syntax looks like this `list.insert(pos,elmnt)`. \n",
    "\n",
    "So valid syntax for this method might be `list.insert(1,\"Data Science\")`. The arguments are `1` and `Data Science`. Here we are assigning the parameter `pos` with the value `1` and assigning the parameter `elmnt` with `Data Science`. \n",
    "\n",
    "When learning about methods, it's useful to have a structure of  type of information to know about when using these methods.\n",
    "\n",
    "For each method, we should be able to recall the following:\n",
    "\n",
    "1. The description\n",
    "2. The syntax of the method (can we pass any values to the method)\n",
    "3. The return value of the method\n",
    "4. Are there any peculiarities about the method (does it return something you don't expect ?)\n",
    "\n",
    "Don't worry if this takes time, programming is a process, and the act of doing programming clarifies this information more than basic recall. "
   ]
  },
  {
   "attachments": {},
   "cell_type": "markdown",
   "id": "8c6cf5d7",
   "metadata": {},
   "source": [
    "### List Methods"
   ]
  },
  {
   "attachments": {},
   "cell_type": "markdown",
   "id": "24d567f4",
   "metadata": {},
   "source": [
    "Python has 11 built-in methods for modifying lists. We will go through the most common list methods. \n",
    "\n",
    "##### Inserting a list item\n",
    "\n",
    "The insert method inserts a specific value at a specified position.It has two required parameters `pos` and `elmnt`.\n",
    "\n",
    "The syntax is `list.insert(pos,elmnt)`\n",
    "\n",
    "`pos` - The index of where in the list to add the list item\n",
    "`elmnt` - The value of the list item to insert\n",
    "\n",
    "Run the snippet below."
   ]
  },
  {
   "cell_type": "code",
   "execution_count": 35,
   "id": "6cfe1dfb",
   "metadata": {},
   "outputs": [
    {
     "data": {
      "text/plain": [
       "['Python', 'Data Science', 'Deep Learning']"
      ]
     },
     "execution_count": 35,
     "metadata": {},
     "output_type": "execute_result"
    }
   ],
   "source": [
    "courses = ['Python','Data Science']\n",
    "courses.insert(2,'Deep Learning')\n",
    "courses"
   ]
  },
  {
   "attachments": {},
   "cell_type": "markdown",
   "id": "8829c69e",
   "metadata": {},
   "source": [
    "We are calling the insert method on the `courses` list. Specifying the index `2` with the value of `Deep Learning` to be added. The return value of this method call is an list `['Python','Data Science','Deep Learning']`.\n",
    "\n",
    "In the snippet below, can you insert `Deep Learning` at the start of the list?"
   ]
  },
  {
   "cell_type": "code",
   "execution_count": null,
   "id": "f9e3dcb0",
   "metadata": {},
   "outputs": [],
   "source": []
  },
  {
   "attachments": {},
   "cell_type": "markdown",
   "id": "203b3b04",
   "metadata": {},
   "source": [
    "#### Inserting a list item at the end of a list\n",
    "\n",
    "To add a list item at the end of the list we use the `append()` method. \n",
    "\n",
    "The append method has one required parameter `elmnt` which is the argument to add to the list. \n",
    "\n",
    "The syntax is `list.append(elmnt)`\n",
    "\n",
    "Look at the code snippet below."
   ]
  },
  {
   "cell_type": "code",
   "execution_count": 33,
   "id": "a41cf7f7",
   "metadata": {},
   "outputs": [
    {
     "data": {
      "text/plain": [
       "['Python', 'Data Science', 'Deep Learning']"
      ]
     },
     "execution_count": 33,
     "metadata": {},
     "output_type": "execute_result"
    }
   ],
   "source": [
    "courses = ['Python','Data Science']\n",
    "courses.append('Deep Learning')\n",
    "courses"
   ]
  },
  {
   "attachments": {},
   "cell_type": "markdown",
   "id": "dc0b38ac",
   "metadata": {},
   "source": [
    "We call the method on the `courses` list, passing in `Deep Learning` as an argument. The return value of the method call is a list `['Python','Data Science','Deep Learning']`.\n",
    "\n",
    "Notice the difference between `insert` and `append`. \n",
    "\n",
    "In the cell below, add `Machine Learning` to the end of the list and display the output."
   ]
  },
  {
   "cell_type": "code",
   "execution_count": null,
   "id": "a3dc3363",
   "metadata": {},
   "outputs": [],
   "source": [
    "courses = ['Python','Data Science']"
   ]
  },
  {
   "attachments": {},
   "cell_type": "markdown",
   "id": "4ec0136b",
   "metadata": {},
   "source": [
    "#### Merging lists\n",
    "\n",
    "The `extend()` method can be used to add two lists together. \n",
    "\n",
    "The syntax is `list.extend(iterable)`\n",
    "\n",
    "It has one required parameter `iterable` which takes values of any data type that can be looped over lists, tuples, dictionaries and strings. Note that this means it's not only lists that can be merged together.\n",
    "\n",
    "Run the code snippet below to see how this works.\n"
   ]
  },
  {
   "cell_type": "code",
   "execution_count": 36,
   "id": "316efe85",
   "metadata": {},
   "outputs": [
    {
     "data": {
      "text/plain": [
       "['Python', 'Data Science', 'Deep learning', 'JavaScript']"
      ]
     },
     "execution_count": 36,
     "metadata": {},
     "output_type": "execute_result"
    }
   ],
   "source": [
    "courses = ['Python','Data Science']\n",
    "optional_course = ['Deep learning','JavaScript']\n",
    "courses.extend(optional_course)\n",
    "courses"
   ]
  },
  {
   "attachments": {},
   "cell_type": "markdown",
   "id": "601e085c",
   "metadata": {},
   "source": [
    "See the example below, we can merge a tuple to a list using the `extend` method."
   ]
  },
  {
   "cell_type": "code",
   "execution_count": 37,
   "id": "48644845",
   "metadata": {},
   "outputs": [
    {
     "data": {
      "text/plain": [
       "['Python', 'Data Science', 'Deep learning', 'JavaScript']"
      ]
     },
     "execution_count": 37,
     "metadata": {},
     "output_type": "execute_result"
    }
   ],
   "source": [
    "courses = ['Python','Data Science']\n",
    "optional_course = ('Deep learning','JavaScript')\n",
    "courses.extend(optional_course)\n",
    "courses"
   ]
  },
  {
   "attachments": {},
   "cell_type": "markdown",
   "id": "2d66820d",
   "metadata": {},
   "source": [
    "In the cell below, can you merge the two lists created together ?"
   ]
  },
  {
   "cell_type": "code",
   "execution_count": null,
   "id": "bb6747ca",
   "metadata": {},
   "outputs": [],
   "source": [
    "courses = ['Physiology','Anatomy']\n",
    "digitalCourses = ['Python','JavaScript']"
   ]
  },
  {
   "attachments": {},
   "cell_type": "markdown",
   "id": "48f3d88c",
   "metadata": {},
   "source": [
    "##### Removing a list item\n",
    "\n",
    "The `remove()` method removes a specific item from a list. It is one required parameter `elmnt` that specifies the list item to be removed. \n",
    "\n",
    "The syntax is `list.remove(elmnt)`\n",
    "\n",
    "Run the code snippet below."
   ]
  },
  {
   "cell_type": "code",
   "execution_count": null,
   "id": "7a8a64bd",
   "metadata": {},
   "outputs": [],
   "source": [
    "courses = ['Python','Data Science']\n",
    "courses.remove('Data Science')\n",
    "courses"
   ]
  },
  {
   "attachments": {},
   "cell_type": "markdown",
   "id": "fc9c1324",
   "metadata": {},
   "source": [
    "In the code snippet above, we are calling the `remove` method and passing the argument `Data Science`, the return value of this method call is `['Python']`. "
   ]
  },
  {
   "attachments": {},
   "cell_type": "markdown",
   "id": "88be951f",
   "metadata": {},
   "source": [
    "#### Removing a list item at a specific position\n",
    "\n",
    "The `pop()` method removes a list item from a specified index. The pop method has one required parameter `pos`\n",
    "\n",
    "The syntax is `list.pop(pos)`, where `pos` is the number specified position. The default value is `-1`, i.e `list.pop()` removes the last list item."
   ]
  },
  {
   "cell_type": "code",
   "execution_count": null,
   "id": "90bae681",
   "metadata": {},
   "outputs": [],
   "source": [
    "courses = ['Python','Data Science']\n",
    "course.pop()\n",
    "courses"
   ]
  },
  {
   "cell_type": "code",
   "execution_count": 38,
   "id": "85522544",
   "metadata": {},
   "outputs": [
    {
     "data": {
      "text/plain": [
       "['Python', 'Data Science', 'Deep Learning']"
      ]
     },
     "execution_count": 38,
     "metadata": {},
     "output_type": "execute_result"
    }
   ],
   "source": [
    "courses = ['Python','Data Science', 'Machine Learning' ,'Deep Learning']\n",
    "courses.pop(2)\n",
    "courses"
   ]
  },
  {
   "attachments": {},
   "cell_type": "markdown",
   "id": "1b4f2133",
   "metadata": {},
   "source": [
    "We invoke the pop method on the `courses` list, passing in `2` as an argument. This removes the 3rd list item. \n",
    "\n",
    "In the cell below, can you remove the 2nd list item from the list ?"
   ]
  },
  {
   "cell_type": "code",
   "execution_count": null,
   "id": "3c96245c",
   "metadata": {},
   "outputs": [],
   "source": [
    "courses = ['Python','Data Science', 'Machine Learning' ,'Deep Learning']"
   ]
  },
  {
   "attachments": {},
   "cell_type": "markdown",
   "id": "a7716e8a",
   "metadata": {},
   "source": [
    "#### Create an empty list\n",
    "\n",
    "The `clear()` method will remove all list items however the list remains intact.\n",
    "\n",
    "The syntax is `list.clear()` with no required parameters.\n",
    "\n",
    "Run the cell below."
   ]
  },
  {
   "cell_type": "code",
   "execution_count": null,
   "id": "e636c52b",
   "metadata": {},
   "outputs": [],
   "source": [
    "courses = ['Python','Data Science', 'Machine Learning' ,'Deep Learning']\n",
    "courses.clear()\n",
    "courses"
   ]
  },
  {
   "attachments": {},
   "cell_type": "markdown",
   "id": "fc1a7465",
   "metadata": {},
   "source": [
    "In the cell below, remove all list items."
   ]
  },
  {
   "cell_type": "code",
   "execution_count": null,
   "id": "3abf8748",
   "metadata": {},
   "outputs": [],
   "source": []
  },
  {
   "attachments": {},
   "cell_type": "markdown",
   "id": "970f0aba",
   "metadata": {},
   "source": [
    "### Copying a list\n",
    "\n",
    "You can copy a list by using the `copy()` method. The return value with be a copied list.\n",
    "\n",
    "The syntax is `list.copy()` with no required parameters."
   ]
  },
  {
   "cell_type": "code",
   "execution_count": null,
   "id": "2116d180",
   "metadata": {},
   "outputs": [],
   "source": [
    "courses = ['Python','Data Science', 'Machine Learning' ,'Deep Learning']\n",
    "newCourses = courses.copy()\n",
    "newCourses"
   ]
  },
  {
   "attachments": {},
   "cell_type": "markdown",
   "id": "d449dbfe",
   "metadata": {},
   "source": [
    "In the cell below, copy the list `courses`"
   ]
  },
  {
   "cell_type": "code",
   "execution_count": null,
   "id": "0edbaf26",
   "metadata": {},
   "outputs": [],
   "source": [
    "courses = ['Anatomy','Physiology','Pharmacology']"
   ]
  },
  {
   "attachments": {},
   "cell_type": "markdown",
   "id": "1a352bd0",
   "metadata": {},
   "source": [
    "### Returning the index value \n",
    "\n",
    "It's sometimes necessary to be able to return the index of a specified value. The `index()` method allows you to do this. There is one required parameter which is the element to search for, this can be a string, number or list. \n",
    "\n",
    "The syntax is `list.index(elmnt)`"
   ]
  },
  {
   "cell_type": "code",
   "execution_count": 39,
   "id": "95816a6d",
   "metadata": {},
   "outputs": [
    {
     "data": {
      "text/plain": [
       "['Anatomy', 'Physiology', 'Pharmacology']"
      ]
     },
     "execution_count": 39,
     "metadata": {},
     "output_type": "execute_result"
    }
   ],
   "source": [
    "courses = ['Anatomy','Physiology','Pharmacology']\n",
    "courses.index('Physiology')\n",
    "courses"
   ]
  },
  {
   "attachments": {},
   "cell_type": "markdown",
   "id": "944a76b3",
   "metadata": {},
   "source": [
    "In the cell below, find the index of the string `Data Science`"
   ]
  },
  {
   "cell_type": "code",
   "execution_count": null,
   "id": "2b5b2b0d",
   "metadata": {},
   "outputs": [],
   "source": [
    "courses = ['Python','Data Science', 'Machine Learning' ,'Deep Learning']"
   ]
  },
  {
   "attachments": {},
   "cell_type": "markdown",
   "id": "42bbfbd6",
   "metadata": {},
   "source": [
    "### Counting list items \n",
    "\n",
    "In a list, it's possible to have duplicates, unlike other data types. The `count()` method returns the number of list items that have a specified value. \n",
    "\n",
    "The syntax is `list.count(value)` where `value` is the parameter for any string, list or number that you want to return the count for within the list.\n"
   ]
  },
  {
   "attachments": {},
   "cell_type": "markdown",
   "id": "280792cd",
   "metadata": {},
   "source": [
    "Run the cell below."
   ]
  },
  {
   "cell_type": "code",
   "execution_count": 40,
   "id": "33df5e02",
   "metadata": {},
   "outputs": [
    {
     "data": {
      "text/plain": [
       "2"
      ]
     },
     "execution_count": 40,
     "metadata": {},
     "output_type": "execute_result"
    }
   ],
   "source": [
    "courses = ['Python','Data Science', 'Machine Learning' ,'Deep Learning','Data Science']\n",
    "courses.count('Data Science')"
   ]
  },
  {
   "attachments": {},
   "cell_type": "markdown",
   "id": "b0ff1df6",
   "metadata": {},
   "source": [
    "In the cell below, find out how many times `Python` is populated within the list\n"
   ]
  },
  {
   "cell_type": "code",
   "execution_count": 41,
   "id": "e414e479",
   "metadata": {},
   "outputs": [],
   "source": [
    "courses = ['Python','Data Science', 'Machine Learning' ,'Deep Learning','Python','Python']"
   ]
  },
  {
   "attachments": {},
   "cell_type": "markdown",
   "id": "b8decfd1",
   "metadata": {},
   "source": [
    "#### Sorting a list\n",
    "\n",
    "Within Python, we sometimes want to sort a list by a certain order. The `sort() ` method will sort alphanumerically (A to Z or 0 - 9) in ascending order. \n",
    "\n",
    "The syntax is `list.sort(reverse=True|false, key=myFunc)` \n",
    "\n",
    "The sort method has two optional parameters `reverse` and `key`.\n",
    "\n",
    "The `reverse` parameter accepts a true or false value which will sort the list in descending order. \n",
    "\n",
    "The `myFunc` allows you to pass an optional function that allows you to sort in a more refined way. Don't worry about this too much as we won't be using it.\n",
    "\n",
    "Note the `sort()` method is case-sensitive, so all capital letters are sorted before lowercase letters. We can use a function to modify how lists get sorted. We won't cover this here.\n",
    "\n",
    "Run the code snippet below to see the result of the sort method."
   ]
  },
  {
   "cell_type": "code",
   "execution_count": 42,
   "id": "101ec568",
   "metadata": {},
   "outputs": [
    {
     "data": {
      "text/plain": [
       "['Data Science', 'Deep Learning', 'Neural Networks', 'Python']"
      ]
     },
     "execution_count": 42,
     "metadata": {},
     "output_type": "execute_result"
    }
   ],
   "source": [
    "courses = [\"Python\",\"Data Science\",\"Deep Learning\", \"Neural Networks\"]\n",
    "courses.sort()\n",
    "courses"
   ]
  },
  {
   "attachments": {},
   "cell_type": "markdown",
   "id": "65c0d764",
   "metadata": {},
   "source": [
    "The sort method is invoked on the `courses` list and sorts the array in alphabetical order.\n",
    "\n",
    "Run the cell below to see the reverse option."
   ]
  },
  {
   "cell_type": "code",
   "execution_count": 43,
   "id": "225f498d",
   "metadata": {},
   "outputs": [
    {
     "data": {
      "text/plain": [
       "['Python', 'Neural Networks', 'Deep Learning', 'Data Science']"
      ]
     },
     "execution_count": 43,
     "metadata": {},
     "output_type": "execute_result"
    }
   ],
   "source": [
    "courses = [\"Python\",\"Data Science\",\"Deep Learning\", \"Neural Networks\"]\n",
    "courses.sort(reverse=True)\n",
    "courses"
   ]
  },
  {
   "attachments": {},
   "cell_type": "markdown",
   "id": "6c64eb8d",
   "metadata": {},
   "source": [
    "Notice how the list is sorted in descending order.\n",
    "\n",
    "In the cell below, sort the list in descending order from Z to A."
   ]
  },
  {
   "cell_type": "code",
   "execution_count": null,
   "id": "268a828a",
   "metadata": {},
   "outputs": [],
   "source": [
    "courses = [\"Anatomy\",\"Physiology\", \"Pharmacology\", \"Clinical Sciences\"]"
   ]
  },
  {
   "attachments": {},
   "cell_type": "markdown",
   "id": "48d72df3",
   "metadata": {},
   "source": [
    "### String Methods"
   ]
  },
  {
   "attachments": {},
   "cell_type": "markdown",
   "id": "591f4b0a",
   "metadata": {},
   "source": [
    "Python has 47 methods for manipulating strings, we won't cover all of these but will focus on the ten or so methods worth committing to memory. It's always possible to look these methods up if you need something else.\n",
    "\n",
    "#### Converting a list to a string \n",
    "\n",
    "The `join()` method takes all list items and joins them together into a single string. It has a required parameter `iterable` which can be any object. The join method returns a string.  \n",
    "\n",
    "The syntax is `string.join(iterable)`. The string aspect is what separator between the list items we would like to have. An example will help clarify this.\n",
    "\n",
    "Run the cell below.\n"
   ]
  },
  {
   "cell_type": "code",
   "execution_count": 44,
   "id": "714fe2d1",
   "metadata": {},
   "outputs": [
    {
     "data": {
      "text/plain": [
       "'Python Data Science Deep Learning Neural Networks'"
      ]
     },
     "execution_count": 44,
     "metadata": {},
     "output_type": "execute_result"
    }
   ],
   "source": [
    "courses = [\"Python\",\"Data Science\",\"Deep Learning\", \"Neural Networks\"]\n",
    "\n",
    "\" \".join(courses)"
   ]
  },
  {
   "attachments": {},
   "cell_type": "markdown",
   "id": "534f64a3",
   "metadata": {},
   "source": [
    "We invoke the join method on the `\" \"` string, this defines what separates the list items when we want to create a string. We pass in the `courses` list as an argument to the join method. The result is `Python Data Science Deep Learning Neural Networks`. \n",
    "\n",
    "It's possible to use a custom separator, like for example a comma.\n",
    "\n",
    "In the cell below, try to convert the list to a string with a comma separated between each list item."
   ]
  },
  {
   "cell_type": "code",
   "execution_count": null,
   "id": "d134ba1b",
   "metadata": {},
   "outputs": [],
   "source": []
  },
  {
   "attachments": {},
   "cell_type": "markdown",
   "id": "f722c6b5",
   "metadata": {},
   "source": [
    "\n",
    "It's also possible to join any iterable, that is a dictionary or a tuple can be converted into a string in the same manner."
   ]
  },
  {
   "attachments": {},
   "cell_type": "markdown",
   "id": "c0124ee0",
   "metadata": {},
   "source": [
    "#### Spliting a string into smaller strings\n",
    "\n",
    "Sometimes you need to break a string into smaller parts and want to store these in a list. The `split()` method splits a string into a list of individual strings. It has two optional values, `separator` and `max split`.\n",
    "\n",
    "The syntax is `string.split(separator, maxsplit)`. \n",
    "\n",
    "The `separator` allows to specify how to split the string, so if it's a string of words, you may want to split at the space between words, so each list item is a word in the sentence. The default value for this is `\" \"`. \n",
    "\n",
    "`Maxsplit` is used to specify how many splits to do, the default value is `-1` and when we don't specify this in the method will automatically split the maximum number of times.\n",
    "\n",
    "Run the snippet below."
   ]
  },
  {
   "cell_type": "code",
   "execution_count": 45,
   "id": "1de4c43a",
   "metadata": {},
   "outputs": [
    {
     "data": {
      "text/plain": [
       "['Anatomy', 'Physiology', 'Pharmacology']"
      ]
     },
     "execution_count": 45,
     "metadata": {},
     "output_type": "execute_result"
    }
   ],
   "source": [
    "coursesText = \"Anatomy Physiology Pharmacology\"\n",
    "coursesText.split()"
   ]
  },
  {
   "attachments": {},
   "cell_type": "markdown",
   "id": "0e37ec02",
   "metadata": {},
   "source": [
    "Notice how we haven't provided any arguments and the method splits this string into a list of individual words.\n",
    "\n",
    "Run the code snippet below which is more explicit."
   ]
  },
  {
   "cell_type": "code",
   "execution_count": 46,
   "id": "f53ec409",
   "metadata": {},
   "outputs": [
    {
     "data": {
      "text/plain": [
       "['Anatomy', 'Physiology', 'Pharmacology']"
      ]
     },
     "execution_count": 46,
     "metadata": {},
     "output_type": "execute_result"
    }
   ],
   "source": [
    "coursesText = \"Anatomy Physiology Pharmacology\"\n",
    "coursesText.split(\" \")"
   ]
  },
  {
   "attachments": {},
   "cell_type": "markdown",
   "id": "f238ea7a",
   "metadata": {},
   "source": [
    "We invoke the split method passing in `\" \"` as argument, the return value is a list of strings which correspond to words in the text. Notice how we specify the seperator as the space. \n",
    "\n",
    "You may have instances where its not words in text, but commas, or commas and a space. You can seperate those too.\n",
    "\n",
    "In the cell below seperate the string into individual words."
   ]
  },
  {
   "cell_type": "code",
   "execution_count": null,
   "id": "77cf3279",
   "metadata": {},
   "outputs": [],
   "source": [
    "\n",
    "courses = \"Anatomy, Physiology, Pharmacology\""
   ]
  },
  {
   "attachments": {},
   "cell_type": "markdown",
   "id": "d62ed647",
   "metadata": {},
   "source": [
    "Sometimes you care only about splitting the first one or two instances of a string. In the cell below can you try to split the first two words of a string (hint think about maxsplit)"
   ]
  },
  {
   "cell_type": "code",
   "execution_count": 51,
   "id": "56a6e46c",
   "metadata": {},
   "outputs": [
    {
     "data": {
      "text/plain": [
       "['Anatomy', 'Physiology', 'PharmacologyClinical']"
      ]
     },
     "execution_count": 51,
     "metadata": {},
     "output_type": "execute_result"
    }
   ],
   "source": [
    "courses = \"Anatomy Physiology PharmacologyClinical\"\n",
    "courses.split(\" \",2)\n"
   ]
  },
  {
   "attachments": {},
   "cell_type": "markdown",
   "id": "7043e842",
   "metadata": {},
   "source": [
    "#### Replacing a substring with another\n",
    "\n",
    "The `replace` method allows you to replace characters in a string with another string. This can be very useful when cleaning up messy data. \n",
    "\n",
    "The syntax is `string.replace(oldvalue, newvalue, count)`. \n",
    "\n",
    "`oldvalue` refers to the string to search for, this is required. \n",
    "`newvalue` is the string to replace the old string. \n",
    "`count` is an optional parameter to specify how many instances of the old value you want to replace. The default value is all occurrences.\n",
    "\n",
    "Run the snippet below."
   ]
  },
  {
   "cell_type": "code",
   "execution_count": 52,
   "id": "26ffd702",
   "metadata": {},
   "outputs": [
    {
     "data": {
      "text/plain": [
       "'Anatomy Physiology Pharmacology Clinical'"
      ]
     },
     "execution_count": 52,
     "metadata": {},
     "output_type": "execute_result"
    }
   ],
   "source": [
    "courses = \"Anatomy Physiology|Pharmacology|Clinical\"\n",
    "courses.replace(\"|\", \" \")"
   ]
  },
  {
   "attachments": {},
   "cell_type": "markdown",
   "id": "1de3ce18",
   "metadata": {},
   "source": [
    "Invoking the replace method searches for all occurrences of `|` and replaces them with `\" \"`. \n",
    "\n",
    "In the cell below, clean up the string so the string separates each course by a space only."
   ]
  },
  {
   "cell_type": "code",
   "execution_count": null,
   "id": "369af3e6",
   "metadata": {},
   "outputs": [],
   "source": [
    "courses = \"Anatomy*Physiology|Pharmacology|Clinical\""
   ]
  },
  {
   "attachments": {},
   "cell_type": "markdown",
   "id": "6aa43bb0",
   "metadata": {},
   "source": [
    "#### Removing whitespaces\n",
    "\n",
    "When cleaning up data, you may find multiple spaces at the beginning and end of a string. The `strip()` method removes all whitespace from the beginning and end. \n",
    "\n",
    "The syntax is `string.strip(characters)`. The `characters` parameter allows you to remove a specific set of characters.\n",
    "\n",
    "Look at the code snippet below."
   ]
  },
  {
   "cell_type": "code",
   "execution_count": 53,
   "id": "76183bd2",
   "metadata": {},
   "outputs": [
    {
     "data": {
      "text/plain": [
       "'Python'"
      ]
     },
     "execution_count": 53,
     "metadata": {},
     "output_type": "execute_result"
    }
   ],
   "source": [
    "courses = \"   Python      \"\n",
    "courses.strip()"
   ]
  },
  {
   "attachments": {},
   "cell_type": "markdown",
   "id": "e11bd65b",
   "metadata": {},
   "source": [
    "Sometimes you want to either remove space from the left side of a string or the right side of a string. The `lstrip` and `rstrip` methods do this.\n",
    "\n",
    "In the cell below, remove the white space from the string."
   ]
  },
  {
   "cell_type": "code",
   "execution_count": 54,
   "id": "517de964",
   "metadata": {},
   "outputs": [],
   "source": [
    "courses = \" Deep Learning \"\n"
   ]
  },
  {
   "attachments": {},
   "cell_type": "markdown",
   "id": "ffba8668",
   "metadata": {},
   "source": [
    "It's also possible to specify which character to remove."
   ]
  },
  {
   "cell_type": "code",
   "execution_count": 55,
   "id": "6cd4df1d",
   "metadata": {},
   "outputs": [
    {
     "data": {
      "text/plain": [
       "'Deep learning'"
      ]
     },
     "execution_count": 55,
     "metadata": {},
     "output_type": "execute_result"
    }
   ],
   "source": [
    "courses = \",,,,,Deep learning,,,,\"\n",
    "courses.strip(\",\")"
   ]
  },
  {
   "attachments": {},
   "cell_type": "markdown",
   "id": "bfc9194c",
   "metadata": {},
   "source": [
    "#### Uppercase strings\n",
    "\n",
    "The `upper()` method will take a string and convert it to a string of upper-case letters.\n",
    "\n",
    "The syntax is `course.upper()`. Note that numbers are ignored.\n"
   ]
  },
  {
   "cell_type": "code",
   "execution_count": 56,
   "id": "7dd6434c",
   "metadata": {},
   "outputs": [
    {
     "data": {
      "text/plain": [
       "'PYTHON'"
      ]
     },
     "execution_count": 56,
     "metadata": {},
     "output_type": "execute_result"
    }
   ],
   "source": [
    "course = \"python\"\n",
    "course.upper()"
   ]
  },
  {
   "attachments": {},
   "cell_type": "markdown",
   "id": "2e3b5f3b",
   "metadata": {},
   "source": [
    "\n",
    "In the cell below make the string all uppercase.\n"
   ]
  },
  {
   "cell_type": "code",
   "execution_count": null,
   "id": "4107b402",
   "metadata": {},
   "outputs": [],
   "source": [
    "courseText = \"Python is a programming language\""
   ]
  },
  {
   "attachments": {},
   "cell_type": "markdown",
   "id": "a0272766",
   "metadata": {},
   "source": [
    "#### Lowercase strings\n",
    "\n",
    "The `lower()` method will take a string and convert it to a string of upper-case letters.\n",
    "\n",
    "The syntax is `course.lower()`. Note that numbers are ignored."
   ]
  },
  {
   "cell_type": "code",
   "execution_count": 57,
   "id": "96bcfd55",
   "metadata": {},
   "outputs": [
    {
     "data": {
      "text/plain": [
       "'python'"
      ]
     },
     "execution_count": 57,
     "metadata": {},
     "output_type": "execute_result"
    }
   ],
   "source": [
    "course = \"PYTHON\"\n",
    "course.lower()"
   ]
  },
  {
   "attachments": {},
   "cell_type": "markdown",
   "id": "924f1efb",
   "metadata": {},
   "source": [
    "In the cell below make the string all lowercase."
   ]
  },
  {
   "cell_type": "code",
   "execution_count": null,
   "id": "02a64638",
   "metadata": {},
   "outputs": [],
   "source": [
    "courseText = \"Python Is A programming language\""
   ]
  },
  {
   "attachments": {},
   "cell_type": "markdown",
   "id": "52a943dd",
   "metadata": {},
   "source": [
    "#### Checking if a string starts with a character\n",
    "\n",
    "It can be useful to know if a string starts with a prefix of characters. The `startswith` method returns true if a string starts with a specified value.\n",
    "\n",
    "The syntax is `string.startswith(value,start,end)`. \n",
    "\n",
    "Where `value` is the string to search for. \n",
    "`Start` and `end` are optional values if you want to specify the position in the string.\n",
    "\n",
    "Run the code snippet below."
   ]
  },
  {
   "cell_type": "code",
   "execution_count": 58,
   "id": "6e25f1e5",
   "metadata": {},
   "outputs": [
    {
     "data": {
      "text/plain": [
       "True"
      ]
     },
     "execution_count": 58,
     "metadata": {},
     "output_type": "execute_result"
    }
   ],
   "source": [
    "course = \"1. Python\"\n",
    "course.startswith(\"1.\")"
   ]
  },
  {
   "attachments": {},
   "cell_type": "markdown",
   "id": "a1106041",
   "metadata": {},
   "source": [
    "Notice how when we invoke this method, it returns `True`. You might wonder what you'd do with this. Sometimes you create code to handle specific cases, knowing if a string starts with something by a boolean value, means you can address this case. We will look at this when we cover conditional statements.\n",
    "\n",
    "In the cell below check to see if the string starts with a `\" \"`."
   ]
  },
  {
   "cell_type": "code",
   "execution_count": null,
   "id": "1fdff408",
   "metadata": {},
   "outputs": [],
   "source": [
    "course = \" Python\""
   ]
  },
  {
   "attachments": {},
   "cell_type": "markdown",
   "id": "e299a524",
   "metadata": {},
   "source": [
    "#### Checking if a string ends with a set of characters\n",
    "\n",
    "Similar to `startswith()`, `endswith()` checks if a string has a suffix of another string. \n",
    "\n",
    "The syntax is `string.endswith(value,start,end)`. Where `value` is the required parameters for a value to check. `start` and `end` are optional values to specify which position in the string.\n",
    "\n",
    "Run the cell below."
   ]
  },
  {
   "cell_type": "code",
   "execution_count": 60,
   "id": "11a18840",
   "metadata": {},
   "outputs": [
    {
     "data": {
      "text/plain": [
       "True"
      ]
     },
     "execution_count": 60,
     "metadata": {},
     "output_type": "execute_result"
    }
   ],
   "source": [
    "courses = \"Python Deep Learning.\"\n",
    "courses.endswith(\".\")"
   ]
  },
  {
   "attachments": {},
   "cell_type": "markdown",
   "id": "ae2ebd93",
   "metadata": {},
   "source": [
    "In the cell below check if the string ends in `.py`"
   ]
  },
  {
   "cell_type": "code",
   "execution_count": 61,
   "id": "0b073a67",
   "metadata": {},
   "outputs": [],
   "source": [
    "filename = \"Python Principles.py\""
   ]
  },
  {
   "attachments": {},
   "cell_type": "markdown",
   "id": "66d0877d",
   "metadata": {},
   "source": [
    "#### Custom formatting of a string\n",
    "\n",
    "We looked at string interpolation using the f-strings above. However, sometimes you want to define a template string in one part of the code and use that template string in another. The format method formats specified values and inserts them into a string placeholder defined by `{}`. \n",
    "\n",
    "The syntax for the format method `string.format(value1,value2...)`. The `value1` required must be a list or `key=value` list.\n",
    "\n",
    "Some examples will help clarify this."
   ]
  },
  {
   "cell_type": "code",
   "execution_count": 65,
   "id": "52b0b615",
   "metadata": {},
   "outputs": [
    {
     "data": {
      "text/plain": [
       "\"My name is John, I'm 36\""
      ]
     },
     "execution_count": 65,
     "metadata": {},
     "output_type": "execute_result"
    }
   ],
   "source": [
    "txt1 = \"My name is {fname}, I'm {age}\".format(fname=\"John\", age=36)\n",
    "txt1"
   ]
  },
  {
   "attachments": {},
   "cell_type": "markdown",
   "id": "ac7d8972",
   "metadata": {},
   "source": [
    "The placeholders are `fname` and `age`. The format method is using the `key=value` list seperated by a comma, to define what those placeholders should have.\n",
    "\n",
    "The placeholders can also be identified by names as above, numbered indexes like `{0}` or empty placeholders."
   ]
  },
  {
   "cell_type": "code",
   "execution_count": 67,
   "id": "b4d04e63",
   "metadata": {},
   "outputs": [
    {
     "data": {
      "text/plain": [
       "\"My name is John, I'm 36\""
      ]
     },
     "execution_count": 67,
     "metadata": {},
     "output_type": "execute_result"
    }
   ],
   "source": [
    "txt2=\"My name is {0}, I'm {1}\".format(\"John\",36)  \n",
    "txt2"
   ]
  },
  {
   "attachments": {},
   "cell_type": "markdown",
   "id": "7eb1d416",
   "metadata": {},
   "source": [
    "Here we using a index position `{0}` which corresponds to `John` and `{1}` corresponds to `36`."
   ]
  },
  {
   "cell_type": "code",
   "execution_count": 68,
   "id": "39cbbcfe",
   "metadata": {},
   "outputs": [
    {
     "data": {
      "text/plain": [
       "\"My name is John, I'm 36\""
      ]
     },
     "execution_count": 68,
     "metadata": {},
     "output_type": "execute_result"
    }
   ],
   "source": [
    "txt3 =\"My name is {}, I'm {}\".format(\"John\",36)\n",
    "txt3"
   ]
  },
  {
   "attachments": {},
   "cell_type": "markdown",
   "id": "bc6afab5",
   "metadata": {},
   "source": [
    "Here we're using empty placeholders `{}` the first empty place holder refers to `John` and the second placeholder `{}` refers to `36`\n",
    "\n",
    "We can use a list of values we want to insert. For example run the snippet below. "
   ]
  },
  {
   "cell_type": "code",
   "execution_count": 71,
   "id": "01b1122c",
   "metadata": {},
   "outputs": [
    {
     "data": {
      "text/plain": [
       "'https://api.stackexchange.com/2.3/questions/1334;1234;1213?site=stackoverflow'"
      ]
     },
     "execution_count": 71,
     "metadata": {},
     "output_type": "execute_result"
    }
   ],
   "source": [
    "BASE_URL =\"https://api.stackexchange.com/2.3/questions/{ids}?site={site}\"\n",
    "\n",
    "question_ids = ['1334','1234','1213']\n",
    "url_for_questions = BASE_URL.format(\n",
    "\tsite=\"stackoverflow\", \n",
    "\tids=\";\".join(question_ids))\n",
    "url_for_questions"
   ]
  },
  {
   "attachments": {},
   "cell_type": "markdown",
   "id": "43e22f44",
   "metadata": {},
   "source": [
    "The `BASE_URL` string is the templated string with `{ids}` and `{site}` as placeholders. We invoke the format method specifying the `site` placeholder takes a specific value like before. However, we want the ids to be different. `\";\".join(question_ids)\"` takes the list `question_ids` and returns a string seperated by semicolons."
   ]
  },
  {
   "attachments": {},
   "cell_type": "markdown",
   "id": "8620d13e",
   "metadata": {},
   "source": [
    "### Counting substrings \n",
    "\n",
    "Sometimes we want to count the number of substrings within a string. The `count()` method allows us to do this. It returns the number of times a substring is found. \n",
    "\n",
    "The syntax is `string.count(value,start,end)`. `value` is the required parameter to search for in the string. The `start` and `end` parameters are optional numbers to specify where within the string you wish to search for."
   ]
  },
  {
   "cell_type": "code",
   "execution_count": 72,
   "id": "174272da",
   "metadata": {},
   "outputs": [
    {
     "data": {
      "text/plain": [
       "2"
      ]
     },
     "execution_count": 72,
     "metadata": {},
     "output_type": "execute_result"
    }
   ],
   "source": [
    "courses = \"Python, Deep Learning, Data Science, Python2\"\n",
    "courses.count(\"Python\")"
   ]
  },
  {
   "attachments": {},
   "cell_type": "markdown",
   "id": "79b68c9a",
   "metadata": {},
   "source": [
    "In the cell below, count the number of times a space is in the string."
   ]
  },
  {
   "cell_type": "code",
   "execution_count": null,
   "id": "37446b3b",
   "metadata": {},
   "outputs": [],
   "source": [
    "courses = \"Anatomy Physiology Pharmacology Clinical Sciences\" "
   ]
  },
  {
   "attachments": {},
   "cell_type": "markdown",
   "id": "2c49a850",
   "metadata": {},
   "source": [
    "#### Removing a prefix\n",
    "\n",
    "The `removeprefix` method can be used to remove a prefix from a string. \n",
    "\n",
    "The syntax is `string.removeprefix(value)` where `value` is the string you wish to remove.\n",
    "\n",
    "Run the cell below."
   ]
  },
  {
   "cell_type": "code",
   "execution_count": 73,
   "id": "356a9ad2",
   "metadata": {},
   "outputs": [
    {
     "data": {
      "text/plain": [
       "'Anatomy'"
      ]
     },
     "execution_count": 73,
     "metadata": {},
     "output_type": "execute_result"
    }
   ],
   "source": [
    "course = \"1. Anatomy\"\n",
    "course.removeprefix(\"1. \")"
   ]
  },
  {
   "attachments": {},
   "cell_type": "markdown",
   "id": "7c8fcee7",
   "metadata": {},
   "source": [
    "In the cell below, remove the first few characters of the string so the first character of the string is `P`."
   ]
  },
  {
   "cell_type": "code",
   "execution_count": null,
   "id": "7845f1e1",
   "metadata": {},
   "outputs": [],
   "source": [
    "course = \"## Python\""
   ]
  },
  {
   "attachments": {},
   "cell_type": "markdown",
   "id": "32c7bec6",
   "metadata": {},
   "source": [
    "#### Removing a suffix\n",
    "\n",
    "Similar to `removeprefix`, `removesuffix` method can be used to remove a suffix from a string. \n",
    "\n",
    "The syntax is `string.removesuffix(value)` where `value` is the string you wish to remove.\n",
    "\n",
    "Run the cell below."
   ]
  },
  {
   "cell_type": "code",
   "execution_count": 74,
   "id": "5d46deef",
   "metadata": {},
   "outputs": [
    {
     "data": {
      "text/plain": [
       "'Anatomy'"
      ]
     },
     "execution_count": 74,
     "metadata": {},
     "output_type": "execute_result"
    }
   ],
   "source": [
    "course = \"Anatomy ###\"\n",
    "course.removesuffix(\" ###\")"
   ]
  },
  {
   "attachments": {},
   "cell_type": "markdown",
   "id": "24aa9af8",
   "metadata": {},
   "source": [
    "In the cell below, remove the last few characters `***`"
   ]
  },
  {
   "cell_type": "code",
   "execution_count": null,
   "id": "2aec1ce7",
   "metadata": {},
   "outputs": [],
   "source": [
    "course = \"Python ***\""
   ]
  },
  {
   "attachments": {},
   "cell_type": "markdown",
   "id": "8b7a8bfa",
   "metadata": {},
   "source": [
    "This wraps up the most common string methods in Python. Don't be too disheartened by the number of methods. Most of them you won't need to use and knowing where to look is often more important than memorising. \n",
    "\n",
    "Here's the list of the most useful string methods roughly in order.\n",
    "\n",
    "1.  `join`: Join iterable of strings by a separator\n",
    "2.  `split`: Split (on whitespace by default) into list of strings\n",
    "3.  `replace`: Replace all copies of one substring with another\n",
    "4.  `strip`: Remove whitespace from the beginning and end\n",
    "5. `upper` changes all lowercase letters to upper case within the string\n",
    "6. `lower` changes all uppercase letters to uppercase\n",
    "7.  `startswith` & `endswith`: Check if string starts/ends with 1 or more other strings\n",
    "8.  `format`: Format the string (consider an f-string before this)\n",
    "9.  `count`: Count how many times a given substring occurs\n",
    "10.  `removeprefix` & `removesuffix`: Remove the given prefix/suffix"
   ]
  },
  {
   "attachments": {},
   "cell_type": "markdown",
   "id": "d1cfb7a8",
   "metadata": {},
   "source": [
    "### Dictionary Methods"
   ]
  },
  {
   "attachments": {},
   "cell_type": "markdown",
   "id": "c6b095ab",
   "metadata": {},
   "source": [
    "Below are some of the common dictionary methods you will come into contact with. "
   ]
  },
  {
   "attachments": {},
   "cell_type": "markdown",
   "id": "2d6fa23c",
   "metadata": {},
   "source": [
    "##### Accessing a dictionary value\n",
    "\n",
    "The `get()` method returns the value of an item with a specified key. \n",
    "\n",
    "The syntax is `dictionary.get(keyname,value)` where `keyname` is the keyname of the item you want to return value from. The `value` is an optional parameter of a value you want to return if the key does not exist.\n",
    "\n",
    "Run the code snippet below.\n"
   ]
  },
  {
   "attachments": {},
   "cell_type": "markdown",
   "metadata": {},
   "source": []
  },
  {
   "cell_type": "code",
   "execution_count": 77,
   "id": "1b309eb7",
   "metadata": {},
   "outputs": [
    {
     "data": {
      "text/plain": [
       "'Edinburgh'"
      ]
     },
     "execution_count": 77,
     "metadata": {},
     "output_type": "execute_result"
    }
   ],
   "source": [
    "capitals = {\n",
    "\t'Scotland':'Edinburgh',\n",
    "\t'England':'London',\n",
    "\t'France':'Paris'\n",
    "}\n",
    "\n",
    "capitals.get('Scotland')"
   ]
  },
  {
   "attachments": {},
   "cell_type": "markdown",
   "id": "25423822",
   "metadata": {},
   "source": [
    "The get method is invoked on the `capitals` dictionary, with `Scotland` passed as an argument. The return value is `Edinburgh`.\n",
    "\n",
    "In the cell below, find the value of the `France` key in the dictionary."
   ]
  },
  {
   "attachments": {},
   "cell_type": "markdown",
   "id": "f5702ac5",
   "metadata": {},
   "source": [
    "#### Return a list of keys in a dictionary\n",
    "\n",
    "Sometimes you want to know how many keys there are in a dictionary. The `keys` method returns a list of all keys in a dictionary.\n",
    "\n",
    "The syntax is `dictionary.keys()`, there are no parameters for this method."
   ]
  },
  {
   "cell_type": "code",
   "execution_count": 85,
   "id": "f850c786",
   "metadata": {},
   "outputs": [
    {
     "data": {
      "text/plain": [
       "dict_keys(['Scotland', 'England', 'France'])"
      ]
     },
     "execution_count": 85,
     "metadata": {},
     "output_type": "execute_result"
    }
   ],
   "source": [
    "capitals = {\n",
    "\t'Scotland':'Edinburgh',\n",
    "\t'England':'London',\n",
    "\t'France':'Paris'\n",
    "}\n",
    "\n",
    "capitals.keys()"
   ]
  },
  {
   "attachments": {},
   "cell_type": "markdown",
   "id": "e3000cb7",
   "metadata": {},
   "source": [
    "In the cell above, we are invoking the key method on the dictionary `capitals` which returns a list of key names.\n",
    "\n",
    "In the cell below, return a list of all keys in the dictionary."
   ]
  },
  {
   "cell_type": "code",
   "execution_count": null,
   "id": "5a998e80",
   "metadata": {},
   "outputs": [],
   "source": [
    "capitals = {\n",
    "\t'Course1':'Python',\n",
    "\t'Course2':'Deep Learning',\n",
    "\t'Course3':'Machine Learning'\n",
    "}"
   ]
  },
  {
   "attachments": {},
   "cell_type": "markdown",
   "id": "f3cda26a",
   "metadata": {},
   "source": [
    "#### Returning values of a dictionary\n",
    "\n",
    "Like the `key()` method, we can return a list of all values of a dictionary using the `value()` method. \n",
    "\n",
    "The syntax is `dictionary.values()`. "
   ]
  },
  {
   "cell_type": "code",
   "execution_count": 82,
   "id": "6f45fdf4",
   "metadata": {},
   "outputs": [
    {
     "data": {
      "text/plain": [
       "dict_values(['Python', 'Deep Learning', 'Machine Learning'])"
      ]
     },
     "execution_count": 82,
     "metadata": {},
     "output_type": "execute_result"
    }
   ],
   "source": [
    "capitals = {\n",
    "\t'Course1':'Python',\n",
    "\t'Course2':'Deep Learning',\n",
    "\t'Course3':'Machine Learning'\n",
    "}\n",
    "capitals.values()"
   ]
  },
  {
   "attachments": {},
   "cell_type": "markdown",
   "id": "bfd77c53",
   "metadata": {},
   "source": [
    "We invoked the `values` method and which returns a list of all values of the dictionary `capitals`.\n",
    "\n",
    "In the cell below, return a list of all values of the dictionary."
   ]
  },
  {
   "cell_type": "code",
   "execution_count": null,
   "id": "08fe8c8c",
   "metadata": {},
   "outputs": [],
   "source": [
    "capitals = {\n",
    "\t'Scotland':'Edinburgh',\n",
    "\t'England':'London',\n",
    "\t'France':'Paris'\n",
    "}"
   ]
  },
  {
   "attachments": {},
   "cell_type": "markdown",
   "id": "036330b5",
   "metadata": {},
   "source": [
    "Sometimes you want to have access to both keys and values in a dictionary. We can use the `item()` method to return a list of tuples.\n",
    "\n",
    "Run the snippet below to see the items method at work."
   ]
  },
  {
   "cell_type": "code",
   "execution_count": 84,
   "id": "a70feaa9",
   "metadata": {},
   "outputs": [
    {
     "data": {
      "text/plain": [
       "dict_items([('Scotland', 'Edinburgh'), ('England', 'London'), ('France', 'Paris')])"
      ]
     },
     "execution_count": 84,
     "metadata": {},
     "output_type": "execute_result"
    }
   ],
   "source": [
    "capitals = {\n",
    "\t'Scotland':'Edinburgh',\n",
    "\t'England':'London',\n",
    "\t'France':'Paris'\n",
    "}\n",
    "capitals.items()"
   ]
  },
  {
   "attachments": {},
   "cell_type": "markdown",
   "id": "c9474427",
   "metadata": {},
   "source": [
    "The return is a list of tuples each containing the key and value pair. \n",
    "\n",
    "#### Removing Items\n",
    "\n",
    "There are a couple of ways to remove items from a dictionary. \n",
    "\n",
    "The simplest way is to use the `del` keyword with a specific key name."
   ]
  },
  {
   "cell_type": "code",
   "execution_count": 87,
   "id": "37dd92c1",
   "metadata": {},
   "outputs": [
    {
     "data": {
      "text/plain": [
       "{'England': 'London', 'France': 'Paris'}"
      ]
     },
     "execution_count": 87,
     "metadata": {},
     "output_type": "execute_result"
    }
   ],
   "source": [
    "capitals = {\n",
    "\t'Scotland':'Edinburgh',\n",
    "\t'England':'London',\n",
    "\t'France':'Paris'\n",
    "}\n",
    "del capitals['Scotland']\n",
    "capitals"
   ]
  },
  {
   "attachments": {},
   "cell_type": "markdown",
   "id": "73bab470",
   "metadata": {},
   "source": [
    "### Tuple Methods"
   ]
  },
  {
   "attachments": {},
   "cell_type": "markdown",
   "id": "598519dc",
   "metadata": {},
   "source": [
    "Tuples are unchangable, so we can't change, add or remove items once the tuple has been created. There are a couple of methods we can use on tuples as well as a useful way to extract values from tuples worth knowing about. \n"
   ]
  },
  {
   "attachments": {},
   "cell_type": "markdown",
   "id": "1ca377b2",
   "metadata": {},
   "source": [
    "### Counting a tuple\n",
    "\n",
    "The `count()` method on a tuple returns the number of times a specified value occurs. It has one required parameter which is the value to search for within the tuple for the number of items.\n",
    "\n",
    "The syntax is `tuple.count(elmnt)`\n",
    "\n",
    "Run the snippet below to see an illustration of this method."
   ]
  },
  {
   "cell_type": "code",
   "execution_count": 89,
   "id": "1eff74a0",
   "metadata": {},
   "outputs": [
    {
     "data": {
      "text/plain": [
       "1"
      ]
     },
     "execution_count": 89,
     "metadata": {},
     "output_type": "execute_result"
    }
   ],
   "source": [
    "courses = ('Python','Data Science', 'Machine Learning' ,'Deep Learning')\n",
    "courses.count('Python')"
   ]
  },
  {
   "attachments": {},
   "cell_type": "markdown",
   "id": "ed164965",
   "metadata": {},
   "source": [
    "In the cell below, count the number of times `Python` appears."
   ]
  },
  {
   "cell_type": "code",
   "execution_count": null,
   "id": "aa87d0ef",
   "metadata": {},
   "outputs": [],
   "source": []
  },
  {
   "attachments": {},
   "cell_type": "markdown",
   "id": "4bcaaf72",
   "metadata": {},
   "source": [
    "It's also possible to return the index value of a tuple item using the built-in `index()` method. It has one required parameter which is the value you wish to search for the index of.\n",
    "\n",
    "The syntax is `tuple.index(value)`"
   ]
  },
  {
   "cell_type": "code",
   "execution_count": 90,
   "id": "26280603",
   "metadata": {},
   "outputs": [
    {
     "data": {
      "text/plain": [
       "2"
      ]
     },
     "execution_count": 90,
     "metadata": {},
     "output_type": "execute_result"
    }
   ],
   "source": [
    "courses = ('Python','Data Science', 'Machine Learning' ,'Deep Learning')\n",
    "courses.index('Machine Learning')"
   ]
  },
  {
   "attachments": {},
   "cell_type": "markdown",
   "id": "e3d26025",
   "metadata": {},
   "source": [
    "In the tuple below, search for which index `Deep Learning` is"
   ]
  },
  {
   "cell_type": "code",
   "execution_count": null,
   "id": "1e4fc005",
   "metadata": {},
   "outputs": [],
   "source": [
    "courses = ('Python','Data Science', 'Machine Learning' ,'Deep Learning')"
   ]
  },
  {
   "attachments": {},
   "cell_type": "markdown",
   "id": "b74b2a3b",
   "metadata": {},
   "source": [
    "##### Unpack a tuple\n",
    "\n",
    "When we create a tuple we usually assign values to it. We can also extract values back from a variable in a procedure called **unpacking**."
   ]
  },
  {
   "cell_type": "code",
   "execution_count": 91,
   "id": "61db5d8c",
   "metadata": {},
   "outputs": [
    {
     "name": "stdout",
     "output_type": "stream",
     "text": [
      "Python\n",
      "Data Science\n",
      "Machine Learning\n"
     ]
    }
   ],
   "source": [
    "courses = ('Python','Data Science', 'Machine Learning')\n",
    "\n",
    "(course1,course2,course3) = courses\n",
    "print(course1)\n",
    "print(course2)\n",
    "print(course3)"
   ]
  },
  {
   "attachments": {},
   "cell_type": "markdown",
   "id": "b344d266",
   "metadata": {},
   "source": [
    "You can see from this example that we essentially declare `courses1`, `courses2`, and `course3` to the respective values of the tuple. \n",
    "\n",
    "There may be a situation where the number of variables is less than the number of values within the tuple. We can add an asterisk `*` to a variable name and the values will be assigned to the variable as a list. "
   ]
  },
  {
   "cell_type": "code",
   "execution_count": 93,
   "id": "cc2a742b",
   "metadata": {},
   "outputs": [
    {
     "name": "stdout",
     "output_type": "stream",
     "text": [
      "Python\n",
      "Data Science\n",
      "['Machine Learning', 'Deep Learning']\n"
     ]
    }
   ],
   "source": [
    "courses = ('Python','Data Science', 'Machine Learning' ,'Deep Learning')\n",
    "\n",
    "(courses1, courses2, *newCourses) = courses\n",
    "\n",
    "print(courses1)\n",
    "print(courses2)\n",
    "print(newCourses)"
   ]
  },
  {
   "attachments": {},
   "cell_type": "markdown",
   "id": "730a31d2",
   "metadata": {},
   "source": [
    "In this example, we're declaring `courses1` and `courses2` with the assigned valued `Python` and `Data Science` respectively. The variable `newCourses` is assigned a list with the rest of the values in the tuple. "
   ]
  },
  {
   "attachments": {},
   "cell_type": "markdown",
   "id": "9c028fc9",
   "metadata": {},
   "source": [
    "### Check your understanding\n",
    "\n",
    "1. What is an operator ? \n",
    "2. What is an operand ? \n",
    "3. What is an example of the augment assignment operator ? \n",
    "4. In which circumstances conditional expressions using the `and` keyword evaluate to true\n",
    "or false ?\n",
    "5. In which circumstance conditional expressions using the `or` keyword evaluate to `True` or `False` ?\n",
    "6. What operator checks if a value is in a list ? \n",
    "7. When comparing data types to each other, what is the difference between identity and equality ?\n",
    "8. What is a method ? \n",
    "9. What is a parameter and what is an argument ? \n",
    "10. Can you give an example of unpacking a tuple ? \n",
    "11. Can you give an example of returning the keys of a dictionary ? \n",
    "\n",
    "### Summary\n",
    "\n",
    "This section has covered a lot of material that will need time to sink in. The building blocks of manipulating different data types and understanding the built-in functions are fundamental to problem solving in Python. Memorising all the different functions and methods is not necessary, with problem solving it wil become easier. We have provided the commonly used ones for you to be able to problem solve easily. \n",
    "\n",
    "Take some time with the problems and refer back. "
   ]
  },
  {
   "attachments": {},
   "cell_type": "markdown",
   "id": "955772df",
   "metadata": {},
   "source": [
    "# Part 4: Controlling Data"
   ]
  },
  {
   "attachments": {},
   "cell_type": "markdown",
   "id": "39939d98",
   "metadata": {},
   "source": [
    "### Truthiness"
   ]
  },
  {
   "attachments": {},
   "cell_type": "markdown",
   "id": "f7dc4cda",
   "metadata": {},
   "source": [
    "In the last section, we covered manipulating data types. In this section, we will cover ways to control what happens to data. We will be covering how to ensure specific code blocks get executed and are able to loop over data structures or run code continuously still conditions are met. These building blocks will enable the use of controlling how data flows through the code. \n",
    "\n",
    "Once we can manipulate and control our data, programming becomes about being able to structure your code so that it's more readable and maintainable. We will cover this in the next exercise."
   ]
  },
  {
   "attachments": {},
   "cell_type": "markdown",
   "id": "0a2c3520",
   "metadata": {},
   "source": [
    "#### Truthiness\n",
    "\n",
    "We will be covering the ability to do different tasks based on the conditions below. But it's important before doing that to understand the concept of truthiness. \n",
    "\n",
    "In Python, we use conditions to run specific parts of code. In order to do this, we use expressions and data types that get evaluated into `True` or `False` value. The question asked is if we had to convert the object to a boolean, what would we get? \n",
    "\n",
    "When an expression evaluates to `True` we call it a **truthy** value or we check for **truthiness**. Similarly, when an expression evaluates to `False` we call it a **falsy** value. \n",
    "\n",
    "Python conditional logic statements are all about truthiness checking. Python implicitly converts an expression and the result to a boolean. \n",
    "\n",
    "#### Empty objects are a falsy\n",
    "\n",
    "Let's cover some examples. We use the `bool()` function to convert a data type to a `True` or `False` value in these examples."
   ]
  },
  {
   "cell_type": "code",
   "execution_count": 94,
   "id": "f3083d72",
   "metadata": {},
   "outputs": [
    {
     "data": {
      "text/plain": [
       "False"
      ]
     },
     "execution_count": 94,
     "metadata": {},
     "output_type": "execute_result"
    }
   ],
   "source": [
    "emptyList = []\n",
    "bool(emptyList)"
   ]
  },
  {
   "attachments": {},
   "cell_type": "markdown",
   "id": "d078b67e",
   "metadata": {},
   "source": [
    "The `bool` function converts an expression to a truthy or falsy value. Here it returns `False`. This means that empty lists are falsy."
   ]
  },
  {
   "cell_type": "code",
   "execution_count": null,
   "id": "a6c4a282",
   "metadata": {},
   "outputs": [],
   "source": [
    "emptyString = ''\n",
    "bool(emptyString)"
   ]
  },
  {
   "attachments": {},
   "cell_type": "markdown",
   "id": "05523a48",
   "metadata": {},
   "source": [
    "Similarly, the `bool` function returns false. \n",
    "\n",
    "For objects that have a length, a non-zero length is considered truthy and lengths equal to zero are falsy.\n"
   ]
  },
  {
   "cell_type": "code",
   "execution_count": null,
   "id": "799dfd39",
   "metadata": {},
   "outputs": [],
   "source": [
    "bool(0)"
   ]
  },
  {
   "attachments": {},
   "cell_type": "markdown",
   "id": "f851ba1c",
   "metadata": {},
   "source": [
    "Here `bool` returns `False` which means zero is falsy.\n",
    "\n",
    "By default Python objects are truthy. Any object that has a that has a value of 0 or a length of zero is falsy."
   ]
  },
  {
   "attachments": {},
   "cell_type": "markdown",
   "id": "fe675e47",
   "metadata": {},
   "source": [
    "#### Zero is falsy\n",
    "\n",
    "Truthiness is also about non-zeros. \n",
    "\n",
    "Run the snippet below"
   ]
  },
  {
   "attachments": {},
   "cell_type": "markdown",
   "id": "2b47f49f",
   "metadata": {},
   "source": [
    "### Conditional Statements"
   ]
  },
  {
   "attachments": {},
   "cell_type": "markdown",
   "id": "24864ffd",
   "metadata": {},
   "source": [
    "\n",
    "\n",
    "If you would like to run some code where only certain conditions are met, we need some syntax to deal with this situation. In programming languages, this is a very common scenario. The keyword `if` provides this functionality.\n",
    "\n",
    "To use an if statement it's necessary to understand some of the operators we have seen in a different section. So make sure you review those.\n",
    "\n",
    "The syntax for an `if` statement \n",
    "\n",
    "`if` expression:\n",
    "\tcode\n",
    "\n",
    "It's important to ident the code below the `if` as this tells Python the code block is within the if statement.\n",
    "\n",
    "Let's seen an example of how this works. Run the snippet of code below."
   ]
  },
  {
   "cell_type": "code",
   "execution_count": 95,
   "id": "ee310598",
   "metadata": {},
   "outputs": [
    {
     "name": "stdout",
     "output_type": "stream",
     "text": [
      "b is greater than a\n"
     ]
    }
   ],
   "source": [
    "a = 33\n",
    "b = 200\n",
    "if b > a:\n",
    "\tprint(\"b is greater than a\")"
   ]
  },
  {
   "attachments": {},
   "cell_type": "markdown",
   "id": "8958e397",
   "metadata": {},
   "source": [
    "In the code snippet above, we declare and assign the variables `a` and `b` with values `33` and `200` respectively. The `if b > a` evaluates the values of `b` and `a` and in the situation, b is greater than a, the line of code below gets executed. In this case, we output the string `B is greater than a. "
   ]
  },
  {
   "attachments": {},
   "cell_type": "markdown",
   "id": "6a3cca53",
   "metadata": {},
   "source": [
    "#### Using else with if\n",
    "\n",
    "In the code above, we have only provided one situation to run the code. But what if we have different responses when the condition hasnt been met?\n",
    "\n",
    "The `else` keyword provides this functionality.\n",
    "\n",
    "Run the code snippet below."
   ]
  },
  {
   "cell_type": "code",
   "execution_count": 96,
   "id": "5ec480dd",
   "metadata": {},
   "outputs": [
    {
     "name": "stdout",
     "output_type": "stream",
     "text": [
      "a is greater than b\n"
     ]
    }
   ],
   "source": [
    "a = 200\n",
    "b = 33\n",
    "\n",
    "if b > a: \n",
    "\tprint(\"b is greater than a\")\n",
    "else: \n",
    "\tprint(\"a is greater than b\")"
   ]
  },
  {
   "attachments": {},
   "cell_type": "markdown",
   "id": "0c8e4cd4",
   "metadata": {},
   "source": [
    "### Checking multiple conditions with elif\n",
    "\n",
    "What if we need a variety of different conditions to check? We can use the keyword `elif` which stands for else if. \n",
    "\n",
    "Let's see an example of this, run the code snippet below."
   ]
  },
  {
   "cell_type": "code",
   "execution_count": 97,
   "id": "d080b351",
   "metadata": {},
   "outputs": [
    {
     "name": "stdout",
     "output_type": "stream",
     "text": [
      "b is equal to a\n"
     ]
    }
   ],
   "source": [
    "a = 200\n",
    "b = 200\n",
    "if b > a: \n",
    "\tprint(\"b is greater than a\")\n",
    "elif b == a:\n",
    "\tprint(\"b is equal to a\")\n",
    "else: \n",
    "\tprint(\"a is greater than b\")\n"
   ]
  },
  {
   "attachments": {},
   "cell_type": "markdown",
   "id": "17f4fb24",
   "metadata": {},
   "source": [
    "Here `a` is equal to `b`. Python looks at the if statement, and the expression `b > a` is false, if there is a `elif` keyword, Python will evaluate the expression. In this case, the expression `b == a` is true so Python outputs `b is equal to a`."
   ]
  },
  {
   "attachments": {},
   "cell_type": "markdown",
   "id": "74e0179d",
   "metadata": {},
   "source": [
    "#### Using conditional operators\n",
    "\n",
    "It's also possible to combine variables, datatypes and operators to form conditional expressions. `and`, `or` and `not` can be used to provide specific conditions to run code.\n",
    "\n",
    "Run the snippet below to see the `and` operator in use."
   ]
  },
  {
   "cell_type": "code",
   "execution_count": null,
   "id": "dcbb8c9a",
   "metadata": {},
   "outputs": [],
   "source": [
    "a = 200\n",
    "b = 33\n",
    "c = 500 \n",
    "\n",
    "if a > b and c > a:\n",
    "\tprint(\"Both conditions are true\")"
   ]
  },
  {
   "attachments": {},
   "cell_type": "markdown",
   "id": "87c3bce8",
   "metadata": {},
   "source": [
    "Here we need to satisfy two conditions `a > b` and `c > a` In the case `a` is 200, these two conditions are satisfied and the code prints `Both conditions are true`.\n",
    "\n",
    "Run the snippet below to see the `or` operator in use."
   ]
  },
  {
   "cell_type": "code",
   "execution_count": 98,
   "id": "35f1ae69",
   "metadata": {},
   "outputs": [
    {
     "name": "stdout",
     "output_type": "stream",
     "text": [
      "At least one of these conditions is true\n"
     ]
    }
   ],
   "source": [
    "a = 200\n",
    "b = 33\n",
    "c = 500 \n",
    "\n",
    "if a > b or a > c:\n",
    "\tprint(\"At least one of these conditions is true\")"
   ]
  },
  {
   "attachments": {},
   "cell_type": "markdown",
   "id": "4d8adf7d",
   "metadata": {},
   "source": [
    "In this example, the `or` operator means at least one of these conditions should be true. In the case `a` is 200, a is greater than b but not greater than c. One of the conditions has been satisfied and `At least one of these conditions is true` is output to the screen.\n",
    "\n",
    "The `not` keyword is used to reverse the result of a conditional. "
   ]
  },
  {
   "cell_type": "code",
   "execution_count": 102,
   "id": "35d1f244",
   "metadata": {},
   "outputs": [
    {
     "name": "stdout",
     "output_type": "stream",
     "text": [
      "a is NOT greater than b\n"
     ]
    }
   ],
   "source": [
    "a =33  \n",
    "b =200  \n",
    "if not a > b:  \n",
    "    print(\"a is NOT greater than b\")"
   ]
  },
  {
   "attachments": {},
   "cell_type": "markdown",
   "id": "e0d70bad",
   "metadata": {},
   "source": [
    "Here the expression is evaluated as `a > b` in this case that is false, but the expression `not a > b` gets evaluated as True. So `a is NOT greater than b` is output to the screen. "
   ]
  },
  {
   "attachments": {},
   "cell_type": "markdown",
   "id": "8e419337",
   "metadata": {},
   "source": [
    "#### Nested if\n",
    "\n",
    "Sometimes you have several conditions depending on previous conditions to choose from to run different code. We can nest the if statements in this case to provide this functionality. \n",
    "\n",
    "Run the code snippet below."
   ]
  },
  {
   "cell_type": "code",
   "execution_count": 103,
   "id": "bd3a27f9",
   "metadata": {},
   "outputs": [
    {
     "name": "stdout",
     "output_type": "stream",
     "text": [
      "Above 10\n",
      "Above 20\n"
     ]
    }
   ],
   "source": [
    "x = 41\n",
    "if x > 10:\n",
    "\tprint(\"Above 10\")\n",
    "\tif x > 20: \n",
    "\t\tprint(\"Above 20\")\n",
    "\telse: \n",
    "\t\tprint(\"But not above 20\")"
   ]
  },
  {
   "attachments": {},
   "cell_type": "markdown",
   "id": "b5ae23b6",
   "metadata": {},
   "source": [
    "In the code snippet above, x is `41` so the expression `x > 10` is `True` . The program prints `Above 10` . Python then looks to the inner `if` statement, `x > 20` is true and then prints `Above 20`. We can also add a nested `else` statement, in the case that x was say for example `17`. \n",
    "\n",
    "Be careful with using nested if as it can get complicated, think about using different combinations of operators for example `if x > 10 and x < 20` for example."
   ]
  },
  {
   "attachments": {},
   "cell_type": "markdown",
   "id": "5cb64bc5",
   "metadata": {},
   "source": [
    "#### Iterables\n",
    "\n",
    "Before we discuss the concept of looping, the word iterable has come up a few times in the course without explicitly defining it. An iterable is anything we can iterate over. By iterate we mean can Python move from one thing to another within the data type. For example, looping over a list of items or string characters.\n",
    "\n",
    "Lists, tuples, strings and sets are all iterables. \n",
    "\n",
    "### While Loops\n",
    "\n",
    "In Python there are two ways that we can move from one item to another, called **looping**, the while and for loop. \n",
    "\n",
    "The `while` keyword allows Python to execute a set of statements as long as a condition expression evaluates to true. \n",
    "\n",
    "The syntax for a while loop is the following"
   ]
  },
  {
   "attachments": {},
   "cell_type": "markdown",
   "id": "6a0b3c88",
   "metadata": {},
   "source": [
    "```\n",
    "while <condition>:\n",
    "\tstatements\n",
    "```"
   ]
  },
  {
   "attachments": {},
   "cell_type": "markdown",
   "id": "ec0a0659",
   "metadata": {},
   "source": [
    "Python runs through some steps based upon the above.\n",
    "\n",
    "1.  A `while` loop evaluates the `condition`\n",
    "2.  If the `condition` evaluates to `True`, the code inside the `while` loop is executed.\n",
    "3.  `condition` is evaluated again.\n",
    "4.  This process continues until the condition is `False`.\n",
    "5.  When `condition` evaluates to `False`, the loop stops.\n",
    "\n",
    "Lets Run an example."
   ]
  },
  {
   "cell_type": "code",
   "execution_count": 104,
   "id": "1e3e70c2",
   "metadata": {},
   "outputs": [
    {
     "name": "stdout",
     "output_type": "stream",
     "text": [
      "1\n",
      "2\n",
      "3\n",
      "4\n",
      "5\n"
     ]
    }
   ],
   "source": [
    "i = 1\n",
    "while i < 6:\n",
    "\tprint(i)\n",
    "\ti += 1"
   ]
  },
  {
   "attachments": {},
   "cell_type": "markdown",
   "id": "e1122805",
   "metadata": {},
   "source": [
    "Running this code, you can see the numbers 1 to 5 are printed out. Let's break this down slowly. \n",
    "\n",
    "The while loop often requires a variable assigned to some value prior to the while looping code. In the case above, we declare `i` and assign the number `1`. \n",
    "\n",
    "On the first loop, `i < 6` is evaluated. In this case, `i = 1` and this expression evaluates to true. So we print the number to the screen and then we add 1 to the variable `i` using the augmented operator `+=`. By doing this, on the next evaluation of the expression`i < 6`, `i` is still less than 6 but is now equal to `2`. \n",
    "\n",
    "While loops evaluate the expression first, then run the statements within the while block. After that, the expression keeps getting evaluated until it turns false. In this case, the loop will continue printing numbers till i is assigned the value `6` on this loop, and the while loop breaks. \n",
    "\n",
    "There are occasions a while loop can go on forever, the expression never becomes false. We call this an **infinite loop**. We can use the `else` statement to run the code block when the condition is no longer true. \n",
    "\n",
    "Lets look at this example."
   ]
  },
  {
   "cell_type": "code",
   "execution_count": 105,
   "id": "72a602db",
   "metadata": {},
   "outputs": [
    {
     "name": "stdout",
     "output_type": "stream",
     "text": [
      "1\n",
      "2\n",
      "3\n",
      "4\n",
      "5\n",
      "i is no longer 6\n"
     ]
    }
   ],
   "source": [
    "i = 1\n",
    "while i < 6:\n",
    "\tprint(i)\n",
    "\ti += 1\n",
    "else:\n",
    "\tprint(\"i is no longer 6\")"
   ]
  },
  {
   "attachments": {},
   "cell_type": "markdown",
   "id": "68650121",
   "metadata": {},
   "source": [
    "Run the code snippet below. What will happen?"
   ]
  },
  {
   "cell_type": "code",
   "execution_count": 106,
   "id": "013b9310",
   "metadata": {},
   "outputs": [
    {
     "name": "stdout",
     "output_type": "stream",
     "text": [
      "1\n",
      "2\n",
      "4\n",
      "5\n",
      "6\n"
     ]
    }
   ],
   "source": [
    "i = 0 \n",
    "while i < 6:\n",
    "\ti += 1\n",
    "\tif i == 3:\n",
    "\t\tcontinue\n",
    "\tprint(i)"
   ]
  },
  {
   "attachments": {},
   "cell_type": "markdown",
   "id": "07324c4e",
   "metadata": {},
   "source": [
    "The numbers 1 to 6 get printed out in this code snippet. Here the while loop checks for i being less than 6. When i does get assigned 3 we then run the if statement code which says to continue and then run the print statement below.\n",
    "\n",
    "##### Break\n",
    "\n",
    "We can also force Python to break a while loop even if the condition is still true. For example, if you want to print a certain amount of numbers. We can force Python to break by using the `break` keyword after a certain number of iterations.\n",
    "\n",
    "Run the code snippet below."
   ]
  },
  {
   "cell_type": "code",
   "execution_count": 107,
   "id": "7e5eaabc",
   "metadata": {},
   "outputs": [
    {
     "name": "stdout",
     "output_type": "stream",
     "text": [
      "1\n",
      "2\n",
      "3\n"
     ]
    }
   ],
   "source": [
    "i = 1 \n",
    "while i < 6:\n",
    "\tprint(i)\n",
    "\tif i == 3:\n",
    "\t\tbreak\n",
    "\ti += 1"
   ]
  },
  {
   "attachments": {},
   "cell_type": "markdown",
   "id": "57e614d3",
   "metadata": {},
   "source": [
    "\n",
    "Here the numbers `1`, `2` and `3` are printed. We assign `1` to the variable `i`. The while loop evaluates `i < 6`, print the numbers and then assigns one above the current value of `i`. In the case that `i` is 3, the integer `3` is printed. Then the if statement will be run and we break the while loop. \n",
    "\n",
    "When you don't know how many values or number of items are in a data type use a while loop."
   ]
  },
  {
   "attachments": {},
   "cell_type": "markdown",
   "id": "c45ebeb4",
   "metadata": {},
   "source": [
    "### For loops\n",
    "\n",
    "In contrast to the while loops, for loops will loop over a data type and run a block of statements a certain number of times.  For example, say you want to print out the numbers 1 to 100 to the output. Or show a message 100 times, we can use a for loop to do this.\n",
    "\n",
    "We use a for loop when the number of times we want to loop over a data type is known, unlike a while loop when we use this when the number of times we want to loop over is unknown.\n",
    "\n",
    "We use the keyword `for` and the `in` operator to loop over data types.\n",
    "\n",
    "The syntax for a for loop is the following. "
   ]
  },
  {
   "attachments": {},
   "cell_type": "markdown",
   "id": "c9dcb12a",
   "metadata": {},
   "source": [
    "```\n",
    "for X in Y:\n",
    "\tstatements\n",
    "```"
   ]
  },
  {
   "attachments": {},
   "cell_type": "markdown",
   "id": "7d0c2fb5",
   "metadata": {},
   "source": [
    "Y is the data type we wish to loop over like a list, dictionary or tuple. By specifying a variable name X, Python assigns the variable X values of an iterable (eg a list item). We can access all items within a data type and run blocks of code that will use these items. Note that the looping continues till we reach the last item in the iterable.\n",
    "\n",
    "For loops can be used for any iterable, for example, a list, dictionary or tuple. \n",
    "\n",
    "Let's see an example to understand how this works, run the snippet below."
   ]
  },
  {
   "cell_type": "code",
   "execution_count": 108,
   "id": "f08806f6",
   "metadata": {},
   "outputs": [
    {
     "name": "stdout",
     "output_type": "stream",
     "text": [
      "Anatomy\n",
      "Physiology\n",
      "Pharmacology\n"
     ]
    }
   ],
   "source": [
    "courses = ['Anatomy','Physiology','Pharmacology']\n",
    "for course in courses:\n",
    "\tprint(course)"
   ]
  },
  {
   "attachments": {},
   "cell_type": "markdown",
   "id": "a0dd5c5d",
   "metadata": {},
   "source": [
    "In this example, we define the list `courses`. The for keyword tells Python we want to loop over `courses`. We use the expression `course in courses` to loop. We essentially declare the variable `course` and use it to assign each list item to it to do the looping. The `in courses` part of the expression is always true when using the `for` keyword. \n",
    "\n",
    "On the first loop, the variable `course` is assigned the value `Anatomy` then the statement to print the list item assigned to `course` is executed. In this case printing `Anatomy` string to the output. The for loop looks to the `courses` variable to loop over every list item. \n",
    "\n",
    "On the second loop, we assign the variable `course` the value `Physiology` and then use that to print the string `Physiology` to the output.\n",
    "\n",
    "On the third loop, we assign the variable `course` the value `Pharmacology` and then use that to print the string `Pharmacology` to the output.\n",
    "\n",
    "Look at the code snippet below and loop over the tuple."
   ]
  },
  {
   "cell_type": "code",
   "execution_count": 109,
   "id": "c0bb2d11",
   "metadata": {},
   "outputs": [],
   "source": [
    "courses = ('Python','Data Science', 'Machine Learning')"
   ]
  },
  {
   "attachments": {},
   "cell_type": "markdown",
   "id": "39d27f5c",
   "metadata": {},
   "source": [
    "Similarly, it's possible to loop over a dictionary too.\n",
    "\n",
    "Run the snippet below.\n"
   ]
  },
  {
   "cell_type": "code",
   "execution_count": 110,
   "id": "6dc72ffd",
   "metadata": {},
   "outputs": [
    {
     "name": "stdout",
     "output_type": "stream",
     "text": [
      "Python\n",
      "Data Science\n",
      "Machine Learning\n"
     ]
    }
   ],
   "source": [
    "courses = {\n",
    "\t'Spring': 'Python',\n",
    "\t'Summer': 'Data Science',\n",
    "\t'Autumn': 'Machine Learning'\n",
    "}\n",
    "\n",
    "for course in courses: \n",
    "\tprint(courses[course])"
   ]
  },
  {
   "attachments": {},
   "cell_type": "markdown",
   "id": "d9b763c2",
   "metadata": {},
   "source": [
    "It's also possible to loop over just the keys or values. We can also loop over each key and value at the same time using the dictionary methods described previously.\n",
    "\n",
    "Run the snippets below to loop over values and keys.\n"
   ]
  },
  {
   "cell_type": "code",
   "execution_count": 111,
   "id": "5234d360",
   "metadata": {},
   "outputs": [
    {
     "name": "stdout",
     "output_type": "stream",
     "text": [
      "Python\n",
      "Data Science\n",
      "Machine Learning\n"
     ]
    }
   ],
   "source": [
    "courses = {\n",
    "\t'Spring': 'Python',\n",
    "\t'Summer': 'Data Science',\n",
    "\t'Autumn': 'Machine Learning'\n",
    "}\n",
    "\n",
    "for course in courses.values():\n",
    "\tprint(course)"
   ]
  },
  {
   "cell_type": "code",
   "execution_count": 112,
   "id": "cd8de8b4",
   "metadata": {},
   "outputs": [
    {
     "name": "stdout",
     "output_type": "stream",
     "text": [
      "Spring\n",
      "Summer\n",
      "Autumn\n"
     ]
    }
   ],
   "source": [
    "courses = {\n",
    "\t'Spring': 'Python',\n",
    "\t'Summer': 'Data Science',\n",
    "\t'Autumn': 'Machine Learning'\n",
    "}\n",
    "\n",
    "\n",
    "for course in courses.keys():\n",
    "\tprint(course)"
   ]
  },
  {
   "attachments": {},
   "cell_type": "markdown",
   "id": "f7f819a6",
   "metadata": {},
   "source": [
    "The dictionary `items()` method returns a list of tuples that contain both the key and value pair. We use tuple unpacking to access both the key and value pair in a for loop. \n",
    "\n",
    "Run the code snippet below."
   ]
  },
  {
   "cell_type": "code",
   "execution_count": 113,
   "id": "8abc9e4c",
   "metadata": {},
   "outputs": [
    {
     "name": "stdout",
     "output_type": "stream",
     "text": [
      "Spring Python\n",
      "Summer Data Science\n",
      "Autumn Machine Learning\n"
     ]
    }
   ],
   "source": [
    "for time,course in courses.items():\n",
    "\tprint(time,course)\n"
   ]
  },
  {
   "attachments": {},
   "cell_type": "markdown",
   "id": "2af00999",
   "metadata": {},
   "source": [
    "The code prints out the key and value pairs together in the `courses` dictionary. The line `time,course in courses.items()` is where we use tuple unpacking. For each list item (a tuple), we assign the key to the variable `time` and the value to the variable `courses`. We can then access those within the code block to print them out."
   ]
  },
  {
   "attachments": {},
   "cell_type": "markdown",
   "id": "cfa69ea0",
   "metadata": {},
   "source": [
    "#### Looping over indexes\n",
    "\n",
    "Sometimes you need to loop over something and use the index of the data type at the same time. First, always ask, do I even need an index whilst I'm looping? If not, just use a for loop and an `in` operator.\n",
    "\n",
    "With looping, we will see the `range` function used. By passing a number to the `range` function you define a range of values from 0 to up to the number passed but not including that number. For example if you pass the number 3 to the range function, the values 0,1,2 will be available."
   ]
  },
  {
   "cell_type": "code",
   "execution_count": 114,
   "id": "c802435b",
   "metadata": {},
   "outputs": [
    {
     "data": {
      "text/plain": [
       "range(0, 4)"
      ]
     },
     "execution_count": 114,
     "metadata": {},
     "output_type": "execute_result"
    }
   ],
   "source": [
    "range(4) "
   ]
  },
  {
   "attachments": {},
   "cell_type": "markdown",
   "id": "6b70ab73",
   "metadata": {},
   "source": [
    "Run the snippet below.\n"
   ]
  },
  {
   "cell_type": "code",
   "execution_count": 115,
   "id": "bb154fc7",
   "metadata": {},
   "outputs": [
    {
     "name": "stdout",
     "output_type": "stream",
     "text": [
      "0\n",
      "1\n",
      "2\n",
      "3\n"
     ]
    }
   ],
   "source": [
    "for i in range(4):\n",
    "\tprint(i)"
   ]
  },
  {
   "attachments": {},
   "cell_type": "markdown",
   "id": "ee0f68d3",
   "metadata": {},
   "source": [
    "Python outputs the values 0 to 3. The line `range(4)` specifies the values `0`, `1`, `2`, `3` and `i` get assigned the value 0,1,2,3 on each loop iteration.\n",
    "\n",
    "We can use the `range` function with data types too. \n",
    "\n",
    "Run the code snippet below."
   ]
  },
  {
   "cell_type": "code",
   "execution_count": 116,
   "id": "434fa8bd",
   "metadata": {},
   "outputs": [
    {
     "name": "stdout",
     "output_type": "stream",
     "text": [
      "1 Anatomy\n",
      "2 Physiology\n",
      "3 Pharmacology\n"
     ]
    }
   ],
   "source": [
    "courses = ['Anatomy','Physiology', 'Pharmacology']\n",
    "for i in range(len(courses)):\n",
    "\tprint(i+1, courses[i])"
   ]
  },
  {
   "attachments": {},
   "cell_type": "markdown",
   "id": "458b97f9",
   "metadata": {},
   "source": [
    "The output of this code is.\n",
    "\n",
    "```\n",
    "1 Anatomy\n",
    "2 Physiology\n",
    "3 Pharmacology\n",
    "```\n",
    "\n",
    "Here we are declaring `i` the variable and using the function `range(len(courses))` to supply the numbers to iterate over. `len(courses)` returns the number of list items, which in this case is 3. `range(3)` returns an object that stores the values 0 up to 3.\n",
    "\n",
    "So on the first loop, `i` is equal to 0, so i + 1 is 1. `courses[0]` is `Anatomy`. So Python prints out `1 Anatomy`. This is repeated till all list items are iterated over.\n",
    "\n",
    "Reasoning about `i+1` and `courses[i]` can be difficult to read and maintain. In the next section we will see how we can loop differently.\n",
    "\n"
   ]
  },
  {
   "attachments": {},
   "cell_type": "markdown",
   "id": "3215081b",
   "metadata": {},
   "source": [
    "#### Using Enumerate to Loop with Indexes\n",
    "\n",
    "Unlike JavaScript or C, Python for loops doesn't have indexes. This is why there are workarounds for this type of functionality. We can use built-in functions to provide this type of functionality.\n",
    "\n",
    "The built-in function `enumerate`, takes a collection like a list and returns a list of tuples. Each tuple contains a list item and an the index number of the list item.\n",
    "\n",
    "Run the cell below to see this."
   ]
  },
  {
   "cell_type": "code",
   "execution_count": 126,
   "id": "fb242892",
   "metadata": {},
   "outputs": [
    {
     "name": "stdout",
     "output_type": "stream",
     "text": [
      "(0, 'Python')\n",
      "(1, 'Data Science')\n",
      "(2, 'Anatomy')\n"
     ]
    }
   ],
   "source": [
    "courses = ['Python','Data Science','Anatomy']\n",
    "for course in enumerate(courses):\n",
    "\tprint(course)"
   ]
  },
  {
   "attachments": {},
   "cell_type": "markdown",
   "id": "fea2cc39",
   "metadata": {},
   "source": [
    "In this example, we can see how enumerate works. Each iteration of the loop the variable `courses` is assigned to a tuple. Inside that tuple we have the index and the list item of `courses`."
   ]
  },
  {
   "cell_type": "code",
   "execution_count": null,
   "id": "2af3410a",
   "metadata": {},
   "outputs": [],
   "source": [
    "courses = ['Python','Data Science','Anatomy']\n",
    "for course in enumerate(courses,start=1):\n",
    "\tprint(course[0],course[1])"
   ]
  },
  {
   "attachments": {},
   "cell_type": "markdown",
   "id": "44697bc6",
   "metadata": {},
   "source": [
    "In this example, we can acces both the index and list items separately using enumerate using index notation on the tuples that enumerate returns."
   ]
  },
  {
   "attachments": {},
   "cell_type": "markdown",
   "id": "2b68b72b",
   "metadata": {},
   "source": [
    "In the cell below, loop over the tuple and print the list item index and the list item together."
   ]
  },
  {
   "cell_type": "code",
   "execution_count": null,
   "id": "62e17faa",
   "metadata": {},
   "outputs": [],
   "source": [
    "courses = ('Anatomy','Physiology','Clinical Sciences','Python')"
   ]
  },
  {
   "attachments": {},
   "cell_type": "markdown",
   "id": "e369e2ca",
   "metadata": {},
   "source": [
    "Enumerate also has a parameter `start` to specify the index to start at if you wish to.\n"
   ]
  },
  {
   "cell_type": "code",
   "execution_count": 123,
   "id": "12e0958b",
   "metadata": {},
   "outputs": [
    {
     "name": "stdout",
     "output_type": "stream",
     "text": [
      "1 Python\n",
      "2 Data Science\n",
      "3 Anatomy\n"
     ]
    }
   ],
   "source": [
    "courses = ['Python','Data Science','Anatomy']\n",
    "for course in enumerate(courses,start=1):\n",
    "\tprint(course[0],course[1])"
   ]
  },
  {
   "attachments": {},
   "cell_type": "markdown",
   "id": "33cab945",
   "metadata": {},
   "source": [
    "#### Looping over multiple iterables\n",
    "\n",
    "Sometimes you want to loop over multiple data types at the same time. Where perhaps two lists are linked together by order of items.\n",
    "\n"
   ]
  },
  {
   "attachments": {},
   "cell_type": "markdown",
   "id": "62888c4f",
   "metadata": {},
   "source": [
    "To do this effectively, we can use another built-in function called `zip` .\n",
    "\n",
    "The `zip` function takes a set of iterables like a list and returns a nested tuple. Each tuple contains the list items at a specific index of each list passed to the zip function.\n",
    "\n",
    "We can access each list item from two or more lists simultaneously by using the zip function in a for loop and tuple unpacking as we have done before.\n",
    "\n",
    "Run the code snippet below to see an example of this."
   ]
  },
  {
   "cell_type": "code",
   "execution_count": 129,
   "id": "4eaf8cfd",
   "metadata": {},
   "outputs": [
    {
     "name": "stdout",
     "output_type": "stream",
     "text": [
      "Python - 100\n",
      "Data Science - 50\n",
      "Machine Learning - 40\n"
     ]
    }
   ],
   "source": [
    "courses = ['Python','Data Science','Machine Learning']\n",
    "grades = [100,50,40]\n",
    "\n",
    "for course,grade in zip(courses,grades): \n",
    "\tprint(course, '-', grade)"
   ]
  },
  {
   "attachments": {},
   "cell_type": "markdown",
   "id": "55ab5055",
   "metadata": {},
   "source": [
    "This returns a list of courses and the grades that correspond to the course. The `zip(courses, grades)` returns a nested tuple. Each inner tuple has the list items from the two lists at a specific index for example `('Python',100)`. \n",
    "\n",
    "We can unpack each inner tuple by using `course, grade in zip(courses, grades)` which means for an inner tuple like `('Python',100)`, the variable `course` is assigned `Python` and assigned grade is assigned `100`.\n",
    "\n",
    "We then print these variables with `-` inbetween using the print function."
   ]
  },
  {
   "attachments": {},
   "cell_type": "markdown",
   "id": "b91ab6bd",
   "metadata": {},
   "source": [
    "#### Nested for loops\n",
    "\n",
    "Sometimes you need to loop over a nested list. For example, looping over a list that has lists as list items, but still needs to access all values within.\n",
    "\n",
    "To do this, we use a for loop that corresponds to the looping over the outer list and inside that code block, we have another for loop to loop over the inner list.  \n",
    "\n",
    "Look at the `courses` variable to understand what we mean. We want to access all values in this nested list. Run the snippet below."
   ]
  },
  {
   "cell_type": "code",
   "execution_count": 131,
   "id": "68aac9e0",
   "metadata": {},
   "outputs": [
    {
     "name": "stdout",
     "output_type": "stream",
     "text": [
      "course - Python\n",
      "grade - 10\n",
      "grade - 20\n",
      "grade - 30\n",
      "course - Data Science\n",
      "grade - 23\n",
      "grade - 42\n",
      "grade - 23\n",
      "course - Machine Learning\n",
      "grade - 23\n",
      "grade - 42\n",
      "grade - 23\n"
     ]
    }
   ],
   "source": [
    "courses = [['Python',[10,20,30]],['Data Science',[23,42,23]],['Machine Learning',[23,42,23]]]\n",
    "\n",
    "for course in courses:\n",
    "\tprint('course -',course[0])\n",
    "\tfor grade in course[1]:\n",
    "\t\tprint('grade -',grade)"
   ]
  },
  {
   "attachments": {},
   "cell_type": "markdown",
   "id": "4d46a4b6",
   "metadata": {},
   "source": [
    "This code snippet will print for each course all of the grades stored. We have a nested list where each list item is a list eg `['Python',[10,20,30]]` which is the name of the course and a list of grades.\n",
    "\n",
    "Here we want to access both the course name and all of the course grades together. This is where a nested for loop is useful.\n",
    "\n",
    "In the outer for loop  `for course in courses` we loop over the outer list `courses`. The variable `course` refers to the inner list item.\n",
    "\n",
    "On the first iteration, we print `course - Python` as `course[0]` is `Python`.  But we also then have an inner loop too. We specify we want to loop over `course[1]` which is `[10,20,30]` in the first loop. The variable `grade` is assigned to each list item number and we print out `grade - 10` `, grade - 20`, and `grade -30`. \n",
    "\n",
    "Once the inner for loop is complete Python will then turn to the next outer list item `['Data Science',[23,42,23]]` and the cycle repeats till all list items are looped over.\n",
    "\n",
    "\n",
    "In the cell below, print out the course title and all over the grades"
   ]
  },
  {
   "cell_type": "code",
   "execution_count": null,
   "id": "975741a3",
   "metadata": {},
   "outputs": [],
   "source": [
    "courses = [['Anatomy',[10,20]],['Physiology',[53,20]], ['Biochemistry',[45,25]]]"
   ]
  },
  {
   "attachments": {},
   "cell_type": "markdown",
   "id": "6590b52a",
   "metadata": {},
   "source": [
    "This is quite a lot to wrap your head around, so don't be alarmed for it takes a while to sink in.\n",
    "\n",
    "### Check your understanding\n",
    "\n",
    "1. What is a truthy value ?\n",
    "2. When is a value falsy ?\n",
    "3. Can you give an example of an if else statement ?\n",
    "4. What is an iterable ?\n",
    "5. When would you use a while loop as opposed to a for loop ?\n",
    "6. Can you give an example of using a for loop ?\n",
    "7. Can you give an example of usinga while loop ?\n",
    "8.  What does the zip function return ?\n",
    "9. What does the enumerate function return ?\n",
    "10. How can we loop over indexes without using the range function ?\n",
    "11. How can we loop over two lists at the same time ? Can you give an example ?\n",
    "12. Can you give an example of a nested for loop ?\n",
    "\n",
    "### Summary\n",
    "\n",
    "In this exercise, we have covered the basics of controlling what happens to data. We have defined truthiness and how Python evaluates expressions. We can create conditional logic to run specific code based on different situations. \n",
    "\n",
    "Looping in programming allows us to access items from a list or a tuple. The for loop allows us to loop over the data type when we know how many items are in the collection. The while loop allows us to loop based on a condition being satisfied. We don't need to know how many items are in a collection to access them.\n",
    "\n",
    "Armed with this knowledge we can now manipulate and control what happens to data throughout a piece of code. \n"
   ]
  },
  {
   "attachments": {},
   "cell_type": "markdown",
   "id": "d142d15f",
   "metadata": {},
   "source": [
    "## Part 5: Structuring Code"
   ]
  },
  {
   "attachments": {},
   "cell_type": "markdown",
   "id": "40377262",
   "metadata": {},
   "source": [
    "Till now, we have created a few simple lines of code to do tasks. But once we know the basics knowing and recalling syntax takes a back seat to think about how to structure your code so it's readable. You can imagine that a file with hundreds of lines of code would be hard to read and think about. \n",
    "\n",
    "Python gives us techniques to make our code more readable and maintainable. We can write a file of hundreds of lines of code easily. But this becomes unreadable as we need to keep many lines of code in our minds. \n",
    "\n",
    "Also, when something doesn't work or a change is needed this becomes an increasingly complicated task. We should strive to make code that runs correctly and is easy to change in the future.\n",
    "\n",
    "Functions and modules allow us to segment code, give them names and structure the code into small pieces that can be easily read and reasoned. Using functions and modules, we can make it more maintainable when we need to debug or change the code."
   ]
  },
  {
   "attachments": {},
   "cell_type": "markdown",
   "id": "87a261a5",
   "metadata": {},
   "source": [
    "### Functions"
   ]
  },
  {
   "attachments": {},
   "cell_type": "markdown",
   "id": "7d4cff8d",
   "metadata": {},
   "source": [
    "\n",
    "\n",
    "We have talked about functions up and until now in an indirect way. A function is a way to define a specific block of code that can be called and executed at a later time. \n",
    "\n",
    "This aspect of being able to contain several lines of code in one block is a powerful concept in structuring your code. \n",
    "\n",
    "#### Calling a function\n",
    "\n",
    "Before we create our own functions, we should discuss the term **calling**. We've been using functions throughout Python Principles. Calling a function means we want to execute the code within the function at a time that makes sense within the program. \n",
    "\n",
    "An object that can be called is **callable**, and in this case, functions are callable.\n",
    "\n",
    "If you have a name that represents a function, you can call that object by putting open and closed parentheses around it. For example `print()` is a callable object with the name `print`.\n",
    "\n",
    "Run the snippet below, we've seen the example before. Notice how we need to supply it with the `number` variable.\n"
   ]
  },
  {
   "cell_type": "code",
   "execution_count": 133,
   "id": "d0d20be6",
   "metadata": {},
   "outputs": [
    {
     "name": "stdout",
     "output_type": "stream",
     "text": [
      "[1, 2, 3, 4, 5, 6]\n"
     ]
    }
   ],
   "source": [
    "numbers = [1,2,3,4,5,6]\n",
    "print(numbers)"
   ]
  },
  {
   "attachments": {},
   "cell_type": "markdown",
   "id": "bb3c2f9d",
   "metadata": {},
   "source": [
    "We print the list as defined in the line 1 here. Notice how we use the open and closed brackets to call the function and pass `numbers` in between the brackets. In the next section, we will explain this."
   ]
  },
  {
   "attachments": {},
   "cell_type": "markdown",
   "id": "fba30497",
   "metadata": {},
   "source": [
    "#### Parameters and Arguments\n",
    "\n",
    "An argument is an input to a function. We put the arguments inside the parentheses of a function to make them available to the function when we call it.\n",
    "\n",
    "The **parameter** is the variable name we see in between the parentheses of a function call and the arguments are the values assigned to the parameter.\n",
    "\n",
    "There are two types of arguments, positional and keyword arguments. A positional argument means the position of when the argument is specified matters. "
   ]
  },
  {
   "cell_type": "code",
   "execution_count": 134,
   "id": "b8d40533",
   "metadata": {},
   "outputs": [
    {
     "name": "stdout",
     "output_type": "stream",
     "text": [
      "1 2 3 4\n"
     ]
    }
   ],
   "source": [
    "print(1,2,3,4)"
   ]
  },
  {
   "attachments": {},
   "cell_type": "markdown",
   "id": "3338da70",
   "metadata": {},
   "source": [
    "The positional argument `1,2,3,4` matters where they're ordered. If we change the argument order, the output will be different.\n",
    "\n",
    "Keyword arguments are called named arguments, a name is declared and specified as a value. They're more descriptive than positional arguments.\n",
    "\n",
    "The `print()` function also has a keyword argument called `sep` which is used to separate the positional arguments with a specific character.\n",
    "\n",
    "Run the code snippet below."
   ]
  },
  {
   "cell_type": "code",
   "execution_count": 135,
   "id": "f2414738",
   "metadata": {},
   "outputs": [
    {
     "name": "stdout",
     "output_type": "stream",
     "text": [
      "1, 2, 3\n"
     ]
    }
   ],
   "source": [
    "\n",
    "print(1,2,3,sep=\", \")"
   ]
  },
  {
   "attachments": {},
   "cell_type": "markdown",
   "id": "08e3a4e1",
   "metadata": {},
   "source": [
    "The keyword argument's order does not matter, unlike positional arguments.\n",
    "\n"
   ]
  },
  {
   "attachments": {},
   "cell_type": "markdown",
   "id": "bff368aa",
   "metadata": {},
   "source": [
    "The only constraint keywords have is that they should come after any positional argument. \n",
    "\n",
    "Run the code snippet below to see the difference"
   ]
  },
  {
   "cell_type": "code",
   "execution_count": 138,
   "id": "ba094ba8",
   "metadata": {},
   "outputs": [
    {
     "ename": "SyntaxError",
     "evalue": "positional argument follows keyword argument (3295410581.py, line 1)",
     "output_type": "error",
     "traceback": [
      "\u001b[1;36m  Cell \u001b[1;32mIn[138], line 1\u001b[1;36m\u001b[0m\n\u001b[1;33m    print(sep=\",\", 1,2,3)\u001b[0m\n\u001b[1;37m                        ^\u001b[0m\n\u001b[1;31mSyntaxError\u001b[0m\u001b[1;31m:\u001b[0m positional argument follows keyword argument\n"
     ]
    }
   ],
   "source": [
    "print(sep=\",\", 1,2,3)"
   ]
  },
  {
   "attachments": {},
   "cell_type": "markdown",
   "id": "545b1b01",
   "metadata": {},
   "source": [
    "#### Return Values\n",
    "\n",
    "The output of a function is the return value of a function. \n",
    "\n",
    "Run the example below. Here we're using the sum function which returns the sum of a numbers for a given data type passed to it."
   ]
  },
  {
   "cell_type": "code",
   "execution_count": 139,
   "id": "3103567a",
   "metadata": {},
   "outputs": [
    {
     "data": {
      "text/plain": [
       "21"
      ]
     },
     "execution_count": 139,
     "metadata": {},
     "output_type": "execute_result"
    }
   ],
   "source": [
    "numbers = [1,2,3,4,5,6]\n",
    "sum(numbers)"
   ]
  },
  {
   "attachments": {},
   "cell_type": "markdown",
   "id": "87d6d887",
   "metadata": {},
   "source": [
    "The `number` list is the argument and the return value is the sum of those numbers. When you run this snippet, you may think that Python printed the values, however, it actually returned the number. \n",
    "\n",
    "The difference between output and return is that we could store the value returned from a function inside a variable by assigning the function call to it.\n",
    "\n",
    "Run the example below."
   ]
  },
  {
   "cell_type": "code",
   "execution_count": 140,
   "id": "d110038d",
   "metadata": {},
   "outputs": [
    {
     "data": {
      "text/plain": [
       "21"
      ]
     },
     "execution_count": 140,
     "metadata": {},
     "output_type": "execute_result"
    }
   ],
   "source": [
    "number = [1,2,3,4,5,6]\n",
    "total = sum(numbers)\n",
    "total"
   ]
  },
  {
   "attachments": {},
   "cell_type": "markdown",
   "id": "74b62ae0",
   "metadata": {},
   "source": [
    "#### Default return value\n",
    "\n",
    "Not all functions have return values, for example the print function doesn't.\n",
    "\n",
    "Run the code snippet below.\n"
   ]
  },
  {
   "cell_type": "code",
   "execution_count": 142,
   "id": "02ea5077",
   "metadata": {},
   "outputs": [
    {
     "name": "stdout",
     "output_type": "stream",
     "text": [
      "Aaron\n",
      "None\n"
     ]
    }
   ],
   "source": [
    "name = print('Aaron')\n",
    "print(name)"
   ]
  },
  {
   "attachments": {},
   "cell_type": "markdown",
   "id": "41de32fd",
   "metadata": {},
   "source": [
    "Notice how the name has been assigned `None`. \n",
    "\n",
    "`None` is a special value that says the function doesn't have a return value. In Python, we assume functions will perform an action or return something, but not both. The print function performs an action but does not return a value. Whereas the `sum` function returns a value."
   ]
  },
  {
   "attachments": {},
   "cell_type": "markdown",
   "id": "5f091a97",
   "metadata": {},
   "source": [
    "#### Defining a function\n",
    "\n",
    "Let's create a function that prints out a greeting. The `def` keyword is used to define a function. It requires a variable name and a set of open and closed parentheses.\n",
    "\n",
    "The syntax of a function is the following:\n",
    "\n",
    "```\n",
    "def <function_name>(): \n",
    "\tstatements\n",
    "```"
   ]
  },
  {
   "attachments": {},
   "cell_type": "markdown",
   "id": "7b9c6c45",
   "metadata": {},
   "source": [
    "Lets see an example of a function."
   ]
  },
  {
   "cell_type": "code",
   "execution_count": 143,
   "id": "45b12f14",
   "metadata": {},
   "outputs": [
    {
     "name": "stdout",
     "output_type": "stream",
     "text": [
      "Hello World\n"
     ]
    }
   ],
   "source": [
    "def greeting():\n",
    "\tprint('Hello World')\n",
    "\n",
    "greeting()"
   ]
  },
  {
   "attachments": {},
   "cell_type": "markdown",
   "id": "81efea02",
   "metadata": {},
   "source": [
    "In the code snippet above, we define the function `greeting`. On the second line, we indent and call the print function to print the string `Hello World`. Lastly, we call the function `greeting`.\n",
    "\n",
    "What happens if you try to pass an argument into the `greeting` function?\n",
    "\n",
    "In the cell below, pass an argument into the greeting function and run the cell"
   ]
  },
  {
   "cell_type": "code",
   "execution_count": null,
   "id": "9aed07ae",
   "metadata": {},
   "outputs": [],
   "source": []
  },
  {
   "attachments": {},
   "cell_type": "markdown",
   "id": "0a57f99b",
   "metadata": {},
   "source": [
    "Note we get an error because we don't define any parameters to pass arguments to within the function definition. \n"
   ]
  },
  {
   "attachments": {},
   "cell_type": "markdown",
   "id": "fa999091",
   "metadata": {},
   "source": [
    "#### Functions accepting arguments\n",
    "\n",
    "For arguments to be passed to a function we need to define the parameter in our function. We do this by naming it between parentheses.\n",
    "\n",
    "See below the example and run the code snippet."
   ]
  },
  {
   "cell_type": "code",
   "execution_count": 144,
   "id": "e4c5c74b",
   "metadata": {},
   "outputs": [
    {
     "name": "stdout",
     "output_type": "stream",
     "text": [
      "Hello Aaron\n"
     ]
    }
   ],
   "source": [
    "def greeting(name):\n",
    "\tprint(\"Hello\", name)\n",
    "\n",
    "greeting(\"Aaron\")"
   ]
  },
  {
   "attachments": {},
   "cell_type": "markdown",
   "id": "92928ca8",
   "metadata": {},
   "source": [
    "We have defined the greeting function with a parameter, and we print a string out depending on what is passed as an argument. In this case, we pass the string `Aaron` as the argument which is assigned to the `name` parameter. The string `Hello Aaron` is printed to the output."
   ]
  },
  {
   "attachments": {},
   "cell_type": "markdown",
   "id": "ea9ec1e6",
   "metadata": {},
   "source": [
    "#### Default argument values\n",
    "\n",
    "Note that if we define a parameter in a function, and don't pass an argument python will throw an error.\n",
    "\n",
    "Consider the code snippet above\n"
   ]
  },
  {
   "cell_type": "code",
   "execution_count": 145,
   "id": "21ea8d2c",
   "metadata": {},
   "outputs": [
    {
     "ename": "TypeError",
     "evalue": "greeting() missing 1 required positional argument: 'name'",
     "output_type": "error",
     "traceback": [
      "\u001b[1;31m---------------------------------------------------------------------------\u001b[0m",
      "\u001b[1;31mTypeError\u001b[0m                                 Traceback (most recent call last)",
      "Cell \u001b[1;32mIn[145], line 4\u001b[0m\n\u001b[0;32m      1\u001b[0m \u001b[39mdef\u001b[39;00m \u001b[39mgreeting\u001b[39m(name):\n\u001b[0;32m      2\u001b[0m \t\u001b[39mprint\u001b[39m(\u001b[39m\"\u001b[39m\u001b[39mHello\u001b[39m\u001b[39m\"\u001b[39m, name)\n\u001b[1;32m----> 4\u001b[0m greeting()\n",
      "\u001b[1;31mTypeError\u001b[0m: greeting() missing 1 required positional argument: 'name'"
     ]
    }
   ],
   "source": [
    "def greeting(name):\n",
    "\tprint(\"Hello\", name)\n",
    "\n",
    "greeting()"
   ]
  },
  {
   "attachments": {},
   "cell_type": "markdown",
   "id": "f942e02d",
   "metadata": {},
   "source": [
    "Python throws an error requiring an argument to be given. \n",
    "\n",
    "We can make arguments optional by providing a default value. To do so we use the equals sign after the parameter"
   ]
  },
  {
   "cell_type": "code",
   "execution_count": 146,
   "id": "2bfe7d0f",
   "metadata": {},
   "outputs": [
    {
     "name": "stdout",
     "output_type": "stream",
     "text": [
      "Hello world\n"
     ]
    }
   ],
   "source": [
    "def greeting(name=\"world\"):\n",
    "\tprint(\"Hello\",name)\n",
    "greeting()"
   ]
  },
  {
   "attachments": {},
   "cell_type": "markdown",
   "id": "114f76d1",
   "metadata": {},
   "source": [
    "Note just because we've defined a default value, doesn't mean we can't specify an argument.\n",
    "\n",
    "Run the code snippet below to see this in action."
   ]
  },
  {
   "cell_type": "code",
   "execution_count": 147,
   "id": "9049bf82",
   "metadata": {},
   "outputs": [
    {
     "name": "stdout",
     "output_type": "stream",
     "text": [
      "Hello Aaron\n"
     ]
    }
   ],
   "source": [
    "\n",
    "def greeting(name=\"World\"):\n",
    "\tprint(\"Hello\", name)\n",
    "\n",
    "greeting(\"Aaron\")"
   ]
  },
  {
   "attachments": {},
   "cell_type": "markdown",
   "id": "22056592",
   "metadata": {},
   "source": [
    "Notice how the string `Hello Aaron` still gets printed."
   ]
  },
  {
   "attachments": {},
   "cell_type": "markdown",
   "id": "b9015b5b",
   "metadata": {},
   "source": [
    "#### Returning values\n",
    "\n",
    "We have discussed the inputs that functions can have which can be used to do actions. Functions can also return a value after some work has been done. \n",
    "\n",
    "To do this in Python, we use the `return` keyword. \n",
    "\n",
    "Let's see an example of how this could work. Run the snippet below."
   ]
  },
  {
   "cell_type": "code",
   "execution_count": 148,
   "id": "cc9cc0df",
   "metadata": {},
   "outputs": [
    {
     "data": {
      "text/plain": [
       "6"
      ]
     },
     "execution_count": 148,
     "metadata": {},
     "output_type": "execute_result"
    }
   ],
   "source": [
    "def product(numbers):\n",
    "\ttotal = sum(numbers)\n",
    "\treturn total\n",
    "\n",
    "sumNum = product([1,2,3])\n",
    "sumNum"
   ]
  },
  {
   "attachments": {},
   "cell_type": "markdown",
   "id": "943c98d4",
   "metadata": {},
   "source": [
    "The value 6 gets returned. We define a function `product` and pass in a list of numbers. Within the function, we declare the `total` variable. The sum built-in function has the numbers list passed as an argument. The return value of the sum function is assigned to the `total` variable. We use the `return` statement to return the total. The variable `sumNum` is declared and assigned the return value of the `product` function.\n",
    "\n",
    "The key to creating a good function is only doing one task. For example, adding two numbers together. A good practice to get into is to comment on what a function should be doing when you write your functions. If you find it hard to reason what the function is doing, it probably means it should be split into more functions till it does one task."
   ]
  },
  {
   "attachments": {},
   "cell_type": "markdown",
   "id": "368cdba7",
   "metadata": {},
   "source": [
    "#### Accepting any number of arguments\n",
    "\n",
    "In Python, sometimes you won't know how many arguments you need to accept. For example, a function that accepts a set of data as input but you don't know how much data you'll have to work with.\n",
    "\n",
    "You could keep adding parameters to the function to accept these arguments or create a list of the data. But adding this extra data structure is perhaps not something you want in your function.\n",
    "\n",
    "When a * precedes the parameters of a function, Python will accept any number of positional arguments as input. Any arguments given are packed into a tuple that the function can refer to. This is called **argument tuple unpacking**. \n",
    "\n",
    "Run the snippet below."
   ]
  },
  {
   "cell_type": "code",
   "execution_count": 149,
   "id": "63931a71",
   "metadata": {},
   "outputs": [
    {
     "name": "stdout",
     "output_type": "stream",
     "text": [
      "(1, 2, 3)\n",
      "<class 'tuple'> 3\n"
     ]
    }
   ],
   "source": [
    "def f(*args):\n",
    "\tprint(args)\n",
    "\tprint(type(args), len(args))\n",
    "\n",
    "f(1,2,3)"
   ]
  },
  {
   "attachments": {},
   "cell_type": "markdown",
   "id": "c3f3e691",
   "metadata": {},
   "source": [
    "The output of this function is a tuple `(1,2,3)` and some information about the argument (the type and the length). It identifies that when a star precedes a parameter name, it creates a tuple of arguments `1`,`2`,`3` and assigns this to the parameter `args`. We output the length of `args` corresponding to the number of arguments given to the function\n",
    "\n",
    "For example lets create a function that accepts any names and we want to print them all."
   ]
  },
  {
   "cell_type": "code",
   "execution_count": 151,
   "id": "1dcb48cd",
   "metadata": {},
   "outputs": [
    {
     "name": "stdout",
     "output_type": "stream",
     "text": [
      "Aaron\n",
      "Chris\n",
      "---\n",
      "Aaron\n",
      "Chris\n",
      "Steve\n",
      "Alex\n"
     ]
    }
   ],
   "source": [
    "def greet(*names):\n",
    "\tfor name in names:\n",
    "\t\tprint(name)\n",
    "\n",
    "greet('Aaron','Chris') \n",
    "print('---')\n",
    "greet('Aaron','Chris','Steve','Alex')"
   ]
  },
  {
   "attachments": {},
   "cell_type": "markdown",
   "id": "1ac5dce9",
   "metadata": {},
   "source": [
    "In the code snippet above, we output the names `Aaron` and `Chris` from the first function invocation. `*names` signifies we want to capture all positional arguments. This creates a tuple `names` that we can loop through and then print the arguments one at a time.\n",
    "\n",
    "In the second invocation, we supplied more arguments. We can supply any number of arguments, or not know how many arguments will be passed to the function and still be able to use it within the function code.\n"
   ]
  },
  {
   "attachments": {},
   "cell_type": "markdown",
   "id": "782716ca",
   "metadata": {},
   "source": [
    "#### Keyword-only function arguments\n",
    "\n",
    "In the previous section, we discussed how to accept an unlimited number of arguments. But what happens if you define parameters and arguments after argument tuple unpacking?\n",
    "\n",
    "Let's run the snippet of code below to understand this better."
   ]
  },
  {
   "cell_type": "code",
   "execution_count": 152,
   "id": "b1413bdb",
   "metadata": {},
   "outputs": [
    {
     "ename": "TypeError",
     "evalue": "greet() missing 1 required keyword-only argument: 'greeting'",
     "output_type": "error",
     "traceback": [
      "\u001b[1;31m---------------------------------------------------------------------------\u001b[0m",
      "\u001b[1;31mTypeError\u001b[0m                                 Traceback (most recent call last)",
      "Cell \u001b[1;32mIn[152], line 4\u001b[0m\n\u001b[0;32m      2\u001b[0m \t\u001b[39mfor\u001b[39;00m name \u001b[39min\u001b[39;00m names:\n\u001b[0;32m      3\u001b[0m \t\t\u001b[39mprint\u001b[39m(name, greeting)\n\u001b[1;32m----> 4\u001b[0m greet(\u001b[39m'\u001b[39;49m\u001b[39mAaron\u001b[39;49m\u001b[39m'\u001b[39;49m,\u001b[39m'\u001b[39;49m\u001b[39mHello\u001b[39;49m\u001b[39m'\u001b[39;49m)\n",
      "\u001b[1;31mTypeError\u001b[0m: greet() missing 1 required keyword-only argument: 'greeting'"
     ]
    }
   ],
   "source": [
    "def greet(*names, greeting):\n",
    "\tfor name in names:\n",
    "\t\tprint(name, greeting)\n",
    "greet('Aaron','Hello')"
   ]
  },
  {
   "attachments": {},
   "cell_type": "markdown",
   "id": "07e03ef8",
   "metadata": {},
   "source": [
    "Python throws an error here because we've created a parameter `greeting` after `*names` and in Python any parameter specified after `*names` has to be a keyword argument."
   ]
  },
  {
   "cell_type": "code",
   "execution_count": 154,
   "id": "5c184f7a",
   "metadata": {},
   "outputs": [
    {
     "name": "stdout",
     "output_type": "stream",
     "text": [
      "Aaron Hello\n",
      "Aaron Hi\n"
     ]
    }
   ],
   "source": [
    "def greet(*names, greeting=\"Hello\"):\n",
    "\tfor name in names:\n",
    "\t\tprint(name, greeting)\n",
    "greet('Aaron')\n",
    "greet('Aaron',greeting=\"Hi\")"
   ]
  },
  {
   "attachments": {},
   "cell_type": "markdown",
   "id": "cafa1cdb",
   "metadata": {},
   "source": [
    "In the first function invocation the output prints `Aaron Hello`. This is because the default argument is `Hello`. In the second invocation, we specify the keyword argument `Hi` instead so Python prints out `Aaron Hi` instead."
   ]
  },
  {
   "attachments": {},
   "cell_type": "markdown",
   "id": "eb4a6232",
   "metadata": {},
   "source": [
    "#### Accepting arbitary key word arguments\n",
    "\n",
    "In Python, you may not know how many keyword arguments that need to be passed to a function. We can use the `**` operator to accept any number of keyword arguments in a function.\n",
    "\n",
    "We put a ** and a parameter name to tell Python that it should accept a number of keyword arguments and store them as a dictionary of keys that correspond to the parameter name and the values as the arguments.\n",
    "\n",
    "Let's run an example."
   ]
  },
  {
   "cell_type": "code",
   "execution_count": 155,
   "id": "4c6d8418",
   "metadata": {},
   "outputs": [
    {
     "name": "stdout",
     "output_type": "stream",
     "text": [
      "Aaron\n"
     ]
    }
   ],
   "source": [
    "saying = {\n",
    "\t\n",
    "}\n",
    "\n",
    "def sayingNames(name, **saying):\n",
    "\tprint(name)\n",
    "\tfor name, count in saying.items():\n",
    "\t\tprint(name,count)\n",
    "\n",
    "sayingNames('Aaron',)"
   ]
  },
  {
   "attachments": {},
   "cell_type": "markdown",
   "id": "83fbc1da",
   "metadata": {},
   "source": [
    "#### Built in functions \n",
    "\n",
    "We've come across many of the commest built-in functions before. Python has over 71 built-in functions with only 44 technically being functions.\n",
    "\n",
    "We've covered most of the common functions. In this section, we'll cover a couple more that get overlooked. It is better to cover the functions commonly used slowly rather than learn them all, there are many you may never use.\n",
    "\n",
    "##### sum\n",
    "\n",
    "The sum function takes an iterable of numbers and returns the sum of those numbers\n",
    "\n",
    "For example, run the snippet below."
   ]
  },
  {
   "cell_type": "code",
   "execution_count": 156,
   "id": "9657671e",
   "metadata": {},
   "outputs": [
    {
     "data": {
      "text/plain": [
       "23"
      ]
     },
     "execution_count": 156,
     "metadata": {},
     "output_type": "execute_result"
    }
   ],
   "source": [
    "courseNumbers = [10,5,2,5,1]\n",
    "sum(courseNumbers)"
   ]
  },
  {
   "attachments": {},
   "cell_type": "markdown",
   "id": "958cbb76",
   "metadata": {},
   "source": [
    "In the cell below, create a list of numbers and find the total."
   ]
  },
  {
   "attachments": {},
   "cell_type": "markdown",
   "id": "8b46f730",
   "metadata": {},
   "source": [
    "##### min and max\n",
    "\n",
    "The min and max return the minimum and maximum values of an iterable. `max` and `min` require the argument passed to it is an orderable data type like a list.\n",
    "\n",
    "For example, run the snippets below."
   ]
  },
  {
   "cell_type": "code",
   "execution_count": 158,
   "id": "35bebaff",
   "metadata": {},
   "outputs": [
    {
     "data": {
      "text/plain": [
       "1"
      ]
     },
     "execution_count": 158,
     "metadata": {},
     "output_type": "execute_result"
    }
   ],
   "source": [
    "numbers = [2, 1, 3, 4, 7, 11, 18]\n",
    "min(numbers)"
   ]
  },
  {
   "cell_type": "code",
   "execution_count": 157,
   "id": "5ed2c2ec",
   "metadata": {},
   "outputs": [
    {
     "data": {
      "text/plain": [
       "18"
      ]
     },
     "execution_count": 157,
     "metadata": {},
     "output_type": "execute_result"
    }
   ],
   "source": [
    "\n",
    "numbers = [2, 1, 3, 4, 7, 11, 18]\n",
    "max(numbers)"
   ]
  },
  {
   "attachments": {},
   "cell_type": "markdown",
   "id": "2903d10e",
   "metadata": {},
   "source": [
    "In the cell below, create a list of numbers and find the maxium and minimum values."
   ]
  },
  {
   "cell_type": "code",
   "execution_count": null,
   "id": "92f8616e",
   "metadata": {},
   "outputs": [],
   "source": []
  },
  {
   "attachments": {},
   "cell_type": "markdown",
   "id": "a8b7379d",
   "metadata": {},
   "source": [
    "##### sorted\n",
    "\n",
    "The sorted function takes any iterable and returns a new list of all values in sorted order. \n",
    "\n",
    "The sorted function accepts two arguments, the iterable and reverse options. The difference between the `list.sort` method and `sorted` is that `sorted` can work on other data types."
   ]
  },
  {
   "cell_type": "code",
   "execution_count": 159,
   "id": "586e7f35",
   "metadata": {},
   "outputs": [
    {
     "data": {
      "text/plain": [
       "[13, 8, 5, 3, 2, 1, 1]"
      ]
     },
     "execution_count": 159,
     "metadata": {},
     "output_type": "execute_result"
    }
   ],
   "source": [
    "numbers = [1,8,2,13,5,3,1]\n",
    "sorted(numbers, reverse=True)"
   ]
  },
  {
   "attachments": {},
   "cell_type": "markdown",
   "id": "c2f9b17a",
   "metadata": {},
   "source": [
    "### Modules"
   ]
  },
  {
   "attachments": {},
   "cell_type": "markdown",
   "id": "256c3a3c",
   "metadata": {},
   "source": [
    "Modules are a tool we use to break up the code into multiple files in Python. When you create a file in Python you are making a Python module. \n",
    "\n",
    "These reasons for using modules in larger applications are:\n",
    "\n",
    "1. Reusability - Functions defined in one module can be used elsewhere\n",
    "2. Maintability - Splitting code into a module enforces a boundary between problems that the code solve. \n",
    "3. Readability - Having small modules of code is much easier to understand and change\n",
    "\n",
    "Additionally using code that others have created to solve problems is a large part of programming which you will gain experience in this course. \n",
    "\n",
    "To use code from different files you can import modules and the code within them. Its also possible to import modules from Python (like packages for randomising numbers) or a third-party package (NumPy or Pandas). \n",
    "\n",
    "A Python file that's meant to be imported by other Python files is called a **module**."
   ]
  },
  {
   "attachments": {},
   "cell_type": "markdown",
   "id": "084b31fb",
   "metadata": {},
   "source": [
    "#### Importing a whole module\n",
    "\n",
    "Python has a load of different modules called the [Python standard library](https://docs.python.org/3/library/)\n",
    "Let's import the `Math` module from the standard library.\n",
    "\n",
    "To import any module whether that is your own code or someone else's code we use the `import` keyword.\n",
    "\n",
    "Run the snippet of code below."
   ]
  },
  {
   "cell_type": "code",
   "execution_count": 166,
   "id": "16180fb9",
   "metadata": {},
   "outputs": [
    {
     "name": "stdout",
     "output_type": "stream",
     "text": [
      "<module 'math' (built-in)>\n"
     ]
    }
   ],
   "source": [
    "import math\n",
    "print(math)"
   ]
  },
  {
   "attachments": {},
   "cell_type": "markdown",
   "id": "d2278155",
   "metadata": {},
   "source": [
    "This snippet prints out text that describes the module. We call this a **module object** and this object has attributes that we can use specific functions or constants.\n",
    "\n",
    "To specify an attribute we use a dot and the function name afterwards. Run the code snippet below to see the result."
   ]
  },
  {
   "cell_type": "code",
   "execution_count": 167,
   "id": "4ae249b9",
   "metadata": {},
   "outputs": [
    {
     "data": {
      "text/plain": [
       "3.141592653589793"
      ]
     },
     "execution_count": 167,
     "metadata": {},
     "output_type": "execute_result"
    }
   ],
   "source": [
    "import math\n",
    "math.pi"
   ]
  },
  {
   "attachments": {},
   "cell_type": "markdown",
   "id": "8cda2e59",
   "metadata": {},
   "source": [
    "Here we import the math module. We access the attribute `pi` on the `math` module object. This returns the constant `pi`.\n",
    "\n",
    "The math library has a load of functions that we can use that don't come as part of a specific data type. For example, taking the square root of a number. \n",
    "\n",
    "Run the snippet below to see to use functions within a module object."
   ]
  },
  {
   "cell_type": "code",
   "execution_count": 168,
   "id": "ae42878b",
   "metadata": {},
   "outputs": [
    {
     "data": {
      "text/plain": [
       "5.0"
      ]
     },
     "execution_count": 168,
     "metadata": {},
     "output_type": "execute_result"
    }
   ],
   "source": [
    "import math\n",
    "math.sqrt(25)\n"
   ]
  },
  {
   "attachments": {},
   "cell_type": "markdown",
   "id": "c4a59ac8",
   "metadata": {},
   "source": [
    "This outputs `5.0`, we import the math module and then use the dot notation to access the `sqrt` function. We pass the argument `25` and `sqrt` functions return the result specified."
   ]
  },
  {
   "attachments": {},
   "cell_type": "markdown",
   "id": "d79a9b00",
   "metadata": {},
   "source": [
    "#### Module Search Path\n",
    "\n",
    "When Python executes an import statement it searches for the file. Lets take the example above."
   ]
  },
  {
   "cell_type": "code",
   "execution_count": 169,
   "id": "b091c8f1",
   "metadata": {},
   "outputs": [],
   "source": [
    "import math"
   ]
  },
  {
   "attachments": {},
   "cell_type": "markdown",
   "id": "489c7e5d",
   "metadata": {},
   "source": [
    "In the this example Python searches  `math.py` in three places\n",
    "\n",
    "1. In `sys.modules`  - a builtin cache of all modules currently imported\n",
    "2. Built-in modules that are already installed with Python\n",
    "3. The folders that are set within `sys.path` (installation dependant folders) which will have the current directory where Python is currently running from.\n",
    "\n",
    "When Python finds a module, it binds the name of the module to the local scope of the file. This means in the example above `math` is now defined in the file without throwing an error.\n",
    "\n",
    "If a module is not found, python will throw an `ModuleNotFoundError`.\n",
    "\n",
    "To make you're files available to others, have the file within the same place python is being run from (You wont need to worry about this much in Jupyter Notebooks)."
   ]
  },
  {
   "attachments": {},
   "cell_type": "markdown",
   "id": "9afbf9e3",
   "metadata": {},
   "source": [
    "\n",
    "#### Importing specific module elements\n",
    "\n",
    "For importing functions above you'll have to add `math.` to everything in the code which creates a lot of duplication. We can import specific attributes using the `from` keyword to remove the need to keep typing `math.` for example in our code. "
   ]
  },
  {
   "cell_type": "code",
   "execution_count": 170,
   "id": "2be09fb6",
   "metadata": {},
   "outputs": [
    {
     "data": {
      "text/plain": [
       "5.0"
      ]
     },
     "execution_count": 170,
     "metadata": {},
     "output_type": "execute_result"
    }
   ],
   "source": [
    "from math import sqrt\n",
    "sqrt(25)\n"
   ]
  },
  {
   "attachments": {},
   "cell_type": "markdown",
   "id": "4c21744b",
   "metadata": {},
   "source": [
    "The `from` keyword tells Python we want to import something specific from a module. We can then specify what module from we want after the `from` keyword.\n",
    "\n",
    "We use the `import` keyword after we specify which module we want to import from to specify the specific function\n",
    "\n",
    "The return value is the same, but now we have access to `sqrt` directly.\n",
    "\n",
    "To import multiple things from a module, we can use the comma to do so."
   ]
  },
  {
   "cell_type": "code",
   "execution_count": 171,
   "id": "12cedffb",
   "metadata": {},
   "outputs": [
    {
     "data": {
      "text/plain": [
       "3.141592653589793"
      ]
     },
     "execution_count": 171,
     "metadata": {},
     "output_type": "execute_result"
    }
   ],
   "source": [
    "from math import sqrt, pi\n",
    "sqrt(pi**2)"
   ]
  },
  {
   "attachments": {},
   "cell_type": "markdown",
   "id": "fdc38abd",
   "metadata": {},
   "source": [
    "Here we return the value of `pi` , but we specified the `pi` attribute and the function `sqrt`."
   ]
  },
  {
   "attachments": {},
   "cell_type": "markdown",
   "id": "bfac50f3",
   "metadata": {},
   "source": [
    "#### Importing a module under a different name\n",
    "\n",
    "We can import a module under a different name when sometimes the module name is quite large and we don't want to keep repeating ourselves. \n",
    "\n",
    "When we import a whole module, we can use the `as` keyword afterwards and specify a name to change the module name to."
   ]
  },
  {
   "cell_type": "code",
   "execution_count": 172,
   "id": "ff49adb4",
   "metadata": {},
   "outputs": [
    {
     "data": {
      "text/plain": [
       "3.141592653589793"
      ]
     },
     "execution_count": 172,
     "metadata": {},
     "output_type": "execute_result"
    }
   ],
   "source": [
    "import math as m\n",
    "m.pi\n"
   ]
  },
  {
   "attachments": {},
   "cell_type": "markdown",
   "id": "d4400200",
   "metadata": {},
   "source": [
    "The return value is `pi` however using the `as` keyword we have shortened the module name `math` to `m`. "
   ]
  },
  {
   "attachments": {},
   "cell_type": "markdown",
   "id": "cbabe061",
   "metadata": {},
   "source": [
    "#### Import your own modules\n",
    "\n",
    "We mentioned above you can import modules from other people's code. But the other important aspect of modules is that you can import code you create yourself. \n",
    "\n",
    "If you have two files called `numbers.py` and `mathutils.py` in the same directory. and we want to import the `mathutil` module into `numbers.py`  We can simply use the import keyword and specify `mathutil`."
   ]
  },
  {
   "attachments": {},
   "cell_type": "markdown",
   "id": "8f77b71f",
   "metadata": {},
   "source": [
    "```\n",
    "# Numbers.py\n",
    "import mathutil\n",
    "```"
   ]
  },
  {
   "attachments": {},
   "cell_type": "markdown",
   "id": "b58854ef",
   "metadata": {},
   "source": [
    "#### Styles of Imports\n",
    "\n",
    "Within PEP8 the style guide for Python it comes with some pointers on how to group your imports.\n",
    "\n",
    "1. Imports should be at the top of the file\n",
    "2. Imports should be seperate into three different groups\n",
    "\t1. Standard Library imports (built-in modules)\n",
    "\t2. Third party imports (modules installed but do not belong to your code)\n",
    "\t3. Local application imports\n",
    "3. Each group of imports should be seperated by a single line"
   ]
  },
  {
   "attachments": {},
   "cell_type": "markdown",
   "id": "476e1695",
   "metadata": {},
   "source": [
    "```\n",
    "# Standard Library imports\n",
    "import os\n",
    "import json\n",
    "\n",
    "# Third party Imports\n",
    "from flask import flask\n",
    "\n",
    "# Application Imports\n",
    "from local_module import local_function\n",
    "```"
   ]
  },
  {
   "attachments": {},
   "cell_type": "markdown",
   "id": "b3a0d3d7",
   "metadata": {},
   "source": [
    "### Check your understanding\n",
    "\n",
    "1. What is a parameter ? \n",
    "2. What is an argument ?\n",
    "3. Can you give an example of a function call ?\n",
    "4. What is a module ?\n",
    "5. What is the difference between a keyword argument and a positional argument ?"
   ]
  },
  {
   "attachments": {},
   "cell_type": "markdown",
   "id": "1a61c866",
   "metadata": {},
   "source": [
    "### Summary\n",
    "\n",
    "In this exercise we should have a better understanding on how to use functions and modules to try and make code more readable and maintable. Its important to make sure your functions are small and do one task. Providing a definition comment of a function will help you think about whether the function is doing many things. \n",
    "\n",
    "Modules and Packages are used in applications that grow to longer than a few files of code. They help keep it maintable, readable and reusable. \n",
    "\n",
    "When you're writing your code think about the one task the lines of code you're writing is doing. Can we put this into a function ? It's better to have 5 small functions than one long function.\n",
    "\n",
    "Consider creating modules when your file is getting larger and harder to reason about the code with lots of functions. Typically speaking a module should have functions that are related together so consider this when you're reading your code. \n",
    "\n",
    "When you start learning to code, you wont necessarily think in terms of functions and modules and thats okay. As long as you look at your code and start to in small pieces create functions and make sure your code still works. This is a good first step. Always change your code in small steps and rerun it."
   ]
  },
  {
   "attachments": {},
   "cell_type": "markdown",
   "id": "9d60545f",
   "metadata": {},
   "source": [
    "## Part 6: Application"
   ]
  },
  {
   "cell_type": "markdown",
   "id": "128e4e1e",
   "metadata": {},
   "source": [
    "## Next steps"
   ]
  },
  {
   "attachments": {},
   "cell_type": "markdown",
   "id": "4802d298",
   "metadata": {},
   "source": []
  },
  {
   "cell_type": "markdown",
   "id": "ce1e133e",
   "metadata": {},
   "source": [
    "Fill out the form below and we'll provide feedback on your code.\n",
    "\n",
    "**Any feedback on the exercise? Any questions? Want feedback on your code? Please fill out the form [here](https://docs.google.com/forms/d/e/1FAIpQLSdoOjVom8YKf11LxJ_bWN40afFMsWcoJ-xOrKhMbfBzgxTS9A/viewform).**"
   ]
  },
  {
   "cell_type": "code",
   "execution_count": null,
   "id": "71cdd4ad",
   "metadata": {},
   "outputs": [],
   "source": []
  }
 ],
 "metadata": {
  "kernelspec": {
   "display_name": "Python 3",
   "language": "python",
   "name": "python3"
  },
  "language_info": {
   "codemirror_mode": {
    "name": "ipython",
    "version": 3
   },
   "file_extension": ".py",
   "mimetype": "text/x-python",
   "name": "python",
   "nbconvert_exporter": "python",
   "pygments_lexer": "ipython3",
   "version": "3.10.11"
  }
 },
 "nbformat": 4,
 "nbformat_minor": 5
}
