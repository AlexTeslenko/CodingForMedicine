{
 "cells": [
  {
   "attachments": {},
   "cell_type": "markdown",
   "id": "c82d7193",
   "metadata": {},
   "source": [
    "# Python Principles\n"
   ]
  },
  {
   "attachments": {},
   "cell_type": "markdown",
   "id": "e2502982",
   "metadata": {},
   "source": [
    "**In this exercise, we will focus on the core python principles for you to do data science.**\n",
    "\n",
    "We will learn the words of Python called 'syntax', what data we can use and how to store it. Furthermore, we will learn how to manipulate and control that data. Lastly, we will help you structure your code to write a working python program. \n",
    "\n",
    "In this exercise, we will apply this knowledge through short and more challenging problems.\n",
    "\n",
    "In this exercise, we'll learn how to:\n",
    "\n",
    "- How to write python statements (Syntax)\n",
    "\n",
    "- How to store and manipulate data in Python\n",
    "\n",
    "- How to control where data flows through a program in Python\n",
    "\n",
    "- Be able to structure the code in Python\n",
    "\n",
    "- Be able to create a working program in Python\n",
    "\n",
    "By the end of this exercise, you will be confident in writing Python code and can approach any problem you encounter with a structure."
   ]
  },
  {
   "attachments": {},
   "cell_type": "markdown",
   "id": "a0e09066",
   "metadata": {},
   "source": [
    "## Part 1 Vocabulary and Syntax: \n",
    "\n",
    "This section will give you the vocabulary to describe code precisely as well as introducing you to way to write Python called Syntax. Some topics may require knowledge of things we haven't covered yet. Don't let this throw you. Below is the essential information you need for now and these topics will be discussed in a later section.\n",
    "\n"
   ]
  },
  {
   "attachments": {},
   "cell_type": "markdown",
   "id": "95450115",
   "metadata": {},
   "source": [
    "### Data Types \n",
    "\n",
    "The essence of most languages is to deal with data. The specific data we can use in Python are called **data types**. The type part of the phrase means that Python has rules on what can and can't be done with a piece of data. \n",
    "\n",
    "For example, to add integers (whole numbers) is specific to an integer data type but wouldn't make sense for other data types. Python does not allow you to do this and this constraint is implicitly a part of the data types we can use.\n",
    "\n",
    "A data type can be either primitive or non-primitive. Primitive data types are the simplest way to represent data in Python. \n",
    "\n",
    "Primitive data types\n",
    "1. Integer\n",
    "2. Float\n",
    "3. String \n",
    "4. Boolean \n",
    "5. None Type\n"
   ]
  },
  {
   "cell_type": "code",
   "execution_count": 6,
   "id": "c97be59c",
   "metadata": {},
   "outputs": [],
   "source": [
    "3 # Integer\n",
    "4.0 # Float\n",
    "\"Hello World\" # String\n",
    "True # boolean\n",
    "None # None Type"
   ]
  },
  {
   "attachments": {},
   "cell_type": "markdown",
   "id": "7c02b8d1",
   "metadata": {},
   "source": [
    "Run the cell below to discover some data and what its type is. Don't worry about what the code means for now. "
   ]
  },
  {
   "cell_type": "code",
   "execution_count": 8,
   "id": "2d83555a",
   "metadata": {},
   "outputs": [
    {
     "data": {
      "text/plain": [
       "float"
      ]
     },
     "execution_count": 8,
     "metadata": {},
     "output_type": "execute_result"
    }
   ],
   "source": [
    "type(3)"
   ]
  },
  {
   "cell_type": "code",
   "execution_count": 9,
   "id": "09f4ce8f",
   "metadata": {},
   "outputs": [
    {
     "data": {
      "text/plain": [
       "bool"
      ]
     },
     "execution_count": 9,
     "metadata": {},
     "output_type": "execute_result"
    }
   ],
   "source": [
    "type(True)"
   ]
  },
  {
   "attachments": {},
   "cell_type": "markdown",
   "id": "ef3477ca",
   "metadata": {},
   "source": [
    "Try in the cell below to find out the type \"Hello World\" is"
   ]
  },
  {
   "cell_type": "code",
   "execution_count": null,
   "id": "1de3ebdd",
   "metadata": {},
   "outputs": [],
   "source": []
  },
  {
   "attachments": {},
   "cell_type": "markdown",
   "id": "4d424a5e",
   "metadata": {},
   "source": [
    "\n",
    "Python also gives us non-primitive data types sometimes called collections. Non-primitive data types allow you to collect and modify data you may want later.\n",
    "\n",
    "Non-primitive data types\n",
    "1. Lists \n",
    "2. Dictionaries\n",
    "3. Sets\n",
    "4. Tuples"
   ]
  },
  {
   "cell_type": "code",
   "execution_count": null,
   "id": "35fce001",
   "metadata": {},
   "outputs": [],
   "source": [
    "[1,2,3,4,5] # List\n",
    "{ 'England': 'London', 'Scotland': 'Edinburgh', 'France': 'Paris'} # Dictionary\n",
    "{'England', 'Scotland','France'}\n",
    "(1,2,3,4,5) # Tuple "
   ]
  },
  {
   "cell_type": "code",
   "execution_count": 11,
   "id": "5c23acca",
   "metadata": {},
   "outputs": [
    {
     "data": {
      "text/plain": [
       "dict"
      ]
     },
     "execution_count": 11,
     "metadata": {},
     "output_type": "execute_result"
    }
   ],
   "source": [
    "type({ 'England': 'London', 'Scotland': 'Edinburgh', 'France': 'Paris'})"
   ]
  },
  {
   "cell_type": "code",
   "execution_count": 10,
   "id": "d30bf01b",
   "metadata": {},
   "outputs": [
    {
     "data": {
      "text/plain": [
       "list"
      ]
     },
     "execution_count": 10,
     "metadata": {},
     "output_type": "execute_result"
    }
   ],
   "source": [
    "type([1,2,3,4,5])"
   ]
  },
  {
   "attachments": {},
   "cell_type": "markdown",
   "id": "d3952bb1",
   "metadata": {},
   "source": [
    "Try for yourself in the cell below to find out what type the value (1,2,3,4,5) is"
   ]
  },
  {
   "cell_type": "code",
   "execution_count": null,
   "id": "904e034b",
   "metadata": {},
   "outputs": [],
   "source": []
  },
  {
   "attachments": {},
   "cell_type": "markdown",
   "id": "e376dd71",
   "metadata": {},
   "source": [
    "Don't worry about knowing what these all mean we will cover them in more detail later."
   ]
  },
  {
   "attachments": {},
   "cell_type": "markdown",
   "id": "930414f9",
   "metadata": {},
   "source": [
    "### Literals\n",
    "\n",
    "A term that comes up with data types is the term 'literal'. A literal is any notation that represents a fixed value in the code. When we talk about data types, a literal describes a value of that data type. \n",
    "\n",
    "To demonstrate this, an integer literal is an integer value that is explicit in your code. "
   ]
  },
  {
   "cell_type": "code",
   "execution_count": null,
   "id": "8c19ca85",
   "metadata": {},
   "outputs": [],
   "source": [
    "x = 5  # 5 is the integer literal"
   ]
  },
  {
   "attachments": {},
   "cell_type": "markdown",
   "id": "b2ac427c",
   "metadata": {},
   "source": [
    "### Data Structures\n",
    "\n",
    "Additionally, when talking about specific data types, you will come across the concept of a data structure. **A data structure**  is a way to organise data to allow for tasks to be performed most efficiently\n",
    "\n",
    "This is slightly different to a data type, in that a data type has a range of values that share all the same properties and focuses on representation of data. Some data structures can have a very specific way to handle data that isn't related to the data type.\n",
    "\n",
    "A list is an organised collection of data of possibly many different types in an ordered sequence. "
   ]
  },
  {
   "cell_type": "code",
   "execution_count": null,
   "id": "e5d546d9",
   "metadata": {},
   "outputs": [],
   "source": [
    "['one', 'two', 3, 4, 5]"
   ]
  },
  {
   "attachments": {},
   "cell_type": "markdown",
   "id": "fe2a6018",
   "metadata": {},
   "source": [
    "The list above is a data type, but also as can be thought of as a data structure, when we want to store data in a specific way like a set of items in a certain order, we can perform operations on this and think about the performance of those operations. Don't worry too much about the semantic differences between data types and data structures too much at this stage, but its useful to have an awareness of the term."
   ]
  },
  {
   "attachments": {},
   "cell_type": "markdown",
   "id": "e7a2805a",
   "metadata": {},
   "source": [
    "### Operations\n",
    "\n",
    "In any programming language, there are data types and also ways to manipulate that data. We call these **operations** that we do something to data. To do an operation **operators** which tell Python to perform a specific task on data. \n",
    "\n",
    "A simple example of this would be adding two numbers together. Python has an addition operator `+` which tells Python we want to form an addition operation. The code snippet illustrates this."
   ]
  },
  {
   "cell_type": "code",
   "execution_count": null,
   "id": "853dc1ef",
   "metadata": {},
   "outputs": [],
   "source": [
    "3 + 5 # The + is the addition operator that tells python to add two numbers together"
   ]
  },
  {
   "attachments": {},
   "cell_type": "markdown",
   "id": "2934cfba",
   "metadata": {},
   "source": [
    "In the cell below try add together the numbers 21 and 51 and run the code to see the result."
   ]
  },
  {
   "cell_type": "code",
   "execution_count": null,
   "id": "34d6079d",
   "metadata": {},
   "outputs": [],
   "source": []
  },
  {
   "attachments": {},
   "cell_type": "markdown",
   "id": "4b5af124",
   "metadata": {},
   "source": [
    "There are many different types of operators which we will cover in a later section."
   ]
  },
  {
   "attachments": {},
   "cell_type": "markdown",
   "id": "3fa80483",
   "metadata": {},
   "source": [
    "### Expressions and return values\n",
    "\n",
    "An **expression** is a combination of values and operators that Python evaluates.\n",
    "\n",
    "When we type out an expression in Python, it also displays the result of that expression without you specifically telling it to. We call this the **return value**. \n",
    "\n",
    "Run the code snippet below to show what happens. "
   ]
  },
  {
   "cell_type": "code",
   "execution_count": 1,
   "id": "90d094b8",
   "metadata": {},
   "outputs": [
    {
     "data": {
      "text/plain": [
       "9"
      ]
     },
     "execution_count": 1,
     "metadata": {},
     "output_type": "execute_result"
    }
   ],
   "source": [
    "4 + 5 # expression\n"
   ]
  },
  {
   "attachments": {},
   "cell_type": "markdown",
   "id": "36175e1c",
   "metadata": {},
   "source": [
    "Expressions don't have to involve operators, any value is an expression that evalutes to itself."
   ]
  },
  {
   "cell_type": "code",
   "execution_count": 2,
   "id": "b3ce6f5c",
   "metadata": {},
   "outputs": [
    {
     "data": {
      "text/plain": [
       "4"
      ]
     },
     "execution_count": 2,
     "metadata": {},
     "output_type": "execute_result"
    }
   ],
   "source": [
    "4"
   ]
  },
  {
   "attachments": {},
   "cell_type": "markdown",
   "id": "529c8169",
   "metadata": {},
   "source": [
    "### Statements\n",
    "\n",
    "A **statement** is a line of code or multiple lines of code that expresses an action for the computer to perform. Every program consists of a sequence of statements. \n",
    "\n",
    "The code snippet below, prints out the integer 5, run the cell to see this. Don't worry about knowing what it does yet, we will cover this later."
   ]
  },
  {
   "cell_type": "code",
   "execution_count": 4,
   "id": "bced70e5",
   "metadata": {},
   "outputs": [],
   "source": [
    "print(5)"
   ]
  },
  {
   "attachments": {},
   "cell_type": "markdown",
   "id": "6214af4f",
   "metadata": {},
   "source": [
    "### Displaying values  \n",
    "\n",
    "We have seen above that Python automatically returns values when you type out an expression. We can also explicitly print what the result of the expression using a function called `print()`. \n",
    "\n",
    "Don't worry about the specifics, an expression inside the parentheses will be evaluated, with the output displayed. \n",
    "\n",
    "Below is a code snippet to illustrate this."
   ]
  },
  {
   "cell_type": "code",
   "execution_count": null,
   "id": "14a38688",
   "metadata": {},
   "outputs": [],
   "source": [
    "print(3 + 4)"
   ]
  },
  {
   "attachments": {},
   "cell_type": "markdown",
   "id": "c51c476a",
   "metadata": {},
   "source": [
    "\n",
    "In the cell below, try and print the value of 5 + 10 "
   ]
  },
  {
   "cell_type": "code",
   "execution_count": null,
   "id": "c04b92f8",
   "metadata": {},
   "outputs": [],
   "source": []
  },
  {
   "attachments": {},
   "cell_type": "markdown",
   "id": "473a45c0",
   "metadata": {},
   "source": [
    "\n",
    "### Variables\n",
    "\n",
    "Python like all programming languages has data types, but we need to be able to store this data for later use. Python allows you to do this by creating variables. A **variable** is a container that associated a name with a specified value. A variable is created when we give it a name and give it a value. "
   ]
  },
  {
   "cell_type": "code",
   "execution_count": null,
   "id": "b9e17d34",
   "metadata": {},
   "outputs": [],
   "source": [
    "x = 5 "
   ]
  },
  {
   "attachments": {},
   "cell_type": "markdown",
   "id": "20db693f",
   "metadata": {},
   "source": [
    "In this code snippet, we create the variable `x`, the `=` is called an assignment operator this allows us to associate a relationship between a variable name and a value. We **assign** the integer 5 to the variable `x`.\n",
    "\n",
    "When we create a variable, we call this a **declaration** or declaring a variable.\n",
    "\n",
    "In the cell below, define a variable named `y` and give it a value of 11 "
   ]
  },
  {
   "cell_type": "code",
   "execution_count": null,
   "id": "62d0ae0c",
   "metadata": {},
   "outputs": [],
   "source": [
    "x = 5"
   ]
  },
  {
   "attachments": {},
   "cell_type": "markdown",
   "id": "5fbbac28",
   "metadata": {},
   "source": [
    "We will be talking about variables in a later section."
   ]
  },
  {
   "attachments": {},
   "cell_type": "markdown",
   "id": "794e6528",
   "metadata": {},
   "source": [
    "### Syntax\n",
    "\n",
    "The syntax of Python is a set of rules that define how Python should be written and interpreted when we run a program. Below we will discuss some of the important aspects of the syntax of Python."
   ]
  },
  {
   "attachments": {},
   "cell_type": "markdown",
   "id": "d461e891",
   "metadata": {},
   "source": [
    "### Keywords\n",
    "\n",
    "In Python, there are words that are reserved that is to say we can't use them as names in our code. We call these **keywords**, they look like normal words but have special meanings. \n",
    "\n",
    "In the code snippet below, there are two keywords `if` and `else` that you will be able to see, don't worry about the entire meaning of the code yet. You will learn about these later on, but to illustrate that you can not call a variable name `if` or `else` in python, otherwise, an error will occur."
   ]
  },
  {
   "cell_type": "code",
   "execution_count": null,
   "id": "19483da4",
   "metadata": {},
   "outputs": [],
   "source": [
    "x = 5\n",
    "if (x < 4):\n",
    "    print(x)\n",
    "else: \n",
    "    print(x + 1)"
   ]
  },
  {
   "attachments": {},
   "cell_type": "markdown",
   "id": "aa033e35",
   "metadata": {},
   "source": [
    "Try run the cell below and see what the output is."
   ]
  },
  {
   "cell_type": "code",
   "execution_count": 12,
   "id": "33cc6f0a",
   "metadata": {},
   "outputs": [
    {
     "ename": "SyntaxError",
     "evalue": "invalid syntax (2630263448.py, line 1)",
     "output_type": "error",
     "traceback": [
      "\u001b[1;36m  Cell \u001b[1;32mIn[12], line 1\u001b[1;36m\u001b[0m\n\u001b[1;33m    if = 5\u001b[0m\n\u001b[1;37m       ^\u001b[0m\n\u001b[1;31mSyntaxError\u001b[0m\u001b[1;31m:\u001b[0m invalid syntax\n"
     ]
    }
   ],
   "source": [
    "if = 5"
   ]
  },
  {
   "attachments": {},
   "cell_type": "markdown",
   "id": "eb6842ec",
   "metadata": {},
   "source": [
    "#### Indentation\n",
    "\n",
    "**Indentation** is the space at the beginning of a line of code. In some languages, indentation is for readability only however, in Python, it also defines a block of code that does something (**better phrasing needed**).\n",
    "\n",
    "In the code snippet below, we can see there's an indentation to delineate that the if code block is separate from other lines of code."
   ]
  },
  {
   "cell_type": "code",
   "execution_count": null,
   "id": "68ce20a7",
   "metadata": {},
   "outputs": [],
   "source": [
    "if (x < 4): \n",
    "\ty = x + 2\n",
    "\tprint(x)"
   ]
  },
  {
   "attachments": {},
   "cell_type": "markdown",
   "id": "0fcfa638",
   "metadata": {},
   "source": [
    "In the first, if block, the print function is called in the indented block, and will only be executed if x is less than four. Consider the difference in the code snippet below."
   ]
  },
  {
   "cell_type": "code",
   "execution_count": null,
   "id": "c30867aa",
   "metadata": {},
   "outputs": [],
   "source": [
    "if (x < 4):\n",
    "\ty = x + 2\n",
    "print(x)"
   ]
  },
  {
   "attachments": {},
   "cell_type": "markdown",
   "id": "848c0a78",
   "metadata": {},
   "source": [
    "In this code snippet, the print function is called regardless of the value of x.\n",
    "\n",
    "The indentation has meaning in Python and often leads to more readable code. It is up to you how much space you use, just be consistent. Conventionally code blocks like the above should be indented by four spaces."
   ]
  },
  {
   "attachments": {},
   "cell_type": "markdown",
   "id": "126a1992",
   "metadata": {},
   "source": [
    "#### End of Line terminates a statement\n",
    "\n",
    "In some programming languages, you need to add characters to tell the interpreter you have finished a statement. Python implicitly uses the end of a line to terminate a statement."
   ]
  },
  {
   "cell_type": "code",
   "execution_count": null,
   "id": "9ada81b8",
   "metadata": {},
   "outputs": [],
   "source": [
    "4 + 5 # End of this line means python will compute this line of code"
   ]
  },
  {
   "attachments": {},
   "cell_type": "markdown",
   "id": "7ff03bb7",
   "metadata": {},
   "source": [
    "#### Parentheses\n",
    "\n",
    "In Python you can use round braces or **parentheses** to group data and expressions to make it clear how you want Python to intepret the expression written. "
   ]
  },
  {
   "cell_type": "code",
   "execution_count": 5,
   "id": "d589c39a",
   "metadata": {},
   "outputs": [
    {
     "data": {
      "text/plain": [
       "10"
      ]
     },
     "execution_count": 5,
     "metadata": {},
     "output_type": "execute_result"
    }
   ],
   "source": [
    "2 * (3 + 4)"
   ]
  },
  {
   "attachments": {},
   "cell_type": "markdown",
   "id": "efe34127",
   "metadata": {},
   "source": [
    "Run the cell below to see how the above line of code is different to the one below."
   ]
  },
  {
   "cell_type": "code",
   "execution_count": null,
   "id": "44d06bd6",
   "metadata": {},
   "outputs": [],
   "source": [
    "2 * 3 + 4 # This is different to the above"
   ]
  },
  {
   "attachments": {},
   "cell_type": "markdown",
   "id": "a0f8864f",
   "metadata": {},
   "source": [
    "In the code snippet above, on the first line, the integers 3 and 4 are added together and then multiplied by 2. On the second line Python multiplies 2 and 3 together and then add 4. The placing of the parentheses matters."
   ]
  },
  {
   "attachments": {},
   "cell_type": "markdown",
   "id": "de2e5fa0",
   "metadata": {},
   "source": [
    "### Comments \n",
    "\n",
    "Python allows you to add comments in the code that serve as documentation to make things clearer to understand. A single-line comment starts with a # and Python will then intepret the rest of the line of code as a comment. "
   ]
  },
  {
   "cell_type": "code",
   "execution_count": null,
   "id": "d7dff1bd",
   "metadata": {},
   "outputs": [],
   "source": [
    "# This is a comment"
   ]
  },
  {
   "attachments": {},
   "cell_type": "markdown",
   "id": "2d5b4b04",
   "metadata": {},
   "source": [
    "Use the cell below to create a comment with the text \"I am learning python\""
   ]
  },
  {
   "cell_type": "code",
   "execution_count": null,
   "id": "6fc7a754",
   "metadata": {},
   "outputs": [],
   "source": []
  },
  {
   "attachments": {},
   "cell_type": "markdown",
   "id": "d82ecd21",
   "metadata": {},
   "source": [
    "Sometimes you want to be able to write comments in more than one line. To do this you can use tripe quotes \"\"\" \"\"\". Anything in between those quotes will be interpreted as a comment. "
   ]
  },
  {
   "cell_type": "code",
   "execution_count": null,
   "id": "d83f3890",
   "metadata": {},
   "outputs": [],
   "source": [
    "\"\"\"\n",
    "This is also a comment. \n",
    "\n",
    "A multi-line comment where you can type anything you like.\n",
    "\n",
    "\"\"\""
   ]
  },
  {
   "attachments": {},
   "cell_type": "markdown",
   "id": "c0d96e1a",
   "metadata": {},
   "source": [
    "When problem-solving you may want to write down your thoughts near your code, this is where a multi-line comment would be appropriate. "
   ]
  },
  {
   "attachments": {},
   "cell_type": "markdown",
   "id": "d33fe270",
   "metadata": {},
   "source": [
    "### Summary\n",
    "\n",
    "Understanding the vocabulary and how to write code is the first step to getting started in Python. Primitive data types are the simplest data we can deal with in Python, non-primitive data types allow us to store those primitive data types easily in specific ways.\n",
    "\n",
    "Being able to do operations on these data types using operators is what gives Python its ability to take data and transform it into something useful. We will cover more on operators in a later section.\n",
    "\n",
    "We covered some basic syntax like comments, indentation and parentheses, which defines the way to write code so that Python can intepret our code correctly. For more style information, the most widely used style guide for writing python is [PEP008](https://www.python.org/dev/peps/pep-0008/). As you write more python you will find it more useful to read.\n",
    "\n",
    "Understanding these concepts will make sure that you are writing Python in a readable way.\n",
    "\n",
    "### Check your understanding\n",
    "\n",
    "1. What is a data type? \n",
    "2. What is a literal?\n",
    "3. What is an operation?\n",
    "4. What is an expression? \n",
    "5. What is a statement? \n",
    "6. What is the difference between an expression and a statement?\n",
    "7. Give an example of a comment in Python \n",
    "8. Why is indentation important in Python?\n",
    "9. What is a keyword? \n",
    "10. What is a data structure? \n",
    "11. How does a data structure differ from a data type?\n",
    "12. What are the two different data types Python has?\n",
    "13. Can you name the different data types in Python ?\n",
    "14. Can you give an example of declaring a variable ?\n",
    "\n",
    "Now that we've run through some basic building blocks, this will help lay the foundations for the following sections. \n"
   ]
  },
  {
   "attachments": {},
   "cell_type": "markdown",
   "id": "5dc57ea1",
   "metadata": {},
   "source": [
    "## Part 2 Using and Storing Data:"
   ]
  },
  {
   "attachments": {},
   "cell_type": "markdown",
   "id": "00f71790",
   "metadata": {},
   "source": [
    "In this section, we will discuss the concept of a variable and data types. These two concepts form the basic concepts of programming. Variables give us the ability to store information in memory to be able to use and manipulate it. \n",
    "\n",
    "We will also cover data types in much greater detail so you feel comfortable with the common data types you will encounter in using Python for data science. \n"
   ]
  },
  {
   "attachments": {},
   "cell_type": "markdown",
   "id": "84a7b475",
   "metadata": {},
   "source": [
    "### Variables"
   ]
  },
  {
   "attachments": {},
   "cell_type": "markdown",
   "id": "a718f060",
   "metadata": {},
   "source": [
    "Think of variables as containers to hold information. Their purpose is to label and store data in memory so the program can use it. Labelling data allows the code to have meaning and the ability to understand the program clearly.\n",
    "\n",
    "A variable is a named area of a program's memory space where data can be stored. The data we store in a variable can change. \n",
    "\n",
    "Consider the following code snippet before running the cell. What do you think the output will be?"
   ]
  },
  {
   "cell_type": "code",
   "execution_count": null,
   "id": "b1bbdf7c",
   "metadata": {},
   "outputs": [],
   "source": [
    "answer = 41\n",
    "answer = 42\n",
    "print(answer)"
   ]
  },
  {
   "attachments": {},
   "cell_type": "markdown",
   "id": "10cba365",
   "metadata": {},
   "source": [
    "The output is 42. On line one, we declare a variable `answer` and assign it the value of `41`. We set aside a bit of memory to store the value `41` in that area. It also creates a variable named `answer` so that we can access that data.\n",
    "\n",
    "On line two, we **reassign** the value `42` to the variable named `answer`. Python makes `answer` refer to the new value. We are not changing the value of 41, we're assigning a new value to the answer variable.\n",
    "\n",
    "Finally, on line three, we are outputting the value. To determine the value that gets outputted, Python retrieves the value stored in the location used by the variable.\n"
   ]
  },
  {
   "attachments": {},
   "cell_type": "markdown",
   "id": "cfbc15bb",
   "metadata": {},
   "source": [
    "#### Naming Variables"
   ]
  },
  {
   "attachments": {},
   "cell_type": "markdown",
   "id": "79ac6ed6",
   "metadata": {},
   "source": [
    "Naming variables can become very difficult in large programs, which may sound odd at first glance. A variable name should be exact and concisely describe the data it contains. Using variables like `x` has no meaning when you need to look back at the code because it's easy to forget the meaning behind the variable.\n",
    "\n",
    "Python does have some restrictions on how we name variables. \n",
    "\n",
    "1. A variable must start with a letter or underscore character\n",
    "2. A variable can't start with a number\n",
    "3. A variable name can only contain the following characters A-Z,a-z,0-9 and _\n",
    "4. Variable names are case sensitive\n",
    "5. Variable can not be keywords\n",
    "\n",
    "Here are some examples of valid variable names\n"
   ]
  },
  {
   "attachments": {},
   "cell_type": "markdown",
   "id": "cfc1f56b",
   "metadata": {},
   "source": [
    "When creating a variable, always ask, is it descriptive? Is it accurate? Is it understandable?"
   ]
  },
  {
   "attachments": {},
   "cell_type": "markdown",
   "id": "128d71fa",
   "metadata": {},
   "source": [
    "#### Declaring and Assigning Variabes"
   ]
  },
  {
   "attachments": {},
   "cell_type": "markdown",
   "id": "8ddc5794",
   "metadata": {},
   "source": [
    "A variable declaration is a statement that asks Python to reserve space in memory for that variable with a name. We have seen an example of a variable declaration above.\n",
    "\n",
    "\n",
    "\n",
    "\n"
   ]
  },
  {
   "cell_type": "code",
   "execution_count": null,
   "id": "49690cb9",
   "metadata": {},
   "outputs": [],
   "source": [
    "firstName = 'Chris'"
   ]
  },
  {
   "attachments": {},
   "cell_type": "markdown",
   "id": "6a7d699a",
   "metadata": {},
   "source": [
    "The `=` is an **assignment operator** which tells Python to give a variable name a value.\n",
    "\n",
    "Consider the following snippet. What is the output? Try to answer before running the cell."
   ]
  },
  {
   "cell_type": "code",
   "execution_count": 1,
   "id": "511cb1e4",
   "metadata": {},
   "outputs": [
    {
     "name": "stdout",
     "output_type": "stream",
     "text": [
      "4\n"
     ]
    }
   ],
   "source": [
    "a = 4\n",
    "b = a \n",
    "print(b)\n",
    "a = 7"
   ]
  },
  {
   "attachments": {},
   "cell_type": "markdown",
   "id": "7e447025",
   "metadata": {},
   "source": [
    "You see that b retains the value `4` even though `a` is now 7. The link between `a` and `b` is not that strong. If you change a variable's value, it does not change the value of another with the same value.\n",
    "\n",
    "It is also possible to assign multiple values to multiple variables at once. Look at the code snippet below. What do you think the values of `x`,`y`, and `z` are? Try to answer before running the snippet."
   ]
  },
  {
   "cell_type": "code",
   "execution_count": 2,
   "id": "edd53cc4",
   "metadata": {},
   "outputs": [
    {
     "name": "stdout",
     "output_type": "stream",
     "text": [
      "3 4 5\n"
     ]
    }
   ],
   "source": [
    "x,y,z = 3,4,5\n",
    "print(x,y,z)"
   ]
  },
  {
   "attachments": {},
   "cell_type": "markdown",
   "id": "b5712e99",
   "metadata": {},
   "source": [
    "Here we are concisely assigning the values 3 to `x`, `4` to `y` and 5 to `z"
   ]
  },
  {
   "attachments": {},
   "cell_type": "markdown",
   "id": "df7413dc",
   "metadata": {},
   "source": [
    "#### Variable Scope"
   ]
  },
  {
   "attachments": {},
   "cell_type": "markdown",
   "id": "34d510b8",
   "metadata": {},
   "source": [
    "In programming, scope refers to the access of a variable name. Some variables are available everywhere in the code, whereas writing code in an if statement or inside a function may mean that a variable created is only accessible inside that code block.\n",
    "\n",
    "We call a variable available everywhere in the code as having **global scope**. Variables that are only available in certain blocks have **local scope**. If a variable is **in scope** we can access the variable everywhere. If you can't access the variable, it means the variable is **out of scope**\n",
    "\n",
    "Scope is an important concept because variables that have global scope can be modified anywhere in the code. Global scope makes it difficult in a large script to maintain the code if you make changes and to catch errors (called debugging). We have to keep all the code in mind when every variable is in the global scope. \n",
    "\n",
    "You can avoid this type of problem by having the ability to restrict the scope. Scope is defined where you have declared the variable.\n",
    "\n",
    "When Python looks at your code as a whole, it applies a set of rules to your variables to determine whether the variable has a global or local scope. We won't go into the exact details of this procedure here, Python does this in the background."
   ]
  },
  {
   "attachments": {},
   "cell_type": "markdown",
   "id": "20a0936f",
   "metadata": {},
   "source": [
    "### Data Types"
   ]
  },
  {
   "attachments": {},
   "cell_type": "markdown",
   "id": "087418fa",
   "metadata": {},
   "source": [
    "We covered a brief introduction to the concept of a data type above. Data types have type information attached, that is they have rules in which ways they can be manipulated which we will be exploring in this section together. \n",
    "\n",
    "In this section we will cover some additional concepts relating to data types as well as a deep dive into the data types most used in Python. "
   ]
  },
  {
   "attachments": {},
   "cell_type": "markdown",
   "id": "a235fc17",
   "metadata": {},
   "source": [
    "### Determining the type of data"
   ]
  },
  {
   "attachments": {},
   "cell_type": "markdown",
   "id": "41dcfc7c",
   "metadata": {},
   "source": [
    "To understand the different types in Python built-in method called `type()` method. Putting a value inside the parentheses will tell Python to evaluate and return type information on that value."
   ]
  },
  {
   "cell_type": "code",
   "execution_count": null,
   "id": "0f4d882c",
   "metadata": {},
   "outputs": [],
   "source": [
    "type(\"Hello World\")"
   ]
  },
  {
   "attachments": {},
   "cell_type": "markdown",
   "id": "2929c6ed",
   "metadata": {},
   "source": [
    "The output returns `<class 'str'>`. Think of the word class as a synonym for \"data type\" for now. A class refers to something more specific for later."
   ]
  },
  {
   "attachments": {},
   "cell_type": "markdown",
   "id": "8cbb1b66",
   "metadata": {},
   "source": [
    "#### Type Casting \n",
    "\n",
    "Python allows you to convert data from one to another, we call this **Type Casting**. You may have data that you need to be able to convert from one data type to another within your code. Python provides some built-in functions to do this, the common ones are `int()`, `str()` and `float()`. We will explore these in detail in some sections below."
   ]
  },
  {
   "attachments": {},
   "cell_type": "markdown",
   "id": "1589857d",
   "metadata": {},
   "source": [
    "#### Type Coercion \n",
    "\n",
    "Consider the following example, what will happen when you run the cell?"
   ]
  },
  {
   "cell_type": "code",
   "execution_count": null,
   "id": "0f5cfcfa",
   "metadata": {},
   "outputs": [],
   "source": [
    "name = 'Aaron'\n",
    "name + 2"
   ]
  },
  {
   "attachments": {},
   "cell_type": "markdown",
   "id": "66f4dbcb",
   "metadata": {},
   "source": [
    "Python raises an error because the string name doesn't know how to add to a number.\n",
    "\n",
    "Consider the following example of adding an integer to a float point number."
   ]
  },
  {
   "cell_type": "code",
   "execution_count": 3,
   "id": "c0f31850",
   "metadata": {},
   "outputs": [
    {
     "data": {
      "text/plain": [
       "7.5"
      ]
     },
     "execution_count": 3,
     "metadata": {},
     "output_type": "execute_result"
    }
   ],
   "source": [
    "x = 2\n",
    "y = 5.5\n",
    "x + y"
   ]
  },
  {
   "attachments": {},
   "cell_type": "markdown",
   "id": "b5ceef1d",
   "metadata": {},
   "source": [
    "Python was able to add these two numbers together. It would be fair to assume that Python automatically converts one into the other. However, Python asks the integer and float point to add themselves with built-in methods. To explain this another way, some data types in Python know how to operate with other data types when using specific operators like the addition operator `+`. \n",
    "\n",
    "The concept of automatically converting one type into another is named **type coercion** and is not supported by Python. However, you may come across this concept in other languages like JavaScript."
   ]
  },
  {
   "attachments": {},
   "cell_type": "markdown",
   "id": "ceed5f42",
   "metadata": {},
   "source": [
    "### Mutability"
   ]
  },
  {
   "attachments": {},
   "cell_type": "markdown",
   "id": "4f6bd16c",
   "metadata": {},
   "source": [
    "Before discussing data types in detail, it's important to understand which data types can change and which can't. When you use a data type, will Python be able to modify the data after creation? This is what mutability means.\n",
    "\n",
    "All data types we are about to discuss are objects. Think of an object as a container that holds information about its type, value and identity. \n",
    "\n",
    "We've covered the idea of a value and type elsewhere. Every object's value lives in a specific part of the computer's memory. We call the memory address (think of street address) its identity, which is unique to the object you create.\n",
    "\n",
    "We can use the built-in id() function to obtain an object identity. \n",
    "\n",
    "Lets consider the number `42`"
   ]
  },
  {
   "cell_type": "code",
   "execution_count": 4,
   "id": "e9e4721c",
   "metadata": {},
   "outputs": [
    {
     "data": {
      "text/plain": [
       "1328258483728"
      ]
     },
     "execution_count": 4,
     "metadata": {},
     "output_type": "execute_result"
    }
   ],
   "source": [
    "id(42)"
   ]
  },
  {
   "cell_type": "code",
   "execution_count": 5,
   "id": "e00eb458",
   "metadata": {},
   "outputs": [
    {
     "data": {
      "text/plain": [
       "1328258483152"
      ]
     },
     "execution_count": 5,
     "metadata": {},
     "output_type": "execute_result"
    }
   ],
   "source": [
    "id(24)"
   ]
  },
  {
   "attachments": {},
   "cell_type": "markdown",
   "id": "3d9a9130",
   "metadata": {},
   "source": [
    "You can see there's a unique identity for the number `42` and `24`\n",
    "\n",
    "An immutable object is an object that doesn't allow a change in its value. A mutable object can change its value without changing its identity.\n",
    "\n",
    "For example, an integer, no matter what you do in Python you can't change the number. It's possible to use operators and methods to return something new, but it's not possible to change the number itself this is stored in a piece of memory.\n",
    "\n",
    "We will see data types that can and can't be modified once created. When deciding on data types, this fact is crucial to know.\n"
   ]
  },
  {
   "attachments": {},
   "cell_type": "markdown",
   "id": "b6a4d661",
   "metadata": {},
   "source": [
    "### Integers and floating points"
   ]
  },
  {
   "attachments": {},
   "cell_type": "markdown",
   "id": "9db18572",
   "metadata": {},
   "source": [
    "One of the most basic data type in data science are numbers. Python has three number-related data types, called integers, floating-point numbers and complex numbers. We will discuss integers and floating points only in this section.\n",
    "\n",
    "An **integer** is a number with no decimal places. For example, 9 is an integer, but 9.0 is not. \n",
    "\n",
    "Run the cell below to see the output."
   ]
  },
  {
   "cell_type": "code",
   "execution_count": null,
   "id": "111ad639",
   "metadata": {},
   "outputs": [],
   "source": [
    "type(9)"
   ]
  },
  {
   "attachments": {},
   "cell_type": "markdown",
   "id": "375969df",
   "metadata": {},
   "source": [
    "A **floating-point number** is a number with a decimal place. `9.0` is a floating point number. \n",
    "\n",
    "Run the cell below to see the output.\n"
   ]
  },
  {
   "cell_type": "code",
   "execution_count": null,
   "id": "d5e10af3",
   "metadata": {},
   "outputs": [],
   "source": [
    "type(9.0)"
   ]
  },
  {
   "attachments": {},
   "cell_type": "markdown",
   "id": "b1a80c20",
   "metadata": {},
   "source": [
    "Sometimes the numbers we deal with are very large. You can use **E-notation** to express very large numbers more clearly.\n",
    "\n",
    "To write in e-notation, type a number followed by the letter e, then another number. \n",
    "\n",
    "We multiply the number on the left by 10 raised to the power of the number after the e. So 1e4 is the same as writing 1 x 10^4\n",
    "\n",
    "You can also use e notation directly in Python.\n",
    "\n",
    "Run the following cell below."
   ]
  },
  {
   "cell_type": "code",
   "execution_count": 1,
   "id": "1deb7f5d",
   "metadata": {},
   "outputs": [
    {
     "data": {
      "text/plain": [
       "10000.0"
      ]
     },
     "execution_count": 1,
     "metadata": {},
     "output_type": "execute_result"
    }
   ],
   "source": [
    "1e4"
   ]
  },
  {
   "attachments": {},
   "cell_type": "markdown",
   "id": "3edfc45d",
   "metadata": {},
   "source": [
    "The other difference between integers and floating points is that floating points have a maximum size. It depends on your system, however, `2e400` is well beyond most machines' capabilities.\n",
    "\n",
    "In the cell below, enter `2e400` and see what output you get."
   ]
  },
  {
   "cell_type": "code",
   "execution_count": 7,
   "id": "30ecc170",
   "metadata": {},
   "outputs": [
    {
     "data": {
      "text/plain": [
       "inf"
      ]
     },
     "execution_count": 7,
     "metadata": {},
     "output_type": "execute_result"
    }
   ],
   "source": [
    "2e400"
   ]
  },
  {
   "attachments": {},
   "cell_type": "markdown",
   "id": "6e95fbd3",
   "metadata": {},
   "source": [
    "What gets returned is a value `inf`, which stands for infinity. This means you've created a number beyond the maximum float point value. It's unlikely you'll come across this much but useful to know there is a limit."
   ]
  },
  {
   "attachments": {},
   "cell_type": "markdown",
   "id": "dc5a2580",
   "metadata": {},
   "source": [
    "### Converting between integers and floats"
   ]
  },
  {
   "attachments": {},
   "cell_type": "markdown",
   "id": "93746401",
   "metadata": {},
   "source": [
    "Python has a set of built-in functions that make it easy to convert from one data type to another. We will talk about `int()` and `float()` here\n",
    "\n",
    "We can pass a value between the parentheses and Python will convert it from integer to float and vice versa.\n",
    "\n",
    "Let's see an example."
   ]
  },
  {
   "cell_type": "code",
   "execution_count": 8,
   "id": "1f547b9e",
   "metadata": {},
   "outputs": [
    {
     "data": {
      "text/plain": [
       "15.0"
      ]
     },
     "execution_count": 8,
     "metadata": {},
     "output_type": "execute_result"
    }
   ],
   "source": [
    "number_of_students = 15\n",
    "float(number_of_students)"
   ]
  },
  {
   "attachments": {},
   "cell_type": "markdown",
   "id": "f66a4923",
   "metadata": {},
   "source": [
    "In the code snippet above, we've declared a variable `number_of_students` and assigned the integer `15` to that variable. In line two we have passed the variable as an argument into the float method. The output is `15.0`\n",
    "\n",
    "Lets see an example of converting from float to int.\n"
   ]
  },
  {
   "cell_type": "code",
   "execution_count": 9,
   "id": "46c43916",
   "metadata": {},
   "outputs": [
    {
     "data": {
      "text/plain": [
       "8"
      ]
     },
     "execution_count": 9,
     "metadata": {},
     "output_type": "execute_result"
    }
   ],
   "source": [
    "number_of_sessions = 8.5\n",
    "int(number_of_sessions)"
   ]
  },
  {
   "attachments": {},
   "cell_type": "markdown",
   "id": "626881b4",
   "metadata": {},
   "source": [
    "Here we pass a value `8.5` into the `int` method. The return value is `8`. Note that Python has rounded down to 8 and not up to 9 here.\n",
    "\n",
    "There are different operations you can modify numbers in Python, we will cover this in detail later, but for now, it's enough to be aware of the different number-related data types.\n",
    "\n",
    "In the next section, we'll be covering strings."
   ]
  },
  {
   "attachments": {},
   "cell_type": "markdown",
   "id": "22b2f388",
   "metadata": {},
   "source": [
    "#### Strings"
   ]
  },
  {
   "attachments": {},
   "cell_type": "markdown",
   "id": "f668c540",
   "metadata": {},
   "source": [
    "A string is a list of characters in a specific sequence. In programming, we need to work with text data like names, messages, or descriptions. Python uses strings to represent such data. \n",
    "\n",
    "To create a string, use either single or double quotes on either side of the text, Python does not distinguish."
   ]
  },
  {
   "cell_type": "code",
   "execution_count": null,
   "id": "e32d1877",
   "metadata": {},
   "outputs": [],
   "source": [
    "\"Hello World\""
   ]
  },
  {
   "attachments": {},
   "cell_type": "markdown",
   "id": "18eaa72f",
   "metadata": {},
   "source": [
    "The quotes around a string are called **delimiters**, they tell Python when a string begins and ends.\n",
    "\n",
    "Run the cell below."
   ]
  },
  {
   "cell_type": "code",
   "execution_count": 12,
   "id": "8202bd50",
   "metadata": {},
   "outputs": [
    {
     "data": {
      "text/plain": [
       "\"I said 'Python is cool'\""
      ]
     },
     "execution_count": 12,
     "metadata": {},
     "output_type": "execute_result"
    }
   ],
   "source": [
    "\"I said 'Python is cool'\" "
   ]
  },
  {
   "attachments": {},
   "cell_type": "markdown",
   "id": "01601780",
   "metadata": {},
   "source": [
    "Notice how you can still use single quotes inside a string. When Python sees a delimiter it interprets the characters after as a string\n",
    "\n",
    "Run the below cell."
   ]
  },
  {
   "cell_type": "code",
   "execution_count": 11,
   "id": "beb4884a",
   "metadata": {},
   "outputs": [
    {
     "ename": "SyntaxError",
     "evalue": "invalid syntax (3628337946.py, line 1)",
     "output_type": "error",
     "traceback": [
      "\u001b[1;36m  Cell \u001b[1;32mIn[11], line 1\u001b[1;36m\u001b[0m\n\u001b[1;33m    \"I said \"Python is not cool\"\"\u001b[0m\n\u001b[1;37m             ^\u001b[0m\n\u001b[1;31mSyntaxError\u001b[0m\u001b[1;31m:\u001b[0m invalid syntax\n"
     ]
    }
   ],
   "source": [
    "\"I said \"Python is not cool\"\""
   ]
  },
  {
   "attachments": {},
   "cell_type": "markdown",
   "id": "de0de786",
   "metadata": {},
   "source": [
    "Python throws an error called a `SyntaxError` because it thinks the string ends at the second \" and doesn't know what to do with the rest.\n",
    "\n",
    "It's a good idea to be consistent whether you use single or double quotes to create strings."
   ]
  },
  {
   "attachments": {},
   "cell_type": "markdown",
   "id": "9962239c",
   "metadata": {},
   "source": [
    "#### Determine the length of a string"
   ]
  },
  {
   "attachments": {},
   "cell_type": "markdown",
   "id": "66e61751",
   "metadata": {},
   "source": [
    "The number of characters of a string with spaces included is called the **length** of a string. \n",
    "\n",
    "For example, the string `\"Python\"` has a length of 6. \n",
    "\n",
    "To determine the length of a string we use a built-in function `len()` \n",
    "\n",
    "Run the cell below."
   ]
  },
  {
   "cell_type": "code",
   "execution_count": null,
   "id": "60e95602",
   "metadata": {},
   "outputs": [],
   "source": [
    "len(\"Python\")"
   ]
  },
  {
   "attachments": {},
   "cell_type": "markdown",
   "id": "6ae14bb6",
   "metadata": {},
   "source": [
    "Now try to find the length of the string \"Data Science\" in the cell be"
   ]
  },
  {
   "cell_type": "code",
   "execution_count": null,
   "id": "7fb78f88",
   "metadata": {},
   "outputs": [],
   "source": []
  },
  {
   "attachments": {},
   "cell_type": "markdown",
   "id": "32918480",
   "metadata": {},
   "source": [
    "Its possible to also determine the length of a string that has been assigned to a variable name "
   ]
  },
  {
   "cell_type": "code",
   "execution_count": 13,
   "id": "38698491",
   "metadata": {},
   "outputs": [
    {
     "data": {
      "text/plain": [
       "12"
      ]
     },
     "execution_count": 13,
     "metadata": {},
     "output_type": "execute_result"
    }
   ],
   "source": [
    "course = \"Data Science\"\n",
    "len(course)"
   ]
  },
  {
   "attachments": {},
   "cell_type": "markdown",
   "id": "05d14e42",
   "metadata": {},
   "source": [
    "First, we assign the variable `courses` to the string `Data Science` and pass that string as an argument to the len function. What will be returned?\n",
    "\n",
    "Now create a variable `new_course` and give it the value \"Machine learning\" and determine the length of that string."
   ]
  },
  {
   "cell_type": "code",
   "execution_count": null,
   "id": "7d3ca69b",
   "metadata": {},
   "outputs": [],
   "source": []
  },
  {
   "attachments": {},
   "cell_type": "markdown",
   "id": "701064c7",
   "metadata": {},
   "source": [
    "### Converting between strings and numbers"
   ]
  },
  {
   "attachments": {},
   "cell_type": "markdown",
   "id": "33c53498",
   "metadata": {},
   "source": [
    "We explored in the last section methods to convert integers to floats and vice versa. Python also has a built-in method called `str()` that converts many data types to a string."
   ]
  },
  {
   "cell_type": "code",
   "execution_count": 15,
   "id": "83f05479",
   "metadata": {},
   "outputs": [
    {
     "data": {
      "text/plain": [
       "'3.0'"
      ]
     },
     "execution_count": 15,
     "metadata": {},
     "output_type": "execute_result"
    }
   ],
   "source": [
    "str(3.0)"
   ]
  },
  {
   "cell_type": "code",
   "execution_count": 16,
   "id": "34f4dca2",
   "metadata": {},
   "outputs": [
    {
     "data": {
      "text/plain": [
       "'2'"
      ]
     },
     "execution_count": 16,
     "metadata": {},
     "output_type": "execute_result"
    }
   ],
   "source": [
    "str(2)"
   ]
  },
  {
   "attachments": {},
   "cell_type": "markdown",
   "id": "d5cbfb4d",
   "metadata": {},
   "source": [
    "Now convert the number 1000 into a string"
   ]
  },
  {
   "cell_type": "code",
   "execution_count": null,
   "id": "5b8f4e38",
   "metadata": {},
   "outputs": [],
   "source": []
  },
  {
   "attachments": {},
   "cell_type": "markdown",
   "id": "e57bdae3",
   "metadata": {},
   "source": [
    "#### Concatenation"
   ]
  },
  {
   "attachments": {},
   "cell_type": "markdown",
   "id": "d1631e0c",
   "metadata": {},
   "source": [
    "**Concatenation** is a term used describe joining two strings together using the `+` operator\n",
    "\n",
    "What is the output before running the code? \n",
    "\n",
    "Now run the code snippet below to see the output. "
   ]
  },
  {
   "cell_type": "code",
   "execution_count": 17,
   "id": "6b9a7c7d",
   "metadata": {},
   "outputs": [
    {
     "data": {
      "text/plain": [
       "'DataScience'"
      ]
     },
     "execution_count": 17,
     "metadata": {},
     "output_type": "execute_result"
    }
   ],
   "source": [
    "string1 = \"Data\"\n",
    "string2 = \"Science\"\n",
    "course = string1 + string2\n",
    "course"
   ]
  },
  {
   "attachments": {},
   "cell_type": "markdown",
   "id": "8e9ec5c5",
   "metadata": {},
   "source": [
    "You might have seen no space between the two words in the return value. Spaces are also characters in Python.\n",
    "\n",
    "Run the cell below to see the output."
   ]
  },
  {
   "cell_type": "code",
   "execution_count": 18,
   "id": "6cfb00ed",
   "metadata": {},
   "outputs": [
    {
     "data": {
      "text/plain": [
       "'Joe Bloggs'"
      ]
     },
     "execution_count": 18,
     "metadata": {},
     "output_type": "execute_result"
    }
   ],
   "source": [
    "first_name = \"Joe\"\n",
    "last_name = \"Bloggs\"\n",
    "full_name = first_name + \" \" + last_name\n",
    "full_name"
   ]
  },
  {
   "attachments": {},
   "cell_type": "markdown",
   "id": "bd5c8d0d",
   "metadata": {},
   "source": [
    "In this example, we are concatenating three strings together. \n",
    "\n",
    "In the cell below, create a variable that is a string of your name, but also gives you the ability to change the first name and last name easily."
   ]
  },
  {
   "cell_type": "code",
   "execution_count": null,
   "id": "88d44daf",
   "metadata": {},
   "outputs": [],
   "source": []
  },
  {
   "attachments": {},
   "cell_type": "markdown",
   "id": "6b06d983",
   "metadata": {},
   "source": [
    "#### Indexing"
   ]
  },
  {
   "attachments": {},
   "cell_type": "markdown",
   "id": "09ed9626",
   "metadata": {},
   "source": [
    "In a string literal, each character has a numbered position we call an **index**. We can access the position of a string by putting a number between two square brackets immediately after the string\n",
    "\n",
    "Look at the code snippet below. Can you guess what the output will be?"
   ]
  },
  {
   "cell_type": "code",
   "execution_count": 19,
   "id": "33af21c8",
   "metadata": {},
   "outputs": [
    {
     "data": {
      "text/plain": [
       "'a'"
      ]
     },
     "execution_count": 19,
     "metadata": {},
     "output_type": "execute_result"
    }
   ],
   "source": [
    "course = \"Data Science\"\n",
    "course[1]"
   ]
  },
  {
   "attachments": {},
   "cell_type": "markdown",
   "id": "f0c4110f",
   "metadata": {},
   "source": [
    "It might make sense for the index `1` to be the first letter in the string, but counting always starts from zero in Python."
   ]
  },
  {
   "attachments": {},
   "cell_type": "markdown",
   "id": "dc93e6f2",
   "metadata": {},
   "source": [
    "In the next cell, try to access the first letter of the string \"Data Science\""
   ]
  },
  {
   "cell_type": "code",
   "execution_count": null,
   "id": "1046df82",
   "metadata": {},
   "outputs": [],
   "source": []
  },
  {
   "attachments": {},
   "cell_type": "markdown",
   "id": "d3abbd48",
   "metadata": {},
   "source": [
    "What happens if we try to access an index beyond the end of a string? "
   ]
  },
  {
   "cell_type": "code",
   "execution_count": 20,
   "id": "65f6de07",
   "metadata": {},
   "outputs": [
    {
     "ename": "IndexError",
     "evalue": "string index out of range",
     "output_type": "error",
     "traceback": [
      "\u001b[1;31m---------------------------------------------------------------------------\u001b[0m",
      "\u001b[1;31mIndexError\u001b[0m                                Traceback (most recent call last)",
      "Cell \u001b[1;32mIn[20], line 2\u001b[0m\n\u001b[0;32m      1\u001b[0m courses \u001b[39m=\u001b[39m \u001b[39m\"\u001b[39m\u001b[39mData Science\u001b[39m\u001b[39m\"\u001b[39m\n\u001b[1;32m----> 2\u001b[0m courses[\u001b[39m14\u001b[39;49m]\n",
      "\u001b[1;31mIndexError\u001b[0m: string index out of range"
     ]
    }
   ],
   "source": [
    "courses = \"Data Science\"\n",
    "courses[14]"
   ]
  },
  {
   "attachments": {},
   "cell_type": "markdown",
   "id": "7c6cab70",
   "metadata": {},
   "source": [
    "Python will through an error called `IndexError`. The largest index a string can have is one less than the length of the string. So if the string is \"Data\" the last index will be 3.\n",
    "\n",
    "Strings also can have negative indexes\n",
    "\n",
    "Try to run the cell below and guess what the output will be."
   ]
  },
  {
   "cell_type": "code",
   "execution_count": 21,
   "id": "0942333d",
   "metadata": {},
   "outputs": [
    {
     "data": {
      "text/plain": [
       "'e'"
      ]
     },
     "execution_count": 21,
     "metadata": {},
     "output_type": "execute_result"
    }
   ],
   "source": [
    "courses = \"Data Science\"\n",
    "courses[-1]\n"
   ]
  },
  {
   "attachments": {},
   "cell_type": "markdown",
   "id": "c0f4c128",
   "metadata": {},
   "source": [
    "In programming, sometimes you want to access the last character of a string, it's quicker to use -1 instead of having to think about how many characters the word has.\n",
    "\n",
    "Can you figure out another way to find the final index number of a string?"
   ]
  },
  {
   "cell_type": "code",
   "execution_count": null,
   "id": "9ba0179a",
   "metadata": {},
   "outputs": [],
   "source": []
  },
  {
   "attachments": {},
   "cell_type": "markdown",
   "id": "76cccc9d",
   "metadata": {},
   "source": [
    "#### Slicing"
   ]
  },
  {
   "attachments": {},
   "cell_type": "markdown",
   "id": "f658daed",
   "metadata": {},
   "source": [
    "Sometimes when dealing with strings, you want to be able to capture only a few characters. We could use indexes for each character to do this, but Python provides another way called slicing with much less typing. \n",
    "\n",
    "A portion of a string is called a **substring**. To obtain a substring, we insert a colon between two index numbers inside the square bracket.\n",
    "\n",
    "Before running the cell below, try to use your knowledge to figure out what it might output."
   ]
  },
  {
   "cell_type": "code",
   "execution_count": null,
   "id": "b04d5a9c",
   "metadata": {},
   "outputs": [],
   "source": [
    "courses = \"Data Science\"\n",
    "courses[0:4]"
   ]
  },
  {
   "attachments": {},
   "cell_type": "markdown",
   "id": "a417bb19",
   "metadata": {},
   "source": [
    "In the code snippet above, we want to access the characters from index 0 up to but not including index 4. In this case, it returns the substring `Data`\n",
    "\n",
    "Another way to slice from the beginning of a string is to omit the first index."
   ]
  },
  {
   "cell_type": "code",
   "execution_count": 23,
   "id": "362ac539",
   "metadata": {},
   "outputs": [
    {
     "data": {
      "text/plain": [
       "'Data'"
      ]
     },
     "execution_count": 23,
     "metadata": {},
     "output_type": "execute_result"
    }
   ],
   "source": [
    "courses = \"Data Science\"\n",
    "courses[:4]"
   ]
  },
  {
   "attachments": {},
   "cell_type": "markdown",
   "id": "0504baa5",
   "metadata": {},
   "source": [
    "It's also possible to omit the second index in the slice too."
   ]
  },
  {
   "cell_type": "code",
   "execution_count": 22,
   "id": "30a8e848",
   "metadata": {},
   "outputs": [
    {
     "data": {
      "text/plain": [
       "'Science'"
      ]
     },
     "execution_count": 22,
     "metadata": {},
     "output_type": "execute_result"
    }
   ],
   "source": [
    "courses = \"Data Science\"\n",
    "courses[5:]"
   ]
  },
  {
   "attachments": {},
   "cell_type": "markdown",
   "id": "fec47127",
   "metadata": {},
   "source": [
    "What would happen if you omit both indexes in the slice? Run the code snippet below."
   ]
  },
  {
   "cell_type": "code",
   "execution_count": 2,
   "id": "fa9f5d13",
   "metadata": {},
   "outputs": [
    {
     "data": {
      "text/plain": [
       "'Data Science'"
      ]
     },
     "execution_count": 2,
     "metadata": {},
     "output_type": "execute_result"
    }
   ],
   "source": [
    "courses = \"Data Science\"\n",
    "courses[:]"
   ]
  },
  {
   "attachments": {},
   "cell_type": "markdown",
   "id": "0fe93d97",
   "metadata": {},
   "source": [
    "You can see here the whole string was returned. \n",
    "\n",
    "If you try to access an index beyond the string length in a slice Python will not raise an `IndexError` but instead return an empty string."
   ]
  },
  {
   "cell_type": "code",
   "execution_count": 24,
   "id": "a2751f68",
   "metadata": {},
   "outputs": [
    {
     "data": {
      "text/plain": [
       "''"
      ]
     },
     "execution_count": 24,
     "metadata": {},
     "output_type": "execute_result"
    }
   ],
   "source": [
    "courses = \"Data Science\"\n",
    "courses[13:15]"
   ]
  },
  {
   "attachments": {},
   "cell_type": "markdown",
   "id": "c60a9581",
   "metadata": {},
   "source": [
    "\n",
    "Similarly if you go beyond the string length in a slice it will return up to the number of characters in a string."
   ]
  },
  {
   "cell_type": "code",
   "execution_count": 25,
   "id": "9f7a7945",
   "metadata": {},
   "outputs": [
    {
     "data": {
      "text/plain": [
       "' Science'"
      ]
     },
     "execution_count": 25,
     "metadata": {},
     "output_type": "execute_result"
    }
   ],
   "source": [
    "courses = \"Data Science\"\n",
    "courses[4:15]"
   ]
  },
  {
   "attachments": {},
   "cell_type": "markdown",
   "id": "3f254aac",
   "metadata": {},
   "source": [
    "It's also possible to use negative indexes when it comes to string slices they work the same way as positive ones."
   ]
  },
  {
   "attachments": {},
   "cell_type": "markdown",
   "id": "76185ec1",
   "metadata": {},
   "source": [
    "#### Strings are immutable"
   ]
  },
  {
   "attachments": {},
   "cell_type": "markdown",
   "id": "5b8831d4",
   "metadata": {},
   "source": [
    "We discussed the concept of mutability in a previous section but we should explicitly point out that strings are immutable. Once you create a string you can't change it. \n",
    "\n",
    "Try creating a string and assigning it to a variable. Then try to change a letter in a string in the cell below."
   ]
  },
  {
   "cell_type": "code",
   "execution_count": null,
   "id": "63cf017d",
   "metadata": {},
   "outputs": [],
   "source": []
  },
  {
   "attachments": {},
   "cell_type": "markdown",
   "id": "82d552d8",
   "metadata": {},
   "source": [
    "Notice how it throws an error called a `TypeError` which means that strings do not support modification.\n",
    "\n",
    "To change a string you must create a new one. For example say we want to change the string `Science` to `Data Sciences`  we can use slicing and concatenation to do that."
   ]
  },
  {
   "cell_type": "code",
   "execution_count": 27,
   "id": "c8de4c65",
   "metadata": {},
   "outputs": [
    {
     "data": {
      "text/plain": [
       "'Sciences'"
      ]
     },
     "execution_count": 27,
     "metadata": {},
     "output_type": "execute_result"
    }
   ],
   "source": [
    "word = 'Science'\n",
    "word = word[:] + 's'\n",
    "word"
   ]
  },
  {
   "attachments": {},
   "cell_type": "markdown",
   "id": "d6342746",
   "metadata": {},
   "source": [
    "Another way we can manipulate strings is by using string methods that Python has built-in into the language. A method is a special function that we can use on data types. Don't worry about the term function or method, we'll cover this in detail later."
   ]
  },
  {
   "attachments": {},
   "cell_type": "markdown",
   "id": "6dcdfcd1",
   "metadata": {},
   "source": [
    "### String interpolation"
   ]
  },
  {
   "attachments": {},
   "cell_type": "markdown",
   "id": "fbb3b7cb",
   "metadata": {},
   "source": [
    "Sometimes you have some placeholder text in your string that you want be able to change the string depending on other data. We can insert variables into a specific location in a string so we can vary what the eventual string looks like. This is called **string interpolation**. \n",
    "\n",
    "There are a few ways you could do this.\n",
    "\n",
    "1.  Use a print function with variables and strings\n",
    "2.  Use string concatenation and the print function\n",
    "3.  Use f-strings (stands for formatted string)\n"
   ]
  },
  {
   "attachments": {},
   "cell_type": "markdown",
   "id": "bf9056e1",
   "metadata": {},
   "source": [
    "We will discuss using f-strings as its a much clearer way to provide this dynamic way of creating strings.\n",
    "\n",
    "Run the cell below to see the output."
   ]
  },
  {
   "cell_type": "code",
   "execution_count": 3,
   "id": "d828dc20",
   "metadata": {},
   "outputs": [
    {
     "data": {
      "text/plain": [
       "'Joe Bloggs has been learning Data Science for 1 weeks'"
      ]
     },
     "execution_count": 3,
     "metadata": {},
     "output_type": "execute_result"
    }
   ],
   "source": [
    "name = \"Joe Bloggs\"\n",
    "course = \"Data Science\"\n",
    "time = 1\n",
    "f\"{name} has been learning {course} for {time} weeks\""
   ]
  },
  {
   "attachments": {},
   "cell_type": "markdown",
   "id": "2c373f6f",
   "metadata": {},
   "source": [
    "\n",
    "Notice how we start the string with an f and the variable we want to embed starts with curly braces. The variable `time` is assigned the number 1. We did not have to convert the number to a string.\n",
    "\n",
    "It's also possible to provide expressions in between the curly braces. Run the cell below to see what the output would be."
   ]
  },
  {
   "cell_type": "code",
   "execution_count": 30,
   "id": "8ae4b7f3",
   "metadata": {},
   "outputs": [
    {
     "data": {
      "text/plain": [
       "'Joe Bloggs is learning Data Science for 3 weeks'"
      ]
     },
     "execution_count": 30,
     "metadata": {},
     "output_type": "execute_result"
    }
   ],
   "source": [
    "name = \"Joe Bloggs\"\n",
    "course = \"Data Science\"\n",
    "time = 1\n",
    "f\"{name} is learning {course} for {time + 2} weeks\""
   ]
  },
  {
   "attachments": {},
   "cell_type": "markdown",
   "id": "97c3d873",
   "metadata": {},
   "source": [
    "You can see the expression `time + 2` is automatically evaluated."
   ]
  },
  {
   "attachments": {},
   "cell_type": "markdown",
   "id": "c4dc34a7",
   "metadata": {},
   "source": [
    "### Booleans"
   ]
  },
  {
   "attachments": {},
   "cell_type": "markdown",
   "id": "c27e26cf",
   "metadata": {},
   "source": [
    "Booleans are a way to represent `True` and `False` values. In programming, you often need to know if something is true or false. True and false values provide logic that allows different code to be run (we call this conditional logic). "
   ]
  },
  {
   "cell_type": "code",
   "execution_count": null,
   "id": "23a4c442",
   "metadata": {},
   "outputs": [],
   "source": [
    "True\n"
   ]
  },
  {
   "cell_type": "code",
   "execution_count": null,
   "id": "edc1368f",
   "metadata": {},
   "outputs": [],
   "source": [
    "False"
   ]
  },
  {
   "attachments": {},
   "cell_type": "markdown",
   "id": "e14f9d88",
   "metadata": {},
   "source": [
    "Below, create a variable and assign the value True to it."
   ]
  },
  {
   "cell_type": "code",
   "execution_count": null,
   "id": "7e5fce0b",
   "metadata": {},
   "outputs": [],
   "source": []
  },
  {
   "attachments": {},
   "cell_type": "markdown",
   "id": "994c3f1f",
   "metadata": {},
   "source": [
    "We will cover much more about booleans when we cover operators. For now knowing there are values True and False in Python is enough."
   ]
  },
  {
   "attachments": {},
   "cell_type": "markdown",
   "id": "f70b5822",
   "metadata": {},
   "source": [
    "### Lists"
   ]
  },
  {
   "attachments": {},
   "cell_type": "markdown",
   "id": "bf23496d",
   "metadata": {},
   "source": [
    "A list is a collection of zero or more values that have a specific order. A list is defined by having values between square brackets `[]`. Each value inside a list is called a **list item** or **list element**\n",
    "\n",
    "Lists allow any data types to be stored. If you need a specific order to access data a list is also the right choice.\n",
    "\n",
    "Example \n",
    "\n",
    "Let's create a list"
   ]
  },
  {
   "cell_type": "code",
   "execution_count": 31,
   "id": "ff0ffca3",
   "metadata": {},
   "outputs": [
    {
     "data": {
      "text/plain": [
       "list"
      ]
     },
     "execution_count": 31,
     "metadata": {},
     "output_type": "execute_result"
    }
   ],
   "source": [
    "colors = ['red','yellow','green','blue']\n",
    "type(colors)"
   ]
  },
  {
   "attachments": {},
   "cell_type": "markdown",
   "id": "66862f90",
   "metadata": {},
   "source": [
    "List items can be of any data type in Python and like strings, indexing and slicing work with lists the same way."
   ]
  },
  {
   "cell_type": "code",
   "execution_count": 4,
   "id": "568a621f",
   "metadata": {},
   "outputs": [
    {
     "data": {
      "text/plain": [
       "2"
      ]
     },
     "execution_count": 4,
     "metadata": {},
     "output_type": "execute_result"
    }
   ],
   "source": [
    "numbers = [1,2,3,4]\n",
    "numbers[1]"
   ]
  },
  {
   "attachments": {},
   "cell_type": "markdown",
   "id": "3c558f26",
   "metadata": {},
   "source": [
    "We can access any list item using index notation.\n",
    "\n",
    "In the cell below try to access the last element in the list."
   ]
  },
  {
   "cell_type": "code",
   "execution_count": null,
   "id": "9d75fcda",
   "metadata": {},
   "outputs": [],
   "source": [
    "numbers = [1,2,3,4,5,6,7,8]"
   ]
  },
  {
   "attachments": {},
   "cell_type": "markdown",
   "id": "d228ed8f",
   "metadata": {},
   "source": [
    "Slicing also works the same as for strings. \n",
    "\n",
    "In the cell below, create a list of the first 3 list elements of `numbers`"
   ]
  },
  {
   "cell_type": "code",
   "execution_count": null,
   "id": "074376d1",
   "metadata": {},
   "outputs": [],
   "source": [
    "numbers = [1,2,3,4,5,6,7,8]"
   ]
  },
  {
   "attachments": {},
   "cell_type": "markdown",
   "id": "7ed82e5f",
   "metadata": {},
   "source": [
    "A list is a mutable data type, you can change the list items by assigning new values using index notation."
   ]
  },
  {
   "cell_type": "code",
   "execution_count": 33,
   "id": "241c2310",
   "metadata": {},
   "outputs": [
    {
     "data": {
      "text/plain": [
       "['brown', 'yellow', 'green', 'blue']"
      ]
     },
     "execution_count": 33,
     "metadata": {},
     "output_type": "execute_result"
    }
   ],
   "source": [
    "colors = ['red','yellow','green','blue']\n",
    "colors[0] = 'brown'\n",
    "colors"
   ]
  },
  {
   "attachments": {},
   "cell_type": "markdown",
   "id": "951816bf",
   "metadata": {},
   "source": [
    "In the cell below, change the list element `green` to `purple`."
   ]
  },
  {
   "cell_type": "code",
   "execution_count": null,
   "id": "53399d15",
   "metadata": {},
   "outputs": [],
   "source": [
    "colors = ['red','yellow','green','blue']"
   ]
  },
  {
   "attachments": {},
   "cell_type": "markdown",
   "id": "b829e317",
   "metadata": {},
   "source": [
    "You can also assign several values with a **slice assignment**."
   ]
  },
  {
   "cell_type": "code",
   "execution_count": 34,
   "id": "61b1030f",
   "metadata": {},
   "outputs": [
    {
     "data": {
      "text/plain": [
       "['red', 'orange', 'magenta', 'blue']"
      ]
     },
     "execution_count": 34,
     "metadata": {},
     "output_type": "execute_result"
    }
   ],
   "source": [
    "colors = ['red','yellow','green','blue']\n",
    "colors[1:3] = ['orange','magenta']\n",
    "colors"
   ]
  },
  {
   "attachments": {},
   "cell_type": "markdown",
   "id": "ad39a561",
   "metadata": {},
   "source": [
    "In the cell below, change the last two list elements to `black` and `white`"
   ]
  },
  {
   "cell_type": "code",
   "execution_count": null,
   "id": "6bb8ddd9",
   "metadata": {},
   "outputs": [],
   "source": []
  },
  {
   "attachments": {},
   "cell_type": "markdown",
   "id": "226c1ec1",
   "metadata": {},
   "source": [
    "Now we've covered the basics of lists we will explore the dictionaries data type."
   ]
  },
  {
   "attachments": {},
   "cell_type": "markdown",
   "id": "4caf2f85",
   "metadata": {},
   "source": [
    "### Dictionaries"
   ]
  },
  {
   "attachments": {},
   "cell_type": "markdown",
   "id": "623a279e",
   "metadata": {},
   "source": [
    "Dictionaries store a collection of relationships between names and values. Unlike lists, these do not have order. They hold information in pairs of data called **key** and **values**. \n",
    "\n",
    "A **key** is a unique name that identifies the value part of the pair. Compare this to a dictionary, the key is the word you look up and the value is the definition of a word.\n",
    "\n",
    "Each key in this section has been a string, but in Python, there is no rule that says you can't have multiple data types as keys. \n",
    "\n",
    "The only restriction to the data type of a key is that it has to be immutable. Consider if the key was mutable what would be the impact? If we could change the keys the relationship between the key and value pair would be lost within the code.   Whereas a dictionary value can be any valid Python data type.\n"
   ]
  },
  {
   "cell_type": "code",
   "execution_count": 35,
   "id": "980cf660",
   "metadata": {},
   "outputs": [
    {
     "data": {
      "text/plain": [
       "{'Scotland': 'Edinburgh', 'England': 'London', 'France': 'Paris'}"
      ]
     },
     "execution_count": 35,
     "metadata": {},
     "output_type": "execute_result"
    }
   ],
   "source": [
    "\n",
    "capitals = {\n",
    "\t\"Scotland\": \"Edinburgh\",\n",
    "\t\"England\": \"London\",\n",
    "\t\"France\": \"Paris\"\n",
    "}\n",
    "capitals"
   ]
  },
  {
   "attachments": {},
   "cell_type": "markdown",
   "id": "0ec8745d",
   "metadata": {},
   "source": [
    "In the cell below, create an dictionary of 3 systems of the body with a value of a disease in that system. For example a key value pair could be `\"cardiac\": \"Myocardial Infarction\"` Assign the dictionary to the name `diseases`. Display the contents of the variable."
   ]
  },
  {
   "cell_type": "code",
   "execution_count": null,
   "id": "d0a190bf",
   "metadata": {},
   "outputs": [],
   "source": []
  },
  {
   "attachments": {},
   "cell_type": "markdown",
   "id": "7c1909c1",
   "metadata": {},
   "source": [
    "### Accessing a dictionary value"
   ]
  },
  {
   "attachments": {},
   "cell_type": "markdown",
   "id": "7fa71398",
   "metadata": {},
   "source": [
    "To access a dictionary value, we enclose the key inside square brackets at the end of the variable name."
   ]
  },
  {
   "cell_type": "code",
   "execution_count": 36,
   "id": "7170c741",
   "metadata": {},
   "outputs": [
    {
     "data": {
      "text/plain": [
       "'Edinburgh'"
      ]
     },
     "execution_count": 36,
     "metadata": {},
     "output_type": "execute_result"
    }
   ],
   "source": [
    "capitals = {\n",
    "\t\"Scotland\": \"Edinburgh\",\n",
    "\t\"England\": \"London\",\n",
    "\t\"France\": \"Paris\"\n",
    "}\n",
    "\n",
    "capitals['Scotland']"
   ]
  },
  {
   "attachments": {},
   "cell_type": "markdown",
   "id": "d2a3e246",
   "metadata": {},
   "source": [
    "Accessing items in a list are by indexes, an integer that expresses the order of the items. Dictionary items are accessed by a key which has no defined order and is a label that references the value."
   ]
  },
  {
   "attachments": {},
   "cell_type": "markdown",
   "id": "66e0db20",
   "metadata": {},
   "source": [
    "In the code snippet below, access the capital of france."
   ]
  },
  {
   "cell_type": "code",
   "execution_count": null,
   "id": "1ce1e45b",
   "metadata": {},
   "outputs": [],
   "source": [
    "capitals = {\n",
    "\t\"Scotland\": \"Edinburgh\",\n",
    "\t\"England\": \"London\",\n",
    "\t\"France\": \"Paris\"\n",
    "}"
   ]
  },
  {
   "attachments": {},
   "cell_type": "markdown",
   "id": "64e29185",
   "metadata": {},
   "source": [
    "### Adding and removing values"
   ]
  },
  {
   "attachments": {},
   "cell_type": "markdown",
   "id": "2758d6e5",
   "metadata": {},
   "source": [
    "Dictionaries like lists are mutable data types, you can add and remove from a dictionary easily.\n",
    "\n",
    "Use the square bracket notation to add the key and use the assignment operator to assign the value you wish for that key to have."
   ]
  },
  {
   "cell_type": "code",
   "execution_count": 38,
   "id": "b21cb21b",
   "metadata": {},
   "outputs": [
    {
     "data": {
      "text/plain": [
       "{'Scotland': 'Edinburgh',\n",
       " 'England': 'London',\n",
       " 'France': 'Paris',\n",
       " 'Spain': 'Madrid'}"
      ]
     },
     "execution_count": 38,
     "metadata": {},
     "output_type": "execute_result"
    }
   ],
   "source": [
    "capitals = {\n",
    "\t\"Scotland\": \"Edinburgh\",\n",
    "\t\"England\": \"London\",\n",
    "\t\"France\": \"Paris\"\n",
    "}\n",
    "\n",
    "capitals['Spain'] = \"Madrid\"\n",
    "capitals\n"
   ]
  },
  {
   "attachments": {},
   "cell_type": "markdown",
   "id": "d2754f54",
   "metadata": {},
   "source": [
    "Each key can only be assigned one value, if the key has a new value, it will overwrite the old one.\n",
    "\n",
    "In the code snippet below, add the capital italy to the dictionary and display the result."
   ]
  },
  {
   "cell_type": "code",
   "execution_count": null,
   "id": "d3f62a01",
   "metadata": {},
   "outputs": [],
   "source": [
    "capitals = {\n",
    "\t\"Scotland\": \"Edinburgh\",\n",
    "\t\"England\": \"London\",\n",
    "\t\"France\": \"Paris\"\n",
    "}"
   ]
  },
  {
   "attachments": {},
   "cell_type": "markdown",
   "id": "78a4fa32",
   "metadata": {},
   "source": [
    "To remove an item, we use the `del` keyword with the key. "
   ]
  },
  {
   "cell_type": "code",
   "execution_count": 39,
   "id": "c7ad01a0",
   "metadata": {},
   "outputs": [
    {
     "data": {
      "text/plain": [
       "{'England': 'London', 'France': 'Paris'}"
      ]
     },
     "execution_count": 39,
     "metadata": {},
     "output_type": "execute_result"
    }
   ],
   "source": [
    "capitals = {\n",
    "\t\"Scotland\": \"Edinburgh\",\n",
    "\t\"England\": \"London\",\n",
    "\t\"France\": \"Paris\"\n",
    "}\n",
    "del capitals['Scotland']\n",
    "capitals"
   ]
  },
  {
   "attachments": {},
   "cell_type": "markdown",
   "id": "d3fadd32",
   "metadata": {},
   "source": [
    "In the code snippet below, delete the key-value pair `\"Scotland\":\"Edinburgh\"`"
   ]
  },
  {
   "cell_type": "code",
   "execution_count": null,
   "id": "065523b6",
   "metadata": {},
   "outputs": [],
   "source": [
    "capitals = {\n",
    "\t\"Scotland\": \"Edinburgh\",\n",
    "\t\"England\": \"London\",\n",
    "\t\"France\": \"Paris\"\n",
    "}"
   ]
  },
  {
   "attachments": {},
   "cell_type": "markdown",
   "id": "98b663a3",
   "metadata": {},
   "source": [
    "### Tuples"
   ]
  },
  {
   "attachments": {},
   "cell_type": "markdown",
   "id": "a52eda87",
   "metadata": {},
   "source": [
    "A tuple is a fixed-ordered size sequence of values. To create a tuple, we use parentheses to start and end the tuple with numbers separated by a comma. For example, `(1,2,3)` is a tuple containing integers.\n",
    "\n",
    "Tuples are immutable data types, once a tuple is created you can't modify them."
   ]
  },
  {
   "attachments": {},
   "cell_type": "markdown",
   "id": "f933b3ca",
   "metadata": {},
   "source": [
    "### Creating a tuple"
   ]
  },
  {
   "cell_type": "code",
   "execution_count": null,
   "id": "c9ec911d",
   "metadata": {},
   "outputs": [],
   "source": [
    "number_tuple = (1,2,3)\n",
    "type(number_tuple)"
   ]
  },
  {
   "attachments": {},
   "cell_type": "markdown",
   "id": "148eec54",
   "metadata": {},
   "source": [
    "Tuples unlike strings can contain any type of value, `(1,2.0, 'three')` is valid syntax."
   ]
  },
  {
   "attachments": {},
   "cell_type": "markdown",
   "id": "529a10f6",
   "metadata": {},
   "source": [
    "In the cell below, create a tuple of even numbers and assign it a variable name. Display the output."
   ]
  },
  {
   "cell_type": "code",
   "execution_count": null,
   "id": "06acdc05",
   "metadata": {},
   "outputs": [],
   "source": []
  },
  {
   "attachments": {},
   "cell_type": "markdown",
   "id": "78b1e4a8",
   "metadata": {},
   "source": [
    "\n",
    "A tuple that doesn't contain values is called an **empty tuple**"
   ]
  },
  {
   "cell_type": "code",
   "execution_count": null,
   "id": "2fd955d2",
   "metadata": {},
   "outputs": [],
   "source": [
    "empty_tuple = ()"
   ]
  },
  {
   "attachments": {},
   "cell_type": "markdown",
   "id": "644c4dec",
   "metadata": {},
   "source": [
    "### Indexing and Slicing"
   ]
  },
  {
   "attachments": {},
   "cell_type": "markdown",
   "id": "1001bb7b",
   "metadata": {},
   "source": [
    "Tuples can be indexed and sliced like strings and lists.\n",
    "\n",
    "In the cell below, access the 2nd to last element of the tuple."
   ]
  },
  {
   "cell_type": "code",
   "execution_count": null,
   "id": "1e963f21",
   "metadata": {},
   "outputs": [],
   "source": [
    "number_tuple = (1,2,3,4,5,6)\n"
   ]
  },
  {
   "attachments": {},
   "cell_type": "markdown",
   "id": "7f873651",
   "metadata": {},
   "source": [
    "In the cell below, slice the tuple of the 2nd to 5th items in the tuple."
   ]
  },
  {
   "cell_type": "code",
   "execution_count": null,
   "id": "fd144850",
   "metadata": {},
   "outputs": [],
   "source": []
  },
  {
   "attachments": {},
   "cell_type": "markdown",
   "id": "e75f54c2",
   "metadata": {},
   "source": [
    "### Sets"
   ]
  },
  {
   "attachments": {},
   "cell_type": "markdown",
   "id": "ac447883",
   "metadata": {},
   "source": [
    "A set is an unordered mutable collection of unique values. By unique we mean that there are no duplicate elements within a set. It is highly optimised for checking whether a specific element is in a set. \n",
    "\n",
    "Sets can be created similarly to lists however, instead of square brackets we use curly brackets. For example, `{1,2,3}`. Any duplicate elements will be removed when creating a set in this way.\n",
    "\n",
    "Another way we can create a set is by using the `set()` built-in method. Using a set method, any data type that Python can loop over (we call this iterable) we can pass into this method. For this course, lists, tuples and strings are "
   ]
  },
  {
   "attachments": {},
   "cell_type": "markdown",
   "id": "32156c8f",
   "metadata": {},
   "source": [
    "#### Creating a Set"
   ]
  },
  {
   "attachments": {},
   "cell_type": "markdown",
   "id": "d5c91300",
   "metadata": {},
   "source": [
    "Run the code snippet below. "
   ]
  },
  {
   "cell_type": "code",
   "execution_count": 5,
   "id": "945b0868",
   "metadata": {},
   "outputs": [
    {
     "data": {
      "text/plain": [
       "{'Course', 'Data', 'Science'}"
      ]
     },
     "execution_count": 5,
     "metadata": {},
     "output_type": "execute_result"
    }
   ],
   "source": [
    "courseSet = { 'Data','Science','Course' }\n",
    "courseSet"
   ]
  },
  {
   "cell_type": "code",
   "execution_count": 6,
   "id": "7a9841ef",
   "metadata": {},
   "outputs": [
    {
     "data": {
      "text/plain": [
       "set"
      ]
     },
     "execution_count": 6,
     "metadata": {},
     "output_type": "execute_result"
    }
   ],
   "source": [
    "courseSet = { 'Data','Science','Course' }\n",
    "courseSet\n",
    "type(courseSet)\n"
   ]
  },
  {
   "attachments": {},
   "cell_type": "markdown",
   "id": "1e503435",
   "metadata": {},
   "source": [
    "Notice how the order of the elements are not the same as the ones that were typed out.\n",
    "\n",
    "In the cell below, create a set of odd numbers."
   ]
  },
  {
   "cell_type": "code",
   "execution_count": null,
   "id": "8820d95a",
   "metadata": {},
   "outputs": [],
   "source": []
  },
  {
   "attachments": {},
   "cell_type": "markdown",
   "id": "d9147792",
   "metadata": {},
   "source": [
    "We can also create a set using the `set()` function."
   ]
  },
  {
   "cell_type": "code",
   "execution_count": 8,
   "id": "b9849713",
   "metadata": {},
   "outputs": [
    {
     "data": {
      "text/plain": [
       "{'Course', 'Data', 'Science'}"
      ]
     },
     "execution_count": 8,
     "metadata": {},
     "output_type": "execute_result"
    }
   ],
   "source": [
    "courseSet = set(['Data','Science','Course'])\n",
    "courseSet"
   ]
  },
  {
   "attachments": {},
   "cell_type": "markdown",
   "id": "c7c9642f",
   "metadata": {},
   "source": [
    "Run the code snippet below, what is different about the output ?"
   ]
  },
  {
   "cell_type": "code",
   "execution_count": 9,
   "id": "44d4e8ec",
   "metadata": {},
   "outputs": [
    {
     "data": {
      "text/plain": [
       "{'f', 'o'}"
      ]
     },
     "execution_count": 9,
     "metadata": {},
     "output_type": "execute_result"
    }
   ],
   "source": [
    "set('foo')"
   ]
  },
  {
   "attachments": {},
   "cell_type": "markdown",
   "id": "bdabed05",
   "metadata": {},
   "source": [
    "Notice how string characters have become elements. This is because the characters of a string can be looped over in Python (we will come to this a bit later). However, the 'o' is a duplicated element. \n",
    "\n",
    "Sets can contain only immutable data types in Python."
   ]
  },
  {
   "cell_type": "code",
   "execution_count": null,
   "id": "0abee29e",
   "metadata": {},
   "outputs": [],
   "source": [
    "s1 = {42, 'foo',3.14159, True}"
   ]
  },
  {
   "attachments": {},
   "cell_type": "markdown",
   "id": "fcd9bc39",
   "metadata": {},
   "source": [
    "Run the cell below to see the difference between the code snippet above."
   ]
  },
  {
   "cell_type": "code",
   "execution_count": 10,
   "id": "a5655820",
   "metadata": {},
   "outputs": [
    {
     "ename": "TypeError",
     "evalue": "unhashable type: 'list'",
     "output_type": "error",
     "traceback": [
      "\u001b[1;31m---------------------------------------------------------------------------\u001b[0m",
      "\u001b[1;31mTypeError\u001b[0m                                 Traceback (most recent call last)",
      "Cell \u001b[1;32mIn[10], line 2\u001b[0m\n\u001b[0;32m      1\u001b[0m a \u001b[39m=\u001b[39m [\u001b[39m1\u001b[39m,\u001b[39m2\u001b[39m,\u001b[39m3\u001b[39m]\n\u001b[1;32m----> 2\u001b[0m {a}\n",
      "\u001b[1;31mTypeError\u001b[0m: unhashable type: 'list'"
     ]
    }
   ],
   "source": [
    "a = [1,2,3]\n",
    "{a}"
   ]
  },
  {
   "attachments": {},
   "cell_type": "markdown",
   "id": "fbc6ec1d",
   "metadata": {},
   "source": [
    "Python will throw an error as a list is a mutable data type."
   ]
  },
  {
   "attachments": {},
   "cell_type": "markdown",
   "id": "e48d7970",
   "metadata": {},
   "source": [
    "#### Length of a set"
   ]
  },
  {
   "attachments": {},
   "cell_type": "markdown",
   "id": "de11eee5",
   "metadata": {},
   "source": [
    "The built-in `len()` function returns the number of elements in a set. "
   ]
  },
  {
   "cell_type": "code",
   "execution_count": 11,
   "id": "0b19b132",
   "metadata": {},
   "outputs": [
    {
     "data": {
      "text/plain": [
       "2"
      ]
     },
     "execution_count": 11,
     "metadata": {},
     "output_type": "execute_result"
    }
   ],
   "source": [
    "coursesSet = {'Data Science','Machine Learning'}\n",
    "len(coursesSet)\n"
   ]
  },
  {
   "attachments": {},
   "cell_type": "markdown",
   "id": "2aa20e7e",
   "metadata": {},
   "source": [
    "In the code snippet below, find out the length of the set"
   ]
  },
  {
   "cell_type": "code",
   "execution_count": 12,
   "id": "5ba92a0b",
   "metadata": {},
   "outputs": [],
   "source": [
    "coursesSet = {'Data Science','Machine Learning', 'Neural Networks','Deep Learning'}"
   ]
  },
  {
   "attachments": {},
   "cell_type": "markdown",
   "id": "432189cb",
   "metadata": {},
   "source": [
    "There are a lot of different ways to manipulate or operate on a set, using operators and methods. We will cover these in a later section. For now it's enough to be aware of what a set is and how to create one."
   ]
  },
  {
   "attachments": {},
   "cell_type": "markdown",
   "id": "2e048091",
   "metadata": {},
   "source": [
    "### Part 3a: Introduction to Problem Solving"
   ]
  },
  {
   "attachments": {},
   "cell_type": "markdown",
   "id": "c2c81806",
   "metadata": {},
   "source": [
    "Coding is a tool to go from idea to execution at its basic level. This requires you solve problems using a few building blocks you will learn in this exercise. In order to solve problems its useful to have a structured approach. \n",
    "\n",
    "The structure we will be using is called PEDAC. Which stands from Problem, Example Data Structures, Algorithms and Coding. Don't worry about the terms just yet. \n",
    "\n",
    "It might be hard to believe but coding is a by-product of understanding a problem, chunking it down and having a clear approach. You should use plain english to describe what you want to do before you start coding. Writing out those thoughts clarifies your problem and how you're going to write your code. The code comes from having an approach.\n",
    "\n",
    "Problem\n",
    "\n",
    "  - Inputs: What inputs do we have ?\n",
    "\n",
    "  - Outputs: What should the output be ?\n",
    "\n",
    "  - Rules: What are the rules of the problem ?\n",
    "\n",
    "  - Constraints/Assumptions: Are there any constraints or assumptions to be made about the problem ?\n",
    "\n",
    "Example (Sometimes problems are given examples)\n",
    "\n",
    "- Do you understand the example\n",
    "\n",
    "- Is there anything to be gleamed about the rules of the problem from the examples\n",
    "\n",
    "Data Structures\n",
    "\n",
    "- Are there any structures in the code that will be useful to store data ?\n",
    "\n",
    "Algorithm\n",
    "\n",
    "- The plain english steps to getting from inputs to output\n",
    "\n",
    "Code\n",
    "\n",
    "We will be providing you with some small problems where you want necessarily need to have a systematic approach but its useful to think in this way. For more difficult problems where the solution isn't obvious having a structure will be invaluable.\n",
    "\n",
    "I urge you to not press forward with solving coding problems before thinking and writing down your thoughts. Its a hard habit to instill but that will pay off in the long run.\n"
   ]
  },
  {
   "attachments": {},
   "cell_type": "markdown",
   "id": "18478a21",
   "metadata": {},
   "source": [
    "## Part 3 Manipulating Data:"
   ]
  },
  {
   "attachments": {},
   "cell_type": "markdown",
   "id": "0d2c538a",
   "metadata": {},
   "source": [
    "Up until now, we've covered data types and variables in Python. These are crucial concepts to build off of. In the sections below, we will go through operators and methods. We will learn how to use them to modify the data types you have seen above.\n",
    "\n",
    "With this knowledge, we will have the flexibility to do much more with Python, things not possible until now."
   ]
  },
  {
   "attachments": {},
   "cell_type": "markdown",
   "id": "598cc02b",
   "metadata": {},
   "source": [
    "### Operators\n",
    "\n",
    "We discussed operators briefly in a previous section. They are special symbols in Python that execute a computation. They need values to work on, and we call those values **operands**. Below we'll cover each different type of operator in Python."
   ]
  },
  {
   "attachments": {},
   "cell_type": "markdown",
   "id": "eaac9a1e",
   "metadata": {},
   "source": [
    "#### Arithmetic Operators\n",
    "\n",
    "\n",
    "Arithmetic operators will execute mathematical tasks, like addition, subtraction, multiplication etc... You can use these in Python like a calculator.\n",
    "\n",
    "Run the snippet below."
   ]
  },
  {
   "cell_type": "code",
   "execution_count": 1,
   "id": "60b9b8db",
   "metadata": {},
   "outputs": [
    {
     "data": {
      "text/plain": [
       "6"
      ]
     },
     "execution_count": 1,
     "metadata": {},
     "output_type": "execute_result"
    }
   ],
   "source": [
    "3 + 3"
   ]
  },
  {
   "attachments": {},
   "cell_type": "markdown",
   "id": "c3426834",
   "metadata": {},
   "source": [
    "The addition operator `+` adds the two operands on either side together. In this case, the value is `6`.\n",
    "\n",
    "In the code snippet below, add the values 120 to 150. What is the output?"
   ]
  },
  {
   "cell_type": "code",
   "execution_count": null,
   "id": "5c04e413",
   "metadata": {},
   "outputs": [],
   "source": []
  },
  {
   "attachments": {},
   "cell_type": "markdown",
   "id": "5d928730",
   "metadata": {},
   "source": [
    "The subtraction operator `-` takes one value away from another."
   ]
  },
  {
   "cell_type": "code",
   "execution_count": null,
   "id": "06abe2a1",
   "metadata": {},
   "outputs": [],
   "source": [
    "120 - 70"
   ]
  },
  {
   "attachments": {},
   "cell_type": "markdown",
   "id": "21e13925",
   "metadata": {},
   "source": [
    "In the code snippet below, take 50 away from 120. What is the output?"
   ]
  },
  {
   "cell_type": "code",
   "execution_count": null,
   "id": "cbda981d",
   "metadata": {},
   "outputs": [],
   "source": []
  },
  {
   "attachments": {},
   "cell_type": "markdown",
   "id": "38522427",
   "metadata": {},
   "source": [
    "The multiplication operator `*` multiplies two operands together."
   ]
  },
  {
   "cell_type": "code",
   "execution_count": 2,
   "id": "d18d27e5",
   "metadata": {},
   "outputs": [
    {
     "data": {
      "text/plain": [
       "2500"
      ]
     },
     "execution_count": 2,
     "metadata": {},
     "output_type": "execute_result"
    }
   ],
   "source": [
    "50 * 50"
   ]
  },
  {
   "attachments": {},
   "cell_type": "markdown",
   "id": "92bd1b11",
   "metadata": {},
   "source": [
    "In the code snippet below, multiply the numbers 30 and 20."
   ]
  },
  {
   "cell_type": "code",
   "execution_count": null,
   "id": "3e9bbc36",
   "metadata": {},
   "outputs": [],
   "source": []
  },
  {
   "attachments": {},
   "cell_type": "markdown",
   "id": "aa7b5c6f",
   "metadata": {},
   "source": [
    "The division operator `/` divides the left-hand operand from the right-hand one. "
   ]
  },
  {
   "cell_type": "code",
   "execution_count": 3,
   "id": "ba4fdeb3",
   "metadata": {},
   "outputs": [
    {
     "data": {
      "text/plain": [
       "10.0"
      ]
     },
     "execution_count": 3,
     "metadata": {},
     "output_type": "execute_result"
    }
   ],
   "source": [
    "50 / 5"
   ]
  },
  {
   "attachments": {},
   "cell_type": "markdown",
   "id": "4ad11043",
   "metadata": {},
   "source": [
    "In the code snippet below, can you divide 100 by 3"
   ]
  },
  {
   "cell_type": "code",
   "execution_count": null,
   "id": "45264b99",
   "metadata": {},
   "outputs": [],
   "source": []
  },
  {
   "attachments": {},
   "cell_type": "markdown",
   "id": "f47dc8e0",
   "metadata": {},
   "source": [
    "The percent operator divides the left-hand operand by the right-hand one but also returns the remainder."
   ]
  },
  {
   "cell_type": "code",
   "execution_count": null,
   "id": "45b96674",
   "metadata": {},
   "outputs": [],
   "source": [
    "5 % 2"
   ]
  },
  {
   "attachments": {},
   "cell_type": "markdown",
   "id": "7556c87b",
   "metadata": {},
   "source": [
    "The floor division operator divides the left hand operand by the right hand one but rounds down to the nearest whole number."
   ]
  },
  {
   "cell_type": "code",
   "execution_count": null,
   "id": "e3d310a8",
   "metadata": {},
   "outputs": [],
   "source": [
    "5 // 2"
   ]
  },
  {
   "attachments": {},
   "cell_type": "markdown",
   "id": "e6b34280",
   "metadata": {},
   "source": [
    "The exponential  `**` operator performs power calculations."
   ]
  },
  {
   "cell_type": "code",
   "execution_count": null,
   "id": "146a86b8",
   "metadata": {},
   "outputs": [],
   "source": [
    "10**2"
   ]
  },
  {
   "attachments": {},
   "cell_type": "markdown",
   "id": "440f5bf1",
   "metadata": {},
   "source": [
    "Calculate the 25 squared in the code snippet below."
   ]
  },
  {
   "attachments": {},
   "cell_type": "markdown",
   "id": "4fac124a",
   "metadata": {},
   "source": [
    "Now we've covered the operators, we can start to use these with variables. We can store useful numbers and reuse them to do different calculations.\n",
    "\n",
    "In the code snippet below, using variables calculate the addition of those two integer values."
   ]
  },
  {
   "cell_type": "code",
   "execution_count": null,
   "id": "9b1d82ee",
   "metadata": {},
   "outputs": [],
   "source": []
  },
  {
   "attachments": {},
   "cell_type": "markdown",
   "id": "2f7a7c59",
   "metadata": {},
   "source": [
    "#### Assignment Operators"
   ]
  },
  {
   "attachments": {},
   "cell_type": "markdown",
   "id": "97bd845d",
   "metadata": {},
   "source": [
    "We briefly covered the assignment operator when assigning a value to a variable. There are **augmented assignment** operators that use both assignment and arithmetic operators that are worth learning too.\n",
    "\n",
    "The augmented assignment operator`+=` describes an operation where a variable is a left-hand operand and a value is a right-hand operand. For example, `x += 3` is equivalent to saying `x = x + 3` in Python.\n",
    "\n",
    "The operator allows you to add a number to an assigned value. "
   ]
  },
  {
   "cell_type": "code",
   "execution_count": 5,
   "id": "911f08bd",
   "metadata": {},
   "outputs": [
    {
     "data": {
      "text/plain": [
       "8"
      ]
     },
     "execution_count": 5,
     "metadata": {},
     "output_type": "execute_result"
    }
   ],
   "source": [
    "x = 5 \n",
    "x += 3\n",
    "x"
   ]
  },
  {
   "attachments": {},
   "cell_type": "markdown",
   "id": "fc32b7ea",
   "metadata": {},
   "source": [
    "The value of `x` is 8, the augmented assignment operator has added 3 to the value assigned to the variable `x`."
   ]
  },
  {
   "attachments": {},
   "cell_type": "markdown",
   "id": "907301b3",
   "metadata": {},
   "source": [
    "Similarly, `-=` is an operator where the variable is a left-hand operand and a value as a right-hand operand. This subtracts a number from a an assigned value."
   ]
  },
  {
   "cell_type": "code",
   "execution_count": 6,
   "id": "f837072c",
   "metadata": {},
   "outputs": [
    {
     "data": {
      "text/plain": [
       "7"
      ]
     },
     "execution_count": 6,
     "metadata": {},
     "output_type": "execute_result"
    }
   ],
   "source": [
    "x = 10 \n",
    "x -= 3\n",
    "x"
   ]
  },
  {
   "attachments": {},
   "cell_type": "markdown",
   "id": "33762ac6",
   "metadata": {},
   "source": [
    "The value of x is `7` in this case we have subtracted 3 from the value assigned to the variable `x`."
   ]
  },
  {
   "attachments": {},
   "cell_type": "markdown",
   "id": "d8cf9083",
   "metadata": {},
   "source": [
    "There are similar operators for the different arithmetic operators. We won't go into too much detail as the above two are the most commonly used. We will see these operators when we talk about looping."
   ]
  },
  {
   "attachments": {},
   "cell_type": "markdown",
   "id": "aa24bd07",
   "metadata": {},
   "source": [
    "#### Comparison Operators"
   ]
  },
  {
   "attachments": {},
   "cell_type": "markdown",
   "id": "e356f837",
   "metadata": {},
   "source": [
    "Often we need to know whether two values are equal or not, or if values are greater than or less than another. These groups of operators can compare one value to another.\n",
    "\n",
    "The logic in comparing values is sometimes called **boolean logic** and an expression that evaluates to either true or false is called a boolean or **conditional expression**. \n",
    "\n",
    "The types of comparison we make are inequalities and equality. All of these are conditional expressions we use that will resolve to return either a `True` or `False`. \n",
    "\n",
    "Some of these comparators should be familiar to you from mathematics."
   ]
  },
  {
   "attachments": {},
   "cell_type": "markdown",
   "id": "c7b278b2",
   "metadata": {},
   "source": [
    "##### Inequalities\n",
    "\n",
    "In mathematics, we can express when a value is great or less than another, let's review these. When we use these inequalities, Python will return a `True` or `False` value"
   ]
  },
  {
   "attachments": {},
   "cell_type": "markdown",
   "id": "537367b3",
   "metadata": {},
   "source": [
    "```\n",
    "a > b # Greater than\n",
    "a < b # Less than\n",
    "a >= b # Greater than or equal to\n",
    "a <= b # Less than or equal to\n",
    "```"
   ]
  },
  {
   "attachments": {},
   "cell_type": "markdown",
   "id": "3be98ec5",
   "metadata": {},
   "source": [
    "In the cell below, use the above operators to determine which expressions are true or false."
   ]
  },
  {
   "cell_type": "code",
   "execution_count": null,
   "id": "762e8cd0",
   "metadata": {},
   "outputs": [],
   "source": [
    "a = 10 \n",
    "b = 5"
   ]
  },
  {
   "attachments": {},
   "cell_type": "markdown",
   "id": "f2727cdf",
   "metadata": {},
   "source": [
    "##### Equality"
   ]
  },
  {
   "attachments": {},
   "cell_type": "markdown",
   "id": "c940d54c",
   "metadata": {},
   "source": [
    "To compare values, we use the equality operator `==` in Python. \n",
    "\n",
    "Run the snippet below to see this."
   ]
  },
  {
   "cell_type": "code",
   "execution_count": 8,
   "id": "c5c5f1ad",
   "metadata": {},
   "outputs": [
    {
     "data": {
      "text/plain": [
       "True"
      ]
     },
     "execution_count": 8,
     "metadata": {},
     "output_type": "execute_result"
    }
   ],
   "source": [
    "a = 5\n",
    "b = 5\n",
    "\n",
    "a == b"
   ]
  },
  {
   "attachments": {},
   "cell_type": "markdown",
   "id": "3ee2d467",
   "metadata": {},
   "source": [
    "The expression above returns `True` as the values assigned to `a` and `b` are the same. This shows that conditional expressions will evaluate to a `True` or `False` value.\n",
    "\n",
    "To express whether something is not equal to another we use the inequality operator `!=`.\n",
    "\n",
    "Run the snippet below to see this."
   ]
  },
  {
   "cell_type": "code",
   "execution_count": 9,
   "id": "ef5d5f5c",
   "metadata": {},
   "outputs": [
    {
     "data": {
      "text/plain": [
       "True"
      ]
     },
     "execution_count": 9,
     "metadata": {},
     "output_type": "execute_result"
    }
   ],
   "source": [
    "a = 5 \n",
    "b = 7\n",
    "\n",
    "a != b"
   ]
  },
  {
   "attachments": {},
   "cell_type": "markdown",
   "id": "cd63074d",
   "metadata": {},
   "source": [
    "\n",
    "The expression above returns `True` as `a` and `b` are not equal."
   ]
  },
  {
   "attachments": {},
   "cell_type": "markdown",
   "id": "0901fe22",
   "metadata": {},
   "source": [
    "#### Logical Operators"
   ]
  },
  {
   "attachments": {},
   "cell_type": "markdown",
   "id": "f8cbbe3c",
   "metadata": {},
   "source": [
    "In addition to the above comparator operators, Python has some keywords `and`,` or` and `not` to combine conditional expressions to form more complicated logic. Below we will cover these ones by one."
   ]
  },
  {
   "attachments": {},
   "cell_type": "markdown",
   "id": "b102e166",
   "metadata": {},
   "source": [
    "##### And keyword\n",
    "\n",
    "The `and` keyword combines two conditional expressions together. Python will then evaluate this expression and return `True` only when both conditional expressions are true. If one of the conditional expressions is false, the combined expression will be `False`.\n",
    "\n",
    "Run the code cell below to explore this."
   ]
  },
  {
   "cell_type": "code",
   "execution_count": 10,
   "id": "05511e71",
   "metadata": {},
   "outputs": [
    {
     "data": {
      "text/plain": [
       "True"
      ]
     },
     "execution_count": 10,
     "metadata": {},
     "output_type": "execute_result"
    }
   ],
   "source": [
    "a = 5\n",
    "b = 10 \n",
    "a == 5 and a != b"
   ]
  },
  {
   "attachments": {},
   "cell_type": "markdown",
   "id": "95e5b012",
   "metadata": {},
   "source": [
    "This conditional expression returns `True`, both a is equal to 5 and a does not equal b at the same time."
   ]
  },
  {
   "cell_type": "code",
   "execution_count": 11,
   "id": "bd7bc2f9",
   "metadata": {},
   "outputs": [
    {
     "data": {
      "text/plain": [
       "False"
      ]
     },
     "execution_count": 11,
     "metadata": {},
     "output_type": "execute_result"
    }
   ],
   "source": [
    "a = 5\n",
    "b = 10 \n",
    "a == 6 and a != b"
   ]
  },
  {
   "attachments": {},
   "cell_type": "markdown",
   "id": "12381992",
   "metadata": {},
   "source": [
    "Yet this code snippet returns `False`. a does not equal 6, but a does not equal b. That is to say, one part of the conditional expression is false and the other is true, hence the whole expression returns `false.`\n",
    "\n",
    "To sum up, the `and` keyword used with statements is only `True` when both are true and `False` if one or the other statements is `False`. When both statements are `False` the expression will also be `False`.\n",
    "\n",
    "To summarise this another way, run the below snippets."
   ]
  },
  {
   "attachments": {},
   "cell_type": "markdown",
   "id": "f50affec",
   "metadata": {},
   "source": [
    "```\n",
    "True and True # True\n",
    "True and False # False\n",
    "False and True # False\n",
    "False and False # False\n",
    "```"
   ]
  },
  {
   "attachments": {},
   "cell_type": "markdown",
   "id": "61ed46be",
   "metadata": {},
   "source": [
    "#### or keyword\n",
    "\n",
    "The `or` keyword in Python says that if one or the other expressions are true then the whole expression is `True`. Otherwise, the combined expression is `False`.\n",
    "\n",
    "Run the code snippet below to get an understanding of the or keyword."
   ]
  },
  {
   "cell_type": "code",
   "execution_count": 12,
   "id": "e4fc718a",
   "metadata": {},
   "outputs": [
    {
     "data": {
      "text/plain": [
       "True"
      ]
     },
     "execution_count": 12,
     "metadata": {},
     "output_type": "execute_result"
    }
   ],
   "source": [
    "1 < 2 or 3 < 4 # Both are True\n"
   ]
  },
  {
   "cell_type": "code",
   "execution_count": 13,
   "id": "82010c17",
   "metadata": {},
   "outputs": [
    {
     "data": {
      "text/plain": [
       "False"
      ]
     },
     "execution_count": 13,
     "metadata": {},
     "output_type": "execute_result"
    }
   ],
   "source": [
    "2 < 1 or 4 < 3 # Both are False\n"
   ]
  },
  {
   "cell_type": "code",
   "execution_count": 14,
   "id": "d95e63e7",
   "metadata": {},
   "outputs": [
    {
     "data": {
      "text/plain": [
       "True"
      ]
     },
     "execution_count": 14,
     "metadata": {},
     "output_type": "execute_result"
    }
   ],
   "source": [
    "1 < 2 or 4 < 3 # Second statement False\n"
   ]
  },
  {
   "cell_type": "code",
   "execution_count": 15,
   "id": "559d55e3",
   "metadata": {},
   "outputs": [
    {
     "data": {
      "text/plain": [
       "True"
      ]
     },
     "execution_count": 15,
     "metadata": {},
     "output_type": "execute_result"
    }
   ],
   "source": [
    "2 < 1 or 3 < 4 # First statement is False"
   ]
  },
  {
   "attachments": {},
   "cell_type": "markdown",
   "id": "74ceb59b",
   "metadata": {},
   "source": [
    "If any part of the compound statement is `True` then the whole expression is false. Any part that is `False` then the whole expression is `False`.\n",
    "\n"
   ]
  },
  {
   "attachments": {},
   "cell_type": "markdown",
   "id": "51038fd8",
   "metadata": {},
   "source": [
    "```\n",
    "True or True # True\n",
    "True or False # True\n",
    "False or True # True\n",
    "False or False # True\n",
    "```"
   ]
  },
  {
   "attachments": {},
   "cell_type": "markdown",
   "id": "8b8f5ae8",
   "metadata": {},
   "source": [
    "##### Not keyword\n",
    "\n",
    "The not keyword reverses a truth value of a single expression. Sometimes we want to check if a value is not something in Python.\n",
    "\n",
    "Run the code snippets below."
   ]
  },
  {
   "cell_type": "code",
   "execution_count": 16,
   "id": "477c768c",
   "metadata": {},
   "outputs": [
    {
     "data": {
      "text/plain": [
       "False"
      ]
     },
     "execution_count": 16,
     "metadata": {},
     "output_type": "execute_result"
    }
   ],
   "source": [
    "not True"
   ]
  },
  {
   "attachments": {},
   "cell_type": "markdown",
   "id": "e5fd5a5c",
   "metadata": {},
   "source": [
    "This expression returns `False` as we negate the `True` value. This also works for any value in Python that is truthy (more on this later)."
   ]
  },
  {
   "cell_type": "code",
   "execution_count": 17,
   "id": "03c7972e",
   "metadata": {},
   "outputs": [
    {
     "data": {
      "text/plain": [
       "True"
      ]
     },
     "execution_count": 17,
     "metadata": {},
     "output_type": "execute_result"
    }
   ],
   "source": [
    "not False"
   ]
  },
  {
   "attachments": {},
   "cell_type": "markdown",
   "id": "b8241881",
   "metadata": {},
   "source": [
    "#### Membership and Identity"
   ]
  },
  {
   "attachments": {},
   "cell_type": "markdown",
   "id": "524634cc",
   "metadata": {},
   "source": [
    "##### Membership\n",
    "\n",
    "Membership operators are used to test if a specific item is within a data type. For example, whether a list item is within a list. The operator `in` and the combination `not in` determine this. Lists, tuples and strings support membership operators.\n",
    "\n",
    "Run this code snippet to see the use of the `in` operator. "
   ]
  },
  {
   "cell_type": "code",
   "execution_count": 18,
   "id": "de112bea",
   "metadata": {},
   "outputs": [
    {
     "data": {
      "text/plain": [
       "True"
      ]
     },
     "execution_count": 18,
     "metadata": {},
     "output_type": "execute_result"
    }
   ],
   "source": [
    "courses = ['Python','Data Science']\n",
    "'Python' in courses"
   ]
  },
  {
   "attachments": {},
   "cell_type": "markdown",
   "id": "13887f57",
   "metadata": {},
   "source": [
    "This expression return `True` as `Python` is within the `courses` list.\n",
    "\n",
    "Run the code snippet below."
   ]
  },
  {
   "cell_type": "code",
   "execution_count": 19,
   "id": "b085f5e8",
   "metadata": {},
   "outputs": [
    {
     "data": {
      "text/plain": [
       "True"
      ]
     },
     "execution_count": 19,
     "metadata": {},
     "output_type": "execute_result"
    }
   ],
   "source": [
    "courses = ['Python','Data Science']\n",
    "'Anatomy' not in courses"
   ]
  },
  {
   "attachments": {},
   "cell_type": "markdown",
   "id": "3c024af7",
   "metadata": {},
   "source": [
    "This expression returns `True` as `Anatomy` is not in the `courses` list."
   ]
  },
  {
   "attachments": {},
   "cell_type": "markdown",
   "id": "07c7abc8",
   "metadata": {},
   "source": [
    "Using the in operator check if `Anatomy` is in the list below "
   ]
  },
  {
   "cell_type": "code",
   "execution_count": null,
   "id": "bb9ec21b",
   "metadata": {},
   "outputs": [],
   "source": [
    "courses = ['Biochemistry','Physiology',]\n"
   ]
  },
  {
   "attachments": {},
   "cell_type": "markdown",
   "id": "72d882dc",
   "metadata": {},
   "source": [
    "##### Identity\n",
    "\n",
    "In Python, when we create a data type object it gets stored in a part of the computer memory called a memory address. We can compare the values of an object using the equality operator. However, equality is not the same as the identity of an object. To test if an object is the same created object not just the value we can use the `is` and `is not` operators.\n",
    "\n",
    "Run the snippet below to explore this."
   ]
  },
  {
   "cell_type": "code",
   "execution_count": 29,
   "id": "ebd4ac4f",
   "metadata": {},
   "outputs": [
    {
     "data": {
      "text/plain": [
       "False"
      ]
     },
     "execution_count": 29,
     "metadata": {},
     "output_type": "execute_result"
    }
   ],
   "source": [
    "x = [\"Python\", \"Anatomy\"]\n",
    "y = [\"JavaScript\", \"Machine Learning\"]\n",
    "z = x\n",
    "\n",
    "x is y\n"
   ]
  },
  {
   "attachments": {},
   "cell_type": "markdown",
   "id": "c94552b2",
   "metadata": {},
   "source": [
    "The expression returns `False`. We create variables `x` and `y`. Each variable is stored in a different part of memory, so the expression returns `False`. \n",
    "\n",
    "Run the snippet below."
   ]
  },
  {
   "cell_type": "code",
   "execution_count": 30,
   "id": "1d68f620",
   "metadata": {},
   "outputs": [
    {
     "data": {
      "text/plain": [
       "True"
      ]
     },
     "execution_count": 30,
     "metadata": {},
     "output_type": "execute_result"
    }
   ],
   "source": [
    "x = [\"Python\", \"Anatomy\"]\n",
    "y = [\"JavaScript\", \"Machine Learning\"]\n",
    "z = x\n",
    "\n",
    "x is z"
   ]
  },
  {
   "attachments": {},
   "cell_type": "markdown",
   "id": "2cd90e42",
   "metadata": {},
   "source": [
    "This expression returns `True` as `z` and `x` are the same object."
   ]
  },
  {
   "attachments": {},
   "cell_type": "markdown",
   "id": "8b5dac42",
   "metadata": {},
   "source": [
    "#### Operator Precendance"
   ]
  },
  {
   "attachments": {},
   "cell_type": "markdown",
   "id": "54996f76",
   "metadata": {},
   "source": [
    "\n",
    "Consider the example below. Before running the cell, what will Python output? Run the cell to find out."
   ]
  },
  {
   "cell_type": "code",
   "execution_count": 31,
   "id": "8e864a34",
   "metadata": {},
   "outputs": [
    {
     "data": {
      "text/plain": [
       "60"
      ]
     },
     "execution_count": 31,
     "metadata": {},
     "output_type": "execute_result"
    }
   ],
   "source": [
    "20 + 4*10"
   ]
  },
  {
   "attachments": {},
   "cell_type": "markdown",
   "id": "2a957ca0",
   "metadata": {},
   "source": [
    "There's some ambiguity here if we think about it. Is it `20 + 4` then multiply by 10 or 4 multiplied by ten and adding twenty? The return value is 60, so the latter is true. \n",
    "\n",
    "But when we use operators in Python, they are assigned a precedence. Where the highest is performed first and then those results are obtained. The operators that are next in precedence are then performed. Any operator that is equal in precedence is performed in left-to-right order."
   ]
  },
  {
   "attachments": {},
   "cell_type": "markdown",
   "id": "ed6855aa",
   "metadata": {},
   "source": [
    "Here is a list from highested to lowest.\n",
    "\n",
    "1. `**`\n",
    "2. `*`,`/`\n",
    "3. `+`,`-`\n",
    "4. `== `,`!=`, `>`,`<`,`>=`,`<=`, `is` and `is not`\n",
    "5. `not`\n",
    "6. `and`\n",
    "7. `or`\n",
    "\n",
    "The key takeaway is that equality and inequality come before the logical operators and mathematical operations come before equality.\n",
    "\n",
    "Breaking down the example above, \n",
    "\n",
    "4 * 10 takes precedence so gets evaluated to `40` and then we add 20 to 40 to get 60.\n",
    "\n",
    "We can override operator precedence using parentheses. Expressions in parentheses are always performed first.\n",
    "\n",
    "Run the snippet of code below."
   ]
  },
  {
   "cell_type": "code",
   "execution_count": null,
   "id": "8b4852f0",
   "metadata": {},
   "outputs": [],
   "source": [
    "(20 + 4) * 10"
   ]
  },
  {
   "attachments": {},
   "cell_type": "markdown",
   "id": "3b693e63",
   "metadata": {},
   "source": [
    "The return value is 240, as `20 + 4` is evaluted first.\n"
   ]
  },
  {
   "attachments": {},
   "cell_type": "markdown",
   "id": "1d10e006",
   "metadata": {},
   "source": [
    "#### Data Type Methods \n",
    "\n",
    "Operators are one way to modify data, but Python also provides some functionality specific to each data type, we call these methods. **Methods** are functions that are contained within an object. This is not essential knowledge but perhaps worth saying something about.  It is in the combination of operators and methods we can control what data becomes.\n",
    "\n",
    "We mentioned before that all data types in Python are objects, think of the methods as being part of those objects.\n",
    "\n",
    "We haven't covered functions in detail yet, but with built-in methods, some of them require passing some data to the method in order to get the intended outcome.\n",
    "\n",
    "In order to understand methods we should define some terms. To pass this information to a method, we assign values to a **parameter** of the method. The assigned values are called **arguments**. The act of using a method on a data type is called a **method invocation** or calling a method.\n",
    "\n",
    "For example, if you want to insert a list item into a list. We need to specify what the list item is and where in the list to put it. \n",
    "\n",
    "The list `insert()` method has two required parameters `pos` and `element`. The syntax looks like this `list.insert(pos,elmnt)`. \n",
    "\n",
    "So valid syntax for this method might be `list.insert(1,\"Data Science\")`. The arguments are `1` and `Data Science`. Here we are assigning the parameter `pos` with the value `1` and assigning the parameter `elmnt` with `Data Science`. \n",
    "\n",
    "When learning about methods, it's useful to have a structure of  type of information to know about when using these methods.\n",
    "\n",
    "For each method, we should be able to recall the following:\n",
    "\n",
    "1. The description\n",
    "2. The syntax of the method (can we pass any values to the method)\n",
    "3. The return value of the method\n",
    "4. Are there any peculiarities about the method (does it return something you don't expect ?)\n",
    "\n",
    "Don't worry if this takes time, programming is a process, and the act of doing programming clarifies this information more than basic recall. "
   ]
  },
  {
   "attachments": {},
   "cell_type": "markdown",
   "id": "8c6cf5d7",
   "metadata": {},
   "source": [
    "### List Methods"
   ]
  },
  {
   "attachments": {},
   "cell_type": "markdown",
   "id": "24d567f4",
   "metadata": {},
   "source": [
    "Python has 11 built-in methods for modifying lists. We will go through the most common list methods. \n",
    "\n",
    "##### Inserting a list item\n",
    "\n",
    "The insert method inserts a specific value at a specified position.It has two required parameters `pos` and `elmnt`.\n",
    "\n",
    "The syntax is `list.insert(pos,elmnt)`\n",
    "\n",
    "`pos` - The index of where in the list to add the list item\n",
    "`elmnt` - The value of the list item to insert\n",
    "\n",
    "Run the snippet below."
   ]
  },
  {
   "cell_type": "code",
   "execution_count": 35,
   "id": "6cfe1dfb",
   "metadata": {},
   "outputs": [
    {
     "data": {
      "text/plain": [
       "['Python', 'Data Science', 'Deep Learning']"
      ]
     },
     "execution_count": 35,
     "metadata": {},
     "output_type": "execute_result"
    }
   ],
   "source": [
    "courses = ['Python','Data Science']\n",
    "courses.insert(2,'Deep Learning')\n",
    "courses"
   ]
  },
  {
   "attachments": {},
   "cell_type": "markdown",
   "id": "8829c69e",
   "metadata": {},
   "source": [
    "We are calling the insert method on the `courses` list. Specifying the index `2` with the value of `Deep Learning` to be added. The return value of this method call is an list `['Python','Data Science','Deep Learning']`.\n",
    "\n",
    "In the snippet below, can you insert `Deep Learning` at the start of the list?"
   ]
  },
  {
   "cell_type": "code",
   "execution_count": null,
   "id": "f9e3dcb0",
   "metadata": {},
   "outputs": [],
   "source": []
  },
  {
   "attachments": {},
   "cell_type": "markdown",
   "id": "203b3b04",
   "metadata": {},
   "source": [
    "#### Inserting a list item at the end of a list\n",
    "\n",
    "To add a list item at the end of the list we use the `append()` method. \n",
    "\n",
    "The append method has one required parameter `elmnt` which is the argument to add to the list. \n",
    "\n",
    "The syntax is `list.append(elmnt)`\n",
    "\n",
    "Look at the code snippet below."
   ]
  },
  {
   "cell_type": "code",
   "execution_count": 33,
   "id": "a41cf7f7",
   "metadata": {},
   "outputs": [
    {
     "data": {
      "text/plain": [
       "['Python', 'Data Science', 'Deep Learning']"
      ]
     },
     "execution_count": 33,
     "metadata": {},
     "output_type": "execute_result"
    }
   ],
   "source": [
    "courses = ['Python','Data Science']\n",
    "courses.append('Deep Learning')\n",
    "courses"
   ]
  },
  {
   "attachments": {},
   "cell_type": "markdown",
   "id": "dc0b38ac",
   "metadata": {},
   "source": [
    "We call the method on the `courses` list, passing in `Deep Learning` as an argument. The return value of the method call is a list `['Python','Data Science','Deep Learning']`.\n",
    "\n",
    "Notice the difference between `insert` and `append`. \n",
    "\n",
    "In the cell below, add `Machine Learning` to the end of the list and display the output."
   ]
  },
  {
   "cell_type": "code",
   "execution_count": null,
   "id": "a3dc3363",
   "metadata": {},
   "outputs": [],
   "source": [
    "courses = ['Python','Data Science']"
   ]
  },
  {
   "attachments": {},
   "cell_type": "markdown",
   "id": "4ec0136b",
   "metadata": {},
   "source": [
    "#### Merging lists\n",
    "\n",
    "The `extend()` method can be used to add two lists together. \n",
    "\n",
    "The syntax is `list.extend(iterable)`\n",
    "\n",
    "It has one required parameter `iterable` which takes values of any data type that can be looped over lists, tuples, dictionaries and strings. Note that this means it's not only lists that can be merged together.\n",
    "\n",
    "Run the code snippet below to see how this works.\n"
   ]
  },
  {
   "cell_type": "code",
   "execution_count": 36,
   "id": "316efe85",
   "metadata": {},
   "outputs": [
    {
     "data": {
      "text/plain": [
       "['Python', 'Data Science', 'Deep learning', 'JavaScript']"
      ]
     },
     "execution_count": 36,
     "metadata": {},
     "output_type": "execute_result"
    }
   ],
   "source": [
    "courses = ['Python','Data Science']\n",
    "optional_course = ['Deep learning','JavaScript']\n",
    "courses.extend(optional_course)\n",
    "courses"
   ]
  },
  {
   "attachments": {},
   "cell_type": "markdown",
   "id": "601e085c",
   "metadata": {},
   "source": [
    "See the example below, we can merge a tuple to a list using the `extend` method."
   ]
  },
  {
   "cell_type": "code",
   "execution_count": 37,
   "id": "48644845",
   "metadata": {},
   "outputs": [
    {
     "data": {
      "text/plain": [
       "['Python', 'Data Science', 'Deep learning', 'JavaScript']"
      ]
     },
     "execution_count": 37,
     "metadata": {},
     "output_type": "execute_result"
    }
   ],
   "source": [
    "courses = ['Python','Data Science']\n",
    "optional_course = ('Deep learning','JavaScript')\n",
    "courses.extend(optional_course)\n",
    "courses"
   ]
  },
  {
   "attachments": {},
   "cell_type": "markdown",
   "id": "2d66820d",
   "metadata": {},
   "source": [
    "In the cell below, can you merge the two lists created together ?"
   ]
  },
  {
   "cell_type": "code",
   "execution_count": null,
   "id": "bb6747ca",
   "metadata": {},
   "outputs": [],
   "source": [
    "courses = ['Physiology','Anatomy']\n",
    "digitalCourses = ['Python','JavaScript']"
   ]
  },
  {
   "attachments": {},
   "cell_type": "markdown",
   "id": "48f3d88c",
   "metadata": {},
   "source": [
    "##### Removing a list item\n",
    "\n",
    "The `remove()` method removes a specific item from a list. It is one required parameter `elmnt` that specifies the list item to be removed. \n",
    "\n",
    "The syntax is `list.remove(elmnt)`\n",
    "\n",
    "Run the code snippet below."
   ]
  },
  {
   "cell_type": "code",
   "execution_count": null,
   "id": "7a8a64bd",
   "metadata": {},
   "outputs": [],
   "source": [
    "courses = ['Python','Data Science']\n",
    "courses.remove('Data Science')\n",
    "courses"
   ]
  },
  {
   "attachments": {},
   "cell_type": "markdown",
   "id": "fc9c1324",
   "metadata": {},
   "source": [
    "In the code snippet above, we are calling the `remove` method and passing the argument `Data Science`, the return value of this method call is `['Python']`. "
   ]
  },
  {
   "attachments": {},
   "cell_type": "markdown",
   "id": "88be951f",
   "metadata": {},
   "source": [
    "#### Removing a list item at a specific position\n",
    "\n",
    "The `pop()` method removes a list item from a specified index. The pop method has one required parameter `pos`\n",
    "\n",
    "The syntax is `list.pop(pos)`, where `pos` is the number specified position. The default value is `-1`, i.e `list.pop()` removes the last list item."
   ]
  },
  {
   "cell_type": "code",
   "execution_count": null,
   "id": "90bae681",
   "metadata": {},
   "outputs": [],
   "source": [
    "courses = ['Python','Data Science']\n",
    "course.pop()\n",
    "courses"
   ]
  },
  {
   "cell_type": "code",
   "execution_count": 38,
   "id": "85522544",
   "metadata": {},
   "outputs": [
    {
     "data": {
      "text/plain": [
       "['Python', 'Data Science', 'Deep Learning']"
      ]
     },
     "execution_count": 38,
     "metadata": {},
     "output_type": "execute_result"
    }
   ],
   "source": [
    "courses = ['Python','Data Science', 'Machine Learning' ,'Deep Learning']\n",
    "courses.pop(2)\n",
    "courses"
   ]
  },
  {
   "attachments": {},
   "cell_type": "markdown",
   "id": "1b4f2133",
   "metadata": {},
   "source": [
    "We invoke the pop method on the `courses` list, passing in `2` as an argument. This removes the 3rd list item. \n",
    "\n",
    "In the cell below, can you remove the 2nd list item from the list ?"
   ]
  },
  {
   "cell_type": "code",
   "execution_count": null,
   "id": "3c96245c",
   "metadata": {},
   "outputs": [],
   "source": [
    "courses = ['Python','Data Science', 'Machine Learning' ,'Deep Learning']"
   ]
  },
  {
   "attachments": {},
   "cell_type": "markdown",
   "id": "a7716e8a",
   "metadata": {},
   "source": [
    "#### Create an empty list\n",
    "\n",
    "The `clear()` method will remove all list items however the list remains intact.\n",
    "\n",
    "The syntax is `list.clear()` with no required parameters.\n",
    "\n",
    "Run the cell below."
   ]
  },
  {
   "cell_type": "code",
   "execution_count": null,
   "id": "e636c52b",
   "metadata": {},
   "outputs": [],
   "source": [
    "courses = ['Python','Data Science', 'Machine Learning' ,'Deep Learning']\n",
    "courses.clear()\n",
    "courses"
   ]
  },
  {
   "attachments": {},
   "cell_type": "markdown",
   "id": "fc1a7465",
   "metadata": {},
   "source": [
    "In the cell below, remove all list items."
   ]
  },
  {
   "cell_type": "code",
   "execution_count": null,
   "id": "3abf8748",
   "metadata": {},
   "outputs": [],
   "source": []
  },
  {
   "attachments": {},
   "cell_type": "markdown",
   "id": "970f0aba",
   "metadata": {},
   "source": [
    "### Copying a list\n",
    "\n",
    "You can copy a list by using the `copy()` method. The return value with be a copied list.\n",
    "\n",
    "The syntax is `list.copy()` with no required parameters."
   ]
  },
  {
   "cell_type": "code",
   "execution_count": null,
   "id": "2116d180",
   "metadata": {},
   "outputs": [],
   "source": [
    "courses = ['Python','Data Science', 'Machine Learning' ,'Deep Learning']\n",
    "newCourses = courses.copy()\n",
    "newCourses"
   ]
  },
  {
   "attachments": {},
   "cell_type": "markdown",
   "id": "d449dbfe",
   "metadata": {},
   "source": [
    "In the cell below, copy the list `courses`"
   ]
  },
  {
   "cell_type": "code",
   "execution_count": null,
   "id": "0edbaf26",
   "metadata": {},
   "outputs": [],
   "source": [
    "courses = ['Anatomy','Physiology','Pharmacology']"
   ]
  },
  {
   "attachments": {},
   "cell_type": "markdown",
   "id": "1a352bd0",
   "metadata": {},
   "source": [
    "### Returning the index value \n",
    "\n",
    "It's sometimes necessary to be able to return the index of a specified value. The `index()` method allows you to do this. There is one required parameter which is the element to search for, this can be a string, number or list. \n",
    "\n",
    "The syntax is `list.index(elmnt)`"
   ]
  },
  {
   "cell_type": "code",
   "execution_count": 39,
   "id": "95816a6d",
   "metadata": {},
   "outputs": [
    {
     "data": {
      "text/plain": [
       "['Anatomy', 'Physiology', 'Pharmacology']"
      ]
     },
     "execution_count": 39,
     "metadata": {},
     "output_type": "execute_result"
    }
   ],
   "source": [
    "courses = ['Anatomy','Physiology','Pharmacology']\n",
    "courses.index('Physiology')\n",
    "courses"
   ]
  },
  {
   "attachments": {},
   "cell_type": "markdown",
   "id": "944a76b3",
   "metadata": {},
   "source": [
    "In the cell below, find the index of the string `Data Science`"
   ]
  },
  {
   "cell_type": "code",
   "execution_count": null,
   "id": "2b5b2b0d",
   "metadata": {},
   "outputs": [],
   "source": [
    "courses = ['Python','Data Science', 'Machine Learning' ,'Deep Learning']"
   ]
  },
  {
   "attachments": {},
   "cell_type": "markdown",
   "id": "42bbfbd6",
   "metadata": {},
   "source": [
    "### Counting list items \n",
    "\n",
    "In a list, it's possible to have duplicates, unlike other data types. The `count()` method returns the number of list items that have a specified value. \n",
    "\n",
    "The syntax is `list.count(value)` where `value` is the parameter for any string, list or number that you want to return the count for within the list.\n"
   ]
  },
  {
   "attachments": {},
   "cell_type": "markdown",
   "id": "280792cd",
   "metadata": {},
   "source": [
    "Run the cell below."
   ]
  },
  {
   "cell_type": "code",
   "execution_count": 40,
   "id": "33df5e02",
   "metadata": {},
   "outputs": [
    {
     "data": {
      "text/plain": [
       "2"
      ]
     },
     "execution_count": 40,
     "metadata": {},
     "output_type": "execute_result"
    }
   ],
   "source": [
    "courses = ['Python','Data Science', 'Machine Learning' ,'Deep Learning','Data Science']\n",
    "courses.count('Data Science')"
   ]
  },
  {
   "attachments": {},
   "cell_type": "markdown",
   "id": "b0ff1df6",
   "metadata": {},
   "source": [
    "In the cell below, find out how many times `Python` is populated within the list\n"
   ]
  },
  {
   "cell_type": "code",
   "execution_count": 41,
   "id": "e414e479",
   "metadata": {},
   "outputs": [],
   "source": [
    "courses = ['Python','Data Science', 'Machine Learning' ,'Deep Learning','Python','Python']"
   ]
  },
  {
   "attachments": {},
   "cell_type": "markdown",
   "id": "b8decfd1",
   "metadata": {},
   "source": [
    "#### Sorting a list\n",
    "\n",
    "Within Python, we sometimes want to sort a list by a certain order. The `sort() ` method will sort alphanumerically (A to Z or 0 - 9) in ascending order. \n",
    "\n",
    "The syntax is `list.sort(reverse=True|false, key=myFunc)` \n",
    "\n",
    "The sort method has two optional parameters `reverse` and `key`.\n",
    "\n",
    "The `reverse` parameter accepts a true or false value which will sort the list in descending order. \n",
    "\n",
    "The `myFunc` allows you to pass an optional function that allows you to sort in a more refined way. Don't worry about this too much as we won't be using it.\n",
    "\n",
    "Note the `sort()` method is case-sensitive, so all capital letters are sorted before lowercase letters. We can use a function to modify how lists get sorted. We won't cover this here.\n",
    "\n",
    "Run the code snippet below to see the result of the sort method."
   ]
  },
  {
   "cell_type": "code",
   "execution_count": 42,
   "id": "101ec568",
   "metadata": {},
   "outputs": [
    {
     "data": {
      "text/plain": [
       "['Data Science', 'Deep Learning', 'Neural Networks', 'Python']"
      ]
     },
     "execution_count": 42,
     "metadata": {},
     "output_type": "execute_result"
    }
   ],
   "source": [
    "courses = [\"Python\",\"Data Science\",\"Deep Learning\", \"Neural Networks\"]\n",
    "courses.sort()\n",
    "courses"
   ]
  },
  {
   "attachments": {},
   "cell_type": "markdown",
   "id": "65c0d764",
   "metadata": {},
   "source": [
    "The sort method is invoked on the `courses` list and sorts the array in alphabetical order.\n",
    "\n",
    "Run the cell below to see the reverse option."
   ]
  },
  {
   "cell_type": "code",
   "execution_count": 43,
   "id": "225f498d",
   "metadata": {},
   "outputs": [
    {
     "data": {
      "text/plain": [
       "['Python', 'Neural Networks', 'Deep Learning', 'Data Science']"
      ]
     },
     "execution_count": 43,
     "metadata": {},
     "output_type": "execute_result"
    }
   ],
   "source": [
    "courses = [\"Python\",\"Data Science\",\"Deep Learning\", \"Neural Networks\"]\n",
    "courses.sort(reverse=True)\n",
    "courses"
   ]
  },
  {
   "attachments": {},
   "cell_type": "markdown",
   "id": "6c64eb8d",
   "metadata": {},
   "source": [
    "Notice how the list is sorted in descending order.\n",
    "\n",
    "In the cell below, sort the list in descending order from Z to A."
   ]
  },
  {
   "cell_type": "code",
   "execution_count": null,
   "id": "268a828a",
   "metadata": {},
   "outputs": [],
   "source": [
    "courses = [\"Anatomy\",\"Physiology\", \"Pharmacology\", \"Clinical Sciences\"]"
   ]
  },
  {
   "attachments": {},
   "cell_type": "markdown",
   "id": "48d72df3",
   "metadata": {},
   "source": [
    "### String Methods"
   ]
  },
  {
   "attachments": {},
   "cell_type": "markdown",
   "id": "591f4b0a",
   "metadata": {},
   "source": [
    "Python has 47 methods for manipulating strings, we won't cover all of these but will focus on the ten or so methods worth committing to memory. It's always possible to look these methods up if you need something else.\n",
    "\n",
    "#### Converting a list to a string \n",
    "\n",
    "The `join()` method takes all list items and joins them together into a single string. It has a required parameter `iterable` which can be any object. The join method returns a string.  \n",
    "\n",
    "The syntax is `string.join(iterable)`. The string aspect is what separator between the list items we would like to have. An example will help clarify this.\n",
    "\n",
    "Run the cell below.\n"
   ]
  },
  {
   "cell_type": "code",
   "execution_count": 44,
   "id": "714fe2d1",
   "metadata": {},
   "outputs": [
    {
     "data": {
      "text/plain": [
       "'Python Data Science Deep Learning Neural Networks'"
      ]
     },
     "execution_count": 44,
     "metadata": {},
     "output_type": "execute_result"
    }
   ],
   "source": [
    "courses = [\"Python\",\"Data Science\",\"Deep Learning\", \"Neural Networks\"]\n",
    "\n",
    "\" \".join(courses)"
   ]
  },
  {
   "attachments": {},
   "cell_type": "markdown",
   "id": "534f64a3",
   "metadata": {},
   "source": [
    "We invoke the join method on the `\" \"` string, this defines what separates the list items when we want to create a string. We pass in the `courses` list as an argument to the join method. The result is `Python Data Science Deep Learning Neural Networks`. \n",
    "\n",
    "It's possible to use a custom separator, like for example a comma.\n",
    "\n",
    "In the cell below, try to convert the list to a string with a comma separated between each list item."
   ]
  },
  {
   "cell_type": "code",
   "execution_count": null,
   "id": "d134ba1b",
   "metadata": {},
   "outputs": [],
   "source": []
  },
  {
   "attachments": {},
   "cell_type": "markdown",
   "id": "f722c6b5",
   "metadata": {},
   "source": [
    "\n",
    "It's also possible to join any iterable, that is a dictionary or a tuple can be converted into a string in the same manner."
   ]
  },
  {
   "attachments": {},
   "cell_type": "markdown",
   "id": "c0124ee0",
   "metadata": {},
   "source": [
    "#### Spliting a string into smaller strings\n",
    "\n",
    "Sometimes you need to break a string into smaller parts and want to store these in a list. The `split()` method splits a string into a list of individual strings. It has two optional values, `separator` and `max split`.\n",
    "\n",
    "The syntax is `string.split(separator, maxsplit)`. \n",
    "\n",
    "The `separator` allows to specify how to split the string, so if it's a string of words, you may want to split at the space between words, so each list item is a word in the sentence. The default value for this is `\" \"`. \n",
    "\n",
    "`Maxsplit` is used to specify how many splits to do, the default value is `-1` and when we don't specify this in the method will automatically split the maximum number of times.\n",
    "\n",
    "Run the snippet below."
   ]
  },
  {
   "cell_type": "code",
   "execution_count": 45,
   "id": "1de4c43a",
   "metadata": {},
   "outputs": [
    {
     "data": {
      "text/plain": [
       "['Anatomy', 'Physiology', 'Pharmacology']"
      ]
     },
     "execution_count": 45,
     "metadata": {},
     "output_type": "execute_result"
    }
   ],
   "source": [
    "coursesText = \"Anatomy Physiology Pharmacology\"\n",
    "coursesText.split()"
   ]
  },
  {
   "attachments": {},
   "cell_type": "markdown",
   "id": "0e37ec02",
   "metadata": {},
   "source": [
    "Notice how we haven't provided any arguments and the method splits this string into a list of individual words.\n",
    "\n",
    "Run the code snippet below which is more explicit."
   ]
  },
  {
   "cell_type": "code",
   "execution_count": 46,
   "id": "f53ec409",
   "metadata": {},
   "outputs": [
    {
     "data": {
      "text/plain": [
       "['Anatomy', 'Physiology', 'Pharmacology']"
      ]
     },
     "execution_count": 46,
     "metadata": {},
     "output_type": "execute_result"
    }
   ],
   "source": [
    "coursesText = \"Anatomy Physiology Pharmacology\"\n",
    "coursesText.split(\" \")"
   ]
  },
  {
   "attachments": {},
   "cell_type": "markdown",
   "id": "f238ea7a",
   "metadata": {},
   "source": [
    "We invoke the split method passing in `\" \"` as argument, the return value is a list of strings which correspond to words in the text. Notice how we specify the seperator as the space. \n",
    "\n",
    "You may have instances where its not words in text, but commas, or commas and a space. You can seperate those too.\n",
    "\n",
    "In the cell below seperate the string into individual words."
   ]
  },
  {
   "cell_type": "code",
   "execution_count": null,
   "id": "77cf3279",
   "metadata": {},
   "outputs": [],
   "source": [
    "\n",
    "courses = \"Anatomy, Physiology, Pharmacology\""
   ]
  },
  {
   "attachments": {},
   "cell_type": "markdown",
   "id": "d62ed647",
   "metadata": {},
   "source": [
    "Sometimes you care only about splitting the first one or two instances of a string. In the cell below can you try to split the first two words of a string (hint think about maxsplit)"
   ]
  },
  {
   "cell_type": "code",
   "execution_count": 51,
   "id": "56a6e46c",
   "metadata": {},
   "outputs": [
    {
     "data": {
      "text/plain": [
       "['Anatomy', 'Physiology', 'PharmacologyClinical']"
      ]
     },
     "execution_count": 51,
     "metadata": {},
     "output_type": "execute_result"
    }
   ],
   "source": [
    "courses = \"Anatomy Physiology PharmacologyClinical\"\n",
    "courses.split(\" \",2)\n"
   ]
  },
  {
   "attachments": {},
   "cell_type": "markdown",
   "id": "7043e842",
   "metadata": {},
   "source": [
    "#### Replacing a substring with another\n",
    "\n",
    "The `replace` method allows you to replace characters in a string with another string. This can be very useful when cleaning up messy data. \n",
    "\n",
    "The syntax is `string.replace(oldvalue, newvalue, count)`. \n",
    "\n",
    "`oldvalue` refers to the string to search for, this is required. \n",
    "`newvalue` is the string to replace the old string. \n",
    "`count` is an optional parameter to specify how many instances of the old value you want to replace. The default value is all occurrences.\n",
    "\n",
    "Run the snippet below."
   ]
  },
  {
   "cell_type": "code",
   "execution_count": 52,
   "id": "26ffd702",
   "metadata": {},
   "outputs": [
    {
     "data": {
      "text/plain": [
       "'Anatomy Physiology Pharmacology Clinical'"
      ]
     },
     "execution_count": 52,
     "metadata": {},
     "output_type": "execute_result"
    }
   ],
   "source": [
    "courses = \"Anatomy Physiology|Pharmacology|Clinical\"\n",
    "courses.replace(\"|\", \" \")"
   ]
  },
  {
   "attachments": {},
   "cell_type": "markdown",
   "id": "1de3ce18",
   "metadata": {},
   "source": [
    "Invoking the replace method searches for all occurrences of `|` and replaces them with `\" \"`. \n",
    "\n",
    "In the cell below, clean up the string so the string separates each course by a space only."
   ]
  },
  {
   "cell_type": "code",
   "execution_count": null,
   "id": "369af3e6",
   "metadata": {},
   "outputs": [],
   "source": [
    "courses = \"Anatomy*Physiology|Pharmacology|Clinical\""
   ]
  },
  {
   "attachments": {},
   "cell_type": "markdown",
   "id": "6aa43bb0",
   "metadata": {},
   "source": [
    "#### Removing whitespaces\n",
    "\n",
    "When cleaning up data, you may find multiple spaces at the beginning and end of a string. The `strip()` method removes all whitespace from the beginning and end. \n",
    "\n",
    "The syntax is `string.strip(characters)`. The `characters` parameter allows you to remove a specific set of characters.\n",
    "\n",
    "Look at the code snippet below."
   ]
  },
  {
   "cell_type": "code",
   "execution_count": 53,
   "id": "76183bd2",
   "metadata": {},
   "outputs": [
    {
     "data": {
      "text/plain": [
       "'Python'"
      ]
     },
     "execution_count": 53,
     "metadata": {},
     "output_type": "execute_result"
    }
   ],
   "source": [
    "courses = \"   Python      \"\n",
    "courses.strip()"
   ]
  },
  {
   "attachments": {},
   "cell_type": "markdown",
   "id": "e11bd65b",
   "metadata": {},
   "source": [
    "Sometimes you want to either remove space from the left side of a string or the right side of a string. The `lstrip` and `rstrip` methods do this.\n",
    "\n",
    "In the cell below, remove the white space from the string."
   ]
  },
  {
   "cell_type": "code",
   "execution_count": 54,
   "id": "517de964",
   "metadata": {},
   "outputs": [],
   "source": [
    "courses = \" Deep Learning \"\n"
   ]
  },
  {
   "attachments": {},
   "cell_type": "markdown",
   "id": "ffba8668",
   "metadata": {},
   "source": [
    "It's also possible to specify which character to remove."
   ]
  },
  {
   "cell_type": "code",
   "execution_count": 55,
   "id": "6cd4df1d",
   "metadata": {},
   "outputs": [
    {
     "data": {
      "text/plain": [
       "'Deep learning'"
      ]
     },
     "execution_count": 55,
     "metadata": {},
     "output_type": "execute_result"
    }
   ],
   "source": [
    "courses = \",,,,,Deep learning,,,,\"\n",
    "courses.strip(\",\")"
   ]
  },
  {
   "attachments": {},
   "cell_type": "markdown",
   "id": "bfc9194c",
   "metadata": {},
   "source": [
    "#### Uppercase strings\n",
    "\n",
    "The `upper()` method will take a string and convert it to a string of upper-case letters.\n",
    "\n",
    "The syntax is `course.upper()`. Note that numbers are ignored.\n"
   ]
  },
  {
   "cell_type": "code",
   "execution_count": 56,
   "id": "7dd6434c",
   "metadata": {},
   "outputs": [
    {
     "data": {
      "text/plain": [
       "'PYTHON'"
      ]
     },
     "execution_count": 56,
     "metadata": {},
     "output_type": "execute_result"
    }
   ],
   "source": [
    "course = \"python\"\n",
    "course.upper()"
   ]
  },
  {
   "attachments": {},
   "cell_type": "markdown",
   "id": "2e3b5f3b",
   "metadata": {},
   "source": [
    "\n",
    "In the cell below make the string all uppercase.\n"
   ]
  },
  {
   "cell_type": "code",
   "execution_count": null,
   "id": "4107b402",
   "metadata": {},
   "outputs": [],
   "source": [
    "courseText = \"Python is a programming language\""
   ]
  },
  {
   "attachments": {},
   "cell_type": "markdown",
   "id": "a0272766",
   "metadata": {},
   "source": [
    "#### Lowercase strings\n",
    "\n",
    "The `lower()` method will take a string and convert it to a string of upper-case letters.\n",
    "\n",
    "The syntax is `course.lower()`. Note that numbers are ignored."
   ]
  },
  {
   "cell_type": "code",
   "execution_count": 57,
   "id": "96bcfd55",
   "metadata": {},
   "outputs": [
    {
     "data": {
      "text/plain": [
       "'python'"
      ]
     },
     "execution_count": 57,
     "metadata": {},
     "output_type": "execute_result"
    }
   ],
   "source": [
    "course = \"PYTHON\"\n",
    "course.lower()"
   ]
  },
  {
   "attachments": {},
   "cell_type": "markdown",
   "id": "924f1efb",
   "metadata": {},
   "source": [
    "In the cell below make the string all lowercase."
   ]
  },
  {
   "cell_type": "code",
   "execution_count": null,
   "id": "02a64638",
   "metadata": {},
   "outputs": [],
   "source": [
    "courseText = \"Python Is A programming language\""
   ]
  },
  {
   "attachments": {},
   "cell_type": "markdown",
   "id": "52a943dd",
   "metadata": {},
   "source": [
    "#### Checking if a string starts with a character\n",
    "\n",
    "It can be useful to know if a string starts with a prefix of characters. The `startswith` method returns true if a string starts with a specified value.\n",
    "\n",
    "The syntax is `string.startswith(value,start,end)`. \n",
    "\n",
    "Where `value` is the string to search for. \n",
    "`Start` and `end` are optional values if you want to specify the position in the string.\n",
    "\n",
    "Run the code snippet below."
   ]
  },
  {
   "cell_type": "code",
   "execution_count": 58,
   "id": "6e25f1e5",
   "metadata": {},
   "outputs": [
    {
     "data": {
      "text/plain": [
       "True"
      ]
     },
     "execution_count": 58,
     "metadata": {},
     "output_type": "execute_result"
    }
   ],
   "source": [
    "course = \"1. Python\"\n",
    "course.startswith(\"1.\")"
   ]
  },
  {
   "attachments": {},
   "cell_type": "markdown",
   "id": "a1106041",
   "metadata": {},
   "source": [
    "Notice how when we invoke this method, it returns `True`. You might wonder what you'd do with this. Sometimes you create code to handle specific cases, knowing if a string starts with something by a boolean value, means you can address this case. We will look at this when we cover conditional statements.\n",
    "\n",
    "In the cell below check to see if the string starts with a `\" \"`."
   ]
  },
  {
   "cell_type": "code",
   "execution_count": null,
   "id": "1fdff408",
   "metadata": {},
   "outputs": [],
   "source": [
    "course = \" Python\""
   ]
  },
  {
   "attachments": {},
   "cell_type": "markdown",
   "id": "e299a524",
   "metadata": {},
   "source": [
    "#### Checking if a string ends with a set of characters\n",
    "\n",
    "Similar to `startswith()`, `endswith()` checks if a string has a suffix of another string. \n",
    "\n",
    "The syntax is `string.endswith(value,start,end)`. Where `value` is the required parameters for a value to check. `start` and `end` are optional values to specify which position in the string.\n",
    "\n",
    "Run the cell below."
   ]
  },
  {
   "cell_type": "code",
   "execution_count": 60,
   "id": "11a18840",
   "metadata": {},
   "outputs": [
    {
     "data": {
      "text/plain": [
       "True"
      ]
     },
     "execution_count": 60,
     "metadata": {},
     "output_type": "execute_result"
    }
   ],
   "source": [
    "courses = \"Python Deep Learning.\"\n",
    "courses.endswith(\".\")"
   ]
  },
  {
   "attachments": {},
   "cell_type": "markdown",
   "id": "ae2ebd93",
   "metadata": {},
   "source": [
    "In the cell below check if the string ends in `.py`"
   ]
  },
  {
   "cell_type": "code",
   "execution_count": 61,
   "id": "0b073a67",
   "metadata": {},
   "outputs": [],
   "source": [
    "filename = \"Python Principles.py\""
   ]
  },
  {
   "attachments": {},
   "cell_type": "markdown",
   "id": "66d0877d",
   "metadata": {},
   "source": [
    "#### Custom formatting of a string\n",
    "\n",
    "We looked at string interpolation using the f-strings above. However, sometimes you want to define a template string in one part of the code and use that template string in another. The format method formats specified values and inserts them into a string placeholder defined by `{}`. \n",
    "\n",
    "The syntax for the format method `string.format(value1,value2...)`. The `value1` required must be a list or `key=value` list.\n",
    "\n",
    "Some examples will help clarify this."
   ]
  },
  {
   "cell_type": "code",
   "execution_count": 65,
   "id": "52b0b615",
   "metadata": {},
   "outputs": [
    {
     "data": {
      "text/plain": [
       "\"My name is John, I'm 36\""
      ]
     },
     "execution_count": 65,
     "metadata": {},
     "output_type": "execute_result"
    }
   ],
   "source": [
    "txt1 = \"My name is {fname}, I'm {age}\".format(fname=\"John\", age=36)\n",
    "txt1"
   ]
  },
  {
   "attachments": {},
   "cell_type": "markdown",
   "id": "ac7d8972",
   "metadata": {},
   "source": [
    "The placeholders are `fname` and `age`. The format method is using the `key=value` list seperated by a comma, to define what those placeholders should have.\n",
    "\n",
    "The placeholders can also be identified by names as above, numbered indexes like `{0}` or empty placeholders."
   ]
  },
  {
   "cell_type": "code",
   "execution_count": 67,
   "id": "b4d04e63",
   "metadata": {},
   "outputs": [
    {
     "data": {
      "text/plain": [
       "\"My name is John, I'm 36\""
      ]
     },
     "execution_count": 67,
     "metadata": {},
     "output_type": "execute_result"
    }
   ],
   "source": [
    "txt2=\"My name is {0}, I'm {1}\".format(\"John\",36)  \n",
    "txt2"
   ]
  },
  {
   "attachments": {},
   "cell_type": "markdown",
   "id": "7eb1d416",
   "metadata": {},
   "source": [
    "Here we using a index position `{0}` which corresponds to `John` and `{1}` corresponds to `36`."
   ]
  },
  {
   "cell_type": "code",
   "execution_count": 68,
   "id": "39cbbcfe",
   "metadata": {},
   "outputs": [
    {
     "data": {
      "text/plain": [
       "\"My name is John, I'm 36\""
      ]
     },
     "execution_count": 68,
     "metadata": {},
     "output_type": "execute_result"
    }
   ],
   "source": [
    "txt3 =\"My name is {}, I'm {}\".format(\"John\",36)\n",
    "txt3"
   ]
  },
  {
   "attachments": {},
   "cell_type": "markdown",
   "id": "bc6afab5",
   "metadata": {},
   "source": [
    "Here we're using empty placeholders `{}` the first empty place holder refers to `John` and the second placeholder `{}` refers to `36`\n",
    "\n",
    "We can use a list of values we want to insert. For example run the snippet below. "
   ]
  },
  {
   "cell_type": "code",
   "execution_count": 71,
   "id": "01b1122c",
   "metadata": {},
   "outputs": [
    {
     "data": {
      "text/plain": [
       "'https://api.stackexchange.com/2.3/questions/1334;1234;1213?site=stackoverflow'"
      ]
     },
     "execution_count": 71,
     "metadata": {},
     "output_type": "execute_result"
    }
   ],
   "source": [
    "BASE_URL =\"https://api.stackexchange.com/2.3/questions/{ids}?site={site}\"\n",
    "\n",
    "question_ids = ['1334','1234','1213']\n",
    "url_for_questions = BASE_URL.format(\n",
    "\tsite=\"stackoverflow\", \n",
    "\tids=\";\".join(question_ids))\n",
    "url_for_questions"
   ]
  },
  {
   "attachments": {},
   "cell_type": "markdown",
   "id": "43e22f44",
   "metadata": {},
   "source": [
    "The `BASE_URL` string is the templated string with `{ids}` and `{site}` as placeholders. We invoke the format method specifying the `site` placeholder takes a specific value like before. However, we want the ids to be different. `\";\".join(question_ids)\"` takes the list `question_ids` and returns a string seperated by semicolons."
   ]
  },
  {
   "attachments": {},
   "cell_type": "markdown",
   "id": "8620d13e",
   "metadata": {},
   "source": [
    "### Counting substrings \n",
    "\n",
    "Sometimes we want to count the number of substrings within a string. The `count()` method allows us to do this. It returns the number of times a substring is found. \n",
    "\n",
    "The syntax is `string.count(value,start,end)`. `value` is the required parameter to search for in the string. The `start` and `end` parameters are optional numbers to specify where within the string you wish to search for."
   ]
  },
  {
   "cell_type": "code",
   "execution_count": 72,
   "id": "174272da",
   "metadata": {},
   "outputs": [
    {
     "data": {
      "text/plain": [
       "2"
      ]
     },
     "execution_count": 72,
     "metadata": {},
     "output_type": "execute_result"
    }
   ],
   "source": [
    "courses = \"Python, Deep Learning, Data Science, Python2\"\n",
    "courses.count(\"Python\")"
   ]
  },
  {
   "attachments": {},
   "cell_type": "markdown",
   "id": "79b68c9a",
   "metadata": {},
   "source": [
    "In the cell below, count the number of times a space is in the string."
   ]
  },
  {
   "cell_type": "code",
   "execution_count": null,
   "id": "37446b3b",
   "metadata": {},
   "outputs": [],
   "source": [
    "courses = \"Anatomy Physiology Pharmacology Clinical Sciences\" "
   ]
  },
  {
   "attachments": {},
   "cell_type": "markdown",
   "id": "2c49a850",
   "metadata": {},
   "source": [
    "#### Removing a prefix\n",
    "\n",
    "The `removeprefix` method can be used to remove a prefix from a string. \n",
    "\n",
    "The syntax is `string.removeprefix(value)` where `value` is the string you wish to remove.\n",
    "\n",
    "Run the cell below."
   ]
  },
  {
   "cell_type": "code",
   "execution_count": 73,
   "id": "356a9ad2",
   "metadata": {},
   "outputs": [
    {
     "data": {
      "text/plain": [
       "'Anatomy'"
      ]
     },
     "execution_count": 73,
     "metadata": {},
     "output_type": "execute_result"
    }
   ],
   "source": [
    "course = \"1. Anatomy\"\n",
    "course.removeprefix(\"1. \")"
   ]
  },
  {
   "attachments": {},
   "cell_type": "markdown",
   "id": "7c8fcee7",
   "metadata": {},
   "source": [
    "In the cell below, remove the first few characters of the string so the first character of the string is `P`."
   ]
  },
  {
   "cell_type": "code",
   "execution_count": null,
   "id": "7845f1e1",
   "metadata": {},
   "outputs": [],
   "source": [
    "course = \"## Python\""
   ]
  },
  {
   "attachments": {},
   "cell_type": "markdown",
   "id": "32c7bec6",
   "metadata": {},
   "source": [
    "#### Removing a suffix\n",
    "\n",
    "Similar to `removeprefix`, `removesuffix` method can be used to remove a suffix from a string. \n",
    "\n",
    "The syntax is `string.removesuffix(value)` where `value` is the string you wish to remove.\n",
    "\n",
    "Run the cell below."
   ]
  },
  {
   "cell_type": "code",
   "execution_count": 74,
   "id": "5d46deef",
   "metadata": {},
   "outputs": [
    {
     "data": {
      "text/plain": [
       "'Anatomy'"
      ]
     },
     "execution_count": 74,
     "metadata": {},
     "output_type": "execute_result"
    }
   ],
   "source": [
    "course = \"Anatomy ###\"\n",
    "course.removesuffix(\" ###\")"
   ]
  },
  {
   "attachments": {},
   "cell_type": "markdown",
   "id": "24aa9af8",
   "metadata": {},
   "source": [
    "In the cell below, remove the last few characters `***`"
   ]
  },
  {
   "cell_type": "code",
   "execution_count": null,
   "id": "2aec1ce7",
   "metadata": {},
   "outputs": [],
   "source": [
    "course = \"Python ***\""
   ]
  },
  {
   "attachments": {},
   "cell_type": "markdown",
   "id": "8b7a8bfa",
   "metadata": {},
   "source": [
    "This wraps up the most common string methods in Python. Don't be too disheartened by the number of methods. Most of them you won't need to use and knowing where to look is often more important than memorising. \n",
    "\n",
    "Here's the list of the most useful string methods roughly in order.\n",
    "\n",
    "1.  `join`: Join iterable of strings by a separator\n",
    "2.  `split`: Split (on whitespace by default) into list of strings\n",
    "3.  `replace`: Replace all copies of one substring with another\n",
    "4.  `strip`: Remove whitespace from the beginning and end\n",
    "5. `upper` changes all lowercase letters to upper case within the string\n",
    "6. `lower` changes all uppercase letters to uppercase\n",
    "7.  `startswith` & `endswith`: Check if string starts/ends with 1 or more other strings\n",
    "8.  `format`: Format the string (consider an f-string before this)\n",
    "9.  `count`: Count how many times a given substring occurs\n",
    "10.  `removeprefix` & `removesuffix`: Remove the given prefix/suffix"
   ]
  },
  {
   "attachments": {},
   "cell_type": "markdown",
   "id": "d1cfb7a8",
   "metadata": {},
   "source": [
    "### Dictionary Methods"
   ]
  },
  {
   "attachments": {},
   "cell_type": "markdown",
   "id": "c6b095ab",
   "metadata": {},
   "source": [
    "Below are some of the common dictionary methods you will come into contact with. "
   ]
  },
  {
   "attachments": {},
   "cell_type": "markdown",
   "id": "2d6fa23c",
   "metadata": {},
   "source": [
    "##### Accessing a dictionary value\n",
    "\n",
    "The `get()` method returns the value of an item with a specified key. \n",
    "\n",
    "The syntax is `dictionary.get(keyname,value)` where `keyname` is the keyname of the item you want to return value from. The `value` is an optional parameter of a value you want to return if the key does not exist.\n",
    "\n",
    "Run the code snippet below.\n"
   ]
  },
  {
   "attachments": {},
   "cell_type": "markdown",
   "metadata": {},
   "source": []
  },
  {
   "cell_type": "code",
   "execution_count": 77,
   "id": "1b309eb7",
   "metadata": {},
   "outputs": [
    {
     "data": {
      "text/plain": [
       "'Edinburgh'"
      ]
     },
     "execution_count": 77,
     "metadata": {},
     "output_type": "execute_result"
    }
   ],
   "source": [
    "capitals = {\n",
    "\t'Scotland':'Edinburgh',\n",
    "\t'England':'London',\n",
    "\t'France':'Paris'\n",
    "}\n",
    "\n",
    "capitals.get('Scotland')"
   ]
  },
  {
   "attachments": {},
   "cell_type": "markdown",
   "id": "25423822",
   "metadata": {},
   "source": [
    "The get method is invoked on the `capitals` dictionary, with `Scotland` passed as an argument. The return value is `Edinburgh`.\n",
    "\n",
    "In the cell below, find the value of the `France` key in the dictionary."
   ]
  },
  {
   "attachments": {},
   "cell_type": "markdown",
   "id": "f5702ac5",
   "metadata": {},
   "source": [
    "#### Return a list of keys in a dictionary\n",
    "\n",
    "Sometimes you want to know how many keys there are in a dictionary. The `keys` method returns a list of all keys in a dictionary.\n",
    "\n",
    "The syntax is `dictionary.keys()`, there are no parameters for this method."
   ]
  },
  {
   "cell_type": "code",
   "execution_count": 85,
   "id": "f850c786",
   "metadata": {},
   "outputs": [
    {
     "data": {
      "text/plain": [
       "dict_keys(['Scotland', 'England', 'France'])"
      ]
     },
     "execution_count": 85,
     "metadata": {},
     "output_type": "execute_result"
    }
   ],
   "source": [
    "capitals = {\n",
    "\t'Scotland':'Edinburgh',\n",
    "\t'England':'London',\n",
    "\t'France':'Paris'\n",
    "}\n",
    "\n",
    "capitals.keys()"
   ]
  },
  {
   "attachments": {},
   "cell_type": "markdown",
   "id": "e3000cb7",
   "metadata": {},
   "source": [
    "In the cell above, we are invoking the key method on the dictionary `capitals` which returns a list of key names.\n",
    "\n",
    "In the cell below, return a list of all keys in the dictionary."
   ]
  },
  {
   "cell_type": "code",
   "execution_count": null,
   "id": "5a998e80",
   "metadata": {},
   "outputs": [],
   "source": [
    "capitals = {\n",
    "\t'Course1':'Python',\n",
    "\t'Course2':'Deep Learning',\n",
    "\t'Course3':'Machine Learning'\n",
    "}"
   ]
  },
  {
   "attachments": {},
   "cell_type": "markdown",
   "id": "f3cda26a",
   "metadata": {},
   "source": [
    "#### Returning values of a dictionary\n",
    "\n",
    "Like the `key()` method, we can return a list of all values of a dictionary using the `value()` method. \n",
    "\n",
    "The syntax is `dictionary.values()`. "
   ]
  },
  {
   "cell_type": "code",
   "execution_count": 82,
   "id": "6f45fdf4",
   "metadata": {},
   "outputs": [
    {
     "data": {
      "text/plain": [
       "dict_values(['Python', 'Deep Learning', 'Machine Learning'])"
      ]
     },
     "execution_count": 82,
     "metadata": {},
     "output_type": "execute_result"
    }
   ],
   "source": [
    "capitals = {\n",
    "\t'Course1':'Python',\n",
    "\t'Course2':'Deep Learning',\n",
    "\t'Course3':'Machine Learning'\n",
    "}\n",
    "capitals.values()"
   ]
  },
  {
   "attachments": {},
   "cell_type": "markdown",
   "id": "bfd77c53",
   "metadata": {},
   "source": [
    "We invoked the `values` method and which returns a list of all values of the dictionary `capitals`.\n",
    "\n",
    "In the cell below, return a list of all values of the dictionary."
   ]
  },
  {
   "cell_type": "code",
   "execution_count": null,
   "id": "08fe8c8c",
   "metadata": {},
   "outputs": [],
   "source": [
    "capitals = {\n",
    "\t'Scotland':'Edinburgh',\n",
    "\t'England':'London',\n",
    "\t'France':'Paris'\n",
    "}"
   ]
  },
  {
   "attachments": {},
   "cell_type": "markdown",
   "id": "036330b5",
   "metadata": {},
   "source": [
    "Sometimes you want to have access to both keys and values in a dictionary. We can use the `item()` method to return a list of tuples.\n",
    "\n",
    "Run the snippet below to see the items method at work."
   ]
  },
  {
   "cell_type": "code",
   "execution_count": 84,
   "id": "a70feaa9",
   "metadata": {},
   "outputs": [
    {
     "data": {
      "text/plain": [
       "dict_items([('Scotland', 'Edinburgh'), ('England', 'London'), ('France', 'Paris')])"
      ]
     },
     "execution_count": 84,
     "metadata": {},
     "output_type": "execute_result"
    }
   ],
   "source": [
    "capitals = {\n",
    "\t'Scotland':'Edinburgh',\n",
    "\t'England':'London',\n",
    "\t'France':'Paris'\n",
    "}\n",
    "capitals.items()"
   ]
  },
  {
   "attachments": {},
   "cell_type": "markdown",
   "id": "c9474427",
   "metadata": {},
   "source": [
    "The return is a list of tuples each containing the key and value pair. \n",
    "\n",
    "#### Removing Items\n",
    "\n",
    "There are a couple of ways to remove items from a dictionary. \n",
    "\n",
    "The simplest way is to use the `del` keyword with a specific key name."
   ]
  },
  {
   "cell_type": "code",
   "execution_count": 87,
   "id": "37dd92c1",
   "metadata": {},
   "outputs": [
    {
     "data": {
      "text/plain": [
       "{'England': 'London', 'France': 'Paris'}"
      ]
     },
     "execution_count": 87,
     "metadata": {},
     "output_type": "execute_result"
    }
   ],
   "source": [
    "capitals = {\n",
    "\t'Scotland':'Edinburgh',\n",
    "\t'England':'London',\n",
    "\t'France':'Paris'\n",
    "}\n",
    "del capitals['Scotland']\n",
    "capitals"
   ]
  },
  {
   "attachments": {},
   "cell_type": "markdown",
   "id": "73bab470",
   "metadata": {},
   "source": [
    "### Tuple Methods"
   ]
  },
  {
   "attachments": {},
   "cell_type": "markdown",
   "id": "598519dc",
   "metadata": {},
   "source": [
    "Tuples are unchangable, so we can't change, add or remove items once the tuple has been created. There are a couple of methods we can use on tuples as well as a useful way to extract values from tuples worth knowing about. \n"
   ]
  },
  {
   "attachments": {},
   "cell_type": "markdown",
   "id": "1ca377b2",
   "metadata": {},
   "source": [
    "### Counting a tuple\n",
    "\n",
    "The `count()` method on a tuple returns the number of times a specified value occurs. It has one required parameter which is the value to search for within the tuple for the number of items.\n",
    "\n",
    "The syntax is `tuple.count(elmnt)`\n",
    "\n",
    "Run the snippet below to see an illustration of this method."
   ]
  },
  {
   "cell_type": "code",
   "execution_count": 89,
   "id": "1eff74a0",
   "metadata": {},
   "outputs": [
    {
     "data": {
      "text/plain": [
       "1"
      ]
     },
     "execution_count": 89,
     "metadata": {},
     "output_type": "execute_result"
    }
   ],
   "source": [
    "courses = ('Python','Data Science', 'Machine Learning' ,'Deep Learning')\n",
    "courses.count('Python')"
   ]
  },
  {
   "attachments": {},
   "cell_type": "markdown",
   "id": "ed164965",
   "metadata": {},
   "source": [
    "In the cell below, count the number of times `Python` appears."
   ]
  },
  {
   "cell_type": "code",
   "execution_count": null,
   "id": "aa87d0ef",
   "metadata": {},
   "outputs": [],
   "source": []
  },
  {
   "attachments": {},
   "cell_type": "markdown",
   "id": "4bcaaf72",
   "metadata": {},
   "source": [
    "It's also possible to return the index value of a tuple item using the built-in `index()` method. It has one required parameter which is the value you wish to search for the index of.\n",
    "\n",
    "The syntax is `tuple.index(value)`"
   ]
  },
  {
   "cell_type": "code",
   "execution_count": 90,
   "id": "26280603",
   "metadata": {},
   "outputs": [
    {
     "data": {
      "text/plain": [
       "2"
      ]
     },
     "execution_count": 90,
     "metadata": {},
     "output_type": "execute_result"
    }
   ],
   "source": [
    "courses = ('Python','Data Science', 'Machine Learning' ,'Deep Learning')\n",
    "courses.index('Machine Learning')"
   ]
  },
  {
   "attachments": {},
   "cell_type": "markdown",
   "id": "e3d26025",
   "metadata": {},
   "source": [
    "In the tuple below, search for which index `Deep Learning` is"
   ]
  },
  {
   "cell_type": "code",
   "execution_count": null,
   "id": "1e4fc005",
   "metadata": {},
   "outputs": [],
   "source": [
    "courses = ('Python','Data Science', 'Machine Learning' ,'Deep Learning')"
   ]
  },
  {
   "attachments": {},
   "cell_type": "markdown",
   "id": "b74b2a3b",
   "metadata": {},
   "source": [
    "##### Unpack a tuple\n",
    "\n",
    "When we create a tuple we usually assign values to it. We can also extract values back from a variable in a procedure called **unpacking**."
   ]
  },
  {
   "cell_type": "code",
   "execution_count": 91,
   "id": "61db5d8c",
   "metadata": {},
   "outputs": [
    {
     "name": "stdout",
     "output_type": "stream",
     "text": [
      "Python\n",
      "Data Science\n",
      "Machine Learning\n"
     ]
    }
   ],
   "source": [
    "courses = ('Python','Data Science', 'Machine Learning')\n",
    "\n",
    "(course1,course2,course3) = courses\n",
    "print(course1)\n",
    "print(course2)\n",
    "print(course3)"
   ]
  },
  {
   "attachments": {},
   "cell_type": "markdown",
   "id": "b344d266",
   "metadata": {},
   "source": [
    "You can see from this example that we essentially declare `courses1`, `courses2`, and `course3` to the respective values of the tuple. \n",
    "\n",
    "There may be a situation where the number of variables is less than the number of values within the tuple. We can add an asterisk `*` to a variable name and the values will be assigned to the variable as a list. "
   ]
  },
  {
   "cell_type": "code",
   "execution_count": 93,
   "id": "cc2a742b",
   "metadata": {},
   "outputs": [
    {
     "name": "stdout",
     "output_type": "stream",
     "text": [
      "Python\n",
      "Data Science\n",
      "['Machine Learning', 'Deep Learning']\n"
     ]
    }
   ],
   "source": [
    "courses = ('Python','Data Science', 'Machine Learning' ,'Deep Learning')\n",
    "\n",
    "(courses1, courses2, *newCourses) = courses\n",
    "\n",
    "print(courses1)\n",
    "print(courses2)\n",
    "print(newCourses)"
   ]
  },
  {
   "attachments": {},
   "cell_type": "markdown",
   "id": "730a31d2",
   "metadata": {},
   "source": [
    "In this example, we're declaring `courses1` and `courses2` with the assigned valued `Python` and `Data Science` respectively. The variable `newCourses` is assigned a list with the rest of the values in the tuple. "
   ]
  },
  {
   "attachments": {},
   "cell_type": "markdown",
   "id": "9c028fc9",
   "metadata": {},
   "source": [
    "### Check your understanding\n",
    "\n",
    "1. What is an operator ? \n",
    "2. What is an operand ? \n",
    "3. What is an example of the augment assignment operator ? \n",
    "4. In which circumstances conditional expressions using the `and` keyword evaluate to true\n",
    "or false ?\n",
    "5. In which circumstance conditional expressions using the `or` keyword evaluate to `True` or `False` ?\n",
    "6. What operator checks if a value is in a list ? \n",
    "7. When comparing data types to each other, what is the difference between identity and equality ?\n",
    "8. What is a method ? \n",
    "9. What is a parameter and what is an argument ? \n",
    "10. Can you give an example of unpacking a tuple ? \n",
    "11. Can you give an example of returning the keys of a dictionary ? \n",
    "\n",
    "### Summary\n",
    "\n",
    "This section has covered a lot of material that will need time to sink in. The building blocks of manipulating different data types and understanding the built-in functions are fundamental to problem solving in Python. Memorising all the different functions and methods is not necessary, with problem solving it wil become easier. We have provided the commonly used ones for you to be able to problem solve easily. \n",
    "\n",
    "Take some time with the problems and refer back. "
   ]
  },
  {
   "attachments": {},
   "cell_type": "markdown",
   "id": "955772df",
   "metadata": {},
   "source": [
    "# Part 4: Controlling Data"
   ]
  },
  {
   "attachments": {},
   "cell_type": "markdown",
   "id": "2b47f49f",
   "metadata": {},
   "source": [
    "### Conditional Statements"
   ]
  },
  {
   "attachments": {},
   "cell_type": "markdown",
   "id": "39939d98",
   "metadata": {},
   "source": [
    "### Truthiness"
   ]
  },
  {
   "attachments": {},
   "cell_type": "markdown",
   "id": "c45ebeb4",
   "metadata": {},
   "source": [
    "### For loops"
   ]
  },
  {
   "attachments": {},
   "cell_type": "markdown",
   "id": "3641a892",
   "metadata": {},
   "source": [
    "### While Loops"
   ]
  },
  {
   "attachments": {},
   "cell_type": "markdown",
   "id": "4f0de2f3",
   "metadata": {},
   "source": [
    "### List Comprehensions"
   ]
  },
  {
   "attachments": {},
   "cell_type": "markdown",
   "id": "d142d15f",
   "metadata": {},
   "source": [
    "## Part 5: Structuring Code"
   ]
  },
  {
   "attachments": {},
   "cell_type": "markdown",
   "id": "87a261a5",
   "metadata": {},
   "source": [
    "### Functions"
   ]
  },
  {
   "attachments": {},
   "cell_type": "markdown",
   "id": "c2f9b17a",
   "metadata": {},
   "source": [
    "### Modules"
   ]
  },
  {
   "attachments": {},
   "cell_type": "markdown",
   "id": "dae225fa",
   "metadata": {},
   "source": [
    "### Namespace and Scope"
   ]
  },
  {
   "attachments": {},
   "cell_type": "markdown",
   "metadata": {},
   "source": [
    "### Variable Shadowing"
   ]
  },
  {
   "attachments": {},
   "cell_type": "markdown",
   "id": "9d60545f",
   "metadata": {},
   "source": [
    "## Part 7: Application"
   ]
  },
  {
   "cell_type": "markdown",
   "id": "128e4e1e",
   "metadata": {},
   "source": [
    "## Next steps"
   ]
  },
  {
   "attachments": {},
   "cell_type": "markdown",
   "id": "4802d298",
   "metadata": {},
   "source": []
  },
  {
   "cell_type": "markdown",
   "id": "ce1e133e",
   "metadata": {},
   "source": [
    "Fill out the form below and we'll provide feedback on your code.\n",
    "\n",
    "**Any feedback on the exercise? Any questions? Want feedback on your code? Please fill out the form [here](https://docs.google.com/forms/d/e/1FAIpQLSdoOjVom8YKf11LxJ_bWN40afFMsWcoJ-xOrKhMbfBzgxTS9A/viewform).**"
   ]
  },
  {
   "cell_type": "code",
   "execution_count": null,
   "id": "71cdd4ad",
   "metadata": {},
   "outputs": [],
   "source": []
  }
 ],
 "metadata": {
  "kernelspec": {
   "display_name": "Python 3",
   "language": "python",
   "name": "python3"
  },
  "language_info": {
   "codemirror_mode": {
    "name": "ipython",
    "version": 3
   },
   "file_extension": ".py",
   "mimetype": "text/x-python",
   "name": "python",
   "nbconvert_exporter": "python",
   "pygments_lexer": "ipython3",
   "version": "3.10.11"
  }
 },
 "nbformat": 4,
 "nbformat_minor": 5
}
