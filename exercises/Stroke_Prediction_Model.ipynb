{
 "cells": [
  {
   "cell_type": "markdown",
   "metadata": {},
   "source": [
    "# Predicting Strokes from Admission Data\n",
    "\n",
    "**In this exercise we are going to try to predict strokes from admission data using various machine learning models**\n",
    "\n",
    "This exercise uses a [stroke dataset from Kaggle](https://www.kaggle.com/datasets/fedesoriano/stroke-prediction-dataset).\n",
    "\n",
    "Like other exercises, this is a **classification problem** - where we will try to determine if people have a stroke or not from some commonly used clinical metrics. We will also learn about the problem of **_class imbalance_**: a particularly common issue in healthcare - and learn about some approaches to over coming it. Furthermore, we will learn how to **use data pipelines**: an approach that helps us clean and and transform our data into a form which is more effective for machine learning algorithms to interpret and learn with.\n",
    "\n",
    "\n",
    "In this exercise, we'll learn how to:\n",
    "- **Download data** and **load it into our Jupyter Notebook**\n",
    "- Import useful libraries like **pandas**, **sci-kit learn**, and **imbalanced-learn**\n",
    "- **Clean our data**, and **modify it with sci-kit learn pipelines**\n",
    "- Explore how we can manage **class imbalance**\n",
    "- Quantify our model with **various metrics**"
   ]
  },
  {
   "cell_type": "markdown",
   "metadata": {},
   "source": [
    "## Part 1: Downloading and Importing Data\n",
    "To begin with, let's setup our notebook with the necessary packages as well as grab the data from Kaggle!\n",
    "\n",
    "One option for doing this, is to set up a virtual environment on your computer. Popular virtual environments for Python are venv and conda. Here are some guides on how to do so: [**1**](https://protostar.space/why-you-need-python-environments-and-how-to-manage-them-with-conda) and [**2**](https://realpython.com/python-virtual-environments-a-primer/).\n",
    "\n",
    "The easiest way to get started, however, is just to run a \"command line argument\" from directly within our Jupyter notebook. We can do that by adding \"%\" to the start of our Jupyter Notebook cell. (This means we don't have to run it in a separate terminal.)"
   ]
  },
  {
   "cell_type": "code",
   "execution_count": 3,
   "metadata": {},
   "outputs": [],
   "source": [
    "%pip install pandas numpy matplotlib seaborn imbalanced-learn"
   ]
  },
  {
   "cell_type": "markdown",
   "metadata": {},
   "source": [
    "This makes sure our environment/colab instance has installed the latest versions of several commonly used data science packages."
   ]
  },
  {
   "cell_type": "code",
   "execution_count": 2,
   "metadata": {},
   "outputs": [],
   "source": [
    "# Setup matplotlib to display plots correctly within pandas\n",
    "%matplotlib inline\n",
    "\n",
    "# Import packages into our runtime\n",
    "import pandas as pd\n",
    "import numpy as np\n",
    "import matplotlib.pyplot as plt\n",
    "import seaborn as sns\n",
    "\n",
    "np.random.seed(42)"
   ]
  },
  {
   "cell_type": "markdown",
   "metadata": {},
   "source": [
    "### Download from Kaggle\n",
    "\n",
    "Those who have downloaded and setup the kaggle CLI (Command Line Interface) can run the following command to download the dataset:\n",
    "\n",
    "(TODO: add alternative description of how to download the data - e.g. not using the kaggle CLI call. Easiest is probably a description of navigating to the link, downloading it, putting it in the folder.)"
   ]
  },
  {
   "cell_type": "code",
   "execution_count": 5,
   "metadata": {},
   "outputs": [],
   "source": [
    "# Download the stroke prediction dataset into the ./data folder\n",
    "!kaggle datasets download -d fedesoriano/stroke-prediction-dataset --path ./data"
   ]
  },
  {
   "cell_type": "markdown",
   "metadata": {},
   "source": [
    "## Part 2: Data Exploration\n",
    "Now we have the data downloaded, we need to load this into a dataframe so we can explore it, and perform further analysis.\n",
    "\n",
    "We can either do this by unzipping the dataset or just loading it directly with pandas:"
   ]
  },
  {
   "cell_type": "code",
   "execution_count": 7,
   "metadata": {},
   "outputs": [],
   "source": [
    "# No need to unzip the file - we can load the .csv file within directly into a DataFrame (commonly notated as `df`)\n",
    "df = pd.read_csv(\"./data/stroke-prediction-dataset.zip\")\n",
    "df = df.rename({\"Residence_type\": \"residence_type\"}, axis=1)"
   ]
  },
  {
   "cell_type": "markdown",
   "metadata": {},
   "source": [
    "It is good practice to explore what data we are actually dealing with and get a *feel* for it. We should check for missing data, what data is present, and relevant datatypes!\n",
    "\n",
    "There are many ways of doing this with `pandas` ([API](https://pandas.pydata.org/docs/reference/frame.html#attributes-and-underlying-data)) - the most useful and commonly used methods being `head()`, `info()`, `describe()` initially:"
   ]
  },
  {
   "cell_type": "code",
   "execution_count": 8,
   "metadata": {},
   "outputs": [
    {
     "data": {
      "text/html": [
       "<div>\n",
       "<style scoped>\n",
       "    .dataframe tbody tr th:only-of-type {\n",
       "        vertical-align: middle;\n",
       "    }\n",
       "\n",
       "    .dataframe tbody tr th {\n",
       "        vertical-align: top;\n",
       "    }\n",
       "\n",
       "    .dataframe thead th {\n",
       "        text-align: right;\n",
       "    }\n",
       "</style>\n",
       "<table border=\"1\" class=\"dataframe\">\n",
       "  <thead>\n",
       "    <tr style=\"text-align: right;\">\n",
       "      <th></th>\n",
       "      <th>id</th>\n",
       "      <th>gender</th>\n",
       "      <th>age</th>\n",
       "      <th>hypertension</th>\n",
       "      <th>heart_disease</th>\n",
       "      <th>ever_married</th>\n",
       "      <th>work_type</th>\n",
       "      <th>residence_type</th>\n",
       "      <th>avg_glucose_level</th>\n",
       "      <th>bmi</th>\n",
       "      <th>smoking_status</th>\n",
       "      <th>stroke</th>\n",
       "    </tr>\n",
       "  </thead>\n",
       "  <tbody>\n",
       "    <tr>\n",
       "      <th>0</th>\n",
       "      <td>9046</td>\n",
       "      <td>Male</td>\n",
       "      <td>67.0</td>\n",
       "      <td>0</td>\n",
       "      <td>1</td>\n",
       "      <td>Yes</td>\n",
       "      <td>Private</td>\n",
       "      <td>Urban</td>\n",
       "      <td>228.69</td>\n",
       "      <td>36.6</td>\n",
       "      <td>formerly smoked</td>\n",
       "      <td>1</td>\n",
       "    </tr>\n",
       "    <tr>\n",
       "      <th>1</th>\n",
       "      <td>51676</td>\n",
       "      <td>Female</td>\n",
       "      <td>61.0</td>\n",
       "      <td>0</td>\n",
       "      <td>0</td>\n",
       "      <td>Yes</td>\n",
       "      <td>Self-employed</td>\n",
       "      <td>Rural</td>\n",
       "      <td>202.21</td>\n",
       "      <td>NaN</td>\n",
       "      <td>never smoked</td>\n",
       "      <td>1</td>\n",
       "    </tr>\n",
       "    <tr>\n",
       "      <th>2</th>\n",
       "      <td>31112</td>\n",
       "      <td>Male</td>\n",
       "      <td>80.0</td>\n",
       "      <td>0</td>\n",
       "      <td>1</td>\n",
       "      <td>Yes</td>\n",
       "      <td>Private</td>\n",
       "      <td>Rural</td>\n",
       "      <td>105.92</td>\n",
       "      <td>32.5</td>\n",
       "      <td>never smoked</td>\n",
       "      <td>1</td>\n",
       "    </tr>\n",
       "    <tr>\n",
       "      <th>3</th>\n",
       "      <td>60182</td>\n",
       "      <td>Female</td>\n",
       "      <td>49.0</td>\n",
       "      <td>0</td>\n",
       "      <td>0</td>\n",
       "      <td>Yes</td>\n",
       "      <td>Private</td>\n",
       "      <td>Urban</td>\n",
       "      <td>171.23</td>\n",
       "      <td>34.4</td>\n",
       "      <td>smokes</td>\n",
       "      <td>1</td>\n",
       "    </tr>\n",
       "    <tr>\n",
       "      <th>4</th>\n",
       "      <td>1665</td>\n",
       "      <td>Female</td>\n",
       "      <td>79.0</td>\n",
       "      <td>1</td>\n",
       "      <td>0</td>\n",
       "      <td>Yes</td>\n",
       "      <td>Self-employed</td>\n",
       "      <td>Rural</td>\n",
       "      <td>174.12</td>\n",
       "      <td>24.0</td>\n",
       "      <td>never smoked</td>\n",
       "      <td>1</td>\n",
       "    </tr>\n",
       "    <tr>\n",
       "      <th>5</th>\n",
       "      <td>56669</td>\n",
       "      <td>Male</td>\n",
       "      <td>81.0</td>\n",
       "      <td>0</td>\n",
       "      <td>0</td>\n",
       "      <td>Yes</td>\n",
       "      <td>Private</td>\n",
       "      <td>Urban</td>\n",
       "      <td>186.21</td>\n",
       "      <td>29.0</td>\n",
       "      <td>formerly smoked</td>\n",
       "      <td>1</td>\n",
       "    </tr>\n",
       "    <tr>\n",
       "      <th>6</th>\n",
       "      <td>53882</td>\n",
       "      <td>Male</td>\n",
       "      <td>74.0</td>\n",
       "      <td>1</td>\n",
       "      <td>1</td>\n",
       "      <td>Yes</td>\n",
       "      <td>Private</td>\n",
       "      <td>Rural</td>\n",
       "      <td>70.09</td>\n",
       "      <td>27.4</td>\n",
       "      <td>never smoked</td>\n",
       "      <td>1</td>\n",
       "    </tr>\n",
       "    <tr>\n",
       "      <th>7</th>\n",
       "      <td>10434</td>\n",
       "      <td>Female</td>\n",
       "      <td>69.0</td>\n",
       "      <td>0</td>\n",
       "      <td>0</td>\n",
       "      <td>No</td>\n",
       "      <td>Private</td>\n",
       "      <td>Urban</td>\n",
       "      <td>94.39</td>\n",
       "      <td>22.8</td>\n",
       "      <td>never smoked</td>\n",
       "      <td>1</td>\n",
       "    </tr>\n",
       "    <tr>\n",
       "      <th>8</th>\n",
       "      <td>27419</td>\n",
       "      <td>Female</td>\n",
       "      <td>59.0</td>\n",
       "      <td>0</td>\n",
       "      <td>0</td>\n",
       "      <td>Yes</td>\n",
       "      <td>Private</td>\n",
       "      <td>Rural</td>\n",
       "      <td>76.15</td>\n",
       "      <td>NaN</td>\n",
       "      <td>Unknown</td>\n",
       "      <td>1</td>\n",
       "    </tr>\n",
       "    <tr>\n",
       "      <th>9</th>\n",
       "      <td>60491</td>\n",
       "      <td>Female</td>\n",
       "      <td>78.0</td>\n",
       "      <td>0</td>\n",
       "      <td>0</td>\n",
       "      <td>Yes</td>\n",
       "      <td>Private</td>\n",
       "      <td>Urban</td>\n",
       "      <td>58.57</td>\n",
       "      <td>24.2</td>\n",
       "      <td>Unknown</td>\n",
       "      <td>1</td>\n",
       "    </tr>\n",
       "  </tbody>\n",
       "</table>\n",
       "</div>"
      ],
      "text/plain": [
       "      id  gender   age  hypertension  heart_disease ever_married  \\\n",
       "0   9046    Male  67.0             0              1          Yes   \n",
       "1  51676  Female  61.0             0              0          Yes   \n",
       "2  31112    Male  80.0             0              1          Yes   \n",
       "3  60182  Female  49.0             0              0          Yes   \n",
       "4   1665  Female  79.0             1              0          Yes   \n",
       "5  56669    Male  81.0             0              0          Yes   \n",
       "6  53882    Male  74.0             1              1          Yes   \n",
       "7  10434  Female  69.0             0              0           No   \n",
       "8  27419  Female  59.0             0              0          Yes   \n",
       "9  60491  Female  78.0             0              0          Yes   \n",
       "\n",
       "       work_type residence_type  avg_glucose_level   bmi   smoking_status  \\\n",
       "0        Private          Urban             228.69  36.6  formerly smoked   \n",
       "1  Self-employed          Rural             202.21   NaN     never smoked   \n",
       "2        Private          Rural             105.92  32.5     never smoked   \n",
       "3        Private          Urban             171.23  34.4           smokes   \n",
       "4  Self-employed          Rural             174.12  24.0     never smoked   \n",
       "5        Private          Urban             186.21  29.0  formerly smoked   \n",
       "6        Private          Rural              70.09  27.4     never smoked   \n",
       "7        Private          Urban              94.39  22.8     never smoked   \n",
       "8        Private          Rural              76.15   NaN          Unknown   \n",
       "9        Private          Urban              58.57  24.2          Unknown   \n",
       "\n",
       "   stroke  \n",
       "0       1  \n",
       "1       1  \n",
       "2       1  \n",
       "3       1  \n",
       "4       1  \n",
       "5       1  \n",
       "6       1  \n",
       "7       1  \n",
       "8       1  \n",
       "9       1  "
      ]
     },
     "execution_count": 8,
     "metadata": {},
     "output_type": "execute_result"
    }
   ],
   "source": [
    "# Let's have a look at the first 10 entries of the dataset\n",
    "df.head(10)"
   ]
  },
  {
   "cell_type": "code",
   "execution_count": 9,
   "metadata": {},
   "outputs": [
    {
     "name": "stdout",
     "output_type": "stream",
     "text": [
      "<class 'pandas.core.frame.DataFrame'>\n",
      "RangeIndex: 5110 entries, 0 to 5109\n",
      "Data columns (total 12 columns):\n",
      " #   Column             Non-Null Count  Dtype  \n",
      "---  ------             --------------  -----  \n",
      " 0   id                 5110 non-null   int64  \n",
      " 1   gender             5110 non-null   object \n",
      " 2   age                5110 non-null   float64\n",
      " 3   hypertension       5110 non-null   int64  \n",
      " 4   heart_disease      5110 non-null   int64  \n",
      " 5   ever_married       5110 non-null   object \n",
      " 6   work_type          5110 non-null   object \n",
      " 7   residence_type     5110 non-null   object \n",
      " 8   avg_glucose_level  5110 non-null   float64\n",
      " 9   bmi                4909 non-null   float64\n",
      " 10  smoking_status     5110 non-null   object \n",
      " 11  stroke             5110 non-null   int64  \n",
      "dtypes: float64(3), int64(4), object(5)\n",
      "memory usage: 479.2+ KB\n"
     ]
    }
   ],
   "source": [
    "df.info()"
   ]
  },
  {
   "cell_type": "code",
   "execution_count": 10,
   "metadata": {},
   "outputs": [
    {
     "data": {
      "text/html": [
       "<div>\n",
       "<style scoped>\n",
       "    .dataframe tbody tr th:only-of-type {\n",
       "        vertical-align: middle;\n",
       "    }\n",
       "\n",
       "    .dataframe tbody tr th {\n",
       "        vertical-align: top;\n",
       "    }\n",
       "\n",
       "    .dataframe thead th {\n",
       "        text-align: right;\n",
       "    }\n",
       "</style>\n",
       "<table border=\"1\" class=\"dataframe\">\n",
       "  <thead>\n",
       "    <tr style=\"text-align: right;\">\n",
       "      <th></th>\n",
       "      <th>id</th>\n",
       "      <th>age</th>\n",
       "      <th>hypertension</th>\n",
       "      <th>heart_disease</th>\n",
       "      <th>avg_glucose_level</th>\n",
       "      <th>bmi</th>\n",
       "      <th>stroke</th>\n",
       "    </tr>\n",
       "  </thead>\n",
       "  <tbody>\n",
       "    <tr>\n",
       "      <th>count</th>\n",
       "      <td>5110.000000</td>\n",
       "      <td>5110.000000</td>\n",
       "      <td>5110.000000</td>\n",
       "      <td>5110.000000</td>\n",
       "      <td>5110.000000</td>\n",
       "      <td>4909.000000</td>\n",
       "      <td>5110.000000</td>\n",
       "    </tr>\n",
       "    <tr>\n",
       "      <th>mean</th>\n",
       "      <td>36517.829354</td>\n",
       "      <td>43.226614</td>\n",
       "      <td>0.097456</td>\n",
       "      <td>0.054012</td>\n",
       "      <td>106.147677</td>\n",
       "      <td>28.893237</td>\n",
       "      <td>0.048728</td>\n",
       "    </tr>\n",
       "    <tr>\n",
       "      <th>std</th>\n",
       "      <td>21161.721625</td>\n",
       "      <td>22.612647</td>\n",
       "      <td>0.296607</td>\n",
       "      <td>0.226063</td>\n",
       "      <td>45.283560</td>\n",
       "      <td>7.854067</td>\n",
       "      <td>0.215320</td>\n",
       "    </tr>\n",
       "    <tr>\n",
       "      <th>min</th>\n",
       "      <td>67.000000</td>\n",
       "      <td>0.080000</td>\n",
       "      <td>0.000000</td>\n",
       "      <td>0.000000</td>\n",
       "      <td>55.120000</td>\n",
       "      <td>10.300000</td>\n",
       "      <td>0.000000</td>\n",
       "    </tr>\n",
       "    <tr>\n",
       "      <th>25%</th>\n",
       "      <td>17741.250000</td>\n",
       "      <td>25.000000</td>\n",
       "      <td>0.000000</td>\n",
       "      <td>0.000000</td>\n",
       "      <td>77.245000</td>\n",
       "      <td>23.500000</td>\n",
       "      <td>0.000000</td>\n",
       "    </tr>\n",
       "    <tr>\n",
       "      <th>50%</th>\n",
       "      <td>36932.000000</td>\n",
       "      <td>45.000000</td>\n",
       "      <td>0.000000</td>\n",
       "      <td>0.000000</td>\n",
       "      <td>91.885000</td>\n",
       "      <td>28.100000</td>\n",
       "      <td>0.000000</td>\n",
       "    </tr>\n",
       "    <tr>\n",
       "      <th>75%</th>\n",
       "      <td>54682.000000</td>\n",
       "      <td>61.000000</td>\n",
       "      <td>0.000000</td>\n",
       "      <td>0.000000</td>\n",
       "      <td>114.090000</td>\n",
       "      <td>33.100000</td>\n",
       "      <td>0.000000</td>\n",
       "    </tr>\n",
       "    <tr>\n",
       "      <th>max</th>\n",
       "      <td>72940.000000</td>\n",
       "      <td>82.000000</td>\n",
       "      <td>1.000000</td>\n",
       "      <td>1.000000</td>\n",
       "      <td>271.740000</td>\n",
       "      <td>97.600000</td>\n",
       "      <td>1.000000</td>\n",
       "    </tr>\n",
       "  </tbody>\n",
       "</table>\n",
       "</div>"
      ],
      "text/plain": [
       "                 id          age  hypertension  heart_disease  \\\n",
       "count   5110.000000  5110.000000   5110.000000    5110.000000   \n",
       "mean   36517.829354    43.226614      0.097456       0.054012   \n",
       "std    21161.721625    22.612647      0.296607       0.226063   \n",
       "min       67.000000     0.080000      0.000000       0.000000   \n",
       "25%    17741.250000    25.000000      0.000000       0.000000   \n",
       "50%    36932.000000    45.000000      0.000000       0.000000   \n",
       "75%    54682.000000    61.000000      0.000000       0.000000   \n",
       "max    72940.000000    82.000000      1.000000       1.000000   \n",
       "\n",
       "       avg_glucose_level          bmi       stroke  \n",
       "count        5110.000000  4909.000000  5110.000000  \n",
       "mean          106.147677    28.893237     0.048728  \n",
       "std            45.283560     7.854067     0.215320  \n",
       "min            55.120000    10.300000     0.000000  \n",
       "25%            77.245000    23.500000     0.000000  \n",
       "50%            91.885000    28.100000     0.000000  \n",
       "75%           114.090000    33.100000     0.000000  \n",
       "max           271.740000    97.600000     1.000000  "
      ]
     },
     "execution_count": 10,
     "metadata": {},
     "output_type": "execute_result"
    }
   ],
   "source": [
    "# Describe is useful for looking at continuous data (i.e. int or float datatypes) - we can see it also has a look at data which is\n",
    "# stored as booleans, as well as ID's (i.e. the id, hypertension, heart_disease, and stroke coluns)\n",
    "\n",
    "# We can see\n",
    "df.describe()"
   ]
  },
  {
   "cell_type": "code",
   "execution_count": 11,
   "metadata": {},
   "outputs": [
    {
     "data": {
      "text/html": [
       "<div>\n",
       "<style scoped>\n",
       "    .dataframe tbody tr th:only-of-type {\n",
       "        vertical-align: middle;\n",
       "    }\n",
       "\n",
       "    .dataframe tbody tr th {\n",
       "        vertical-align: top;\n",
       "    }\n",
       "\n",
       "    .dataframe thead th {\n",
       "        text-align: right;\n",
       "    }\n",
       "</style>\n",
       "<table border=\"1\" class=\"dataframe\">\n",
       "  <thead>\n",
       "    <tr style=\"text-align: right;\">\n",
       "      <th></th>\n",
       "      <th>age</th>\n",
       "      <th>avg_glucose_level</th>\n",
       "      <th>bmi</th>\n",
       "    </tr>\n",
       "  </thead>\n",
       "  <tbody>\n",
       "    <tr>\n",
       "      <th>count</th>\n",
       "      <td>5110.000000</td>\n",
       "      <td>5110.000000</td>\n",
       "      <td>4909.000000</td>\n",
       "    </tr>\n",
       "    <tr>\n",
       "      <th>mean</th>\n",
       "      <td>43.226614</td>\n",
       "      <td>106.147677</td>\n",
       "      <td>28.893237</td>\n",
       "    </tr>\n",
       "    <tr>\n",
       "      <th>std</th>\n",
       "      <td>22.612647</td>\n",
       "      <td>45.283560</td>\n",
       "      <td>7.854067</td>\n",
       "    </tr>\n",
       "    <tr>\n",
       "      <th>min</th>\n",
       "      <td>0.080000</td>\n",
       "      <td>55.120000</td>\n",
       "      <td>10.300000</td>\n",
       "    </tr>\n",
       "    <tr>\n",
       "      <th>25%</th>\n",
       "      <td>25.000000</td>\n",
       "      <td>77.245000</td>\n",
       "      <td>23.500000</td>\n",
       "    </tr>\n",
       "    <tr>\n",
       "      <th>50%</th>\n",
       "      <td>45.000000</td>\n",
       "      <td>91.885000</td>\n",
       "      <td>28.100000</td>\n",
       "    </tr>\n",
       "    <tr>\n",
       "      <th>75%</th>\n",
       "      <td>61.000000</td>\n",
       "      <td>114.090000</td>\n",
       "      <td>33.100000</td>\n",
       "    </tr>\n",
       "    <tr>\n",
       "      <th>max</th>\n",
       "      <td>82.000000</td>\n",
       "      <td>271.740000</td>\n",
       "      <td>97.600000</td>\n",
       "    </tr>\n",
       "  </tbody>\n",
       "</table>\n",
       "</div>"
      ],
      "text/plain": [
       "               age  avg_glucose_level          bmi\n",
       "count  5110.000000        5110.000000  4909.000000\n",
       "mean     43.226614         106.147677    28.893237\n",
       "std      22.612647          45.283560     7.854067\n",
       "min       0.080000          55.120000    10.300000\n",
       "25%      25.000000          77.245000    23.500000\n",
       "50%      45.000000          91.885000    28.100000\n",
       "75%      61.000000         114.090000    33.100000\n",
       "max      82.000000         271.740000    97.600000"
      ]
     },
     "execution_count": 11,
     "metadata": {},
     "output_type": "execute_result"
    }
   ],
   "source": [
    "# We can exclude the boolean or ID data by selecting certain rows for example\n",
    "\n",
    "df[[\"age\", \"avg_glucose_level\", \"bmi\"]].describe()"
   ]
  },
  {
   "cell_type": "markdown",
   "metadata": {},
   "source": [
    "### Correlation and Graphing\n",
    "\n",
    "We can explore the data further by looking at the correlation of datasets - in this case using a [Pearson correlation](https://en.wikipedia.org/wiki/Pearson_correlation_coefficient), which looks for **linear** correlations between variables (non-linear correlations will not be identified)"
   ]
  },
  {
   "cell_type": "code",
   "execution_count": 14,
   "metadata": {},
   "outputs": [
    {
     "data": {
      "text/html": [
       "<style type=\"text/css\">\n",
       "#T_cb116_row0_col0, #T_cb116_row1_col1, #T_cb116_row2_col2, #T_cb116_row3_col3, #T_cb116_row4_col4, #T_cb116_row5_col5, #T_cb116_row6_col6 {\n",
       "  background-color: #b40426;\n",
       "  color: #f1f1f1;\n",
       "}\n",
       "#T_cb116_row0_col1, #T_cb116_row0_col2, #T_cb116_row0_col3, #T_cb116_row0_col4, #T_cb116_row0_col5, #T_cb116_row0_col6, #T_cb116_row3_col0, #T_cb116_row4_col0 {\n",
       "  background-color: #3b4cc0;\n",
       "  color: #f1f1f1;\n",
       "}\n",
       "#T_cb116_row1_col0, #T_cb116_row2_col0, #T_cb116_row5_col0, #T_cb116_row6_col0 {\n",
       "  background-color: #3c4ec2;\n",
       "  color: #f1f1f1;\n",
       "}\n",
       "#T_cb116_row1_col2, #T_cb116_row2_col1 {\n",
       "  background-color: #96b7ff;\n",
       "  color: #000000;\n",
       "}\n",
       "#T_cb116_row1_col3 {\n",
       "  background-color: #92b4fe;\n",
       "  color: #000000;\n",
       "}\n",
       "#T_cb116_row1_col4, #T_cb116_row4_col1 {\n",
       "  background-color: #88abfd;\n",
       "  color: #000000;\n",
       "}\n",
       "#T_cb116_row1_col5, #T_cb116_row5_col1 {\n",
       "  background-color: #a9c6fd;\n",
       "  color: #000000;\n",
       "}\n",
       "#T_cb116_row1_col6 {\n",
       "  background-color: #89acfd;\n",
       "  color: #000000;\n",
       "}\n",
       "#T_cb116_row2_col3 {\n",
       "  background-color: #5d7ce6;\n",
       "  color: #f1f1f1;\n",
       "}\n",
       "#T_cb116_row2_col4, #T_cb116_row4_col5, #T_cb116_row5_col4 {\n",
       "  background-color: #7295f4;\n",
       "  color: #f1f1f1;\n",
       "}\n",
       "#T_cb116_row2_col5, #T_cb116_row5_col2 {\n",
       "  background-color: #6f92f3;\n",
       "  color: #f1f1f1;\n",
       "}\n",
       "#T_cb116_row2_col6, #T_cb116_row6_col2 {\n",
       "  background-color: #6180e9;\n",
       "  color: #f1f1f1;\n",
       "}\n",
       "#T_cb116_row3_col1 {\n",
       "  background-color: #90b2fe;\n",
       "  color: #000000;\n",
       "}\n",
       "#T_cb116_row3_col2 {\n",
       "  background-color: #5a78e4;\n",
       "  color: #f1f1f1;\n",
       "}\n",
       "#T_cb116_row3_col4, #T_cb116_row4_col3 {\n",
       "  background-color: #6e90f2;\n",
       "  color: #f1f1f1;\n",
       "}\n",
       "#T_cb116_row3_col5, #T_cb116_row5_col6 {\n",
       "  background-color: #455cce;\n",
       "  color: #f1f1f1;\n",
       "}\n",
       "#T_cb116_row3_col6, #T_cb116_row6_col4 {\n",
       "  background-color: #6384eb;\n",
       "  color: #f1f1f1;\n",
       "}\n",
       "#T_cb116_row4_col2 {\n",
       "  background-color: #7093f3;\n",
       "  color: #f1f1f1;\n",
       "}\n",
       "#T_cb116_row4_col6 {\n",
       "  background-color: #6282ea;\n",
       "  color: #f1f1f1;\n",
       "}\n",
       "#T_cb116_row5_col3, #T_cb116_row6_col5 {\n",
       "  background-color: #465ecf;\n",
       "  color: #f1f1f1;\n",
       "}\n",
       "#T_cb116_row6_col1 {\n",
       "  background-color: #8badfd;\n",
       "  color: #000000;\n",
       "}\n",
       "#T_cb116_row6_col3 {\n",
       "  background-color: #6485ec;\n",
       "  color: #f1f1f1;\n",
       "}\n",
       "</style>\n",
       "<table id=\"T_cb116\">\n",
       "  <thead>\n",
       "    <tr>\n",
       "      <th class=\"blank level0\" >&nbsp;</th>\n",
       "      <th id=\"T_cb116_level0_col0\" class=\"col_heading level0 col0\" >id</th>\n",
       "      <th id=\"T_cb116_level0_col1\" class=\"col_heading level0 col1\" >age</th>\n",
       "      <th id=\"T_cb116_level0_col2\" class=\"col_heading level0 col2\" >hypertension</th>\n",
       "      <th id=\"T_cb116_level0_col3\" class=\"col_heading level0 col3\" >heart_disease</th>\n",
       "      <th id=\"T_cb116_level0_col4\" class=\"col_heading level0 col4\" >avg_glucose_level</th>\n",
       "      <th id=\"T_cb116_level0_col5\" class=\"col_heading level0 col5\" >bmi</th>\n",
       "      <th id=\"T_cb116_level0_col6\" class=\"col_heading level0 col6\" >stroke</th>\n",
       "    </tr>\n",
       "  </thead>\n",
       "  <tbody>\n",
       "    <tr>\n",
       "      <th id=\"T_cb116_level0_row0\" class=\"row_heading level0 row0\" >id</th>\n",
       "      <td id=\"T_cb116_row0_col0\" class=\"data row0 col0\" >1.00</td>\n",
       "      <td id=\"T_cb116_row0_col1\" class=\"data row0 col1\" >0.00</td>\n",
       "      <td id=\"T_cb116_row0_col2\" class=\"data row0 col2\" >0.00</td>\n",
       "      <td id=\"T_cb116_row0_col3\" class=\"data row0 col3\" >-0.00</td>\n",
       "      <td id=\"T_cb116_row0_col4\" class=\"data row0 col4\" >0.00</td>\n",
       "      <td id=\"T_cb116_row0_col5\" class=\"data row0 col5\" >0.00</td>\n",
       "      <td id=\"T_cb116_row0_col6\" class=\"data row0 col6\" >0.01</td>\n",
       "    </tr>\n",
       "    <tr>\n",
       "      <th id=\"T_cb116_level0_row1\" class=\"row_heading level0 row1\" >age</th>\n",
       "      <td id=\"T_cb116_row1_col0\" class=\"data row1 col0\" >0.00</td>\n",
       "      <td id=\"T_cb116_row1_col1\" class=\"data row1 col1\" >1.00</td>\n",
       "      <td id=\"T_cb116_row1_col2\" class=\"data row1 col2\" >0.28</td>\n",
       "      <td id=\"T_cb116_row1_col3\" class=\"data row1 col3\" >0.26</td>\n",
       "      <td id=\"T_cb116_row1_col4\" class=\"data row1 col4\" >0.24</td>\n",
       "      <td id=\"T_cb116_row1_col5\" class=\"data row1 col5\" >0.33</td>\n",
       "      <td id=\"T_cb116_row1_col6\" class=\"data row1 col6\" >0.25</td>\n",
       "    </tr>\n",
       "    <tr>\n",
       "      <th id=\"T_cb116_level0_row2\" class=\"row_heading level0 row2\" >hypertension</th>\n",
       "      <td id=\"T_cb116_row2_col0\" class=\"data row2 col0\" >0.00</td>\n",
       "      <td id=\"T_cb116_row2_col1\" class=\"data row2 col1\" >0.28</td>\n",
       "      <td id=\"T_cb116_row2_col2\" class=\"data row2 col2\" >1.00</td>\n",
       "      <td id=\"T_cb116_row2_col3\" class=\"data row2 col3\" >0.11</td>\n",
       "      <td id=\"T_cb116_row2_col4\" class=\"data row2 col4\" >0.17</td>\n",
       "      <td id=\"T_cb116_row2_col5\" class=\"data row2 col5\" >0.17</td>\n",
       "      <td id=\"T_cb116_row2_col6\" class=\"data row2 col6\" >0.13</td>\n",
       "    </tr>\n",
       "    <tr>\n",
       "      <th id=\"T_cb116_level0_row3\" class=\"row_heading level0 row3\" >heart_disease</th>\n",
       "      <td id=\"T_cb116_row3_col0\" class=\"data row3 col0\" >-0.00</td>\n",
       "      <td id=\"T_cb116_row3_col1\" class=\"data row3 col1\" >0.26</td>\n",
       "      <td id=\"T_cb116_row3_col2\" class=\"data row3 col2\" >0.11</td>\n",
       "      <td id=\"T_cb116_row3_col3\" class=\"data row3 col3\" >1.00</td>\n",
       "      <td id=\"T_cb116_row3_col4\" class=\"data row3 col4\" >0.16</td>\n",
       "      <td id=\"T_cb116_row3_col5\" class=\"data row3 col5\" >0.04</td>\n",
       "      <td id=\"T_cb116_row3_col6\" class=\"data row3 col6\" >0.13</td>\n",
       "    </tr>\n",
       "    <tr>\n",
       "      <th id=\"T_cb116_level0_row4\" class=\"row_heading level0 row4\" >avg_glucose_level</th>\n",
       "      <td id=\"T_cb116_row4_col0\" class=\"data row4 col0\" >0.00</td>\n",
       "      <td id=\"T_cb116_row4_col1\" class=\"data row4 col1\" >0.24</td>\n",
       "      <td id=\"T_cb116_row4_col2\" class=\"data row4 col2\" >0.17</td>\n",
       "      <td id=\"T_cb116_row4_col3\" class=\"data row4 col3\" >0.16</td>\n",
       "      <td id=\"T_cb116_row4_col4\" class=\"data row4 col4\" >1.00</td>\n",
       "      <td id=\"T_cb116_row4_col5\" class=\"data row4 col5\" >0.18</td>\n",
       "      <td id=\"T_cb116_row4_col6\" class=\"data row4 col6\" >0.13</td>\n",
       "    </tr>\n",
       "    <tr>\n",
       "      <th id=\"T_cb116_level0_row5\" class=\"row_heading level0 row5\" >bmi</th>\n",
       "      <td id=\"T_cb116_row5_col0\" class=\"data row5 col0\" >0.00</td>\n",
       "      <td id=\"T_cb116_row5_col1\" class=\"data row5 col1\" >0.33</td>\n",
       "      <td id=\"T_cb116_row5_col2\" class=\"data row5 col2\" >0.17</td>\n",
       "      <td id=\"T_cb116_row5_col3\" class=\"data row5 col3\" >0.04</td>\n",
       "      <td id=\"T_cb116_row5_col4\" class=\"data row5 col4\" >0.18</td>\n",
       "      <td id=\"T_cb116_row5_col5\" class=\"data row5 col5\" >1.00</td>\n",
       "      <td id=\"T_cb116_row5_col6\" class=\"data row5 col6\" >0.04</td>\n",
       "    </tr>\n",
       "    <tr>\n",
       "      <th id=\"T_cb116_level0_row6\" class=\"row_heading level0 row6\" >stroke</th>\n",
       "      <td id=\"T_cb116_row6_col0\" class=\"data row6 col0\" >0.01</td>\n",
       "      <td id=\"T_cb116_row6_col1\" class=\"data row6 col1\" >0.25</td>\n",
       "      <td id=\"T_cb116_row6_col2\" class=\"data row6 col2\" >0.13</td>\n",
       "      <td id=\"T_cb116_row6_col3\" class=\"data row6 col3\" >0.13</td>\n",
       "      <td id=\"T_cb116_row6_col4\" class=\"data row6 col4\" >0.13</td>\n",
       "      <td id=\"T_cb116_row6_col5\" class=\"data row6 col5\" >0.04</td>\n",
       "      <td id=\"T_cb116_row6_col6\" class=\"data row6 col6\" >1.00</td>\n",
       "    </tr>\n",
       "  </tbody>\n",
       "</table>\n"
      ],
      "text/plain": [
       "<pandas.io.formats.style.Styler at 0x14a2ddd20>"
      ]
     },
     "execution_count": 14,
     "metadata": {},
     "output_type": "execute_result"
    }
   ],
   "source": [
    "corr = df.corr(numeric_only=True)\n",
    "corr.style.background_gradient(cmap=\"coolwarm\").format(precision=2)\n",
    "\n",
    "# TODO: update keyword arguments for df.corr(), as numeric_only was removed in pandas version 1.3.0, apparently.\n",
    "# Is it fine just to drop it?"
   ]
  },
  {
   "cell_type": "markdown",
   "metadata": {},
   "source": [
    "#### Continuous Variables"
   ]
  },
  {
   "cell_type": "code",
   "execution_count": 15,
   "metadata": {},
   "outputs": [
    {
     "data": {
      "image/png": "[encoded data removed]",
      "text/plain": [
       "<Figure size 1080x360 with 3 Axes>"
      ]
     },
     "metadata": {
      "needs_background": "light"
     },
     "output_type": "display_data"
    }
   ],
   "source": [
    "continuous_features = [\"age\", \"avg_glucose_level\", \"bmi\"]\n",
    "\n",
    "fig, ax = plt.subplots(nrows=1, ncols=3, figsize=(15, 5))\n",
    "\n",
    "for idx, feature in enumerate(continuous_features):\n",
    "    sns.histplot(data=df, x=feature, ax=ax[idx], kde=True)\n",
    "plt.show()"
   ]
  },
  {
   "cell_type": "code",
   "execution_count": 16,
   "metadata": {},
   "outputs": [
    {
     "data": {
      "text/plain": [
       "Text(0, 0.5, 'Percentage')"
      ]
     },
     "execution_count": 16,
     "metadata": {},
     "output_type": "execute_result"
    },
    {
     "data": {
      "image/png": "[encoded data removed]",
      "text/plain": [
       "<Figure size 432x288 with 1 Axes>"
      ]
     },
     "metadata": {},
     "output_type": "display_data"
    }
   ],
   "source": [
    "df[\"stroke\"].value_counts(normalize=True).plot(kind=\"pie\", autopct=\"%.2f\")\n",
    "plt.xlabel(\"Stroke\")\n",
    "plt.ylabel(\"Percentage\")"
   ]
  },
  {
   "cell_type": "markdown",
   "metadata": {},
   "source": [
    "We can see that the vast majority of our dataset have not had a stroke - infact less than 5% have.\n",
    "\n",
    "We will explore the implications of this later..."
   ]
  },
  {
   "cell_type": "markdown",
   "metadata": {},
   "source": [
    "#### Discrete Variables"
   ]
  },
  {
   "cell_type": "code",
   "execution_count": 20,
   "metadata": {},
   "outputs": [
    {
     "data": {
      "image/png": "[encoded data removed]",
      "text/plain": [
       "<Figure size 576x576 with 4 Axes>"
      ]
     },
     "metadata": {
      "needs_background": "light"
     },
     "output_type": "display_data"
    }
   ],
   "source": [
    "discrete_features = [\"ever_married\", \"work_type\", \"residence_type\", \"smoking_status\"]\n",
    "\n",
    "fig, ax = plt.subplots(nrows=2, ncols=2, figsize=(8, 8))\n",
    "\n",
    "for idx, axis in enumerate(fig.axes):\n",
    "    sns.histplot(df[discrete_features[idx]], ax=axis)\n",
    "    axis.tick_params(labelrotation=30)\n",
    "\n",
    "\n",
    "plt.show()\n",
    "\n",
    "\n",
    "# TODO: can below code be deleted?\n",
    "# plt.ylabel('Average Glucose Level (mg/dl)')\n",
    "# plt.title('Comparing Average Glucose Level to Stroke Class')\n",
    "# plt.show()\n"
   ]
  },
  {
   "cell_type": "code",
   "execution_count": 21,
   "metadata": {},
   "outputs": [
    {
     "data": {
      "image/png": "[encoded data removed]",
      "text/plain": [
       "<Figure size 432x288 with 1 Axes>"
      ]
     },
     "metadata": {
      "needs_background": "light"
     },
     "output_type": "display_data"
    }
   ],
   "source": [
    "df.groupby([\"ever_married\", \"stroke\"]).size().unstack().plot.bar()\n",
    "plt.show()"
   ]
  },
  {
   "cell_type": "markdown",
   "metadata": {},
   "source": [
    "## Part 3: Preparing our Data for Model Training\n",
    "Now we have a feel for our dataset, we can begin building a useful model to try and predict outcomes\n",
    "\n",
    "### 3a. Data Pre-processing\n",
    "In order to use our data - we will need to convert how our data is stored in order for machine learning models to interpret it. For example `Male` or `Female` can't be correctly interpreted.\n",
    "\n",
    "Continuous data (i.e. BMI, Average Blood Glucose, and so on) will need to be scaled.\n"
   ]
  },
  {
   "cell_type": "code",
   "execution_count": 22,
   "metadata": {},
   "outputs": [
    {
     "data": {
      "text/plain": [
       "id                     0\n",
       "gender                 0\n",
       "age                    0\n",
       "hypertension           0\n",
       "heart_disease          0\n",
       "ever_married           0\n",
       "work_type              0\n",
       "residence_type         0\n",
       "avg_glucose_level      0\n",
       "bmi                  201\n",
       "smoking_status         0\n",
       "stroke                 0\n",
       "dtype: int64"
      ]
     },
     "execution_count": 22,
     "metadata": {},
     "output_type": "execute_result"
    }
   ],
   "source": [
    "df.isna().sum()"
   ]
  },
  {
   "cell_type": "markdown",
   "metadata": {},
   "source": [
    "We can see we are missing 201 BMI values: at this point we have two options, to either drop the rows which are missing data, or to _impute_ their values. In this case, we will go for the latter!\n",
    "\n",
    "There are more complex approaches to doing this - which can be done using the [`sklearn.imputer`](https://scikit-learn.org/stable/modules/impute.html) classes."
   ]
  },
  {
   "cell_type": "code",
   "execution_count": 23,
   "metadata": {},
   "outputs": [
    {
     "data": {
      "text/plain": [
       "id                   0\n",
       "gender               0\n",
       "age                  0\n",
       "hypertension         0\n",
       "heart_disease        0\n",
       "ever_married         0\n",
       "work_type            0\n",
       "residence_type       0\n",
       "avg_glucose_level    0\n",
       "bmi                  0\n",
       "smoking_status       0\n",
       "stroke               0\n",
       "dtype: int64"
      ]
     },
     "execution_count": 23,
     "metadata": {},
     "output_type": "execute_result"
    }
   ],
   "source": [
    "# First calculate the average\n",
    "mean_bmi = df[\"bmi\"].mean()\n",
    "\n",
    "# Now fill missing values with this mean\n",
    "df[\"bmi\"] = df[\"bmi\"].fillna(mean_bmi)\n",
    "\n",
    "# Check that our commands have worked!\n",
    "df.isna().sum()"
   ]
  },
  {
   "cell_type": "code",
   "execution_count": 24,
   "metadata": {},
   "outputs": [],
   "source": [
    "# We can get rid of 'ID' column, this isn't needed!\n",
    "df = df.drop(columns=[\"id\"])\n",
    "\n",
    "# We can then develop our `X` and `y` sets\n",
    "X = df.drop(columns=[\"stroke\"])\n",
    "y = df[\"stroke\"]"
   ]
  },
  {
   "cell_type": "code",
   "execution_count": 25,
   "metadata": {},
   "outputs": [
    {
     "name": "stdout",
     "output_type": "stream",
     "text": [
      "(5110, 10)\n",
      "(5110,)\n"
     ]
    }
   ],
   "source": [
    "# We can double check we have the right shape of data - we should have 5110 rows, with 10 features in the X set - and only a column of 1 or 0 in the y column\n",
    "print(X.shape)\n",
    "print(y.shape)"
   ]
  },
  {
   "attachments": {
    "image.png": {
     "image/png": "[encoded data removed]"
    }
   },
   "cell_type": "markdown",
   "metadata": {},
   "source": [
    "#### Train-Test Splits\n",
    "\n",
    "Using our input **features** we have stored in the variable `X` (gender, age, hypertension, heart disease, marriage, work type, residence type, glucose level, BMI, smoking status), we can try to predict the output class for each case (`y`).\n",
    "\n",
    "However, in order to train and test our models we need to split the data up into `train` and `test` bins in order to make sure that the models we make haven't _'seen'_ the test data to ensure they're working as we want.\n",
    "\n",
    "![image.png](attachment:image.png) \n",
    "<sup>[image source](https://medium.com/@rinu.gour123/train-and-test-set-in-python-machine-learning-how-to-split-58029a0d657b)</sup>\n",
    "\n",
    "It's sort of like running an exam - the exam is pointless if everybody has already seen the questions beforehand!\n",
    "\n",
    "To do this we import the function `train_test_split` from `sklearn`, and then split the data up as below - we set the test_size to be 20% of the overall dataset size:"
   ]
  },
  {
   "cell_type": "code",
   "execution_count": 28,
   "metadata": {},
   "outputs": [],
   "source": [
    "from sklearn.model_selection import train_test_split\n",
    "\n",
    "X_train, X_test, y_train, y_test = train_test_split(\n",
    "    X, y, test_size=0.2, random_state=2023\n",
    ")"
   ]
  },
  {
   "cell_type": "code",
   "execution_count": 29,
   "metadata": {},
   "outputs": [
    {
     "data": {
      "text/plain": [
       "Private          2925\n",
       "Self-employed     819\n",
       "children          687\n",
       "Govt_job          657\n",
       "Never_worked       22\n",
       "Name: work_type, dtype: int64"
      ]
     },
     "execution_count": 29,
     "metadata": {},
     "output_type": "execute_result"
    }
   ],
   "source": [
    "df.work_type.value_counts()"
   ]
  },
  {
   "cell_type": "markdown",
   "metadata": {},
   "source": [
    "### 3b. Data Encoding\n",
    "Many machine learning algorithms are sensitive to how **continuous data** (e.g. Age, BMI) and **categorical data** (e.g. Hypertension, Smoking status) are provided."
   ]
  },
  {
   "cell_type": "markdown",
   "metadata": {},
   "source": [
    "### 1 - Continuous data\n",
    "\n",
    "For **continuous data**, it's important to consider **normalising** and **standardising** the data:\n",
    "\n",
    "#### Min-Max Scaling\n",
    "\n",
    "Min-Max scaling, also known as **Normalisation**, is where the range of values is compressed to a set range: usually between 0 and 1 (neural networks in particular tend to expect their inputs to be between this range). This method is sensitive to outliers however, as the smallest and largest value are used for 0 and 1 in the new scale respectively. Let's see what happens if we min-max scale average glucose values:\n",
    "\n",
    "![image.png](attachment:image-2.png)\n",
    "\n",
    "#### Standardisation\n",
    "\n",
    "ML Algorithms tend to perform worse if data have very different scales. For example, if we look at our BMI data, we can see that the range of values is quite wide: the lowest value is 10.3 - where the largest is 97.6! However the majority of values lie between 20 and 40; this large can trip up some algorithms. \n",
    "\n",
    "To combat this we can \"standardise\" the data to a new scale, where 0 is the average. For example we can do this to our BMI below (look at the x axis scale):\n",
    "\n",
    "![image.png](attachment:image.png)\n",
    "\n",
    "Now the average of $28.9$ has been shifted to $0$, and we have negative values! The advantage of this method is that the values of outliers are suppressed, and they have a reduced size.\n"
   ]
  },
  {
   "cell_type": "markdown",
   "metadata": {},
   "source": [
    "In our case, we'll use the `StandardScaler` function from `sklearn`. Let's import and define it:"
   ]
  },
  {
   "cell_type": "code",
   "execution_count": 32,
   "metadata": {},
   "outputs": [],
   "source": [
    "from sklearn.preprocessing import StandardScaler\n",
    "numerical_transformer = StandardScaler()"
   ]
  },
  {
   "cell_type": "markdown",
   "metadata": {},
   "source": [
    "Now let's look at the other type of data: **categorical data**."
   ]
  },
  {
   "cell_type": "markdown",
   "metadata": {},
   "source": [
    "### 2 - Categorical Data\n",
    "Here, we want to consider the different types of categories, whcih could be Named, Ordinal or Nominal."
   ]
  },
  {
   "attachments": {},
   "cell_type": "markdown",
   "metadata": {},
   "source": [
    "#### Named Categories\n",
    "\n",
    "Machine learning algorithms and neural networks at a low level canot work on text values (it has no inherent meaning to them), and we need to convert these into a number representation for them: for example if we look at `gender` we have `Male` and `Female` as strings. We need to convert these into numeric equivalents. We can do this by hand in python by running something like:\n",
    "\n",
    "```python\n",
    "df['Gender'] = df[df['Gender'] == 'Male] = 0\n",
    "df['Gender'] = df[df['Gender'] == 'Female] = 1\n",
    "```\n",
    "\n",
    "This becomes increasingly cumbersome and time-consuming if doing this over a large range of values: `sklearn` provides us some tools to do this for us: we can use the `LabelEncoder` or `OrdinalEncoder` to convert labels to numbers automatically! \n",
    "\n",
    "We'll use `OrdinalEncoder` instead of `LabelEncoder` as it can process multiple columns at once! Let's import it, to get ready:"
   ]
  },
  {
   "cell_type": "code",
   "execution_count": 39,
   "metadata": {},
   "outputs": [],
   "source": [
    "from sklearn.preprocessing import OrdinalEncoder\n",
    "label_transformer = OrdinalEncoder()"
   ]
  },
  {
   "cell_type": "markdown",
   "metadata": {},
   "source": [
    "#### Ordinal Categories\n",
    "\n",
    "`LabelEncoder` works well for cases where we only have two categories. However what about cases where the order (i.e. ordinal data) of the values are important: for example the order of income classes low, medium, high should be 0, 1, 2, for example, and not 2, 0, 1. The `OrdinalEncoder` can handle this for us in cases where the order matters by explicity which value should be mapped to a certain number.\n"
   ]
  },
  {
   "cell_type": "markdown",
   "metadata": {},
   "source": [
    "#### Nominal Categories\n",
    "\n",
    "Finally, some categories are unordered however, and we **do not** want them to be labelled as a rank: for example, it would be problematic if we started treating blood type or ethnicity as ordinal data - as one class would be treated as a 'greater' value as another. \n",
    "\n",
    "In our data we have work type (`Private, Self-employed, children, Govt_job, Never_worked`) as categorical data that we want as nominal (unordered) catergoies. We can use \"One Hot Encoding\" to process into \"one hot\" columns so the machine learning algorithms will look at each class individually; for example:\n",
    "\n",
    "| Work Category | →| work_private | work_selfEmployed | work_children | work_govt | work_never |\n",
    "| ------------- | - | ------------ | ----------------- | ------------- | --------- | ---------- |\n",
    "| private       |  | 1            | 0                 | 0             | 0         | 0          |\n",
    "| selfEmployed  |  | 0            | 1                 | 0             | 0         | 0          |\n",
    "| children      |  | 0            | 0                 | 1             | 0         | 0          |\n",
    "| govt          |  | 0            | 0                 | 0             | 1         | 0          |\n",
    "| children      |  | 0            | 0                 | 1             | 0         | 0          |\n",
    "| never         |  | 0            | 0                 | 0             | 0         | 1          |\n",
    "\n",
    "The final encoder `sklearn` tools we'll use for this is `OneHotEncoder`, so let's import that too:"
   ]
  },
  {
   "cell_type": "code",
   "execution_count": 40,
   "metadata": {},
   "outputs": [],
   "source": [
    "from sklearn.preprocessing import OneHotEncoder\n",
    "nominal_transformer = OneHotEncoder()"
   ]
  },
  {
   "cell_type": "markdown",
   "metadata": {},
   "source": [
    "### Defining our column types"
   ]
  },
  {
   "cell_type": "markdown",
   "metadata": {},
   "source": [
    "We need to define all the columns in our dataset based on how we want to pre-process them: as numerical variables as nominal (categorical) variables or as Named \"labelled\" (categorical) variables. For some variables, we won't need to do anything with them, so we can include them as `pass_columns`."
   ]
  },
  {
   "cell_type": "code",
   "execution_count": 41,
   "metadata": {},
   "outputs": [],
   "source": [
    "numerical_columns = [\"age\", \"avg_glucose_level\", \"bmi\"]\n",
    "nominal_columns = [\"work_type\", \"smoking_status\"]\n",
    "\n",
    "# ========= Your Turn =========\n",
    "# Define the label_columns to include the suitable columns which have strings\n",
    "# which we want to convert to labels. Have a look at the dataframe and decide!\n",
    "#\n",
    "#   Hint, the possibilities are: \"gender\", \"residence_type\", \"hypertension\", \"heart_disease\", \"ever_married\"\n",
    "#   ... not all will need to be used\n",
    "\n",
    "label_columns = [\"gender\", \"ever_married\", \"residence_type\"]\n",
    "\n",
    "# These are columns we don't want to modify as they're already in a good form for ML training\n",
    "pass_columns = [\"hypertension\", \"heart_disease\"]\n"
   ]
  },
  {
   "cell_type": "markdown",
   "metadata": {},
   "source": [
    "### 3c. using Data Pipelines\n",
    "\n",
    "We can use `sklearn` pipelines and column transformers in order to easily apply this methods to large datasets with different datatypes and many columns easily!\n",
    "\n",
    "In the pipline, we'll string several actions together, whilst column transformers let us choose which columns we might want to perform certain transformations to."
   ]
  },
  {
   "cell_type": "code",
   "execution_count": 42,
   "metadata": {},
   "outputs": [],
   "source": [
    "# Import the relevant classes from Sklearn!\n",
    "from sklearn.pipeline import make_pipeline\n",
    "from sklearn.compose import ColumnTransformer"
   ]
  },
  {
   "cell_type": "markdown",
   "metadata": {},
   "source": [
    "Let's define an run our pipeline:"
   ]
  },
  {
   "cell_type": "code",
   "execution_count": 67,
   "metadata": {},
   "outputs": [],
   "source": [
    "pipeline = ColumnTransformer(\n",
    "    [\n",
    "        (\"num\", numerical_transformer, numerical_columns),\n",
    "        (\"ord\", nominal_transformer, nominal_columns),\n",
    "        (\"lab\", label_transformer, label_columns),\n",
    "    ],\n",
    "    # We want to include columns in the dataframe that are already in a suitable format for ML!\n",
    "    remainder=\"passthrough\",\n",
    ")\n",
    "\n",
    "X_train_prep = pipeline.fit_transform(X_train)"
   ]
  },
  {
   "cell_type": "code",
   "execution_count": 57,
   "metadata": {},
   "outputs": [
    {
     "ename": "AttributeError",
     "evalue": "Transformer lab (type OrdinalEncoder) does not provide get_feature_names_out.",
     "output_type": "error",
     "traceback": [
      "\u001b[0;31m---------------------------------------------------------------------------\u001b[0m",
      "\u001b[0;31mAttributeError\u001b[0m                            Traceback (most recent call last)",
      "Input \u001b[0;32mIn [57]\u001b[0m, in \u001b[0;36m<cell line: 2>\u001b[0;34m()\u001b[0m\n\u001b[1;32m      1\u001b[0m prep_df \u001b[38;5;241m=\u001b[39m pd\u001b[38;5;241m.\u001b[39mDataFrame(X_train_prep)\n\u001b[0;32m----> 2\u001b[0m prep_df\u001b[38;5;241m.\u001b[39mcolumns \u001b[38;5;241m=\u001b[39m \u001b[43mpipeline\u001b[49m\u001b[38;5;241;43m.\u001b[39;49m\u001b[43mget_feature_names_out\u001b[49m\u001b[43m(\u001b[49m\u001b[43m)\u001b[49m\n\u001b[1;32m      3\u001b[0m prep_df\u001b[38;5;241m.\u001b[39mhead()\n",
      "File \u001b[0;32m~/Library/miniconda3/envs/data_science/lib/python3.10/site-packages/sklearn/compose/_column_transformer.py:481\u001b[0m, in \u001b[0;36mColumnTransformer.get_feature_names_out\u001b[0;34m(self, input_features)\u001b[0m\n\u001b[1;32m    479\u001b[0m transformer_with_feature_names_out \u001b[38;5;241m=\u001b[39m []\n\u001b[1;32m    480\u001b[0m \u001b[38;5;28;01mfor\u001b[39;00m name, trans, column, _ \u001b[38;5;129;01min\u001b[39;00m \u001b[38;5;28mself\u001b[39m\u001b[38;5;241m.\u001b[39m_iter(fitted\u001b[38;5;241m=\u001b[39m\u001b[38;5;28;01mTrue\u001b[39;00m):\n\u001b[0;32m--> 481\u001b[0m     feature_names_out \u001b[38;5;241m=\u001b[39m \u001b[38;5;28;43mself\u001b[39;49m\u001b[38;5;241;43m.\u001b[39;49m\u001b[43m_get_feature_name_out_for_transformer\u001b[49m\u001b[43m(\u001b[49m\n\u001b[1;32m    482\u001b[0m \u001b[43m        \u001b[49m\u001b[43mname\u001b[49m\u001b[43m,\u001b[49m\u001b[43m \u001b[49m\u001b[43mtrans\u001b[49m\u001b[43m,\u001b[49m\u001b[43m \u001b[49m\u001b[43mcolumn\u001b[49m\u001b[43m,\u001b[49m\u001b[43m \u001b[49m\u001b[43minput_features\u001b[49m\n\u001b[1;32m    483\u001b[0m \u001b[43m    \u001b[49m\u001b[43m)\u001b[49m\n\u001b[1;32m    484\u001b[0m     \u001b[38;5;28;01mif\u001b[39;00m feature_names_out \u001b[38;5;129;01mis\u001b[39;00m \u001b[38;5;28;01mNone\u001b[39;00m:\n\u001b[1;32m    485\u001b[0m         \u001b[38;5;28;01mcontinue\u001b[39;00m\n",
      "File \u001b[0;32m~/Library/miniconda3/envs/data_science/lib/python3.10/site-packages/sklearn/compose/_column_transformer.py:446\u001b[0m, in \u001b[0;36mColumnTransformer._get_feature_name_out_for_transformer\u001b[0;34m(self, name, trans, column, feature_names_in)\u001b[0m\n\u001b[1;32m    444\u001b[0m \u001b[38;5;66;03m# An actual transformer\u001b[39;00m\n\u001b[1;32m    445\u001b[0m \u001b[38;5;28;01mif\u001b[39;00m \u001b[38;5;129;01mnot\u001b[39;00m \u001b[38;5;28mhasattr\u001b[39m(trans, \u001b[38;5;124m\"\u001b[39m\u001b[38;5;124mget_feature_names_out\u001b[39m\u001b[38;5;124m\"\u001b[39m):\n\u001b[0;32m--> 446\u001b[0m     \u001b[38;5;28;01mraise\u001b[39;00m \u001b[38;5;167;01mAttributeError\u001b[39;00m(\n\u001b[1;32m    447\u001b[0m         \u001b[38;5;124mf\u001b[39m\u001b[38;5;124m\"\u001b[39m\u001b[38;5;124mTransformer \u001b[39m\u001b[38;5;132;01m{\u001b[39;00mname\u001b[38;5;132;01m}\u001b[39;00m\u001b[38;5;124m (type \u001b[39m\u001b[38;5;132;01m{\u001b[39;00m\u001b[38;5;28mtype\u001b[39m(trans)\u001b[38;5;241m.\u001b[39m\u001b[38;5;18m__name__\u001b[39m\u001b[38;5;132;01m}\u001b[39;00m\u001b[38;5;124m) does \u001b[39m\u001b[38;5;124m\"\u001b[39m\n\u001b[1;32m    448\u001b[0m         \u001b[38;5;124m\"\u001b[39m\u001b[38;5;124mnot provide get_feature_names_out.\u001b[39m\u001b[38;5;124m\"\u001b[39m\n\u001b[1;32m    449\u001b[0m     )\n\u001b[1;32m    450\u001b[0m \u001b[38;5;28;01mif\u001b[39;00m \u001b[38;5;28misinstance\u001b[39m(column, Iterable) \u001b[38;5;129;01mand\u001b[39;00m \u001b[38;5;129;01mnot\u001b[39;00m \u001b[38;5;28mall\u001b[39m(\n\u001b[1;32m    451\u001b[0m     \u001b[38;5;28misinstance\u001b[39m(col, \u001b[38;5;28mstr\u001b[39m) \u001b[38;5;28;01mfor\u001b[39;00m col \u001b[38;5;129;01min\u001b[39;00m column\n\u001b[1;32m    452\u001b[0m ):\n\u001b[1;32m    453\u001b[0m     column \u001b[38;5;241m=\u001b[39m _safe_indexing(feature_names_in, column)\n",
      "\u001b[0;31mAttributeError\u001b[0m: Transformer lab (type OrdinalEncoder) does not provide get_feature_names_out."
     ]
    }
   ],
   "source": [
    "prep_df = pd.DataFrame(X_train_prep)\n",
    "prep_df.columns = pipeline.get_feature_names_out()\n",
    "prep_df.head()"
   ]
  },
  {
   "cell_type": "code",
   "execution_count": 47,
   "metadata": {},
   "outputs": [],
   "source": [
    "# TODO: I'm getting the above error message? \n",
    "# (for running rest of exercise, I dropped the label_columns)\n"
   ]
  },
  {
   "cell_type": "code",
   "execution_count": 69,
   "metadata": {},
   "outputs": [],
   "source": [
    "# Now we need to scale the test data which we haven't yet touched\n",
    "# NB: We only TRANSFORM the test data - we don't want to fit our transformers to this data\n",
    "X_test_prep = pipeline.transform(X_test)"
   ]
  },
  {
   "cell_type": "markdown",
   "metadata": {},
   "source": [
    "## Part 4: Making our First Model\n",
    "\n",
    "Now we have imported, cleaned, and transformed our data - it is finally in a form that we can make models to help us predict future strokes.\n",
    "\n",
    "To begin with, we will use a Logistic Regression to make these predictions."
   ]
  },
  {
   "cell_type": "code",
   "execution_count": 70,
   "metadata": {},
   "outputs": [
    {
     "data": {
      "text/plain": [
       "LogisticRegression()"
      ]
     },
     "execution_count": 70,
     "metadata": {},
     "output_type": "execute_result"
    }
   ],
   "source": [
    "from sklearn.linear_model import LogisticRegression\n",
    "\n",
    "# TODO: Build first models\n",
    "logistic_regression = LogisticRegression()\n",
    "logistic_regression.fit(X_train_prep, y_train)"
   ]
  },
  {
   "cell_type": "code",
   "execution_count": 71,
   "metadata": {},
   "outputs": [
    {
     "name": "stdout",
     "output_type": "stream",
     "text": [
      "0.9481409001956947\n"
     ]
    }
   ],
   "source": [
    "from sklearn.metrics import accuracy_score, classification_report, f1_score\n",
    "\n",
    "# we can now predict some strokes in our test dataset - which our model has not seen!\n",
    "y_pred = logistic_regression.predict(X_test_prep)\n",
    "print(accuracy_score(y_test, y_pred))"
   ]
  },
  {
   "cell_type": "markdown",
   "metadata": {},
   "source": [
    "#### 🤔 Something Fishy Afoot\n",
    "\n",
    "Hmmm... our model has a pretty a pretty good \"accuracy\" - however if we look deeper something odd is going on.\n",
    "\n",
    "Let's have a look at what are model is guessing"
   ]
  },
  {
   "cell_type": "code",
   "execution_count": 72,
   "metadata": {},
   "outputs": [
    {
     "data": {
      "text/plain": [
       "0"
      ]
     },
     "execution_count": 72,
     "metadata": {},
     "output_type": "execute_result"
    }
   ],
   "source": [
    "y_pred.sum()  # Add's up how many 1's there are (i.e. how many people we have predicted have had a stroke)"
   ]
  },
  {
   "cell_type": "markdown",
   "metadata": {},
   "source": [
    "Essentially our model just guesses `0` / no stroke every time and get's a pretty good accuracy.\n",
    "\n",
    "For imbalanced class problems (a common and important issue in medicine!) we need to dive deeper other metrics are more useful to understand how well our model truly works. You may remember from previous exercises the F1 Score ~ which provides a metric of how well a model is at making true positives/negatives and false positives/negatives. Unfortunately, there will always be a trade off between these - and one we need to keep in mind when designing machine learning models in healthcare.\n",
    "\n",
    "The F1 score is a *harmonic mean* of the Precision and Recall:\n",
    "\n",
    "$$\\text{F1 Score} = 2\\times\\frac{\\text{Precision} \\times \\text{Recall}}{\\text{Precision} + \\text{Recall}} = \\frac{2TP}{2TP + FP + FN}$$\n",
    "\n",
    "We have to make decisions when we tune our model if we want more *false positives* or more *false negatives* - with real world implications. If we were deploying our model, we would have to decide if we would rather have fewer false positives - and the run risk of missing potential strokes - or predict more people were having strokes when they aren't, and run the risk of over investigation and unrequired treamtment/intervention.\n",
    "\n",
    "If you would like to learn more about this it is well worth looking at the [Machine Learning University's explainer on Precision and Recall](https://mlu-explain.github.io/precision-recall/) which nicely demonstrates how the precision-recall tradeoff works visually."
   ]
  },
  {
   "cell_type": "code",
   "execution_count": 73,
   "metadata": {},
   "outputs": [
    {
     "name": "stdout",
     "output_type": "stream",
     "text": [
      "F1 Score: 0.0\n"
     ]
    }
   ],
   "source": [
    "print(f\"F1 Score: {f1_score(y_test, y_pred)}\")"
   ]
  },
  {
   "cell_type": "markdown",
   "metadata": {},
   "source": [
    "The F1 Score is 0 in this case, as the model doesn't predict any cases of stroke - and so the numerator is 0 (no True Positives!).\n",
    "\n",
    "Let's check more complicated models also suffer from the same issue - to check that this isn't purely as a result of [Logistic Regression](https://mlu-explain.github.io/logistic-regression/) being unable to capture complicated relationships."
   ]
  },
  {
   "cell_type": "code",
   "execution_count": 74,
   "metadata": {},
   "outputs": [
    {
     "name": "stdout",
     "output_type": "stream",
     "text": [
      "F1 Score (SVC): 0.0\n",
      "F1 Score (RandomForestClassifier): 0.0\n",
      "F1 Score (GradientBoostingClassifier): 0.0\n"
     ]
    }
   ],
   "source": [
    "from sklearn.svm import SVC\n",
    "from sklearn.ensemble import RandomForestClassifier, GradientBoostingClassifier\n",
    "from sklearn.neighbors import KNeighborsClassifier\n",
    "\n",
    "svm = SVC()\n",
    "forest = RandomForestClassifier()\n",
    "gbm = GradientBoostingClassifier()\n",
    "\n",
    "for model in (svm, forest, gbm):\n",
    "    model.fit(X_train_prep, y_train)\n",
    "    y_pred = model.predict(X_test_prep)\n",
    "\n",
    "    print(f\"F1 Score ({type(model).__name__}): {f1_score(y_test, y_pred)}\")"
   ]
  },
  {
   "cell_type": "markdown",
   "metadata": {},
   "source": [
    "## Part 5: Tackling Unbalanced Datasets\n",
    "An unbalanced dataset is where a *class* or outcome is much less common than another: in this case the vast majority of people don't have strokes. This can lead machine learning models to tend to predict a common class (`no stroke`) over a minority/rare class (`stroke`) as it has receives many more examples of one class over another, and is unable to learn what differentiates the two.\n",
    "\n",
    "There are various ways of approaching unbalanced datasets like these, which we will explore now:\n",
    "\n",
    "### Get More Data\n",
    "In an ideal world, we could simply collect more data to represent the *minority* class, however this is not always easy or feasible. We would have to wait many months or years to collect lots of data for strokes for example!\n",
    "\n",
    "### Weighting/Model Penalization\n",
    "We can 'penalize' our model to put a greater weighting on a minority class. In essence, this forces the model to pay more attention to the minority class.\n",
    "\n",
    "### Resampling\n",
    "Essentially we are manipulating our dataset so there is a ratio of classes closer to 50:50. There are two approaches within this:\n",
    " 1. **Undersampling** - where we take a sample (either randomly, or through more intelligent means) of the **majority** class, so that the ratio is limited, or\n",
    " 2. **Oversampling** - where we expand the number of **minority** class: we can do this by duplicating instances of the minority class, or we can synthesise examples of this class.\n",
    "\n",
    "This is nicely visualised below <sup>([ref](https://blog.strands.com/unbalanced-datasets))</sup>\n",
    "\n",
    "<img src=\"https://blog.strands.com/hs-fs/hubfs/Screenshot%202019-07-18%20at%2014.15.15.png?width=1200&name=Screenshot%202019-07-18%20at%2014.15.15.png\" width=700>\n",
    "\n",
    "\n"
   ]
  },
  {
   "cell_type": "markdown",
   "metadata": {},
   "source": [
    "### Getting More Data\n",
    "\n",
    "Sadly, we can't get more data in this case - but what we can do is make sure the *train* and *test* set have equal numbers of each class. Fortunately `sklearn` makes this easy to do when we split our model, so we don't have to worry about one size being bigger than the other!"
   ]
  },
  {
   "cell_type": "code",
   "execution_count": null,
   "metadata": {},
   "outputs": [],
   "source": [
    "# In this case - we are forcing the percentages of strokes to be the same in the train and test class\n",
    "# This is done be setting the stratify command to our outcome column of strokes\n",
    "X_train, X_test, y_train, y_test = train_test_split(X, y, test_size=0.2, stratify=y)\n",
    "\n",
    "# We now need to pass our data through our pipeline again!\n",
    "X_train_prep = pipeline.fit_transform(X_train)\n",
    "X_test_prep = pipeline.transform(X_test)"
   ]
  },
  {
   "cell_type": "markdown",
   "metadata": {},
   "source": [
    "Sadly, this is unlikely to make much difference - as by pure chance there would likely be a similar number of strokes in the test and train set anyway.\n",
    "\n",
    "### Model Penalisation\n",
    "\n",
    "We can teach our model to pay more attention to each class by putting a 'weight' on each class. Fortunately this is easy to do in sklearn with the `class_weight` attribute!"
   ]
  },
  {
   "cell_type": "code",
   "execution_count": 75,
   "metadata": {},
   "outputs": [
    {
     "name": "stdout",
     "output_type": "stream",
     "text": [
      "Accuracy Score (Logistic Regression): 0.7221\n",
      "F1 Score (Logistic Regression): 0.2283\n"
     ]
    }
   ],
   "source": [
    "# === Class Weighting ===\n",
    "# We will begin with adjusting class weights as this is easy to do in the first instance\n",
    "logistic_regression = LogisticRegression(class_weight=\"balanced\")\n",
    "\n",
    "# Fit our model\n",
    "logistic_regression.fit(X_train_prep, y_train)\n",
    "\n",
    "# Make some predictions\n",
    "y_pred = logistic_regression.predict(X_test_prep)\n",
    "\n",
    "# See how well it performs\n",
    "print(f\"Accuracy Score (Logistic Regression): {accuracy_score(y_test, y_pred):.4f}\")\n",
    "print(f\"F1 Score (Logistic Regression): {f1_score(y_test, y_pred):.4f}\")"
   ]
  },
  {
   "cell_type": "code",
   "execution_count": 76,
   "metadata": {},
   "outputs": [
    {
     "name": "stdout",
     "output_type": "stream",
     "text": [
      "F1 Score (SVC): 0.21390374331550802\n",
      "F1 Score (RandomForestClassifier): 0.0\n"
     ]
    }
   ],
   "source": [
    "# Lets try more complicated models\n",
    "svm = SVC(class_weight=\"balanced\")\n",
    "forest = RandomForestClassifier(class_weight=\"balanced\")\n",
    "\n",
    "for model in (svm, forest):\n",
    "    model.fit(X_train_prep, y_train)\n",
    "    y_pred = model.predict(X_test_prep)\n",
    "\n",
    "    print(f\"F1 Score ({type(model).__name__}): {f1_score(y_test, y_pred)}\")"
   ]
  },
  {
   "cell_type": "markdown",
   "metadata": {},
   "source": [
    "We can see that we finally have an F1 score greater than 0m, and our Logistic regression model is performing the best at the moment. \n",
    "\n",
    "### Under and Over Sampling"
   ]
  },
  {
   "cell_type": "code",
   "execution_count": 77,
   "metadata": {},
   "outputs": [],
   "source": [
    "from imblearn.under_sampling import RandomUnderSampler\n",
    "from imblearn.over_sampling import RandomOverSampler\n",
    "\n",
    "under = RandomUnderSampler(sampling_strategy=0.1)\n",
    "over = RandomOverSampler(sampling_strategy=0.5)\n",
    "model = LogisticRegression()\n",
    "\n",
    "X_under, y_under = under.fit_resample(X_train_prep, y_train)\n",
    "X_combined, y_combined = over.fit_resample(X_under, y_under)"
   ]
  },
  {
   "cell_type": "code",
   "execution_count": 78,
   "metadata": {},
   "outputs": [
    {
     "name": "stdout",
     "output_type": "stream",
     "text": [
      "F1 Score (LogisticRegression): 0.27169811320754716\n",
      "F1 Score (SVC): 0.2594142259414226\n",
      "F1 Score (RandomForestClassifier): 0.16216216216216214\n",
      "F1 Score (KNeighborsClassifier): 0.1686746987951807\n",
      "F1 Score (GradientBoostingClassifier): 0.29767441860465116\n"
     ]
    }
   ],
   "source": [
    "# TODO - decide which algorithms to let students impliment themselves!\n",
    "\n",
    "logreg = LogisticRegression()\n",
    "svm = SVC()\n",
    "forest = RandomForestClassifier()\n",
    "knn = KNeighborsClassifier()\n",
    "gbm = GradientBoostingClassifier()\n",
    "\n",
    "for model in (logreg, svm, forest, knn, gbm):\n",
    "    model.fit(X_combined, y_combined)\n",
    "    y_pred = model.predict(X_test_prep)\n",
    "\n",
    "    print(f\"F1 Score ({type(model).__name__}): {f1_score(y_test, y_pred)}\")"
   ]
  },
  {
   "cell_type": "markdown",
   "metadata": {},
   "source": [
    "# Next Steps\n",
    "Have a go at modifying our pipeline, including:\n",
    "\n",
    "- Engineering your own features\n",
    "- Different parameters (such as different train/test splits)\n",
    "- Different models (see below)\n",
    "\n",
    "Popular classifiers to try as alternative models include:\n",
    "\n",
    "- [Random Forest](https://scikit-learn.org/stable/modules/generated/sklearn.ensemble.RandomForestClassifier.html)\n",
    "- [K-nearest neighbours](https://scikit-learn.org/stable/modules/generated/sklearn.neighbors.KNeighborsClassifier.html)\n",
    "- [suppor vector machines (SVMs)](https://scikit-learn.org/stable/modules/generated/sklearn.svm.SVC.html)\n",
    "- [Gradient Boosting Machines (aka XGBoost)](https://scikit-learn.org/stable/modules/generated/sklearn.ensemble.GradientBoostingClassifier.html)\n",
    "\n",
    "These links will take you to the documentation. See if you can work out how to import them and then train the model based on the description and examples that they provide.\n"
   ]
  }
 ],
 "metadata": {
  "kernelspec": {
   "display_name": "Python 3 (ipykernel)",
   "language": "python",
   "name": "python3"
  },
  "language_info": {
   "codemirror_mode": {
    "name": "ipython",
    "version": 3
   },
   "file_extension": ".py",
   "mimetype": "text/x-python",
   "name": "python",
   "nbconvert_exporter": "python",
   "pygments_lexer": "ipython3",
   "version": "3.10.8"
  },
  "vscode": {
   "interpreter": {
    "hash": "2e6ddcdc73d423b0f01f8ea8dade5820db75de1f7bd936da71df45ce5b0f95b6"
   }
  }
 },
 "nbformat": 4,
 "nbformat_minor": 2
}
