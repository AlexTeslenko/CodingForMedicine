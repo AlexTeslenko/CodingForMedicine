{
 "cells": [
  {
   "cell_type": "markdown",
   "metadata": {},
   "source": [
    "# Part 3 Manipulating Data:"
   ]
  },
  {
   "cell_type": "markdown",
   "metadata": {},
   "source": [
    "Up until now, we've covered data types and variables in Python. These are crucial concepts to build from. In the sections below, we will go through operators and methods within Python.We will learn how to use them to modify the data types you have seen above.\n",
    "\n",
    "With this knowledge, we will have the flexibility to do much more with Python, things not possible until now. \n",
    "\n",
    "This leads us to how do you solve problems in Python when something isn't immediately obvious ? Having a clear structure in this situation will help. Most importantly using this structure to thinking before coding is an important muscle to get into the habit of. In the next section we'll take a slight detour to understand a framework you can use here in this course and beyond."
   ]
  },
  {
   "cell_type": "markdown",
   "metadata": {},
   "source": [
    "## Introduction to Problem Solving"
   ]
  },
  {
   "cell_type": "markdown",
   "metadata": {},
   "source": [
    "Coding is a tool to go from idea to execution at its basic level. This requires you solve problems using a few building blocks you will learn in this exercise. In order to solve problems it's useful to have a structured approach. \n",
    "\n",
    "The structure we will be using is called PEDAC which stands for:\n",
    "\n",
    "1. Problem\n",
    "2. Example\n",
    "3. Data Structures\n",
    "4. Algorithms \n",
    "5. Coding. \n",
    "\n",
    "It might be hard to believe but vast majority of coding is a by-product of understanding a problem, chunking it down and having a clear approach. \n",
    "\n",
    "The idea is that you should use plain english to describe what you want to do before you start coding. Writing out those thoughts clarifies the problem and how we're going to write the code. Then the code comes from having that understanding. \n",
    "\n",
    "Sometimes the code will fall out very nicely from your understanding and your algorithm. However, sometimes you will start coding and need to go back to your algorithm or thinking about data structures more. That's okay and perfectly normal, getting to a solution is often not a linear process.\n",
    "\n",
    "**Problem**\n",
    "\n",
    "  - Inputs: What inputs do we have?\n",
    "\n",
    "  - Outputs: What should the output be?\n",
    "\n",
    "  - Rules: What are the rules of the problem?\n",
    "\n",
    "  - Constraints/Assumptions: Are there any constraints or assumptions to be made about the problem?\n",
    "\n",
    "**Example** (Sometimes problems are given examples)\n",
    "\n",
    "- Do you understand the example/examples?\n",
    "\n",
    "- Is there anything to be gleamed about the rules of the problem from the examples?\n",
    "\n",
    "**Data Structures**\n",
    "\n",
    "- Are there any structures in the code that will be useful to store data?\n",
    "\n",
    "**Algorithm**\n",
    "\n",
    "- What are the plain english steps to getting from inputs to output\n",
    "- Do they make sense when you read it back ? \n",
    "- Can you walk through your algorithm successfully ?\n",
    "\n",
    "**Code**\n",
    "\n",
    "We will be providing you with some small problems where you wont necessarily need to have a systematic approach but its useful to think in this way. \n",
    "\n",
    "For more difficult problems where the solution isn't obvious having a structure will be invaluable.\n",
    "\n",
    "Lastly, I urge you to not press forward with solving coding problems before thinking and writing down your thoughts. Its a hard habit to instill but that will pay off in the long run.\n"
   ]
  },
  {
   "cell_type": "markdown",
   "metadata": {},
   "source": [
    "## Operators\n",
    "\n",
    "We discussed operators briefly in a previous exercise. They are special symbols in Python that execute a computation. They need values to work on, and we call those values **operands**. Below we'll cover each different type of operator in Python in this section.\n",
    "\n",
    "Operators allow you do much more with the data you have in Python."
   ]
  },
  {
   "cell_type": "markdown",
   "metadata": {},
   "source": [
    "### Arithmetic Operators\n",
    "\n",
    "\n",
    "Arithmetic operators will execute mathematical tasks, like addition, subtraction, multiplication etc... You can use these in Python like a calculator.\n",
    "\n",
    "Run the snippet below."
   ]
  },
  {
   "cell_type": "code",
   "execution_count": 1,
   "metadata": {},
   "outputs": [
    {
     "data": {
      "text/plain": [
       "6"
      ]
     },
     "execution_count": 1,
     "metadata": {},
     "output_type": "execute_result"
    }
   ],
   "source": [
    "3 + 3"
   ]
  },
  {
   "cell_type": "markdown",
   "metadata": {},
   "source": [
    "The addition operator `+` adds the two operands on either side together. In this case, the value is `6`.\n",
    "\n",
    "In the code snippet below, add the values 120 to 150. What is the output?"
   ]
  },
  {
   "cell_type": "code",
   "execution_count": null,
   "metadata": {},
   "outputs": [],
   "source": []
  },
  {
   "cell_type": "markdown",
   "metadata": {},
   "source": [
    "The subtraction operator `-` takes one value away from another."
   ]
  },
  {
   "cell_type": "code",
   "execution_count": null,
   "metadata": {},
   "outputs": [],
   "source": [
    "120 - 70"
   ]
  },
  {
   "cell_type": "markdown",
   "metadata": {},
   "source": [
    "In the code snippet below, take 50 away from 120. What is the output?"
   ]
  },
  {
   "cell_type": "code",
   "execution_count": null,
   "metadata": {},
   "outputs": [],
   "source": []
  },
  {
   "cell_type": "markdown",
   "metadata": {},
   "source": [
    "The multiplication operator `*` multiplies two operands together."
   ]
  },
  {
   "cell_type": "code",
   "execution_count": null,
   "metadata": {},
   "outputs": [],
   "source": [
    "50 * 50"
   ]
  },
  {
   "cell_type": "markdown",
   "metadata": {},
   "source": [
    "In the code snippet below, multiply the numbers 30 and 20."
   ]
  },
  {
   "cell_type": "code",
   "execution_count": null,
   "metadata": {},
   "outputs": [],
   "source": []
  },
  {
   "cell_type": "markdown",
   "metadata": {},
   "source": [
    "The division operator `/` divides the left-hand operand from the right-hand one. "
   ]
  },
  {
   "cell_type": "code",
   "execution_count": null,
   "metadata": {},
   "outputs": [],
   "source": [
    "50 / 5"
   ]
  },
  {
   "cell_type": "markdown",
   "metadata": {},
   "source": [
    "In the code snippet below, can you divide 100 by 3"
   ]
  },
  {
   "cell_type": "code",
   "execution_count": null,
   "metadata": {},
   "outputs": [],
   "source": []
  },
  {
   "cell_type": "markdown",
   "metadata": {},
   "source": [
    "The percent operator divides the left-hand operand by the right-hand one but also returns the remainder."
   ]
  },
  {
   "cell_type": "code",
   "execution_count": 2,
   "metadata": {},
   "outputs": [
    {
     "data": {
      "text/plain": [
       "1"
      ]
     },
     "execution_count": 2,
     "metadata": {},
     "output_type": "execute_result"
    }
   ],
   "source": [
    "5 % 2"
   ]
  },
  {
   "cell_type": "markdown",
   "metadata": {},
   "source": [
    "The remainder of 5 divided by 2 is 1."
   ]
  },
  {
   "cell_type": "markdown",
   "metadata": {},
   "source": [
    "The floor division operator divides the left hand operand by the right hand one but rounds down to the nearest whole number."
   ]
  },
  {
   "cell_type": "code",
   "execution_count": 3,
   "metadata": {},
   "outputs": [
    {
     "data": {
      "text/plain": [
       "2"
      ]
     },
     "execution_count": 3,
     "metadata": {},
     "output_type": "execute_result"
    }
   ],
   "source": [
    "5 // 2"
   ]
  },
  {
   "cell_type": "markdown",
   "metadata": {},
   "source": [
    "In this case 5 divided by 2 is `2.5` but Python rounds down to `2`"
   ]
  },
  {
   "cell_type": "markdown",
   "metadata": {},
   "source": [
    "The exponential  `**` operator performs power calculations like how to square 10. Run the snippet below to see how this works."
   ]
  },
  {
   "cell_type": "code",
   "execution_count": null,
   "metadata": {},
   "outputs": [],
   "source": [
    "10**2"
   ]
  },
  {
   "cell_type": "markdown",
   "metadata": {},
   "source": [
    "Calculate the 25 squared in the code snippet below."
   ]
  },
  {
   "cell_type": "code",
   "execution_count": null,
   "metadata": {},
   "outputs": [],
   "source": []
  },
  {
   "cell_type": "markdown",
   "metadata": {},
   "source": [
    "Now we've covered the operators, we can start to use these with variables. We can store useful numbers and reuse them to do different calculations.\n",
    "\n",
    "In the code snippet below, using variables to store different integers or floats, calculate the addition/subtraction/multiplication and division of those two integer values."
   ]
  },
  {
   "cell_type": "code",
   "execution_count": null,
   "metadata": {},
   "outputs": [],
   "source": []
  },
  {
   "cell_type": "markdown",
   "metadata": {},
   "source": [
    "### Assignment Operators"
   ]
  },
  {
   "cell_type": "markdown",
   "metadata": {},
   "source": [
    "We briefly covered the assignment operator when assigning a value to a variable in a previous exercise. There are **augmented assignment** operators that use both assignment and arithmetic operators that are worth learning too.\n",
    "\n",
    "The augmented assignment operator`+=` describes an operation where a variable is a left-hand operand and a value is a right-hand operand. For example, `x += 3` is equivalent to saying `x = x + 3` in Python. This means we want to add 3 to whatever value `x` stores. \n",
    "\n",
    "We often want to increment or decrement values in Python and this provides a shorthand to do that. The augmented assignment operator allows you to add a number to an assigned value. "
   ]
  },
  {
   "cell_type": "markdown",
   "metadata": {},
   "source": [
    "Run the snippet of code below to see how this works."
   ]
  },
  {
   "cell_type": "code",
   "execution_count": null,
   "metadata": {},
   "outputs": [],
   "source": [
    "x = 5 \n",
    "x += 3\n",
    "print(x)"
   ]
  },
  {
   "cell_type": "markdown",
   "metadata": {},
   "source": [
    "The value of `x` is 8, the augmented assignment operator has added 3 to the value assigned to the variable `x`."
   ]
  },
  {
   "cell_type": "markdown",
   "metadata": {},
   "source": [
    "Similarly, `-=` is an operator where the variable is a left-hand operand and a value as a right-hand operand. This subtracts a number from a an assigned value.\n",
    "\n",
    "Run the cell below to see how this works."
   ]
  },
  {
   "cell_type": "code",
   "execution_count": null,
   "metadata": {},
   "outputs": [],
   "source": [
    "x = 10 \n",
    "x -= 3\n",
    "x"
   ]
  },
  {
   "cell_type": "markdown",
   "metadata": {},
   "source": [
    "The value of x is `7` in this case we have subtracted 3 from the value assigned to the variable `x`."
   ]
  },
  {
   "cell_type": "markdown",
   "metadata": {},
   "source": [
    "There are similar operators which use other arithmetic operators like `*=`. We won't go into too much detail as the above two are the most commonly used. We will see these operators when we talk about looping through lists for example."
   ]
  },
  {
   "cell_type": "markdown",
   "metadata": {},
   "source": [
    "### Comparison Operators"
   ]
  },
  {
   "cell_type": "markdown",
   "metadata": {},
   "source": [
    "Often we need to know whether two values are equal or not, or if values are greater than or less than another. These groups of operators can compare one value to another.\n",
    "\n",
    "The logic in comparing values is sometimes called **boolean logic** and an expression that evaluates to either `True` or `False` is called a boolean or **conditional expression**. \n",
    "\n",
    "The types of comparison we make are inequalities and equality. All of these are conditional expressions we use that will resolve to return either a `True` or `False`. \n",
    "\n",
    "Some of these comparators should be familiar to you from mathematics."
   ]
  },
  {
   "cell_type": "markdown",
   "metadata": {},
   "source": [
    "#### Inequalities\n",
    "\n",
    "In mathematics, we can express when a value is great or less than another, let's review these. When we use these inequalities, Python will return a `True` or `False` value"
   ]
  },
  {
   "cell_type": "markdown",
   "metadata": {},
   "source": [
    "```\n",
    "a > b # Greater than\n",
    "a < b # Less than\n",
    "a >= b # Greater than or equal to\n",
    "a <= b # Less than or equal to\n",
    "```"
   ]
  },
  {
   "cell_type": "markdown",
   "metadata": {},
   "source": [
    "Run the cell below to see an example of inequality comparison."
   ]
  },
  {
   "cell_type": "code",
   "execution_count": 4,
   "metadata": {},
   "outputs": [
    {
     "data": {
      "text/plain": [
       "True"
      ]
     },
     "execution_count": 4,
     "metadata": {},
     "output_type": "execute_result"
    }
   ],
   "source": [
    "a = 10 \n",
    "b = 5\n",
    "a > b"
   ]
  },
  {
   "cell_type": "markdown",
   "metadata": {},
   "source": [
    "Here the `>` operator says to compare the value of `a` which is `10` against the value of `b` which is `5`. `10` is greater than `5`, so Python evaluates the conditional expression to `True`. "
   ]
  },
  {
   "cell_type": "markdown",
   "metadata": {},
   "source": [
    "In the cell below, use the above operators to explore the different inequalities. Determine which expressions evalute to `True` or `False`."
   ]
  },
  {
   "cell_type": "code",
   "execution_count": null,
   "metadata": {},
   "outputs": [],
   "source": [
    "a = 26 \n",
    "b = 7\n",
    "c = 26\n",
    "d = 13"
   ]
  },
  {
   "cell_type": "markdown",
   "metadata": {},
   "source": [
    "#### Equality"
   ]
  },
  {
   "cell_type": "markdown",
   "metadata": {},
   "source": [
    "To compare values, we use the equality operator `==` in Python. \n",
    "\n",
    "Run the snippet below to see this."
   ]
  },
  {
   "cell_type": "code",
   "execution_count": 5,
   "metadata": {},
   "outputs": [
    {
     "data": {
      "text/plain": [
       "True"
      ]
     },
     "execution_count": 5,
     "metadata": {},
     "output_type": "execute_result"
    }
   ],
   "source": [
    "a = 5\n",
    "b = 5\n",
    "\n",
    "a == b"
   ]
  },
  {
   "cell_type": "markdown",
   "metadata": {},
   "source": [
    "The expression above returns `True` as the values assigned to `a` and `b` are the same. This shows that conditional expressions will evaluate to a `True` or `False` value.\n",
    "\n",
    "To express whether something is not equal to another we use the inequality operator `!=`.\n",
    "\n",
    "Run the snippet below to see this."
   ]
  },
  {
   "cell_type": "code",
   "execution_count": 6,
   "metadata": {},
   "outputs": [
    {
     "data": {
      "text/plain": [
       "True"
      ]
     },
     "execution_count": 6,
     "metadata": {},
     "output_type": "execute_result"
    }
   ],
   "source": [
    "a = 5 \n",
    "b = 7\n",
    "\n",
    "a != b"
   ]
  },
  {
   "cell_type": "markdown",
   "metadata": {},
   "source": [
    "\n",
    "The expression above returns `True` as `a` and `b` are not equal."
   ]
  },
  {
   "cell_type": "markdown",
   "metadata": {},
   "source": [
    "In the cell below, explore using the equality and inequality operator to evaluate the different values assigned to variables in the cell."
   ]
  },
  {
   "cell_type": "code",
   "execution_count": 9,
   "metadata": {},
   "outputs": [],
   "source": [
    "a = 62\n",
    "b = 56\n",
    "c = 146\n",
    "d = 56"
   ]
  },
  {
   "cell_type": "markdown",
   "metadata": {},
   "source": [
    "### Logical Operators"
   ]
  },
  {
   "cell_type": "markdown",
   "metadata": {},
   "source": [
    "In addition to the above comparator operators, Python has some operators `and`,` or` and `not` to combine conditional expressions to form more complicated logic. This are also keywords so be sure to not name your variables after them. Below we will cover these ones by one."
   ]
  },
  {
   "cell_type": "markdown",
   "metadata": {},
   "source": [
    "#### And operator\n",
    "\n",
    "The `and` keyword combines two conditional expressions together. Python will then evaluate this expression and return `True` only when both conditional expressions are true. If one of the conditional expressions is false, the combined expression will be `False`.\n",
    "\n",
    "Run the cell below to explore this."
   ]
  },
  {
   "cell_type": "code",
   "execution_count": 10,
   "metadata": {},
   "outputs": [
    {
     "data": {
      "text/plain": [
       "True"
      ]
     },
     "execution_count": 10,
     "metadata": {},
     "output_type": "execute_result"
    }
   ],
   "source": [
    "a = 5\n",
    "b = 10 \n",
    "a == 5 and a != b"
   ]
  },
  {
   "cell_type": "markdown",
   "metadata": {},
   "source": [
    "This conditional expression returns `True`, both `a` is equal to `5` and `a` does not equal `b` at the same time."
   ]
  },
  {
   "cell_type": "markdown",
   "metadata": {},
   "source": [
    "Run the cell below to see difference between these two code snippets."
   ]
  },
  {
   "cell_type": "code",
   "execution_count": 11,
   "metadata": {},
   "outputs": [
    {
     "data": {
      "text/plain": [
       "False"
      ]
     },
     "execution_count": 11,
     "metadata": {},
     "output_type": "execute_result"
    }
   ],
   "source": [
    "a = 5\n",
    "b = 10 \n",
    "a == 6 and a != b"
   ]
  },
  {
   "cell_type": "markdown",
   "metadata": {},
   "source": [
    "This code snippet returns `False`. We are asking if `a` equals `6` and that a does not equal `b`. In the example, `a` does not equal `6`, but it is true that `a` does not equal b. \n",
    "\n",
    "That is to say, one part of the conditional expression is false and the other is true, hence the whole expression returns `false.`\n",
    "\n",
    "To sum up, the `and` operator used with expressions is only true when both conditional expressions are true. Otherwise if one conditional expression is false then the whole expression evaluates to `False`.\n",
    "\n",
    "To summarise this another way look at each expression below to think through why they evaluate to the value they do. "
   ]
  },
  {
   "cell_type": "markdown",
   "metadata": {},
   "source": [
    "```\n",
    "True and True # This expression evaluates to True\n",
    "True and False # This expression evaluates to False\n",
    "False and True # This expression evaluates to False\n",
    "False and False # This expression evaluates to False\n",
    "```"
   ]
  },
  {
   "cell_type": "markdown",
   "metadata": {},
   "source": [
    "In the cell below, explore the `and` operator using the variables below."
   ]
  },
  {
   "cell_type": "code",
   "execution_count": null,
   "metadata": {},
   "outputs": [],
   "source": [
    "a = 62\n",
    "b = 56\n",
    "c = 146\n",
    "d = 56"
   ]
  },
  {
   "cell_type": "markdown",
   "metadata": {},
   "source": [
    "#### or operator\n",
    "\n",
    "The `or` operator in Python says that if one or the other expressions are true then the whole expression is `True`. Otherwise, the combined expression is `False`.\n",
    "\n",
    "Run the code snippet below to get an understanding of the or keyword."
   ]
  },
  {
   "cell_type": "code",
   "execution_count": 25,
   "metadata": {},
   "outputs": [
    {
     "data": {
      "text/plain": [
       "True"
      ]
     },
     "execution_count": 25,
     "metadata": {},
     "output_type": "execute_result"
    }
   ],
   "source": [
    "1 < 2 or 3 < 4 # Both expressions are True"
   ]
  },
  {
   "cell_type": "markdown",
   "metadata": {},
   "source": [
    "Taking each operand in turn `1 < 2` evaluates to `True` and `3 < 4` also evaluates to `True`, so the whole expression evaluates to `True`."
   ]
  },
  {
   "cell_type": "raw",
   "metadata": {},
   "source": [
    "Run the cell below."
   ]
  },
  {
   "cell_type": "code",
   "execution_count": 24,
   "metadata": {},
   "outputs": [
    {
     "data": {
      "text/plain": [
       "False"
      ]
     },
     "execution_count": 24,
     "metadata": {},
     "output_type": "execute_result"
    }
   ],
   "source": [
    "2 < 1 or 4 < 3 "
   ]
  },
  {
   "cell_type": "markdown",
   "metadata": {},
   "source": [
    "Taking each operand in turn `2 < 1` evaluates to `False` and`4 < 3` also evaluates to `False`, so the whole expression evaluates to `False`."
   ]
  },
  {
   "cell_type": "markdown",
   "metadata": {},
   "source": [
    "Run the cell below."
   ]
  },
  {
   "cell_type": "code",
   "execution_count": 20,
   "metadata": {},
   "outputs": [
    {
     "data": {
      "text/plain": [
       "True"
      ]
     },
     "execution_count": 20,
     "metadata": {},
     "output_type": "execute_result"
    }
   ],
   "source": [
    "1 < 2 or 4 < 3 "
   ]
  },
  {
   "cell_type": "markdown",
   "metadata": {},
   "source": [
    "Taking each operand in turn `1 < 2` evaluates to `True` and 4 < 3 evaluates to `False`, so because atleast one operand evaluates to `False` the whole expression evaluates to `False`."
   ]
  },
  {
   "cell_type": "markdown",
   "metadata": {},
   "source": [
    "In the cell below, figure out before running the cell what will be returned ?"
   ]
  },
  {
   "cell_type": "code",
   "execution_count": 23,
   "metadata": {},
   "outputs": [
    {
     "data": {
      "text/plain": [
       "True"
      ]
     },
     "execution_count": 23,
     "metadata": {},
     "output_type": "execute_result"
    }
   ],
   "source": [
    "2 < 1 or 3 < 4 "
   ]
  },
  {
   "cell_type": "markdown",
   "metadata": {},
   "source": [
    "Taking each operand in turn `2 > 1` evaluates to `False` and 3 < 4 evaluates to `True`, so because atleast one operand evaluates to `False` the whole expression evaluates to `True`."
   ]
  },
  {
   "cell_type": "markdown",
   "metadata": {},
   "source": [
    "To summarise this if operand of the expression evaluates to `True` then the whole expression is `True`. Both operands have to evaluate to `False` for the the whole expression is `False`.\n",
    "\n"
   ]
  },
  {
   "cell_type": "markdown",
   "metadata": {},
   "source": [
    "```\n",
    "True or True # This evaluates to True\n",
    "True or False # This evaluates to True\n",
    "False or True # This evaluates to True\n",
    "False or False # This evaluates to False\n",
    "```"
   ]
  },
  {
   "cell_type": "markdown",
   "metadata": {},
   "source": [
    "#### Not operator\n",
    "\n",
    "The not keyword reverses what the expression evaluates to. Sometimes we want to check if a value is not something in Python and the `not` operator allows us to do this.\n",
    "\n",
    "Run the code snippets below."
   ]
  },
  {
   "cell_type": "code",
   "execution_count": 26,
   "metadata": {},
   "outputs": [
    {
     "data": {
      "text/plain": [
       "False"
      ]
     },
     "execution_count": 26,
     "metadata": {},
     "output_type": "execute_result"
    }
   ],
   "source": [
    "not True"
   ]
  },
  {
   "cell_type": "markdown",
   "metadata": {},
   "source": [
    "This expression returns `False` as we negate the `True` value. This also works for any value in Python that is truthy (more on this later)."
   ]
  },
  {
   "cell_type": "code",
   "execution_count": null,
   "metadata": {},
   "outputs": [],
   "source": [
    "not False"
   ]
  },
  {
   "cell_type": "markdown",
   "metadata": {},
   "source": [
    "This expression returns `True` as we negate the `False` value. "
   ]
  },
  {
   "cell_type": "markdown",
   "metadata": {},
   "source": [
    "In the cell below run the snippet to see another example of this."
   ]
  },
  {
   "cell_type": "code",
   "execution_count": null,
   "metadata": {},
   "outputs": [],
   "source": [
    "x = 2\n",
    "y = 5\n",
    "not x > y"
   ]
  },
  {
   "cell_type": "markdown",
   "metadata": {},
   "source": [
    "The not operator can be put at the start of any expression or variable. So in this case `x > y` evaluates to `True` then we use the `not` to tell Python to evaluate the whole expression to `False`.\n",
    "\n",
    "The not operator comes in useful sometimes when we want to use a condition to instruct Python to run code based on that condition (more on this later)."
   ]
  },
  {
   "cell_type": "markdown",
   "metadata": {},
   "source": [
    "In the cell below explore using the not operator on the different variables conditional and logical operators we've just learned about."
   ]
  },
  {
   "cell_type": "code",
   "execution_count": null,
   "metadata": {},
   "outputs": [],
   "source": [
    "a = 6\n",
    "b = 104\n",
    "c = 631"
   ]
  },
  {
   "cell_type": "markdown",
   "metadata": {},
   "source": [
    "### Membership Operators\n",
    "\n",
    "Membership operators are used to test if a specific item is within a data type. For example, whether a list item is within a list. The operator `in` and the combination `not in` determine this. Lists, tuples and strings support membership operators.\n",
    "\n",
    "Run this code snippet to see the use of the `in` operator. "
   ]
  },
  {
   "cell_type": "code",
   "execution_count": 27,
   "metadata": {},
   "outputs": [
    {
     "data": {
      "text/plain": [
       "True"
      ]
     },
     "execution_count": 27,
     "metadata": {},
     "output_type": "execute_result"
    }
   ],
   "source": [
    "courses = ['Python','Data Science']\n",
    "'Python' in courses"
   ]
  },
  {
   "cell_type": "markdown",
   "metadata": {},
   "source": [
    "This expression return `True` as `Python` is within the `courses` list.\n",
    "\n",
    "Run the code snippet below."
   ]
  },
  {
   "cell_type": "code",
   "execution_count": 28,
   "metadata": {},
   "outputs": [
    {
     "data": {
      "text/plain": [
       "True"
      ]
     },
     "execution_count": 28,
     "metadata": {},
     "output_type": "execute_result"
    }
   ],
   "source": [
    "courses = ['Python','Data Science']\n",
    "'Anatomy' not in courses"
   ]
  },
  {
   "cell_type": "markdown",
   "metadata": {},
   "source": [
    "This expression returns `True` as `Anatomy` is not in the `courses` list."
   ]
  },
  {
   "cell_type": "markdown",
   "metadata": {},
   "source": [
    "Using the in operator check if ``Anatomy`` is in the list below "
   ]
  },
  {
   "cell_type": "code",
   "execution_count": null,
   "metadata": {},
   "outputs": [],
   "source": [
    "courses = ['Biochemistry','Physiology',]"
   ]
  },
  {
   "cell_type": "markdown",
   "metadata": {},
   "source": [
    "### Identity Operators\n",
    "\n",
    "In Python, when we create a data type object it gets stored in a part of the computer memory called a memory address. We can compare the values of an object using the equality operator. However, equality is not the same as the identity of an object. To test if an object is the same created object not just the value we can use the `is` and `is not` operators.\n",
    "\n",
    "Run the snippet below to explore this."
   ]
  },
  {
   "cell_type": "code",
   "execution_count": 29,
   "metadata": {},
   "outputs": [
    {
     "data": {
      "text/plain": [
       "False"
      ]
     },
     "execution_count": 29,
     "metadata": {},
     "output_type": "execute_result"
    }
   ],
   "source": [
    "x = [\"Python\", \"Anatomy\"]\n",
    "y = [\"JavaScript\", \"Machine Learning\"]\n",
    "z = x\n",
    "\n",
    "x is y"
   ]
  },
  {
   "cell_type": "markdown",
   "metadata": {},
   "source": [
    "The expression returns `False`. We create variables `x` and `y`. Each variable is assigned a list and each list is stored in a different part of memory, so the expression returns `False`. \n",
    "\n",
    "Run the snippet below."
   ]
  },
  {
   "cell_type": "code",
   "execution_count": 30,
   "metadata": {},
   "outputs": [
    {
     "data": {
      "text/plain": [
       "True"
      ]
     },
     "execution_count": 30,
     "metadata": {},
     "output_type": "execute_result"
    }
   ],
   "source": [
    "x = [\"Python\", \"Anatomy\"]\n",
    "y = [\"JavaScript\", \"Machine Learning\"]\n",
    "z = x\n",
    "\n",
    "x is z"
   ]
  },
  {
   "cell_type": "markdown",
   "metadata": {},
   "source": [
    "This expression returns `True` as on line 3 we assign `z` the list assigned to `x`. That is to say that `z` and `x` are the same object."
   ]
  },
  {
   "cell_type": "markdown",
   "metadata": {},
   "source": [
    "### Operator Precendance"
   ]
  },
  {
   "cell_type": "markdown",
   "metadata": {},
   "source": [
    "\n",
    "Consider the example below. Before running the cell, what will Python output? Then run the cell to find out."
   ]
  },
  {
   "cell_type": "code",
   "execution_count": 31,
   "metadata": {},
   "outputs": [
    {
     "data": {
      "text/plain": [
       "60"
      ]
     },
     "execution_count": 31,
     "metadata": {},
     "output_type": "execute_result"
    }
   ],
   "source": [
    "20 + 4*10"
   ]
  },
  {
   "cell_type": "markdown",
   "metadata": {},
   "source": [
    "There's some ambiguity here if we think about it. Is it `20 + 4` then multiply by `10` or `4` multiplied by `10` and add `20`? The return value is 60, so the latter is true. \n",
    "\n",
    "But when we use operators in Python, they are assigned a precedence. Where the highest is performed first and then those results are obtained. The operators that are next in precedence are then performed. Any operator that is equal in precedence is performed in left-to-right order in the code."
   ]
  },
  {
   "cell_type": "markdown",
   "metadata": {},
   "source": [
    "Here is a list from highested to lowest.\n",
    "\n",
    "1. `**`\n",
    "2. `*`,`/`\n",
    "3. `+`,`-`\n",
    "4. `== `,`!=`, `>`,`<`,`>=`,`<=`, `is` and `is not`\n",
    "5. `not`\n",
    "6. `and`\n",
    "7. `or`\n",
    "\n",
    "The key takeaway is that equality and inequality come before the logical operators and mathematical operations come before equality.\n",
    "\n",
    "Breaking down the example above `20 + 4*10`, \n",
    "\n",
    "`4 * 10` takes precedence so gets evaluated to `40` and then we add `20` to `40` to get `60`.\n",
    "\n",
    "We can override operator precedence using parentheses. Expressions in parentheses are always performed first.\n",
    "\n",
    "Run the snippet of code below."
   ]
  },
  {
   "cell_type": "code",
   "execution_count": null,
   "metadata": {},
   "outputs": [],
   "source": [
    "(20 + 4) * 10"
   ]
  },
  {
   "cell_type": "markdown",
   "metadata": {},
   "source": [
    "The return value is 240, as `20 + 4` is evaluted first.\n"
   ]
  },
  {
   "cell_type": "markdown",
   "metadata": {},
   "source": [
    "## Data Type Methods \n",
    "\n",
    "Operators are one way to modify data, but Python also provides some functionality specific to each data type, we call these methods. **Methods** are functions that are contained within an object. A function in Python performs a tasks. Knowing what objects are at this stage is not essential knowledge, but understanding generally what a method will help.  \n",
    "\n",
    "Python provides us some built-in methods for the data types. That is to say we can do actions on specific data types like lists using methods. It is in the combination of operators and methods we can control what data becomes.\n",
    "\n",
    "We mentioned before that all data types in Python are objects, think of the methods as being part of those objects.\n",
    "\n",
    "We haven't covered functions in detail yet, but with some of the built-in methods Python provides us, some of them require passing some data to the method in order to get the intended outcome. You've seen examples of this with `type()` and `print()` already.\n",
    "\n",
    "In order to understand methods we should define some terms. To pass this information to a method python gives us defined variables called **parameters** we can assign values to. The assigned values are called **arguments**. The act of using a method on a data type is called a **method invocation** or calling a method. These terms will make sense in the example below.\n",
    "\n",
    "Say we want to insert a list item into a list. We would need to specify what the list item is and where in the list to put it. The list `insert` method allows us to do this.\n",
    "\n",
    "The list `insert()` method has two required parameters `pos` and `element`. The syntax looks like this `list.insert(pos,elmnt)`. \n",
    "\n",
    "So valid syntax for this method might be `list.insert(1,\"Data Science\")`. The arguments are `1` and `Data Science`. Here we are assigning the parameter `pos` with the value `1` and assigning the parameter `elmnt` with `'Data Science'`. \n",
    "\n",
    "When learning about methods, it's useful to have a structure of  type of information to have at your fingertips when using these methods.\n",
    "\n",
    "For each method, we should be able to recall the following over time.\n",
    "\n",
    "1. The description\n",
    "2. The syntax of the method (can we pass any values to the method)\n",
    "3. The return value of the method\n",
    "4. Are there any peculiarities about the method (does it return something you don't expect ?)\n",
    "\n",
    "Don't worry if this takes time, programming is a process, and the act of doing programming clarifies this information more than basic recall. "
   ]
  },
  {
   "cell_type": "markdown",
   "metadata": {},
   "source": [
    "### List Methods"
   ]
  },
  {
   "cell_type": "markdown",
   "metadata": {},
   "source": [
    "Python has 11 built-in methods for modifying lists. We will go through the most common list methods. \n",
    "\n",
    "##### Inserting a list item\n",
    "\n",
    "The insert method inserts a specific value at a specified position.It has two required parameters `pos` and `elmnt`.\n",
    "\n",
    "The syntax is `list.insert(pos,elmnt)`\n",
    "\n",
    "`pos` - The index of where in the list to add the list item\n",
    "`elmnt` - The value of the list item to insert\n",
    "\n",
    "The return value of this method call is a list with an additional list item at the specified index.\n",
    "\n",
    "Run the snippet below."
   ]
  },
  {
   "cell_type": "code",
   "execution_count": 32,
   "metadata": {},
   "outputs": [
    {
     "data": {
      "text/plain": [
       "['Python', 'Data Science', 'Deep Learning']"
      ]
     },
     "execution_count": 32,
     "metadata": {},
     "output_type": "execute_result"
    }
   ],
   "source": [
    "courses = ['Python','Data Science']\n",
    "courses.insert(2,'Deep Learning')\n",
    "courses"
   ]
  },
  {
   "cell_type": "markdown",
   "metadata": {},
   "source": [
    "We are calling the insert method on the `courses` list. Specifying the index `2` with the value of `Deep Learning` to be added. The return value of this method call is an list `['Python','Data Science','Deep Learning']`. On line 3 we display the result of this method call.\n",
    "\n",
    "In the snippet below, can you insert `Deep Learning` at the start of the list?"
   ]
  },
  {
   "cell_type": "code",
   "execution_count": null,
   "metadata": {},
   "outputs": [],
   "source": [
    "courses = ['Python','Data Science']"
   ]
  },
  {
   "cell_type": "markdown",
   "metadata": {},
   "source": [
    "### Inserting a list item at the end of a list\n",
    "\n",
    "To add a list item at the end of the list we use the `append()` method. \n",
    "\n",
    "The append method has one required parameter `elmnt` which is the argument to add to the list. \n",
    "\n",
    "The syntax is `list.append(elmnt)`\n",
    "\n",
    "The return value of this method call is a list with an addition list item added at the end.\n",
    "\n",
    "Look at the code snippet below."
   ]
  },
  {
   "cell_type": "code",
   "execution_count": 36,
   "metadata": {},
   "outputs": [
    {
     "data": {
      "text/plain": [
       "['Python', 'Data Science', 'Deep Learning']"
      ]
     },
     "execution_count": 36,
     "metadata": {},
     "output_type": "execute_result"
    }
   ],
   "source": [
    "courses = ['Python','Data Science']\n",
    "courses.append('Deep Learning')\n",
    "courses"
   ]
  },
  {
   "cell_type": "markdown",
   "metadata": {},
   "source": [
    "We call the method on the `courses` list, passing in `Deep Learning` as an argument. The return value of the method call is a list `['Python','Data Science','Deep Learning']`. On line 3 we display the result of this method call.\n",
    "\n",
    "Notice the difference between `insert` and `append`. \n",
    "\n",
    "In the cell below, add `Machine Learning` to the end of the list and display the output."
   ]
  },
  {
   "cell_type": "code",
   "execution_count": null,
   "metadata": {},
   "outputs": [],
   "source": [
    "courses = ['Python','Data Science']"
   ]
  },
  {
   "cell_type": "markdown",
   "metadata": {},
   "source": [
    "### Merging lists\n",
    "\n",
    "The `extend()` method can be used to add two lists together. \n",
    "\n",
    "The syntax is `list.extend(iterable)`\n",
    "\n",
    "It has one required parameter `iterable` which takes values of any data type that can be looped like over lists, tuples, dictionaries and strings. Don't worry too much about looping and iterables we'll cover this later. Note that this means it's not only lists that can be merged together, lists and tuples can be merged together too.\n",
    "\n",
    "The return value of the method call is a merged list.\n",
    "\n",
    "Run the code snippet below to see how this works.\n"
   ]
  },
  {
   "cell_type": "code",
   "execution_count": 35,
   "metadata": {},
   "outputs": [
    {
     "data": {
      "text/plain": [
       "['Python', 'Data Science', 'Deep learning', 'JavaScript']"
      ]
     },
     "execution_count": 35,
     "metadata": {},
     "output_type": "execute_result"
    }
   ],
   "source": [
    "courses = ['Python','Data Science']\n",
    "optional_course = ['Deep learning','JavaScript']\n",
    "courses.extend(optional_course)\n",
    "courses"
   ]
  },
  {
   "cell_type": "markdown",
   "metadata": {},
   "source": [
    "In the snippet above, we have two lists, and we want to merge `optional_course` to the `courses` list. The return value of this method call is the merged list."
   ]
  },
  {
   "cell_type": "markdown",
   "metadata": {},
   "source": [
    "See the example below, we can merge a tuple to a list using the `extend` method."
   ]
  },
  {
   "cell_type": "code",
   "execution_count": null,
   "metadata": {},
   "outputs": [],
   "source": [
    "courses = ['Python','Data Science']\n",
    "optional_course = ('Deep learning','JavaScript')\n",
    "courses.extend(optional_course)\n",
    "courses"
   ]
  },
  {
   "cell_type": "markdown",
   "metadata": {},
   "source": [
    "In the cell below, can you merge the two lists created together ?"
   ]
  },
  {
   "cell_type": "code",
   "execution_count": null,
   "metadata": {},
   "outputs": [],
   "source": [
    "courses = ['Physiology','Anatomy']\n",
    "digitalCourses = ['Python','JavaScript']"
   ]
  },
  {
   "cell_type": "markdown",
   "metadata": {},
   "source": [
    "### Removing a list item\n",
    "\n",
    "The `remove()` method removes a specific item from a list. It is one required parameter `elmnt` that specifies the list item to be removed. \n",
    "\n",
    "The syntax is `list.remove(elmnt)`\n",
    "\n",
    "Run the code snippet below."
   ]
  },
  {
   "cell_type": "code",
   "execution_count": null,
   "metadata": {},
   "outputs": [],
   "source": [
    "courses = ['Python','Data Science']\n",
    "courses.remove('Data Science')\n",
    "courses"
   ]
  },
  {
   "cell_type": "markdown",
   "metadata": {},
   "source": [
    "In the code snippet above, we are calling the `remove` method and passing the argument `Data Science`, the return value of this method call is `['Python']`. "
   ]
  },
  {
   "cell_type": "markdown",
   "metadata": {},
   "source": [
    "In the cell below, can you remove 'Anatomy' from the list?"
   ]
  },
  {
   "cell_type": "code",
   "execution_count": null,
   "metadata": {},
   "outputs": [],
   "source": [
    "courses = ['Anatomy','Clinical Skills','Biochemistry']"
   ]
  },
  {
   "cell_type": "markdown",
   "metadata": {},
   "source": [
    "### Removing a list item at a specific position\n",
    "\n",
    "The `pop()` method removes a list item from a specified index. The pop method has one optional parameter `pos`.\n",
    "\n",
    "The syntax is `list.pop(pos)`, where `pos` is the number specified position. The default value is `-1` which means that when we use `list.pop()`, Python removes the last list item.\n",
    "\n",
    "The return value is the modified list with a list item removed."
   ]
  },
  {
   "cell_type": "code",
   "execution_count": 40,
   "metadata": {},
   "outputs": [
    {
     "data": {
      "text/plain": [
       "['Python']"
      ]
     },
     "execution_count": 40,
     "metadata": {},
     "output_type": "execute_result"
    }
   ],
   "source": [
    "courses = ['Python','Data Science']\n",
    "courses.pop()\n",
    "courses"
   ]
  },
  {
   "cell_type": "markdown",
   "metadata": {},
   "source": [
    "We invoke the pop method on the `courses` list with no argument passed. This tells Python that we want to remove the last list item `'Data Science'`. We display the output of this which is `['Python']`."
   ]
  },
  {
   "cell_type": "code",
   "execution_count": 41,
   "metadata": {},
   "outputs": [
    {
     "data": {
      "text/plain": [
       "['Python', 'Data Science', 'Deep Learning']"
      ]
     },
     "execution_count": 41,
     "metadata": {},
     "output_type": "execute_result"
    }
   ],
   "source": [
    "courses = ['Python','Data Science', 'Machine Learning' ,'Deep Learning']\n",
    "courses.pop(2)\n",
    "courses"
   ]
  },
  {
   "cell_type": "markdown",
   "metadata": {},
   "source": [
    "We invoke the pop method on `courses` which has a list assigned, passing in `2` as an argument. This removes the 3rd list item. \n",
    "\n",
    "In the cell below, can you remove the 2nd list item from the list ?"
   ]
  },
  {
   "cell_type": "code",
   "execution_count": null,
   "metadata": {},
   "outputs": [],
   "source": [
    "courses = ['Python','Data Science', 'Machine Learning' ,'Deep Learning']"
   ]
  },
  {
   "cell_type": "markdown",
   "metadata": {},
   "source": [
    "### Create an empty list\n",
    "\n",
    "The `clear()` method will remove all list items however the list remains intact.\n",
    "\n",
    "The syntax is `list.clear()` with no required parameters.\n",
    "\n",
    "Run the cell below."
   ]
  },
  {
   "cell_type": "code",
   "execution_count": 42,
   "metadata": {},
   "outputs": [
    {
     "data": {
      "text/plain": [
       "[]"
      ]
     },
     "execution_count": 42,
     "metadata": {},
     "output_type": "execute_result"
    }
   ],
   "source": [
    "courses = ['Python','Data Science', 'Machine Learning' ,'Deep Learning']\n",
    "courses.clear()\n",
    "courses"
   ]
  },
  {
   "cell_type": "markdown",
   "metadata": {},
   "source": [
    "We invoke the clear method on courses which has a list assigned. This removes all list items from `courses`. We display the output which is an empty list `[]`."
   ]
  },
  {
   "cell_type": "markdown",
   "metadata": {},
   "source": [
    "In the cell below, remove all list items."
   ]
  },
  {
   "cell_type": "code",
   "execution_count": null,
   "metadata": {},
   "outputs": [],
   "source": [
    "courses = ['Anatomy','Clinical Skills','Biochemistry']"
   ]
  },
  {
   "cell_type": "markdown",
   "metadata": {},
   "source": [
    "### Copying a list\n",
    "\n",
    "You can copy a list by using the `copy()` method. The return value with be a copied list.\n",
    "\n",
    "The syntax is `list.copy()` with no required parameters."
   ]
  },
  {
   "cell_type": "code",
   "execution_count": null,
   "metadata": {},
   "outputs": [],
   "source": [
    "courses = ['Python','Data Science', 'Machine Learning' ,'Deep Learning']\n",
    "newCourses = courses.copy()\n",
    "newCourses"
   ]
  },
  {
   "cell_type": "markdown",
   "metadata": {},
   "source": [
    "Here we invoke the copy method on the list assigned to the courses variable. The return value of this is a copy of the `courses` list. We then assign this to the variable `newCourses`. We then display the output of this which is `['Python','Data Science', 'Machine Learning' ,'Deep Learning']`.\n",
    "\n",
    "This also displays an important concept, that we can assign the return value from a method call to another variable."
   ]
  },
  {
   "cell_type": "markdown",
   "metadata": {},
   "source": [
    "In the cell below, copy the list `courses` into a new variable `additional_courses`."
   ]
  },
  {
   "cell_type": "code",
   "execution_count": null,
   "metadata": {},
   "outputs": [],
   "source": [
    "courses = ['Anatomy','Physiology','Pharmacology']"
   ]
  },
  {
   "cell_type": "markdown",
   "metadata": {},
   "source": [
    "### Returning the index value \n",
    "\n",
    "It's sometimes necessary to be able to return the index of a specified value. The `index()` method allows you to do this. There is one required parameter which is the element to search for, this can be a string, number or list. \n",
    "\n",
    "The syntax is `list.index(elmnt)`\n",
    "\n",
    "The return value of this method call is the index value of the list item specified."
   ]
  },
  {
   "cell_type": "code",
   "execution_count": 44,
   "metadata": {},
   "outputs": [
    {
     "data": {
      "text/plain": [
       "1"
      ]
     },
     "execution_count": 44,
     "metadata": {},
     "output_type": "execute_result"
    }
   ],
   "source": [
    "courses = ['Anatomy','Physiology','Pharmacology']\n",
    "courses.index('Physiology')"
   ]
  },
  {
   "cell_type": "markdown",
   "metadata": {},
   "source": [
    "We invoke the index method on the list assigned to `courses`. `'Physiology'` is at index `1` which is what the `index` method returns."
   ]
  },
  {
   "cell_type": "markdown",
   "metadata": {},
   "source": [
    "In the cell below, find the index of the string `Data Science`."
   ]
  },
  {
   "cell_type": "code",
   "execution_count": null,
   "metadata": {},
   "outputs": [],
   "source": [
    "courses = ['Python','Data Science', 'Machine Learning' ,'Deep Learning']"
   ]
  },
  {
   "cell_type": "markdown",
   "metadata": {},
   "source": [
    "### Counting list items \n",
    "\n",
    "In a list, it's possible to have duplicates, unlike other data types. The `count()` method returns the number of list items that have a specified value. \n",
    "\n",
    "The syntax is `list.count(value)` where `value` is the parameter for any string, list or number that you want to return the count for within the list.\n",
    "\n",
    "The return value of the count method is the number of times the list item appears in the list.\n"
   ]
  },
  {
   "cell_type": "markdown",
   "metadata": {},
   "source": [
    "Run the cell below."
   ]
  },
  {
   "cell_type": "code",
   "execution_count": 45,
   "metadata": {},
   "outputs": [
    {
     "data": {
      "text/plain": [
       "2"
      ]
     },
     "execution_count": 45,
     "metadata": {},
     "output_type": "execute_result"
    }
   ],
   "source": [
    "courses = ['Python','Data Science', 'Machine Learning' ,'Deep Learning','Data Science']\n",
    "courses.count('Data Science')"
   ]
  },
  {
   "cell_type": "markdown",
   "metadata": {},
   "source": [
    "We invoke the count method on the list assigned to courses. `'Data Science'` appears twice in the list, so the return value of the method call is `2`."
   ]
  },
  {
   "cell_type": "markdown",
   "metadata": {},
   "source": [
    "In the cell below, find out how many times `Python` is populated within the list\n"
   ]
  },
  {
   "cell_type": "code",
   "execution_count": null,
   "metadata": {},
   "outputs": [],
   "source": [
    "courses = ['Python','Data Science', 'Machine Learning' ,'Deep Learning','Python','Python']"
   ]
  },
  {
   "cell_type": "markdown",
   "metadata": {},
   "source": [
    "### Sorting a list\n",
    "\n",
    "Within Python, we sometimes want to sort a list by a certain order. The `sort() ` method will sort alphanumerically (A to Z or 0 - 9) in ascending order. \n",
    "\n",
    "The syntax is `list.sort(reverse=True|false, key=myFunc)` \n",
    "\n",
    "The sort method has two optional parameters `reverse` and `key`.\n",
    "\n",
    "The `reverse` parameter accepts a true or false value which will sort the list in descending order. \n",
    "\n",
    "The `myFunc` allows you to pass an optional function that allows you to sort in a more refined way. Don't worry about this too much as we won't be using it.\n",
    "\n",
    "Note the `sort()` method is case-sensitive, so all capital letters are sorted before lowercase letters. We can use a function to modify how lists get sorted. We won't cover this here.\n",
    "\n",
    "The return value of the sort method is a sorted list.\n",
    "\n",
    "Run the code snippet below to see the result of the sort method."
   ]
  },
  {
   "cell_type": "code",
   "execution_count": 49,
   "metadata": {},
   "outputs": [
    {
     "data": {
      "text/plain": [
       "['Data Science', 'Deep Learning', 'Neural Networks', 'Python']"
      ]
     },
     "execution_count": 49,
     "metadata": {},
     "output_type": "execute_result"
    }
   ],
   "source": [
    "courses = [\"Python\",\"Data Science\",\"Deep Learning\", \"Neural Networks\"]\n",
    "courses.sort()\n",
    "courses"
   ]
  },
  {
   "cell_type": "markdown",
   "metadata": {},
   "source": [
    "The sort method is invoked on the `courses` list and sorts the array in alphabetical order.\n",
    "\n",
    "Run the cell below to see the reverse option."
   ]
  },
  {
   "cell_type": "code",
   "execution_count": null,
   "metadata": {},
   "outputs": [],
   "source": [
    "courses = [\"Python\",\"Data Science\",\"Deep Learning\", \"Neural Networks\"]\n",
    "courses.sort(reverse=True)\n",
    "courses"
   ]
  },
  {
   "cell_type": "markdown",
   "metadata": {},
   "source": [
    "Notice how the list is sorted in descending order.\n",
    "\n",
    "In the cell below, sort the list in descending order from Z to A."
   ]
  },
  {
   "cell_type": "code",
   "execution_count": null,
   "metadata": {},
   "outputs": [],
   "source": [
    "courses = [\"Anatomy\",\"Physiology\", \"Pharmacology\", \"Clinical Sciences\"]"
   ]
  },
  {
   "cell_type": "markdown",
   "metadata": {},
   "source": [
    "## String Methods"
   ]
  },
  {
   "cell_type": "markdown",
   "metadata": {},
   "source": [
    "Python has 47 methods for manipulating strings and many you don't need to know. We will focus on the ten or so methods worth committing to memory. It's always possible to look these methods up if you need something else.\n"
   ]
  },
  {
   "cell_type": "markdown",
   "metadata": {},
   "source": [
    "### Converting a list to a string \n",
    "\n",
    "The `join()` method takes all list items and joins them together into a single string. It has a required parameter `iterable` which can be any object. The join method returns a string.  \n",
    "\n",
    "The syntax is `string.join(iterable)`. The string in the syntax is what character or chacters we want to seperate between the list items we would like to have. An example will help clarify this.\n",
    "\n",
    "Run the cell below."
   ]
  },
  {
   "cell_type": "code",
   "execution_count": 50,
   "metadata": {},
   "outputs": [
    {
     "data": {
      "text/plain": [
       "'Python Data Science Deep Learning Neural Networks'"
      ]
     },
     "execution_count": 50,
     "metadata": {},
     "output_type": "execute_result"
    }
   ],
   "source": [
    "courses = [\"Python\",\"Data Science\",\"Deep Learning\", \"Neural Networks\"]\n",
    "\n",
    "\" \".join(courses)"
   ]
  },
  {
   "cell_type": "markdown",
   "metadata": {},
   "source": [
    "We invoke the join method on the `\" \"` string, this defines what separates the list items when we want to create a string. We pass in the `courses` list as an argument to the join method. The result is `Python Data Science Deep Learning Neural Networks`. \n",
    "\n",
    "It's possible to use a custom separator, like for example a comma.\n",
    "\n",
    "In the cell below, try to convert the list to a string with a comma separated between each list item."
   ]
  },
  {
   "cell_type": "code",
   "execution_count": null,
   "metadata": {},
   "outputs": [],
   "source": []
  },
  {
   "cell_type": "markdown",
   "metadata": {},
   "source": [
    "\n",
    "It's also possible to join any iterable, that is in this example we have joined list items together and converted it into a string. But the same can be done with a dictionary or a tuple in the same manner."
   ]
  },
  {
   "cell_type": "markdown",
   "metadata": {},
   "source": [
    "Try to convert a tuple into a string below with a space between each tuple item."
   ]
  },
  {
   "cell_type": "code",
   "execution_count": null,
   "metadata": {},
   "outputs": [],
   "source": [
    "tupleCourses = ('Anatomy','Physiology')"
   ]
  },
  {
   "cell_type": "markdown",
   "metadata": {},
   "source": [
    "### Spliting a string into smaller strings\n",
    "\n",
    "Sometimes you need to break a string into smaller parts and want to store these in a list. The `split()` method splits a string into a list of individual strings. It has two optional values, `separator` and `max split`.\n",
    "\n",
    "The syntax is `string.split(separator, maxsplit)`. \n",
    "\n",
    "The `separator` allows to specify how to split the string, so if it's a string of words, you may want to split at the space between words, so each list item is a word in the sentence. The default value for this is `\" \"`. \n",
    "\n",
    "`Maxsplit` is used to specify how many splits to do, the default value is `-1` and when we don't specify this in the method will automatically split the maximum number of times.\n",
    "\n",
    "The return value is a list of strings where each list item is determined by the seperator.\n",
    "\n",
    "Run the snippet below."
   ]
  },
  {
   "cell_type": "code",
   "execution_count": 53,
   "metadata": {},
   "outputs": [
    {
     "data": {
      "text/plain": [
       "['Anatomy', 'Physiology', 'Pharmacology']"
      ]
     },
     "execution_count": 53,
     "metadata": {},
     "output_type": "execute_result"
    }
   ],
   "source": [
    "coursesText = \"Anatomy Physiology Pharmacology\"\n",
    "coursesText.split()"
   ]
  },
  {
   "cell_type": "markdown",
   "metadata": {},
   "source": [
    "Notice how we haven't provided any arguments and the method splits this string into a list of individual words. This is because without specifying `seperator` parameter, the default value is `\" \"`. So it looks at the string `\"Anatomy Physiology Pharmacology\"` and looks for the `\" \"` and uses that to split each word up and defines that as each list item.\n",
    "\n",
    "Run the code snippet below which is more explicit."
   ]
  },
  {
   "cell_type": "code",
   "execution_count": 54,
   "metadata": {},
   "outputs": [
    {
     "data": {
      "text/plain": [
       "['Anatomy', 'Physiology', 'Pharmacology']"
      ]
     },
     "execution_count": 54,
     "metadata": {},
     "output_type": "execute_result"
    }
   ],
   "source": [
    "coursesText = \"Anatomy Physiology Pharmacology\"\n",
    "coursesText.split(\" \")"
   ]
  },
  {
   "cell_type": "markdown",
   "metadata": {},
   "source": [
    "We invoke the split method passing in `\" \"` as argument, the return value is a list of strings which correspond to words in the text. Notice how we specify the seperator as the space. \n",
    "\n",
    "You may have instances where its not words in text, but commas, or commas and a space. You can seperate those too.\n",
    "\n",
    "In the cell below seperate the string into individual words."
   ]
  },
  {
   "cell_type": "code",
   "execution_count": null,
   "metadata": {},
   "outputs": [],
   "source": [
    "courses = \"Anatomy, Physiology, Pharmacology\""
   ]
  },
  {
   "cell_type": "markdown",
   "metadata": {},
   "source": [
    "Sometimes you care only about splitting the first one or two instances of a string. \n",
    "\n",
    "In the cell below can you try to split the first two words of a string (hint think about maxsplit)"
   ]
  },
  {
   "cell_type": "code",
   "execution_count": 55,
   "metadata": {},
   "outputs": [
    {
     "data": {
      "text/plain": [
       "['Anatomy', 'Physiology', 'PharmacologyClinical']"
      ]
     },
     "execution_count": 55,
     "metadata": {},
     "output_type": "execute_result"
    }
   ],
   "source": [
    "courses = \"Anatomy Physiology PharmacologyClinical\"\n",
    "courses.split(\" \",2)"
   ]
  },
  {
   "cell_type": "markdown",
   "metadata": {},
   "source": [
    "### Replacing a substring with another\n",
    "\n",
    "The `replace` method allows you to replace characters in a string with another string. This can be very useful when cleaning up messy data. \n",
    "\n",
    "The syntax is `string.replace(oldvalue, newvalue, count)`. \n",
    "\n",
    "`oldvalue` refers to the string to search for, this is required. \n",
    "`newvalue` is the string to replace the old string. \n",
    "`count` is an optional parameter to specify how many instances of the old value you want to replace. The default value is all occurrences.\n",
    "\n",
    "Run the snippet below."
   ]
  },
  {
   "cell_type": "code",
   "execution_count": 56,
   "metadata": {},
   "outputs": [
    {
     "data": {
      "text/plain": [
       "'Anatomy Physiology Pharmacology Clinical'"
      ]
     },
     "execution_count": 56,
     "metadata": {},
     "output_type": "execute_result"
    }
   ],
   "source": [
    "courses = \"Anatomy Physiology|Pharmacology|Clinical\"\n",
    "courses.replace(\"|\", \" \")"
   ]
  },
  {
   "cell_type": "markdown",
   "metadata": {},
   "source": [
    "Invoking the replace method searches for all occurrences of `|` and replaces them with `\" \"`. \n",
    "\n",
    "In the cell below, clean up the string so the string separates each course by a space only. In Python its possible to invoke methods several times on a literal."
   ]
  },
  {
   "cell_type": "code",
   "execution_count": null,
   "metadata": {},
   "outputs": [],
   "source": [
    "courses = \"Anatomy*Physiology|Pharmacology|Clinical\""
   ]
  },
  {
   "cell_type": "markdown",
   "metadata": {},
   "source": [
    "### Removing whitespaces\n",
    "\n",
    "When cleaning up data, you may find multiple spaces at the beginning and end of a string. The `strip()` method removes all whitespace from the beginning and end. \n",
    "\n",
    "The syntax is `string.strip(characters)`. The `characters` parameter allows you to remove a specific set of characters.\n",
    "\n",
    "The return value is the string removed of whitespaces.\n",
    "\n",
    "Look at the code snippet below."
   ]
  },
  {
   "cell_type": "code",
   "execution_count": null,
   "metadata": {},
   "outputs": [],
   "source": [
    "courses = \"   Python      \"\n",
    "courses.strip()"
   ]
  },
  {
   "cell_type": "markdown",
   "metadata": {},
   "source": [
    "Sometimes you want to either remove space from the left side of a string or the right side of a string. The `lstrip` and `rstrip` methods do this.\n",
    "\n",
    "In the cell below, remove the white space from the string."
   ]
  },
  {
   "cell_type": "code",
   "execution_count": null,
   "metadata": {},
   "outputs": [],
   "source": [
    "courses = \" Deep Learning \""
   ]
  },
  {
   "cell_type": "markdown",
   "metadata": {},
   "source": [
    "It's also possible to specify which character to remove."
   ]
  },
  {
   "cell_type": "code",
   "execution_count": null,
   "metadata": {},
   "outputs": [],
   "source": [
    "courses = \",,,,,Deep learning,,,,\"\n",
    "courses.strip(\",\")"
   ]
  },
  {
   "cell_type": "markdown",
   "metadata": {},
   "source": [
    "### Uppercase strings\n",
    "\n",
    "The `upper()` method will take a string and convert it to a string of upper-case letters.\n",
    "\n",
    "The syntax is `course.upper()`. Note that numbers are ignored.\n",
    "\n",
    "The return value is a string where all characters are uppercase.\n"
   ]
  },
  {
   "cell_type": "code",
   "execution_count": 57,
   "metadata": {},
   "outputs": [
    {
     "data": {
      "text/plain": [
       "'PYTHON'"
      ]
     },
     "execution_count": 57,
     "metadata": {},
     "output_type": "execute_result"
    }
   ],
   "source": [
    "course = \"python\"\n",
    "course.upper()"
   ]
  },
  {
   "cell_type": "markdown",
   "metadata": {},
   "source": [
    "\n",
    "In the cell below make the string all uppercase.\n"
   ]
  },
  {
   "cell_type": "code",
   "execution_count": null,
   "metadata": {},
   "outputs": [],
   "source": [
    "courseText = \"Python is a programming language\""
   ]
  },
  {
   "cell_type": "markdown",
   "metadata": {},
   "source": [
    "### Lowercase strings\n",
    "\n",
    "The `lower()` method will take a string and convert it to a string of upper-case letters.\n",
    "\n",
    "The syntax is `course.lower()`. Note that numbers are ignored.\n",
    "\n",
    "The return value is a string where all characters are lowercase."
   ]
  },
  {
   "cell_type": "code",
   "execution_count": null,
   "metadata": {},
   "outputs": [],
   "source": [
    "course = \"PYTHON\"\n",
    "course.lower()"
   ]
  },
  {
   "cell_type": "markdown",
   "metadata": {},
   "source": [
    "In the cell below make the string all lowercase."
   ]
  },
  {
   "cell_type": "code",
   "execution_count": null,
   "metadata": {},
   "outputs": [],
   "source": [
    "courseText = \"Python Is A programming language\""
   ]
  },
  {
   "cell_type": "markdown",
   "metadata": {},
   "source": [
    "### Checking if a string starts with a character\n",
    "\n",
    "It can be useful to know if a string starts with a prefix of characters. The `startswith` method returns true if a string starts with a specified value.\n",
    "\n",
    "The syntax is `string.startswith(value,start,end)`. \n",
    "\n",
    "Where `value` is the string to search for. \n",
    "`Start` and `end` are optional values if you want to specify the position in the string.\n",
    "\n",
    "The return value is a boolean either true or false depending if the string starts with the value specified.\n",
    "\n",
    "Run the code snippet below."
   ]
  },
  {
   "cell_type": "code",
   "execution_count": null,
   "metadata": {},
   "outputs": [],
   "source": [
    "course = \"1. Python\"\n",
    "course.startswith(\"1.\")"
   ]
  },
  {
   "cell_type": "markdown",
   "metadata": {},
   "source": [
    "Notice how when we invoke this method, it returns `True`. You might wonder what you'd do with this. Sometimes you create code to handle specific cases, knowing if a string starts with something is useful. Knowing if a string starts with X by way of a boolean means we can write code based upon that being true or false. We will look at this when we cover conditional statements.\n",
    "\n",
    "In the cell below check to see if the string starts with a `\" \"`."
   ]
  },
  {
   "cell_type": "code",
   "execution_count": null,
   "metadata": {},
   "outputs": [],
   "source": [
    "course = \" Python\""
   ]
  },
  {
   "cell_type": "markdown",
   "metadata": {},
   "source": [
    "### Checking if a string ends with a set of characters\n",
    "\n",
    "Similar to `startswith()`, `endswith()` checks if a string has a suffix of another string. \n",
    "\n",
    "The syntax is `string.endswith(value,start,end)`. Where `value` is the required parameters for a value to check. `start` and `end` are optional values to specify which position in the string.\n",
    "\n",
    "Run the cell below."
   ]
  },
  {
   "cell_type": "code",
   "execution_count": 58,
   "metadata": {},
   "outputs": [
    {
     "data": {
      "text/plain": [
       "True"
      ]
     },
     "execution_count": 58,
     "metadata": {},
     "output_type": "execute_result"
    }
   ],
   "source": [
    "courses = \"Python Deep Learning.\"\n",
    "courses.endswith(\".\")"
   ]
  },
  {
   "cell_type": "markdown",
   "metadata": {},
   "source": [
    "In the cell below check if the string ends in `.py`"
   ]
  },
  {
   "cell_type": "code",
   "execution_count": null,
   "metadata": {},
   "outputs": [],
   "source": [
    "filename = \"Python Principles.py\""
   ]
  },
  {
   "cell_type": "markdown",
   "metadata": {},
   "source": [
    "### Custom formatting of a string\n",
    "\n",
    "We looked at string interpolation using the f-strings above. However, sometimes you want to define a template string in one part of the code and use that template string in another. The format method formats specified values and inserts them into a string placeholder defined by `{}`. \n",
    "\n",
    "The syntax for the format method `string.format(value1,value2...)`. The `value1` required must be a list or `key=value` list.\n",
    "\n",
    "Some examples will help clarify this."
   ]
  },
  {
   "cell_type": "code",
   "execution_count": null,
   "metadata": {},
   "outputs": [],
   "source": [
    "txt1 = \"My name is {fname}, I'm {age}\".format(fname=\"John\", age=36)\n",
    "txt1"
   ]
  },
  {
   "cell_type": "markdown",
   "metadata": {},
   "source": [
    "The placeholders are `fname` and `age`. The format method is using the `key=value` list seperated by a comma, to define what those placeholders should have.\n",
    "\n",
    "The placeholders can also be identified by names as above, numbered indexes like `{0}` or empty placeholders."
   ]
  },
  {
   "cell_type": "code",
   "execution_count": null,
   "metadata": {},
   "outputs": [],
   "source": [
    "txt2=\"My name is {0}, I'm {1}\".format(\"John\",36)  \n",
    "txt2"
   ]
  },
  {
   "cell_type": "markdown",
   "metadata": {},
   "source": [
    "Here we using a index position `{0}` which corresponds to `John` and `{1}` corresponds to `36`."
   ]
  },
  {
   "cell_type": "code",
   "execution_count": null,
   "metadata": {},
   "outputs": [],
   "source": [
    "txt3 =\"My name is {}, I'm {}\".format(\"John\",36)\n",
    "txt3"
   ]
  },
  {
   "cell_type": "markdown",
   "metadata": {},
   "source": [
    "Here we're using empty placeholders `{}` the first empty place holder refers to `John` and the second placeholder `{}` refers to `36`\n",
    "\n",
    "We can use a list of values we want to insert. For example run the snippet below. "
   ]
  },
  {
   "cell_type": "code",
   "execution_count": 59,
   "metadata": {},
   "outputs": [
    {
     "data": {
      "text/plain": [
       "'https://api.stackexchange.com/2.3/questions/1334;1234;1213?site=stackoverflow'"
      ]
     },
     "execution_count": 59,
     "metadata": {},
     "output_type": "execute_result"
    }
   ],
   "source": [
    "BASE_URL =\"https://api.stackexchange.com/2.3/questions/{ids}?site={site}\"\n",
    "\n",
    "question_ids = ['1334','1234','1213']\n",
    "url_for_questions = BASE_URL.format(\n",
    "\tsite=\"stackoverflow\", \n",
    "\tids=\";\".join(question_ids))\n",
    "url_for_questions"
   ]
  },
  {
   "cell_type": "markdown",
   "metadata": {},
   "source": [
    "The `BASE_URL` string is the templated string with `{ids}` and `{site}` as placeholders. We invoke the format method specifying the `site` placeholder takes a specific value like before. However, we want the ids to be different. `\";\".join(question_ids)\"` takes the list `question_ids` and returns a string seperated by semicolons."
   ]
  },
  {
   "cell_type": "markdown",
   "metadata": {},
   "source": [
    "### Counting substrings \n",
    "\n",
    "Sometimes we want to count the number of substrings within a string. The `count()` method allows us to do this. It returns the number of times a substring is found. \n",
    "\n",
    "The syntax is `string.count(value,start,end)`. `value` is the required parameter to search for in the string. The `start` and `end` parameters are optional numbers to specify where within the string you wish to search for.\n",
    "\n",
    "The return value is the number of instances the string specific appears in the string."
   ]
  },
  {
   "cell_type": "code",
   "execution_count": 60,
   "metadata": {},
   "outputs": [
    {
     "data": {
      "text/plain": [
       "2"
      ]
     },
     "execution_count": 60,
     "metadata": {},
     "output_type": "execute_result"
    }
   ],
   "source": [
    "courses = \"Python, Deep Learning, Data Science, Python2\"\n",
    "courses.count(\"Python\")"
   ]
  },
  {
   "cell_type": "markdown",
   "metadata": {},
   "source": [
    "In the cell below, count the number of times a space is in the string."
   ]
  },
  {
   "cell_type": "code",
   "execution_count": null,
   "metadata": {},
   "outputs": [],
   "source": [
    "courses = \"Anatomy Physiology Pharmacology Clinical Sciences\" "
   ]
  },
  {
   "cell_type": "markdown",
   "metadata": {},
   "source": [
    "### Removing a prefix\n",
    "\n",
    "The `removeprefix` method can be used to remove a prefix from a string. \n",
    "\n",
    "The syntax is `string.removeprefix(value)` where `value` is the string you wish to remove.\n",
    "\n",
    "The return value is the string with the specific prefix removed.\n",
    "\n",
    "Run the cell below."
   ]
  },
  {
   "cell_type": "code",
   "execution_count": 61,
   "metadata": {},
   "outputs": [
    {
     "data": {
      "text/plain": [
       "'Anatomy'"
      ]
     },
     "execution_count": 61,
     "metadata": {},
     "output_type": "execute_result"
    }
   ],
   "source": [
    "course = \"1. Anatomy\"\n",
    "course.removeprefix(\"1. \")"
   ]
  },
  {
   "cell_type": "markdown",
   "metadata": {},
   "source": [
    "In the cell below, remove the first few characters of the string so the first character of the string is `P`."
   ]
  },
  {
   "cell_type": "code",
   "execution_count": null,
   "metadata": {},
   "outputs": [],
   "source": [
    "course = \"## Python\""
   ]
  },
  {
   "cell_type": "markdown",
   "metadata": {},
   "source": [
    "### Removing a suffix\n",
    "\n",
    "Similar to `removeprefix`, `removesuffix` method can be used to remove a suffix from a string. \n",
    "\n",
    "The syntax is `string.removesuffix(value)` where `value` is the string you wish to remove.\n",
    "\n",
    "The return value is the string with the specified suffix removed.\n",
    "\n",
    "Run the cell below."
   ]
  },
  {
   "cell_type": "code",
   "execution_count": null,
   "metadata": {},
   "outputs": [],
   "source": [
    "course = \"Anatomy ###\"\n",
    "course.removesuffix(\" ###\")"
   ]
  },
  {
   "cell_type": "markdown",
   "metadata": {},
   "source": [
    "In the cell below, remove the last few characters `***`"
   ]
  },
  {
   "cell_type": "code",
   "execution_count": null,
   "metadata": {},
   "outputs": [],
   "source": [
    "course = \"Python ***\""
   ]
  },
  {
   "cell_type": "markdown",
   "metadata": {},
   "source": [
    "This wraps up the most common string methods in Python. Don't be too disheartened by the number of methods. Most of them you won't need to use and knowing where to look is often more important than memorising. \n",
    "\n",
    "Here's the list of the most useful string methods roughly in order to summarise the above.\n",
    "\n",
    "1.  `join`: Join iterable of strings by a separator\n",
    "2.  `split`: Split (on whitespace by default) into list of strings\n",
    "3.  `replace`: Replace all copies of one substring with another\n",
    "4.  `strip`: Remove whitespace from the beginning and end\n",
    "5. `upper` changes all lowercase letters to upper case within the string\n",
    "6. `lower` changes all uppercase letters to uppercase\n",
    "7.  `startswith` & `endswith`: Check if string starts/ends with 1 or more other strings\n",
    "8.  `format`: Format the string (consider an f-string before this)\n",
    "9.  `count`: Count how many times a given substring occurs\n",
    "10.  `removeprefix` & `removesuffix`: Remove the given prefix/suffix"
   ]
  },
  {
   "cell_type": "markdown",
   "metadata": {},
   "source": [
    "## Dictionary Methods"
   ]
  },
  {
   "cell_type": "markdown",
   "metadata": {},
   "source": [
    "Below are some of the common dictionary methods you will come into contact with. \n",
    "\n",
    "\n",
    "Its useful to keep in mind when learning about these methods that we can assign the return values of these method calls to another variable. Python's output you will see the term `dict_items(x)` which can seem a little strange, but try to focus on the fact that a method will return value that can be used elsewhere."
   ]
  },
  {
   "cell_type": "markdown",
   "metadata": {},
   "source": [
    "##### Accessing a dictionary value\n",
    "\n",
    "The `get()` method returns the value of an item with a specified key. \n",
    "\n",
    "The syntax is `dictionary.get(keyname,value)` where `keyname` is the keyname of the item you want to return value from. The `value` is an optional parameter of a value you want to return if the key does not exist.\n",
    "\n",
    "Run the code snippet below.\n"
   ]
  },
  {
   "cell_type": "code",
   "execution_count": null,
   "metadata": {},
   "outputs": [],
   "source": [
    "capitals = {\n",
    "\t'Scotland':'Edinburgh',\n",
    "\t'England':'London',\n",
    "\t'France':'Paris'\n",
    "}\n",
    "\n",
    "capitals.get('Scotland')"
   ]
  },
  {
   "cell_type": "markdown",
   "metadata": {},
   "source": [
    "The get method is invoked on the `capitals` dictionary, with `Scotland` passed as an argument. The return value is `Edinburgh`.\n",
    "\n",
    "In the cell below, find the value of the `France` key in the dictionary."
   ]
  },
  {
   "cell_type": "code",
   "execution_count": null,
   "metadata": {},
   "outputs": [],
   "source": [
    "capitals = {\n",
    "\t'Scotland':'Edinburgh',\n",
    "\t'England':'London',\n",
    "\t'France':'Paris'\n",
    "}"
   ]
  },
  {
   "cell_type": "markdown",
   "metadata": {},
   "source": [
    "### Return a list of keys in a dictionary\n",
    "\n",
    "Sometimes you want to know how many keys there are in a dictionary. The `keys` method returns a list of all keys in a dictionary.\n",
    "\n",
    "The syntax is `dictionary.keys()`, there are no parameters for this method."
   ]
  },
  {
   "cell_type": "code",
   "execution_count": null,
   "metadata": {},
   "outputs": [],
   "source": [
    "capitals = {\n",
    "\t'Scotland':'Edinburgh',\n",
    "\t'England':'London',\n",
    "\t'France':'Paris'\n",
    "}\n",
    "\n",
    "capitals.keys()"
   ]
  },
  {
   "cell_type": "markdown",
   "metadata": {},
   "source": [
    "In the cell above, we are invoking the key method on the dictionary `capitals` which returns a list of key names.\n",
    "\n",
    "In the cell below, return a list of all keys in the dictionary."
   ]
  },
  {
   "cell_type": "code",
   "execution_count": null,
   "metadata": {},
   "outputs": [],
   "source": [
    "courses = {\n",
    "\t'Course1':'Python',\n",
    "\t'Course2':'Deep Learning',\n",
    "\t'Course3':'Machine Learning'\n",
    "}"
   ]
  },
  {
   "cell_type": "markdown",
   "metadata": {},
   "source": [
    "### Returning values of a dictionary\n",
    "\n",
    "Like the `key()` method, we can return a list of all values of a dictionary using the `value()` method. \n",
    "\n",
    "The syntax is `dictionary.values()`. "
   ]
  },
  {
   "cell_type": "code",
   "execution_count": 63,
   "metadata": {},
   "outputs": [
    {
     "data": {
      "text/plain": [
       "dict_values(['Python', 'Deep Learning', 'Machine Learning'])"
      ]
     },
     "execution_count": 63,
     "metadata": {},
     "output_type": "execute_result"
    }
   ],
   "source": [
    "courses = {\n",
    "\t'Course1':'Python',\n",
    "\t'Course2':'Deep Learning',\n",
    "\t'Course3':'Machine Learning'\n",
    "}\n",
    "capitals.values()"
   ]
  },
  {
   "cell_type": "markdown",
   "metadata": {},
   "source": [
    "We invoked the `values` method and which returns a list of all values of the dictionary `capitals`.\n",
    "\n",
    "In the cell below, return a list of all values of the dictionary."
   ]
  },
  {
   "cell_type": "code",
   "execution_count": null,
   "metadata": {},
   "outputs": [],
   "source": [
    "capitals = {\n",
    "\t'Scotland':'Edinburgh',\n",
    "\t'England':'London',\n",
    "\t'France':'Paris'\n",
    "}"
   ]
  },
  {
   "cell_type": "markdown",
   "metadata": {},
   "source": [
    "Sometimes you want to have access to both keys and values in a dictionary. We can use the `item()` method to return a list of tuples.\n",
    "\n",
    "Run the snippet below to see the items method at work."
   ]
  },
  {
   "cell_type": "code",
   "execution_count": 62,
   "metadata": {},
   "outputs": [
    {
     "data": {
      "text/plain": [
       "dict_items([('Scotland', 'Edinburgh'), ('England', 'London'), ('France', 'Paris')])"
      ]
     },
     "execution_count": 62,
     "metadata": {},
     "output_type": "execute_result"
    }
   ],
   "source": [
    "capitals = {\n",
    "\t'Scotland':'Edinburgh',\n",
    "\t'England':'London',\n",
    "\t'France':'Paris'\n",
    "}\n",
    "capitals.items()"
   ]
  },
  {
   "cell_type": "markdown",
   "metadata": {},
   "source": [
    "The return value is a list of tuples each containing the key and value pair. \n",
    "\n",
    "### Removing Items\n",
    "\n",
    "There are a couple of ways to remove items from a dictionary. \n",
    "\n",
    "The simplest way is to use the `del` keyword with a specific key name."
   ]
  },
  {
   "cell_type": "code",
   "execution_count": null,
   "metadata": {},
   "outputs": [],
   "source": [
    "capitals = {\n",
    "\t'Scotland':'Edinburgh',\n",
    "\t'England':'London',\n",
    "\t'France':'Paris'\n",
    "}\n",
    "del capitals['Scotland']\n",
    "capitals"
   ]
  },
  {
   "cell_type": "markdown",
   "metadata": {},
   "source": [
    "## Tuple Methods"
   ]
  },
  {
   "cell_type": "markdown",
   "metadata": {},
   "source": [
    "Tuples are unchangable, so we can't change, add or remove items once the tuple has been created. There are a couple of methods we can use on tuples as well as a useful way to extract values from tuples worth knowing about. \n"
   ]
  },
  {
   "cell_type": "markdown",
   "metadata": {},
   "source": [
    "### Counting a tuple\n",
    "\n",
    "The `count()` method on a tuple returns the number of times a specified value occurs. It has one required parameter which is the value to search for within the tuple for the number of items.\n",
    "\n",
    "The syntax is `tuple.count(elmnt)`\n",
    "\n",
    "Run the snippet below to see an illustration of this method."
   ]
  },
  {
   "cell_type": "code",
   "execution_count": null,
   "metadata": {},
   "outputs": [],
   "source": [
    "courses = ('Python','Data Science', 'Machine Learning' ,'Deep Learning')\n",
    "courses.count('Python')"
   ]
  },
  {
   "cell_type": "markdown",
   "metadata": {},
   "source": [
    "In the cell below, count the number of times `'Python'` appears."
   ]
  },
  {
   "cell_type": "code",
   "execution_count": null,
   "metadata": {},
   "outputs": [],
   "source": [
    "courses = ('Python','Data Science', 'Machine Learning' ,'Deep Learning', 'Python')"
   ]
  },
  {
   "cell_type": "markdown",
   "metadata": {},
   "source": [
    "It's also possible to return the index value of a tuple item using the built-in `index()` method. It has one required parameter which is the value you wish to search for the index of.\n",
    "\n",
    "The syntax is `tuple.index(value)`"
   ]
  },
  {
   "cell_type": "code",
   "execution_count": 65,
   "metadata": {},
   "outputs": [
    {
     "data": {
      "text/plain": [
       "2"
      ]
     },
     "execution_count": 65,
     "metadata": {},
     "output_type": "execute_result"
    }
   ],
   "source": [
    "courses = ('Python','Data Science', 'Machine Learning' ,'Deep Learning')\n",
    "courses.index('Machine Learning')"
   ]
  },
  {
   "cell_type": "markdown",
   "metadata": {},
   "source": [
    "In the tuple below, search for which index `'Deep Learning'` is."
   ]
  },
  {
   "cell_type": "code",
   "execution_count": null,
   "metadata": {},
   "outputs": [],
   "source": [
    "courses = ('Python','Data Science', 'Machine Learning' ,'Deep Learning')"
   ]
  },
  {
   "cell_type": "markdown",
   "metadata": {},
   "source": [
    "### Unpack a tuple\n",
    "\n",
    "When we create a tuple we usually assign values to it. We can also extract values back from a variable in a procedure called **unpacking**."
   ]
  },
  {
   "cell_type": "code",
   "execution_count": 64,
   "metadata": {},
   "outputs": [
    {
     "name": "stdout",
     "output_type": "stream",
     "text": [
      "Python\n",
      "Data Science\n",
      "Machine Learning\n"
     ]
    }
   ],
   "source": [
    "courses = ('Python','Data Science', 'Machine Learning')\n",
    "\n",
    "(course1,course2,course3) = courses\n",
    "print(course1)\n",
    "print(course2)\n",
    "print(course3)"
   ]
  },
  {
   "cell_type": "markdown",
   "metadata": {},
   "source": [
    "You can see from this example that we essentially declare `courses1`, `courses2`, and `course3` to the respective values of the tuple. \n",
    "\n",
    "There may be a situation where the number of variables is less than the number of values within the tuple. We can add an asterisk `*` to a variable name and the values will be assigned to the variable as a list. "
   ]
  },
  {
   "cell_type": "code",
   "execution_count": null,
   "metadata": {},
   "outputs": [],
   "source": [
    "courses = ('Python','Data Science', 'Machine Learning' ,'Deep Learning')\n",
    "\n",
    "(courses1, courses2, *newCourses) = courses\n",
    "\n",
    "print(courses1)\n",
    "print(courses2)\n",
    "print(newCourses)"
   ]
  },
  {
   "cell_type": "markdown",
   "metadata": {},
   "source": [
    "In this example, we're declaring `courses1` and `courses2` with the assigned valued `Python` and `Data Science` respectively. The variable `newCourses` is assigned a list with the rest of the values in the tuple. "
   ]
  },
  {
   "cell_type": "markdown",
   "metadata": {},
   "source": [
    "## Next steps"
   ]
  },
  {
   "cell_type": "markdown",
   "metadata": {},
   "source": [
    "We've covered a lot of ground in this exercise which need to consolidate. There is no need to attempt all of these problems but it will help build up your skills in coding.\n",
    "\n",
    "1. Determine the length of the string `\"Deep learning is a subset of Machine Learning\"`"
   ]
  },
  {
   "cell_type": "code",
   "execution_count": null,
   "metadata": {},
   "outputs": [],
   "source": []
  },
  {
   "cell_type": "markdown",
   "metadata": {},
   "source": [
    "2. Take the string in question 1 and transform it into upper case letters."
   ]
  },
  {
   "cell_type": "code",
   "execution_count": null,
   "metadata": {},
   "outputs": [],
   "source": []
  },
  {
   "cell_type": "markdown",
   "metadata": {},
   "source": [
    "3. Given the strings below how can you check if they're equal no matter if they have lower and upper case ?"
   ]
  },
  {
   "cell_type": "code",
   "execution_count": null,
   "metadata": {},
   "outputs": [],
   "source": [
    "let string1 = 'Data science';\n",
    "let string2 = 'Data Science';\n",
    "let string3 = 'Machine Learning';"
   ]
  },
  {
   "cell_type": "markdown",
   "metadata": {},
   "source": [
    "4. Write some code that checks whether character `x` is contained within it."
   ]
  },
  {
   "cell_type": "code",
   "execution_count": 67,
   "metadata": {},
   "outputs": [],
   "source": [
    "sequence = 'TXkgaG92ZXJjcmFmdCBpcyBmdWxsIG9mIGVlbHMu'"
   ]
  },
  {
   "cell_type": "markdown",
   "metadata": {},
   "source": [
    "5. Write code that capitalizes the words in the string `'python & data science'` course' so that you get the string `'Python & Data Science'`."
   ]
  },
  {
   "cell_type": "code",
   "execution_count": null,
   "metadata": {},
   "outputs": [],
   "source": []
  },
  {
   "cell_type": "markdown",
   "metadata": {},
   "source": [
    "6. We are given the following list of energy sources. Remove `'fossil` from the list and add `'geothermal'` to the end of the list."
   ]
  },
  {
   "cell_type": "code",
   "execution_count": null,
   "metadata": {},
   "outputs": [],
   "source": [
    "energy = ['fossil', 'solar', 'wind', 'tidal', 'fusion'];"
   ]
  },
  {
   "cell_type": "markdown",
   "metadata": {},
   "source": [
    "7. Split the string assigned to the variable `'alphabet'` into a list of characters."
   ]
  },
  {
   "cell_type": "code",
   "execution_count": 73,
   "metadata": {},
   "outputs": [],
   "source": [
    "alphabet = 'a b c d e f g h i j k l m n o p q r s t u v w x y z'"
   ]
  },
  {
   "cell_type": "markdown",
   "metadata": {},
   "source": [
    "8. Write the code necessary to retrieve the value of the courses property of our student object."
   ]
  },
  {
   "cell_type": "code",
   "execution_count": 76,
   "metadata": {},
   "outputs": [],
   "source": [
    "student = {\n",
    "  'name': 'Carmen',\n",
    "  'age': 25,\n",
    "  'courses': ['biology', 'algebra', 'composition', 'ceramics'],\n",
    "  'overallGrade': 59,\n",
    "};"
   ]
  },
  {
   "cell_type": "markdown",
   "metadata": {},
   "source": [
    "9. Given the below dictionary jane, write code that retrieves the country in which Jane is located"
   ]
  },
  {
   "cell_type": "code",
   "execution_count": null,
   "metadata": {},
   "outputs": [],
   "source": [
    "jane = {\n",
    "  'firstName': 'Jane',\n",
    " 'lastName': 'Harrelson',\n",
    "  'age': 32,\n",
    "  'location': {\n",
    "    'country': 'Denmark',\n",
    "    'city': 'Copenhagen'\n",
    "  },\n",
    "  occupation: 'engineer',\n",
    "};"
   ]
  },
  {
   "cell_type": "markdown",
   "metadata": {},
   "source": [
    "10. Convert the person dictionary into a nested list `nestedPerson`, containing the same key-value pairs."
   ]
  },
  {
   "cell_type": "code",
   "execution_count": 77,
   "metadata": {},
   "outputs": [],
   "source": [
    "person = {\n",
    "  'title': 'Duke',\n",
    "  'name': 'Nukem',\n",
    "  'age': 33\n",
    "};\n",
    "\n",
    "# Expected output:\n",
    "# [['title', 'Duke'], ['name', 'Nukem'], ['age', 33]]"
   ]
  },
  {
   "cell_type": "markdown",
   "metadata": {},
   "source": [
    "## Check your understanding\n",
    "\n",
    "1. What is an operator ? \n",
    "2. What is an operand ? \n",
    "3. What is an example of the augment assignment operator ? \n",
    "4. In which circumstances conditional expressions using the `and` keyword evaluate to true\n",
    "or false ?\n",
    "5. In which circumstance conditional expressions using the `or` keyword evaluate to `True` or `False` ?\n",
    "6. What operator checks if a value is in a list ? \n",
    "7. When comparing data types to each other, what is the difference between identity and equality ?\n",
    "8. What is a method ? \n",
    "9. What is a parameter and what is an argument ? \n",
    "10. Can you give an example of unpacking a tuple ? \n",
    "11. Can you give an example of returning the keys of a dictionary ? \n",
    "\n",
    "## Summary\n",
    "\n",
    "This section has covered a lot of material that will need time to sink in. The building blocks of manipulating different data types and understanding the built-in functions are fundamental to problem solving in Python. Memorising all the different functions and methods is not necessary, with problem solving it wil become easier. We have provided the commonly used ones for you to be able to problem solve easily. \n",
    "\n",
    "Take some time with the problems and refer back. "
   ]
  },
  {
   "cell_type": "markdown",
   "metadata": {},
   "source": [
    "## Feedback \n",
    "\n",
    "Fill out the form below and we'll provide feedback on your code.\n",
    "\n",
    "**Any feedback on the exercise? Any questions? Want feedback on your code? Please fill out the form [here](https://docs.google.com/forms/d/e/1FAIpQLSdoOjVom8YKf11LxJ_bWN40afFMsWcoJ-xOrKhMbfBzgxTS9A/viewform)."
   ]
  }
 ],
 "metadata": {
  "kernelspec": {
   "display_name": "Python 3 (ipykernel)",
   "language": "python",
   "name": "python3"
  },
  "language_info": {
   "codemirror_mode": {
    "name": "ipython",
    "version": 3
   },
   "file_extension": ".py",
   "mimetype": "text/x-python",
   "name": "python",
   "nbconvert_exporter": "python",
   "pygments_lexer": "ipython3",
   "version": "3.9.13"
  }
 },
 "nbformat": 4,
 "nbformat_minor": 2
}
