{
 "cells": [
  {
   "cell_type": "code",
   "execution_count": 1,
   "metadata": {},
   "outputs": [
    {
     "name": "stdout",
     "output_type": "stream",
     "text": [
      "Welcome to the SIRS Criteria Calculator!\n",
      "\n"
     ]
    }
   ],
   "source": [
    "print('Welcome to the SIRS Criteria Calculator!\\n')\n",
    "SIRS_score = 0"
   ]
  },
  {
   "cell_type": "markdown",
   "metadata": {},
   "source": [
    "### Temperature "
   ]
  },
  {
   "cell_type": "code",
   "execution_count": null,
   "metadata": {},
   "outputs": [],
   "source": [
    "# While True means to keep running the script in the loop until it's finished\n",
    "while True:\n",
    "    temp = input(\"What is the patient's temperature? \")\n",
    "    try:\n",
    "        # Tries to convert the string to a float, and sees if any errors occur (see below) \n",
    "        temp = float(temp)\n",
    "    except ValueError:\n",
    "        # If an error occurs, then it prompts the user to input a number\n",
    "        print(\"You did not enter a number. Please enter a number.\")\n",
    "        continue\n",
    "    else:\n",
    "        # break - breaks the loop, saying that it's finished\n",
    "        break"
   ]
  },
  {
   "cell_type": "code",
   "execution_count": null,
   "metadata": {},
   "outputs": [],
   "source": [
    "print(\"Temperature: \", temp)\n",
    "if(temp > 38.0 or temp < 36.0):\n",
    "    SIRS_score += 1\n",
    "    print(\"Temperature is abnormal.\")\n",
    "    print(\"Points: \", SIRS_score)\n",
    "else:\n",
    "    print(\"Temperature is normal.\")\n",
    "    print(\"Points: \", SIRS_score)"
   ]
  },
  {
   "cell_type": "markdown",
   "metadata": {},
   "source": [
    "### Heart Rate"
   ]
  },
  {
   "cell_type": "code",
   "execution_count": null,
   "metadata": {},
   "outputs": [],
   "source": [
    "while True:\n",
    "    heartRate = input(\"What is the patient's heart rate per minute? \")\n",
    "    try:\n",
    "        heartRate = int(heartRate)\n",
    "    except:\n",
    "        print(\"You did not enter a number. Please enter an integer.\")\n",
    "        continue\n",
    "    else:\n",
    "        break"
   ]
  },
  {
   "cell_type": "code",
   "execution_count": null,
   "metadata": {},
   "outputs": [],
   "source": [
    "print(\"Heart rate: \", heartRate)\n",
    "if(heartRate > 90):\n",
    "    # adds 1 to the points variable\n",
    "    SIRS_score += 1\n",
    "    print(\"Heart rate is abnormal.\")\n",
    "    print(\"Points: \", SIRS_score)\n",
    "else:\n",
    "    print(\"Heart rate is normal.\")\n",
    "    print(\"Points: \", SIRS_score)"
   ]
  },
  {
   "cell_type": "markdown",
   "metadata": {},
   "source": [
    "### Respiratory rate and PaCO2"
   ]
  },
  {
   "cell_type": "code",
   "execution_count": null,
   "metadata": {},
   "outputs": [],
   "source": [
    "while True:\n",
    "    respRate = input(\"What is the patient's respiratory rate per minute? \")\n",
    "    try:\n",
    "        respRate = int(respRate)\n",
    "    except:\n",
    "        print(\"You did not enter a number. Please enter an integer.\")\n",
    "        continue\n",
    "    else:\n",
    "        break\n",
    "print(\"Respiratory rate: \", respRate)\n",
    "\n",
    "while True:\n",
    "    paCO2 = input(\"What is the patient's PaCO2 in mmHg? \")\n",
    "    try:\n",
    "        paCO2 = float(paCO2)\n",
    "    except:\n",
    "        print(\"You did not enter a number. Please enter a number\")\n",
    "        continue\n",
    "    else:\n",
    "        break\n",
    "\n",
    "print(\"PaCO2: \", paCO2)"
   ]
  },
  {
   "cell_type": "code",
   "execution_count": null,
   "metadata": {},
   "outputs": [],
   "source": [
    "if(respRate > 20 or paCO2 < 32):\n",
    "    SIRS_score += 1\n",
    "    print(\"Points: \", SIRS_score)\n",
    "else:\n",
    "    print(\"Respiratory rate and PaCO2 are both normal.\")\n",
    "    print(\"Points: \", SIRS_score)"
   ]
  },
  {
   "cell_type": "markdown",
   "metadata": {},
   "source": [
    "### White blood cell count"
   ]
  },
  {
   "cell_type": "code",
   "execution_count": null,
   "metadata": {},
   "outputs": [],
   "source": [
    "while True:\n",
    "    wbc = input(\"What is the patient's White Blood Cell count (x10^9/L)?\")\n",
    "    try:\n",
    "        wbc = int(wbc)\n",
    "    except:\n",
    "        print(\"You did not enter a number. Please enter an integer.\")\n",
    "        continue\n",
    "    else:\n",
    "        break\n",
    "print(\"White Blood Cell count: \", wbc, \"x10^9/L\")"
   ]
  },
  {
   "cell_type": "code",
   "execution_count": null,
   "metadata": {},
   "outputs": [],
   "source": [
    "if(wbc > 12 or wbc < 4):\n",
    "    SIRS_score += 1\n",
    "    print(\"Points: \", SIRS_score)\n",
    "else:\n",
    "    print(\"WBC is normal.\")\n",
    "    print(\"Points: \", SIRS_score)"
   ]
  },
  {
   "cell_type": "markdown",
   "metadata": {},
   "source": [
    "### Total score"
   ]
  },
  {
   "cell_type": "code",
   "execution_count": null,
   "metadata": {},
   "outputs": [],
   "source": [
    "print(\"Total score: \", SIRS_score)\n",
    "if(SIRS_score >=2):\n",
    "    print(\"The patient has met the criteria for SIRS.\")\n",
    "else:\n",
    "    print(\"Your patient has NOT met the criteria for SIRS.\")"
   ]
  }
 ],
 "metadata": {
  "kernelspec": {
   "display_name": "Python 3 (ipykernel)",
   "language": "python",
   "name": "python3"
  },
  "language_info": {
   "codemirror_mode": {
    "name": "ipython",
    "version": 3
   },
   "file_extension": ".py",
   "mimetype": "text/x-python",
   "name": "python",
   "nbconvert_exporter": "python",
   "pygments_lexer": "ipython3",
   "version": "3.8.9"
  }
 },
 "nbformat": 4,
 "nbformat_minor": 4
}
