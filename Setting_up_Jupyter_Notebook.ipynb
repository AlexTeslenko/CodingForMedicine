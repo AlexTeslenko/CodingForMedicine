{
 "cells": [
  {
   "cell_type": "markdown",
   "id": "0adb8e5f",
   "metadata": {},
   "source": [
    "<a href=\"https://colab.research.google.com/github/chris-lovejoy/CodingForMedicine/blob/main/Setting_up_Jupyter_Notebook.ipynb\" target=\"_parent\"><img src=\"https://colab.research.google.com/assets/colab-badge.svg\" alt=\"Open In Colab\"/></a>"
   ]
  },
  {
   "cell_type": "markdown",
   "id": "8babc136",
   "metadata": {},
   "source": [
    "# Testing our environmental setup\n",
    "\n",
    "The purpose of this notebook is to introduce Jupyter Notebooks and for testing the environmental setup (whether running on Google Colab or on your local computer).\n",
    "\n",
    "\n",
    "### What is a Jupyter Notebook?\n",
    "The Jupyter Notebook is a browser-based tool for executing code, with an emphasis on easy visualisation and interpretability. It is most commonly used for Python, although can be used for other languages such as Julia, R, Haskell and Ruby. The file extension for Jupyter Notebook files are usually '.ipynb'.\n",
    "\n",
    "\n",
    "### How to run a Jupyter Notebook\n",
    "\n",
    "You can either run Jupyter Notebooks on [Google Colaboratory](http://colab.research.google.com/) (\"Google Colab\") or on your local computer. Google Colaboratory is quicker and easier to set-up. It saves you downloading the Jupyter software, as well as associated libraries (e.g. numpy, pandas) that you may need.\n",
    "\n",
    "\n",
    "But there are advantages to running Jupyter on your local computer, including:\n",
    "\n",
    "1. **You can manage data files more easily.** In Google Colab, you may have to re-upload data files each time you re-load the notebook. This isn't ture when the files are local.\n",
    "\n",
    "2. **Version control is easier**, for example by uploading different versions of your notebook to [GitHub](https://www.github.com).\n",
    "\n",
    "3. **You can import your own modules more easily.** Once you are more experienced with Jupyter Notebooks, you may want to import custom Python scripts into your notebooks.\n",
    "\n",
    "\n",
    "\n",
    "### How to get setup\n",
    "If you want to run the Jupyter Notebook on Google Colab, click on the 'Open in Colab' button at the top of this notebook. Then, click \"File -> Save a copy in Drive\". You must be logged into a Google account to do so. This will make a local copy of the notebook within your Google Drive which you can then modify.\n",
    "\n",
    "If you want to run the Jupyter Notebook locally, use [this guide](https://realpython.com/jupyter-notebook-introduction/) to get up and running.\n",
    "\n",
    "(TODO: add information about installing different packages within the jupyter environment)\n",
    "\n"
   ]
  },
  {
   "cell_type": "code",
   "execution_count": null,
   "id": "90a82c4e",
   "metadata": {},
   "outputs": [],
   "source": []
  },
  {
   "cell_type": "code",
   "execution_count": null,
   "id": "f7987e55",
   "metadata": {},
   "outputs": [],
   "source": []
  },
  {
   "cell_type": "code",
   "execution_count": null,
   "id": "40422bd8",
   "metadata": {},
   "outputs": [],
   "source": []
  },
  {
   "cell_type": "markdown",
   "id": "e92aa781",
   "metadata": {},
   "source": []
  },
  {
   "cell_type": "code",
   "execution_count": null,
   "id": "5b31f3ab",
   "metadata": {},
   "outputs": [],
   "source": []
  },
  {
   "cell_type": "code",
   "execution_count": null,
   "id": "aa257283",
   "metadata": {},
   "outputs": [],
   "source": []
  },
  {
   "cell_type": "code",
   "execution_count": null,
   "id": "d51df504",
   "metadata": {},
   "outputs": [],
   "source": []
  },
  {
   "cell_type": "code",
   "execution_count": null,
   "id": "4e5dc877",
   "metadata": {},
   "outputs": [],
   "source": []
  },
  {
   "cell_type": "code",
   "execution_count": null,
   "id": "5eaa9c45",
   "metadata": {},
   "outputs": [],
   "source": [
    "print(\"I'm all set up and ready for to learn about data science using Python!\")"
   ]
  }
 ],
 "metadata": {
  "kernelspec": {
   "display_name": "Python 3 (ipykernel)",
   "language": "python",
   "name": "python3"
  },
  "language_info": {
   "codemirror_mode": {
    "name": "ipython",
    "version": 3
   },
   "file_extension": ".py",
   "mimetype": "text/x-python",
   "name": "python",
   "nbconvert_exporter": "python",
   "pygments_lexer": "ipython3",
   "version": "3.8.9"
  }
 },
 "nbformat": 4,
 "nbformat_minor": 5
}
