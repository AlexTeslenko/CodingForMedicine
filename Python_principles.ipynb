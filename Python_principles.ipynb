{
 "cells": [
  {
   "cell_type": "markdown",
   "id": "4663cff6",
   "metadata": {},
   "source": [
    "<a href=\"https://colab.research.google.com/github/chris-lovejoy/CodingForMedicine/blob/main/Python_principles.ipynb\" target=\"_parent\"><img src=\"https://colab.research.google.com/assets/colab-badge.svg\" alt=\"Open In Colab\"/></a>"
   ]
  },
  {
   "cell_type": "markdown",
   "id": "30d19aec",
   "metadata": {},
   "source": [
    "To cover:\n",
    "- data types\n",
    "- functions\n",
    "- loops\n",
    "- (and more)\n",
    "\n",
    "\n",
    "(I'll wait for pontus feedback before doing this.)"
   ]
  }
 ],
 "metadata": {
  "kernelspec": {
   "display_name": "Python 3 (ipykernel)",
   "language": "python",
   "name": "python3"
  },
  "language_info": {
   "codemirror_mode": {
    "name": "ipython",
    "version": 3
   },
   "file_extension": ".py",
   "mimetype": "text/x-python",
   "name": "python",
   "nbconvert_exporter": "python",
   "pygments_lexer": "ipython3",
   "version": "3.8.9"
  }
 },
 "nbformat": 4,
 "nbformat_minor": 5
}
